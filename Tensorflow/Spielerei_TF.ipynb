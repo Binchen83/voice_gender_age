{
 "cells": [
  {
   "cell_type": "code",
   "execution_count": null,
   "metadata": {},
   "outputs": [],
   "source": [
    "!pip install --upgrade pip\n",
    "!pip install -U keras-tuner"
   ]
  },
  {
   "cell_type": "code",
   "execution_count": 8,
   "metadata": {},
   "outputs": [
    {
     "name": "stderr",
     "output_type": "stream",
     "text": [
      "Skipping line 20144: unexpected end of data\n"
     ]
    }
   ],
   "source": [
    "import pandas as pd\n",
    "import numpy as np\n",
    "df = pd.read_csv ('/home/ec2-user/SageMaker/voice_gender_age/FeaturesExtracted.csv', delimiter =';',engine='python', error_bad_lines=False)"
   ]
  },
  {
   "cell_type": "code",
   "execution_count": 9,
   "metadata": {},
   "outputs": [
    {
     "name": "stdout",
     "output_type": "stream",
     "text": [
      "columns deleted\n",
      "Reihe 0 fertig\n",
      "Reihe 10000 fertig\n",
      "Reihe 20000 fertig\n",
      "Konvertierung abgeschlossen.\n",
      "Daten geshuffelt\n",
      "Nicht benötigte Spalten gelöscht\n",
      "gender Spalte gelöscht\n",
      "DataFrame mit Gender erstellt\n",
      "Kodierung Gender abgeschlossen. Bereit für Modellerstellung\n"
     ]
    }
   ],
   "source": [
    "list_cn = df.columns.values\n",
    "list_cn = np.delete(list_cn,0)\n",
    "list_cn = np.delete(list_cn,0)\n",
    "list_cn = np.delete(list_cn,0)\n",
    "list_cn = np.delete(list_cn,0)\n",
    "list_cn = np.delete(list_cn,0)\n",
    "list_cn = np.delete(list_cn,0)\n",
    "print ('columns deleted')\n",
    "\n",
    "nrows = len(df)\n",
    "for i in range (0,nrows):\n",
    "    for j in list_cn:\n",
    "        list_c = df[j].iloc[i]\n",
    "        list_c = list_c.replace('[','')\n",
    "        list_c = list_c.replace(']','')\n",
    "        list1 = np.fromstring (list_c, sep=' ',dtype=float)\n",
    "        df[j].iat[i] = list1\n",
    "        df[j].iat[i] = df[j].iloc[i].mean()\n",
    "    if (i % 10000 == 0):\n",
    "        print (\"Reihe \"+ str(i) + \" fertig\")\n",
    "print (\"Konvertierung abgeschlossen.\")\n",
    "\n",
    "df2 = df.sample(frac=1)\n",
    "print ('Daten geshuffelt')\n",
    "\n",
    "df_gesamt = df2.copy()\n",
    "del df_gesamt['Unnamed: 0']\n",
    "del df_gesamt['index']\n",
    "del df_gesamt['path']\n",
    "del df_gesamt['age']\n",
    "del df_gesamt['file_wave']\n",
    "print ('Nicht benötigte Spalten gelöscht')\n",
    "\n",
    "df_data_x = df_gesamt\n",
    "del df_gesamt['gender']\n",
    "print ('gender Spalte gelöscht')\n",
    "\n",
    "df_gender_y = df2.gender.copy()\n",
    "print ('DataFrame mit Gender erstellt')\n",
    "\n",
    "from sklearn.preprocessing import LabelEncoder\n",
    "# integer encode\n",
    "label_encoder = LabelEncoder()\n",
    "df_gender_y = label_encoder.fit_transform(df_gender_y)\n",
    "print ('Kodierung Gender abgeschlossen. Bereit für Modellerstellung')"
   ]
  },
  {
   "cell_type": "code",
   "execution_count": 73,
   "metadata": {},
   "outputs": [
    {
     "name": "stderr",
     "output_type": "stream",
     "text": [
      "Using TensorFlow backend.\n"
     ]
    }
   ],
   "source": [
    "from tensorflow import keras\n",
    "from tensorflow.keras import layers\n",
    "from kerastuner.tuners import RandomSearch\n",
    "from keras.layers import Dense, Activation"
   ]
  },
  {
   "cell_type": "markdown",
   "metadata": {},
   "source": [
    "## Definition einer Funktion zum Bau des Modells"
   ]
  },
  {
   "cell_type": "code",
   "execution_count": 96,
   "metadata": {},
   "outputs": [],
   "source": [
    "def build_model (hp):\n",
    "    model = keras.Sequential()\n",
    "    model.add (layers.Dense (34, \n",
    "        input_dim = 34, \n",
    "        activation = hp.Choice('dense_activation', values = ['relu', 'tanh','sigmoid'], \n",
    "        default = 'relu')))\n",
    "    model.add (layers.Dense (\n",
    "        units = hp.Int('units', min_value = 34, max_value = 512, step = 32, default = 100),\n",
    "        activation = 'relu'))\n",
    "    model.add (layers.Dense (\n",
    "        units = hp.Int('units', min_value = 34, max_value = 512, step = 32, default = 100), \n",
    "        activation = 'relu'))\n",
    "    model.add (layers.Dense (\n",
    "        1,\n",
    "        activation = hp.Choice('dense_activation', values = ['relu', 'tanh','sigmoid'], default = 'sigmoid')))\n",
    "    model.compile(\n",
    "        optimizer = keras.optimizers.Adam(\n",
    "        hp.Choice ('learning_rate',[1e-2,1e-3,1e-4])),\n",
    "        loss = 'binary_crossentropy',\n",
    "        metrics = ['binary_crossentropy','accuracy'])\n",
    "    return model\n",
    "    #model.add (Dense (34, input_dim = 34, activation = 'relu'))\n",
    "    #model.add (Dense (100, activation = 'relu'))\n",
    "    #model.add (Dense (100, activation = 'relu'))\n",
    "    #model.add (Dense (1, activation = 'sigmoid'))"
   ]
  },
  {
   "cell_type": "code",
   "execution_count": 99,
   "metadata": {},
   "outputs": [],
   "source": [
    "tuner = RandomSearch(\n",
    "    build_model,\n",
    "    objective = 'val_acc',\n",
    "    max_trials = 5,\n",
    "    executions_per_trial = 3,\n",
    "    directory = 'Randomsearch',\n",
    "    project_name = 'units_activation')"
   ]
  },
  {
   "cell_type": "code",
   "execution_count": 100,
   "metadata": {},
   "outputs": [
    {
     "data": {
      "text/html": [
       "<span style=\"color:#4527A0\"><h1 style=\"font-size:18px\">Search space summary</h1></span>"
      ],
      "text/plain": [
       "<IPython.core.display.HTML object>"
      ]
     },
     "metadata": {},
     "output_type": "display_data"
    },
    {
     "data": {
      "text/html": [
       "<span style=\"color:cyan\"> |-Default search space size: 3</span>"
      ],
      "text/plain": [
       "<IPython.core.display.HTML object>"
      ]
     },
     "metadata": {},
     "output_type": "display_data"
    },
    {
     "data": {
      "text/html": [
       "<span style=\"color:#7E57C2\"><h2 style=\"font-size:16px\">dense_activation (Choice)</h2></span>"
      ],
      "text/plain": [
       "<IPython.core.display.HTML object>"
      ]
     },
     "metadata": {},
     "output_type": "display_data"
    },
    {
     "data": {
      "text/html": [
       "<span style=\"color:cyan\"> |-default: relu</span>"
      ],
      "text/plain": [
       "<IPython.core.display.HTML object>"
      ]
     },
     "metadata": {},
     "output_type": "display_data"
    },
    {
     "data": {
      "text/html": [
       "<span style=\"color:blue\"> |-ordered: False</span>"
      ],
      "text/plain": [
       "<IPython.core.display.HTML object>"
      ]
     },
     "metadata": {},
     "output_type": "display_data"
    },
    {
     "data": {
      "text/html": [
       "<span style=\"color:cyan\"> |-values: ['relu', 'tanh', 'sigmoid']</span>"
      ],
      "text/plain": [
       "<IPython.core.display.HTML object>"
      ]
     },
     "metadata": {},
     "output_type": "display_data"
    },
    {
     "data": {
      "text/html": [
       "<span style=\"color:#7E57C2\"><h2 style=\"font-size:16px\">units (Int)</h2></span>"
      ],
      "text/plain": [
       "<IPython.core.display.HTML object>"
      ]
     },
     "metadata": {},
     "output_type": "display_data"
    },
    {
     "data": {
      "text/html": [
       "<span style=\"color:cyan\"> |-default: 100</span>"
      ],
      "text/plain": [
       "<IPython.core.display.HTML object>"
      ]
     },
     "metadata": {},
     "output_type": "display_data"
    },
    {
     "data": {
      "text/html": [
       "<span style=\"color:blue\"> |-max_value: 512</span>"
      ],
      "text/plain": [
       "<IPython.core.display.HTML object>"
      ]
     },
     "metadata": {},
     "output_type": "display_data"
    },
    {
     "data": {
      "text/html": [
       "<span style=\"color:cyan\"> |-min_value: 34</span>"
      ],
      "text/plain": [
       "<IPython.core.display.HTML object>"
      ]
     },
     "metadata": {},
     "output_type": "display_data"
    },
    {
     "data": {
      "text/html": [
       "<span style=\"color:blue\"> |-sampling: None</span>"
      ],
      "text/plain": [
       "<IPython.core.display.HTML object>"
      ]
     },
     "metadata": {},
     "output_type": "display_data"
    },
    {
     "data": {
      "text/html": [
       "<span style=\"color:cyan\"> |-step: 32</span>"
      ],
      "text/plain": [
       "<IPython.core.display.HTML object>"
      ]
     },
     "metadata": {},
     "output_type": "display_data"
    },
    {
     "data": {
      "text/html": [
       "<span style=\"color:#7E57C2\"><h2 style=\"font-size:16px\">learning_rate (Choice)</h2></span>"
      ],
      "text/plain": [
       "<IPython.core.display.HTML object>"
      ]
     },
     "metadata": {},
     "output_type": "display_data"
    },
    {
     "data": {
      "text/html": [
       "<span style=\"color:cyan\"> |-default: 0.01</span>"
      ],
      "text/plain": [
       "<IPython.core.display.HTML object>"
      ]
     },
     "metadata": {},
     "output_type": "display_data"
    },
    {
     "data": {
      "text/html": [
       "<span style=\"color:blue\"> |-ordered: True</span>"
      ],
      "text/plain": [
       "<IPython.core.display.HTML object>"
      ]
     },
     "metadata": {},
     "output_type": "display_data"
    },
    {
     "data": {
      "text/html": [
       "<span style=\"color:cyan\"> |-values: [0.01, 0.001, 0.0001]</span>"
      ],
      "text/plain": [
       "<IPython.core.display.HTML object>"
      ]
     },
     "metadata": {},
     "output_type": "display_data"
    }
   ],
   "source": [
    "tuner.search_space_summary()"
   ]
  },
  {
   "cell_type": "code",
   "execution_count": 81,
   "metadata": {},
   "outputs": [
    {
     "name": "stdout",
     "output_type": "stream",
     "text": [
      "Done!\n"
     ]
    }
   ],
   "source": [
    "# Data split from df_gesamt\n",
    "# Default: 75% train 25% test data\n",
    "# Parameters: test_size\n",
    "# random_state: Reproducing split over multiple function calls\n",
    "# shuffle: data shuffle before splitting\n",
    "\n",
    "from sklearn.model_selection import train_test_split\n",
    "\n",
    "df_train, df_test = train_test_split (df2, test_size = 0.2,shuffle = True, random_state = 42)\n",
    "\n",
    "train_path = '/home/ec2-user/SageMaker/Tensorflow/train.tsv'\n",
    "test_path = '/home/ec2-user/SageMaker/Tensorflow/test.tsv'\n",
    "\n",
    "del df_train['Unnamed: 0']\n",
    "del df_train['index']\n",
    "del df_train['path']\n",
    "del df_train['age']\n",
    "del df_train['file_wave']\n",
    "\n",
    "del df_test['Unnamed: 0']\n",
    "del df_test['index']\n",
    "del df_test['path']\n",
    "del df_test['age']\n",
    "del df_test['file_wave']\n",
    "\n",
    "df_train.to_csv (train_path, sep = '\\t', index = False)\n",
    "df_test.to_csv (test_path, sep = '\\t', index = False)\n",
    "\n",
    "print ('Done!')"
   ]
  },
  {
   "cell_type": "code",
   "execution_count": 82,
   "metadata": {},
   "outputs": [],
   "source": [
    "df_train_x = df_train.copy()\n",
    "del df_train_x['gender']\n",
    "\n",
    "df_train_y = df_train['gender'].copy()\n",
    "\n",
    "df_test_x = df_test.copy()\n",
    "del df_test_x['gender']\n",
    "\n",
    "df_test_y = df_test['gender'].copy()"
   ]
  },
  {
   "cell_type": "code",
   "execution_count": 83,
   "metadata": {},
   "outputs": [],
   "source": [
    "from sklearn.preprocessing import LabelEncoder\n",
    "label_encoder = LabelEncoder()\n",
    "df_train_y = label_encoder.fit_transform(df_train_y)\n",
    "df_test_y = label_encoder.fit_transform(df_test_y)"
   ]
  },
  {
   "cell_type": "code",
   "execution_count": 84,
   "metadata": {},
   "outputs": [],
   "source": [
    "np_train_x = df_train_x.to_numpy()"
   ]
  },
  {
   "cell_type": "code",
   "execution_count": 85,
   "metadata": {},
   "outputs": [],
   "source": [
    "np_test_x = df_test_x.to_numpy()"
   ]
  },
  {
   "cell_type": "code",
   "execution_count": 101,
   "metadata": {
    "scrolled": true
   },
   "outputs": [
    {
     "name": "stdout",
     "output_type": "stream",
     "text": [
      "01.06.2020 12:44:02  HP Search gestartet ...\n",
      "Train on 16113 samples, validate on 4029 samples\n",
      "WARNING:tensorflow:OMP_NUM_THREADS is no longer used by the default Keras config. To configure the number of threads, use tf.config.threading APIs.\n",
      "Epoch 1/5\n",
      "16113/16113 [==============================] - ETA: 3:54 - loss: 4.0277e-04 - binary_crossentropy: 4.0277e-04 - acc: 1.000 - ETA: 21s - loss: 3.3564e-05 - binary_crossentropy: 3.3564e-05 - acc: 1.000 - ETA: 11s - loss: 1.7512e-05 - binary_crossentropy: 1.7512e-05 - acc: 1.00 - ETA: 8s - loss: 1.1846e-05 - binary_crossentropy: 1.1846e-05 - acc: 1.0000 - ETA: 6s - loss: 8.9504e-06 - binary_crossentropy: 8.9504e-06 - acc: 1.000 - ETA: 5s - loss: 7.1923e-06 - binary_crossentropy: 7.1923e-06 - acc: 1.000 - ETA: 5s - loss: 6.1025e-06 - binary_crossentropy: 6.1025e-06 - acc: 1.000 - ETA: 4s - loss: 5.2307e-06 - binary_crossentropy: 5.2307e-06 - acc: 1.000 - ETA: 4s - loss: 4.5769e-06 - binary_crossentropy: 4.5769e-06 - acc: 1.000 - ETA: 3s - loss: 4.0683e-06 - binary_crossentropy: 4.0683e-06 - acc: 1.000 - ETA: 3s - loss: 3.6615e-06 - binary_crossentropy: 3.6615e-06 - acc: 1.000 - ETA: 3s - loss: 3.3014e-06 - binary_crossentropy: 3.3014e-06 - acc: 1.000 - ETA: 2s - loss: 2.9835e-06 - binary_crossentropy: 2.9835e-06 - acc: 1.000 - ETA: 2s - loss: 2.7587e-06 - binary_crossentropy: 2.7587e-06 - acc: 1.000 - ETA: 2s - loss: 2.5654e-06 - binary_crossentropy: 2.5654e-06 - acc: 1.000 - ETA: 2s - loss: 2.3974e-06 - binary_crossentropy: 2.3974e-06 - acc: 1.000 - ETA: 2s - loss: 2.2501e-06 - binary_crossentropy: 2.2501e-06 - acc: 1.000 - ETA: 2s - loss: 2.1198e-06 - binary_crossentropy: 2.1198e-06 - acc: 1.000 - ETA: 2s - loss: 2.0038e-06 - binary_crossentropy: 2.0038e-06 - acc: 1.000 - ETA: 1s - loss: 1.8998e-06 - binary_crossentropy: 1.8998e-06 - acc: 1.000 - ETA: 1s - loss: 1.8143e-06 - binary_crossentropy: 1.8143e-06 - acc: 1.000 - ETA: 1s - loss: 1.7286e-06 - binary_crossentropy: 1.7286e-06 - acc: 1.000 - ETA: 1s - loss: 1.6507e-06 - binary_crossentropy: 1.6507e-06 - acc: 1.000 - ETA: 1s - loss: 1.5795e-06 - binary_crossentropy: 1.5795e-06 - acc: 1.000 - ETA: 1s - loss: 1.5142e-06 - binary_crossentropy: 1.5142e-06 - acc: 1.000 - ETA: 1s - loss: 1.4540e-06 - binary_crossentropy: 1.4540e-06 - acc: 1.000 - ETA: 1s - loss: 1.3937e-06 - binary_crossentropy: 1.3937e-06 - acc: 1.000 - ETA: 1s - loss: 1.3426e-06 - binary_crossentropy: 1.3426e-06 - acc: 1.000 - ETA: 1s - loss: 1.2909e-06 - binary_crossentropy: 1.2909e-06 - acc: 1.000 - ETA: 1s - loss: 1.2470e-06 - binary_crossentropy: 1.2470e-06 - acc: 1.000 - ETA: 1s - loss: 1.2059e-06 - binary_crossentropy: 1.2059e-06 - acc: 1.000 - ETA: 0s - loss: 1.1674e-06 - binary_crossentropy: 1.1674e-06 - acc: 1.000 - ETA: 0s - loss: 1.1314e-06 - binary_crossentropy: 1.1314e-06 - acc: 1.000 - ETA: 0s - loss: 1.0975e-06 - binary_crossentropy: 1.0975e-06 - acc: 1.000 - ETA: 0s - loss: 1.0655e-06 - binary_crossentropy: 1.0655e-06 - acc: 1.000 - ETA: 0s - loss: 1.0327e-06 - binary_crossentropy: 1.0327e-06 - acc: 1.000 - ETA: 0s - loss: 1.0044e-06 - binary_crossentropy: 1.0044e-06 - acc: 1.000 - ETA: 0s - loss: 9.7759e-07 - binary_crossentropy: 9.7759e-07 - acc: 1.000 - ETA: 0s - loss: 9.5217e-07 - binary_crossentropy: 9.5217e-07 - acc: 1.000 - ETA: 0s - loss: 9.2803e-07 - binary_crossentropy: 9.2803e-07 - acc: 1.000 - ETA: 0s - loss: 9.0509e-07 - binary_crossentropy: 9.0509e-07 - acc: 1.000 - ETA: 0s - loss: 8.8326e-07 - binary_crossentropy: 8.8326e-07 - acc: 1.000 - ETA: 0s - loss: 8.6245e-07 - binary_crossentropy: 8.6245e-07 - acc: 1.000 - ETA: 0s - loss: 8.4261e-07 - binary_crossentropy: 8.4261e-07 - acc: 1.000 - ETA: 0s - loss: 8.2365e-07 - binary_crossentropy: 8.2365e-07 - acc: 1.000 - ETA: 0s - loss: 8.0553e-07 - binary_crossentropy: 8.0553e-07 - acc: 1.000 - 3s 206us/sample - loss: 7.9988e-07 - binary_crossentropy: 7.9988e-07 - acc: 1.0000 - val_loss: 0.0000e+00 - val_binary_crossentropy: 0.0000e+00 - val_acc: 1.0000\n",
      "Epoch 2/5\n",
      "16113/16113 [==============================] - ETA: 2s - loss: 0.0000e+00 - binary_crossentropy: 0.0000e+00 - acc: 1.000 - ETA: 2s - loss: 0.0000e+00 - binary_crossentropy: 0.0000e+00 - acc: 1.000 - ETA: 1s - loss: 0.0000e+00 - binary_crossentropy: 0.0000e+00 - acc: 1.000 - ETA: 1s - loss: 0.0000e+00 - binary_crossentropy: 0.0000e+00 - acc: 1.000 - ETA: 1s - loss: 0.0000e+00 - binary_crossentropy: 0.0000e+00 - acc: 1.000 - ETA: 1s - loss: 0.0000e+00 - binary_crossentropy: 0.0000e+00 - acc: 1.000 - ETA: 1s - loss: 0.0000e+00 - binary_crossentropy: 0.0000e+00 - acc: 1.000 - ETA: 1s - loss: 0.0000e+00 - binary_crossentropy: 0.0000e+00 - acc: 1.000 - ETA: 1s - loss: 0.0000e+00 - binary_crossentropy: 0.0000e+00 - acc: 1.000 - ETA: 1s - loss: 0.0000e+00 - binary_crossentropy: 0.0000e+00 - acc: 1.000 - ETA: 1s - loss: 0.0000e+00 - binary_crossentropy: 0.0000e+00 - acc: 1.000 - ETA: 1s - loss: 0.0000e+00 - binary_crossentropy: 0.0000e+00 - acc: 1.000 - ETA: 1s - loss: 0.0000e+00 - binary_crossentropy: 0.0000e+00 - acc: 1.000 - ETA: 1s - loss: 0.0000e+00 - binary_crossentropy: 0.0000e+00 - acc: 1.000 - ETA: 1s - loss: 0.0000e+00 - binary_crossentropy: 0.0000e+00 - acc: 1.000 - ETA: 1s - loss: 0.0000e+00 - binary_crossentropy: 0.0000e+00 - acc: 1.000 - ETA: 1s - loss: 0.0000e+00 - binary_crossentropy: 0.0000e+00 - acc: 1.000 - ETA: 1s - loss: 0.0000e+00 - binary_crossentropy: 0.0000e+00 - acc: 1.000 - ETA: 1s - loss: 0.0000e+00 - binary_crossentropy: 0.0000e+00 - acc: 1.000 - ETA: 1s - loss: 0.0000e+00 - binary_crossentropy: 0.0000e+00 - acc: 1.000 - ETA: 1s - loss: 0.0000e+00 - binary_crossentropy: 0.0000e+00 - acc: 1.000 - ETA: 1s - loss: 0.0000e+00 - binary_crossentropy: 0.0000e+00 - acc: 1.000 - ETA: 0s - loss: 0.0000e+00 - binary_crossentropy: 0.0000e+00 - acc: 1.000 - ETA: 0s - loss: 0.0000e+00 - binary_crossentropy: 0.0000e+00 - acc: 1.000 - ETA: 0s - loss: 0.0000e+00 - binary_crossentropy: 0.0000e+00 - acc: 1.000 - ETA: 0s - loss: 0.0000e+00 - binary_crossentropy: 0.0000e+00 - acc: 1.000 - ETA: 0s - loss: 0.0000e+00 - binary_crossentropy: 0.0000e+00 - acc: 1.000 - ETA: 0s - loss: 0.0000e+00 - binary_crossentropy: 0.0000e+00 - acc: 1.000 - ETA: 0s - loss: 0.0000e+00 - binary_crossentropy: 0.0000e+00 - acc: 1.000 - ETA: 0s - loss: 0.0000e+00 - binary_crossentropy: 0.0000e+00 - acc: 1.000 - ETA: 0s - loss: 0.0000e+00 - binary_crossentropy: 0.0000e+00 - acc: 1.000 - ETA: 0s - loss: 0.0000e+00 - binary_crossentropy: 0.0000e+00 - acc: 1.000 - ETA: 0s - loss: 0.0000e+00 - binary_crossentropy: 0.0000e+00 - acc: 1.000 - ETA: 0s - loss: 0.0000e+00 - binary_crossentropy: 0.0000e+00 - acc: 1.000 - ETA: 0s - loss: 0.0000e+00 - binary_crossentropy: 0.0000e+00 - acc: 1.000 - ETA: 0s - loss: 0.0000e+00 - binary_crossentropy: 0.0000e+00 - acc: 1.000 - ETA: 0s - loss: 0.0000e+00 - binary_crossentropy: 0.0000e+00 - acc: 1.000 - ETA: 0s - loss: 0.0000e+00 - binary_crossentropy: 0.0000e+00 - acc: 1.000 - ETA: 0s - loss: 0.0000e+00 - binary_crossentropy: 0.0000e+00 - acc: 1.000 - ETA: 0s - loss: 0.0000e+00 - binary_crossentropy: 0.0000e+00 - acc: 1.000 - ETA: 0s - loss: 0.0000e+00 - binary_crossentropy: 0.0000e+00 - acc: 1.000 - ETA: 0s - loss: 0.0000e+00 - binary_crossentropy: 0.0000e+00 - acc: 1.000 - ETA: 0s - loss: 0.0000e+00 - binary_crossentropy: 0.0000e+00 - acc: 1.000 - 2s 152us/sample - loss: 0.0000e+00 - binary_crossentropy: 0.0000e+00 - acc: 1.0000 - val_loss: 0.0000e+00 - val_binary_crossentropy: 0.0000e+00 - val_acc: 1.0000\n",
      "Epoch 3/5\n",
      "16113/16113 [==============================] - ETA: 3s - loss: 0.0000e+00 - binary_crossentropy: 0.0000e+00 - acc: 1.000 - ETA: 2s - loss: 0.0000e+00 - binary_crossentropy: 0.0000e+00 - acc: 1.000 - ETA: 2s - loss: 0.0000e+00 - binary_crossentropy: 0.0000e+00 - acc: 1.000 - ETA: 2s - loss: 0.0000e+00 - binary_crossentropy: 0.0000e+00 - acc: 1.000 - ETA: 2s - loss: 0.0000e+00 - binary_crossentropy: 0.0000e+00 - acc: 1.000 - ETA: 2s - loss: 0.0000e+00 - binary_crossentropy: 0.0000e+00 - acc: 1.000 - ETA: 2s - loss: 0.0000e+00 - binary_crossentropy: 0.0000e+00 - acc: 1.000 - ETA: 2s - loss: 0.0000e+00 - binary_crossentropy: 0.0000e+00 - acc: 1.000 - ETA: 1s - loss: 0.0000e+00 - binary_crossentropy: 0.0000e+00 - acc: 1.000 - ETA: 1s - loss: 0.0000e+00 - binary_crossentropy: 0.0000e+00 - acc: 1.000 - ETA: 1s - loss: 0.0000e+00 - binary_crossentropy: 0.0000e+00 - acc: 1.000 - ETA: 1s - loss: 0.0000e+00 - binary_crossentropy: 0.0000e+00 - acc: 1.000 - ETA: 1s - loss: 0.0000e+00 - binary_crossentropy: 0.0000e+00 - acc: 1.000 - ETA: 1s - loss: 0.0000e+00 - binary_crossentropy: 0.0000e+00 - acc: 1.000 - ETA: 1s - loss: 0.0000e+00 - binary_crossentropy: 0.0000e+00 - acc: 1.000 - ETA: 1s - loss: 0.0000e+00 - binary_crossentropy: 0.0000e+00 - acc: 1.000 - ETA: 1s - loss: 0.0000e+00 - binary_crossentropy: 0.0000e+00 - acc: 1.000 - ETA: 1s - loss: 0.0000e+00 - binary_crossentropy: 0.0000e+00 - acc: 1.000 - ETA: 1s - loss: 0.0000e+00 - binary_crossentropy: 0.0000e+00 - acc: 1.000 - ETA: 1s - loss: 0.0000e+00 - binary_crossentropy: 0.0000e+00 - acc: 1.000 - ETA: 1s - loss: 0.0000e+00 - binary_crossentropy: 0.0000e+00 - acc: 1.000 - ETA: 1s - loss: 0.0000e+00 - binary_crossentropy: 0.0000e+00 - acc: 1.000 - ETA: 1s - loss: 0.0000e+00 - binary_crossentropy: 0.0000e+00 - acc: 1.000 - ETA: 1s - loss: 0.0000e+00 - binary_crossentropy: 0.0000e+00 - acc: 1.000 - ETA: 1s - loss: 0.0000e+00 - binary_crossentropy: 0.0000e+00 - acc: 1.000 - ETA: 1s - loss: 0.0000e+00 - binary_crossentropy: 0.0000e+00 - acc: 1.000 - ETA: 0s - loss: 0.0000e+00 - binary_crossentropy: 0.0000e+00 - acc: 1.000 - ETA: 0s - loss: 0.0000e+00 - binary_crossentropy: 0.0000e+00 - acc: 1.000 - ETA: 0s - loss: 0.0000e+00 - binary_crossentropy: 0.0000e+00 - acc: 1.000 - ETA: 0s - loss: 0.0000e+00 - binary_crossentropy: 0.0000e+00 - acc: 1.000 - ETA: 0s - loss: 0.0000e+00 - binary_crossentropy: 0.0000e+00 - acc: 1.000 - ETA: 0s - loss: 0.0000e+00 - binary_crossentropy: 0.0000e+00 - acc: 1.000 - ETA: 0s - loss: 0.0000e+00 - binary_crossentropy: 0.0000e+00 - acc: 1.000 - ETA: 0s - loss: 0.0000e+00 - binary_crossentropy: 0.0000e+00 - acc: 1.000 - ETA: 0s - loss: 0.0000e+00 - binary_crossentropy: 0.0000e+00 - acc: 1.000 - ETA: 0s - loss: 0.0000e+00 - binary_crossentropy: 0.0000e+00 - acc: 1.000 - ETA: 0s - loss: 0.0000e+00 - binary_crossentropy: 0.0000e+00 - acc: 1.000 - ETA: 0s - loss: 0.0000e+00 - binary_crossentropy: 0.0000e+00 - acc: 1.000 - ETA: 0s - loss: 0.0000e+00 - binary_crossentropy: 0.0000e+00 - acc: 1.000 - ETA: 0s - loss: 0.0000e+00 - binary_crossentropy: 0.0000e+00 - acc: 1.000 - ETA: 0s - loss: 0.0000e+00 - binary_crossentropy: 0.0000e+00 - acc: 1.000 - ETA: 0s - loss: 0.0000e+00 - binary_crossentropy: 0.0000e+00 - acc: 1.000 - ETA: 0s - loss: 0.0000e+00 - binary_crossentropy: 0.0000e+00 - acc: 1.000 - ETA: 0s - loss: 0.0000e+00 - binary_crossentropy: 0.0000e+00 - acc: 1.000 - ETA: 0s - loss: 0.0000e+00 - binary_crossentropy: 0.0000e+00 - acc: 1.000 - 3s 162us/sample - loss: 0.0000e+00 - binary_crossentropy: 0.0000e+00 - acc: 1.0000 - val_loss: 0.0000e+00 - val_binary_crossentropy: 0.0000e+00 - val_acc: 1.0000\n",
      "Epoch 4/5\n",
      "16113/16113 [==============================] - ETA: 3s - loss: 0.0000e+00 - binary_crossentropy: 0.0000e+00 - acc: 1.000 - ETA: 2s - loss: 0.0000e+00 - binary_crossentropy: 0.0000e+00 - acc: 1.000 - ETA: 2s - loss: 0.0000e+00 - binary_crossentropy: 0.0000e+00 - acc: 1.000 - ETA: 2s - loss: 0.0000e+00 - binary_crossentropy: 0.0000e+00 - acc: 1.000 - ETA: 2s - loss: 0.0000e+00 - binary_crossentropy: 0.0000e+00 - acc: 1.000 - ETA: 2s - loss: 0.0000e+00 - binary_crossentropy: 0.0000e+00 - acc: 1.000 - ETA: 1s - loss: 0.0000e+00 - binary_crossentropy: 0.0000e+00 - acc: 1.000 - ETA: 1s - loss: 0.0000e+00 - binary_crossentropy: 0.0000e+00 - acc: 1.000 - ETA: 1s - loss: 0.0000e+00 - binary_crossentropy: 0.0000e+00 - acc: 1.000 - ETA: 1s - loss: 0.0000e+00 - binary_crossentropy: 0.0000e+00 - acc: 1.000 - ETA: 1s - loss: 0.0000e+00 - binary_crossentropy: 0.0000e+00 - acc: 1.000 - ETA: 1s - loss: 0.0000e+00 - binary_crossentropy: 0.0000e+00 - acc: 1.000 - ETA: 1s - loss: 0.0000e+00 - binary_crossentropy: 0.0000e+00 - acc: 1.000 - ETA: 1s - loss: 0.0000e+00 - binary_crossentropy: 0.0000e+00 - acc: 1.000 - ETA: 1s - loss: 0.0000e+00 - binary_crossentropy: 0.0000e+00 - acc: 1.000 - ETA: 1s - loss: 0.0000e+00 - binary_crossentropy: 0.0000e+00 - acc: 1.000 - ETA: 1s - loss: 0.0000e+00 - binary_crossentropy: 0.0000e+00 - acc: 1.000 - ETA: 1s - loss: 0.0000e+00 - binary_crossentropy: 0.0000e+00 - acc: 1.000 - ETA: 1s - loss: 0.0000e+00 - binary_crossentropy: 0.0000e+00 - acc: 1.000 - ETA: 1s - loss: 0.0000e+00 - binary_crossentropy: 0.0000e+00 - acc: 1.000 - ETA: 1s - loss: 0.0000e+00 - binary_crossentropy: 0.0000e+00 - acc: 1.000 - ETA: 1s - loss: 0.0000e+00 - binary_crossentropy: 0.0000e+00 - acc: 1.000 - ETA: 1s - loss: 0.0000e+00 - binary_crossentropy: 0.0000e+00 - acc: 1.000 - ETA: 1s - loss: 0.0000e+00 - binary_crossentropy: 0.0000e+00 - acc: 1.000 - ETA: 1s - loss: 0.0000e+00 - binary_crossentropy: 0.0000e+00 - acc: 1.000 - ETA: 1s - loss: 0.0000e+00 - binary_crossentropy: 0.0000e+00 - acc: 1.000 - ETA: 0s - loss: 0.0000e+00 - binary_crossentropy: 0.0000e+00 - acc: 1.000 - ETA: 0s - loss: 0.0000e+00 - binary_crossentropy: 0.0000e+00 - acc: 1.000 - ETA: 0s - loss: 0.0000e+00 - binary_crossentropy: 0.0000e+00 - acc: 1.000 - ETA: 0s - loss: 0.0000e+00 - binary_crossentropy: 0.0000e+00 - acc: 1.000 - ETA: 0s - loss: 0.0000e+00 - binary_crossentropy: 0.0000e+00 - acc: 1.000 - ETA: 0s - loss: 0.0000e+00 - binary_crossentropy: 0.0000e+00 - acc: 1.000 - ETA: 0s - loss: 0.0000e+00 - binary_crossentropy: 0.0000e+00 - acc: 1.000 - ETA: 0s - loss: 0.0000e+00 - binary_crossentropy: 0.0000e+00 - acc: 1.000 - ETA: 0s - loss: 0.0000e+00 - binary_crossentropy: 0.0000e+00 - acc: 1.000 - ETA: 0s - loss: 0.0000e+00 - binary_crossentropy: 0.0000e+00 - acc: 1.000 - ETA: 0s - loss: 0.0000e+00 - binary_crossentropy: 0.0000e+00 - acc: 1.000 - ETA: 0s - loss: 0.0000e+00 - binary_crossentropy: 0.0000e+00 - acc: 1.000 - ETA: 0s - loss: 0.0000e+00 - binary_crossentropy: 0.0000e+00 - acc: 1.000 - ETA: 0s - loss: 0.0000e+00 - binary_crossentropy: 0.0000e+00 - acc: 1.000 - ETA: 0s - loss: 0.0000e+00 - binary_crossentropy: 0.0000e+00 - acc: 1.000 - ETA: 0s - loss: 0.0000e+00 - binary_crossentropy: 0.0000e+00 - acc: 1.000 - ETA: 0s - loss: 0.0000e+00 - binary_crossentropy: 0.0000e+00 - acc: 1.000 - ETA: 0s - loss: 0.0000e+00 - binary_crossentropy: 0.0000e+00 - acc: 1.000 - ETA: 0s - loss: 0.0000e+00 - binary_crossentropy: 0.0000e+00 - acc: 1.000 - 3s 161us/sample - loss: 0.0000e+00 - binary_crossentropy: 0.0000e+00 - acc: 1.0000 - val_loss: 0.0000e+00 - val_binary_crossentropy: 0.0000e+00 - val_acc: 1.0000\n",
      "Epoch 5/5\n",
      "16113/16113 [==============================] - ETA: 2s - loss: 0.0000e+00 - binary_crossentropy: 0.0000e+00 - acc: 1.000 - ETA: 2s - loss: 0.0000e+00 - binary_crossentropy: 0.0000e+00 - acc: 1.000 - ETA: 2s - loss: 0.0000e+00 - binary_crossentropy: 0.0000e+00 - acc: 1.000 - ETA: 2s - loss: 0.0000e+00 - binary_crossentropy: 0.0000e+00 - acc: 1.000 - ETA: 2s - loss: 0.0000e+00 - binary_crossentropy: 0.0000e+00 - acc: 1.000 - ETA: 2s - loss: 0.0000e+00 - binary_crossentropy: 0.0000e+00 - acc: 1.000 - ETA: 2s - loss: 0.0000e+00 - binary_crossentropy: 0.0000e+00 - acc: 1.000 - ETA: 1s - loss: 0.0000e+00 - binary_crossentropy: 0.0000e+00 - acc: 1.000 - ETA: 1s - loss: 0.0000e+00 - binary_crossentropy: 0.0000e+00 - acc: 1.000 - ETA: 1s - loss: 0.0000e+00 - binary_crossentropy: 0.0000e+00 - acc: 1.000 - ETA: 1s - loss: 0.0000e+00 - binary_crossentropy: 0.0000e+00 - acc: 1.000 - ETA: 1s - loss: 0.0000e+00 - binary_crossentropy: 0.0000e+00 - acc: 1.000 - ETA: 1s - loss: 0.0000e+00 - binary_crossentropy: 0.0000e+00 - acc: 1.000 - ETA: 1s - loss: 0.0000e+00 - binary_crossentropy: 0.0000e+00 - acc: 1.000 - ETA: 1s - loss: 0.0000e+00 - binary_crossentropy: 0.0000e+00 - acc: 1.000 - ETA: 1s - loss: 0.0000e+00 - binary_crossentropy: 0.0000e+00 - acc: 1.000 - ETA: 1s - loss: 0.0000e+00 - binary_crossentropy: 0.0000e+00 - acc: 1.000 - ETA: 1s - loss: 0.0000e+00 - binary_crossentropy: 0.0000e+00 - acc: 1.000 - ETA: 1s - loss: 0.0000e+00 - binary_crossentropy: 0.0000e+00 - acc: 1.000 - ETA: 1s - loss: 0.0000e+00 - binary_crossentropy: 0.0000e+00 - acc: 1.000 - ETA: 1s - loss: 0.0000e+00 - binary_crossentropy: 0.0000e+00 - acc: 1.000 - ETA: 1s - loss: 0.0000e+00 - binary_crossentropy: 0.0000e+00 - acc: 1.000 - ETA: 1s - loss: 0.0000e+00 - binary_crossentropy: 0.0000e+00 - acc: 1.000 - ETA: 1s - loss: 0.0000e+00 - binary_crossentropy: 0.0000e+00 - acc: 1.000 - ETA: 1s - loss: 0.0000e+00 - binary_crossentropy: 0.0000e+00 - acc: 1.000 - ETA: 1s - loss: 0.0000e+00 - binary_crossentropy: 0.0000e+00 - acc: 1.000 - ETA: 1s - loss: 0.0000e+00 - binary_crossentropy: 0.0000e+00 - acc: 1.000 - ETA: 0s - loss: 0.0000e+00 - binary_crossentropy: 0.0000e+00 - acc: 1.000 - ETA: 0s - loss: 0.0000e+00 - binary_crossentropy: 0.0000e+00 - acc: 1.000 - ETA: 0s - loss: 0.0000e+00 - binary_crossentropy: 0.0000e+00 - acc: 1.000 - ETA: 0s - loss: 0.0000e+00 - binary_crossentropy: 0.0000e+00 - acc: 1.000 - ETA: 0s - loss: 0.0000e+00 - binary_crossentropy: 0.0000e+00 - acc: 1.000 - ETA: 0s - loss: 0.0000e+00 - binary_crossentropy: 0.0000e+00 - acc: 1.000 - ETA: 0s - loss: 0.0000e+00 - binary_crossentropy: 0.0000e+00 - acc: 1.000 - ETA: 0s - loss: 0.0000e+00 - binary_crossentropy: 0.0000e+00 - acc: 1.000 - ETA: 0s - loss: 0.0000e+00 - binary_crossentropy: 0.0000e+00 - acc: 1.000 - ETA: 0s - loss: 0.0000e+00 - binary_crossentropy: 0.0000e+00 - acc: 1.000 - ETA: 0s - loss: 0.0000e+00 - binary_crossentropy: 0.0000e+00 - acc: 1.000 - ETA: 0s - loss: 0.0000e+00 - binary_crossentropy: 0.0000e+00 - acc: 1.000 - ETA: 0s - loss: 0.0000e+00 - binary_crossentropy: 0.0000e+00 - acc: 1.000 - ETA: 0s - loss: 0.0000e+00 - binary_crossentropy: 0.0000e+00 - acc: 1.000 - ETA: 0s - loss: 0.0000e+00 - binary_crossentropy: 0.0000e+00 - acc: 1.000 - ETA: 0s - loss: 0.0000e+00 - binary_crossentropy: 0.0000e+00 - acc: 1.000 - ETA: 0s - loss: 0.0000e+00 - binary_crossentropy: 0.0000e+00 - acc: 1.000 - ETA: 0s - loss: 0.0000e+00 - binary_crossentropy: 0.0000e+00 - acc: 1.000 - ETA: 0s - loss: 0.0000e+00 - binary_crossentropy: 0.0000e+00 - acc: 1.000 - 3s 163us/sample - loss: 0.0000e+00 - binary_crossentropy: 0.0000e+00 - acc: 1.0000 - val_loss: 0.0000e+00 - val_binary_crossentropy: 0.0000e+00 - val_acc: 1.0000\n",
      "Train on 16113 samples, validate on 4029 samples\n",
      "WARNING:tensorflow:OMP_NUM_THREADS is no longer used by the default Keras config. To configure the number of threads, use tf.config.threading APIs.\n",
      "Epoch 1/5\n",
      "16113/16113 [==============================] - ETA: 3:31 - loss: 0.1059 - binary_crossentropy: 0.1059 - acc: 1.000 - ETA: 19s - loss: 0.0088 - binary_crossentropy: 0.0088 - acc: 1.000 - ETA: 10s - loss: 0.0042 - binary_crossentropy: 0.0042 - acc: 1.00 - ETA: 7s - loss: 0.0029 - binary_crossentropy: 0.0029 - acc: 1.0000 - ETA: 6s - loss: 0.0023 - binary_crossentropy: 0.0023 - acc: 1.000 - ETA: 5s - loss: 0.0018 - binary_crossentropy: 0.0018 - acc: 1.000 - ETA: 4s - loss: 0.0015 - binary_crossentropy: 0.0015 - acc: 1.000 - ETA: 4s - loss: 0.0013 - binary_crossentropy: 0.0013 - acc: 1.000 - ETA: 3s - loss: 0.0012 - binary_crossentropy: 0.0012 - acc: 1.000 - ETA: 3s - loss: 0.0010 - binary_crossentropy: 0.0010 - acc: 1.000 - ETA: 3s - loss: 9.2856e-04 - binary_crossentropy: 9.2856e-04 - acc: 1.000 - ETA: 2s - loss: 8.4684e-04 - binary_crossentropy: 8.4684e-04 - acc: 1.000 - ETA: 2s - loss: 7.7267e-04 - binary_crossentropy: 7.7267e-04 - acc: 1.000 - ETA: 2s - loss: 7.1524e-04 - binary_crossentropy: 7.1524e-04 - acc: 1.000 - ETA: 2s - loss: 6.6160e-04 - binary_crossentropy: 6.6160e-04 - acc: 1.000 - ETA: 2s - loss: 6.1544e-04 - binary_crossentropy: 6.1544e-04 - acc: 1.000 - ETA: 2s - loss: 5.7530e-04 - binary_crossentropy: 5.7530e-04 - acc: 1.000 - ETA: 2s - loss: 5.4565e-04 - binary_crossentropy: 5.4565e-04 - acc: 1.000 - ETA: 1s - loss: 5.1386e-04 - binary_crossentropy: 5.1386e-04 - acc: 1.000 - ETA: 1s - loss: 4.8781e-04 - binary_crossentropy: 4.8781e-04 - acc: 1.000 - ETA: 1s - loss: 4.6428e-04 - binary_crossentropy: 4.6428e-04 - acc: 1.000 - ETA: 1s - loss: 4.4106e-04 - binary_crossentropy: 4.4106e-04 - acc: 1.000 - ETA: 1s - loss: 4.2006e-04 - binary_crossentropy: 4.2006e-04 - acc: 1.000 - ETA: 1s - loss: 4.0097e-04 - binary_crossentropy: 4.0097e-04 - acc: 1.000 - ETA: 1s - loss: 3.8493e-04 - binary_crossentropy: 3.8493e-04 - acc: 1.000 - ETA: 1s - loss: 3.7012e-04 - binary_crossentropy: 3.7012e-04 - acc: 1.000 - ETA: 1s - loss: 3.5642e-04 - binary_crossentropy: 3.5642e-04 - acc: 1.000 - ETA: 1s - loss: 3.4369e-04 - binary_crossentropy: 3.4369e-04 - acc: 1.000 - ETA: 1s - loss: 3.3183e-04 - binary_crossentropy: 3.3183e-04 - acc: 1.000 - ETA: 1s - loss: 3.2077e-04 - binary_crossentropy: 3.2077e-04 - acc: 1.000 - ETA: 0s - loss: 3.1043e-04 - binary_crossentropy: 3.1043e-04 - acc: 1.000 - ETA: 0s - loss: 3.0073e-04 - binary_crossentropy: 3.0073e-04 - acc: 1.000 - ETA: 0s - loss: 2.9161e-04 - binary_crossentropy: 2.9161e-04 - acc: 1.000 - ETA: 0s - loss: 2.8304e-04 - binary_crossentropy: 2.8304e-04 - acc: 1.000 - ETA: 0s - loss: 2.7495e-04 - binary_crossentropy: 2.7495e-04 - acc: 1.000 - ETA: 0s - loss: 2.6664e-04 - binary_crossentropy: 2.6664e-04 - acc: 1.000 - ETA: 0s - loss: 2.5945e-04 - binary_crossentropy: 2.5945e-04 - acc: 1.000 - ETA: 0s - loss: 2.5264e-04 - binary_crossentropy: 2.5264e-04 - acc: 1.000 - ETA: 0s - loss: 2.4618e-04 - binary_crossentropy: 2.4618e-04 - acc: 1.000 - ETA: 0s - loss: 2.3949e-04 - binary_crossentropy: 2.3949e-04 - acc: 1.000 - ETA: 0s - loss: 2.3316e-04 - binary_crossentropy: 2.3316e-04 - acc: 1.000 - ETA: 0s - loss: 2.2765e-04 - binary_crossentropy: 2.2765e-04 - acc: 1.000 - ETA: 0s - loss: 2.2239e-04 - binary_crossentropy: 2.2239e-04 - acc: 1.000 - ETA: 0s - loss: 2.1736e-04 - binary_crossentropy: 2.1736e-04 - acc: 1.000 - ETA: 0s - loss: 2.1213e-04 - binary_crossentropy: 2.1213e-04 - acc: 1.000 - 3s 195us/sample - loss: 2.1023e-04 - binary_crossentropy: 2.1023e-04 - acc: 1.0000 - val_loss: 0.0000e+00 - val_binary_crossentropy: 0.0000e+00 - val_acc: 1.0000\n",
      "Epoch 2/5\n",
      "16113/16113 [==============================] - ETA: 3s - loss: 0.0000e+00 - binary_crossentropy: 0.0000e+00 - acc: 1.000 - ETA: 2s - loss: 0.0000e+00 - binary_crossentropy: 0.0000e+00 - acc: 1.000 - ETA: 2s - loss: 0.0000e+00 - binary_crossentropy: 0.0000e+00 - acc: 1.000 - ETA: 2s - loss: 0.0000e+00 - binary_crossentropy: 0.0000e+00 - acc: 1.000 - ETA: 2s - loss: 0.0000e+00 - binary_crossentropy: 0.0000e+00 - acc: 1.000 - ETA: 2s - loss: 0.0000e+00 - binary_crossentropy: 0.0000e+00 - acc: 1.000 - ETA: 2s - loss: 0.0000e+00 - binary_crossentropy: 0.0000e+00 - acc: 1.000 - ETA: 2s - loss: 0.0000e+00 - binary_crossentropy: 0.0000e+00 - acc: 1.000 - ETA: 1s - loss: 0.0000e+00 - binary_crossentropy: 0.0000e+00 - acc: 1.000 - ETA: 1s - loss: 0.0000e+00 - binary_crossentropy: 0.0000e+00 - acc: 1.000 - ETA: 1s - loss: 0.0000e+00 - binary_crossentropy: 0.0000e+00 - acc: 1.000 - ETA: 1s - loss: 0.0000e+00 - binary_crossentropy: 0.0000e+00 - acc: 1.000 - ETA: 1s - loss: 0.0000e+00 - binary_crossentropy: 0.0000e+00 - acc: 1.000 - ETA: 1s - loss: 0.0000e+00 - binary_crossentropy: 0.0000e+00 - acc: 1.000 - ETA: 1s - loss: 0.0000e+00 - binary_crossentropy: 0.0000e+00 - acc: 1.000 - ETA: 1s - loss: 0.0000e+00 - binary_crossentropy: 0.0000e+00 - acc: 1.000 - ETA: 1s - loss: 0.0000e+00 - binary_crossentropy: 0.0000e+00 - acc: 1.000 - ETA: 1s - loss: 0.0000e+00 - binary_crossentropy: 0.0000e+00 - acc: 1.000 - ETA: 1s - loss: 0.0000e+00 - binary_crossentropy: 0.0000e+00 - acc: 1.000 - ETA: 1s - loss: 0.0000e+00 - binary_crossentropy: 0.0000e+00 - acc: 1.000 - ETA: 1s - loss: 0.0000e+00 - binary_crossentropy: 0.0000e+00 - acc: 1.000 - ETA: 1s - loss: 0.0000e+00 - binary_crossentropy: 0.0000e+00 - acc: 1.000 - ETA: 1s - loss: 0.0000e+00 - binary_crossentropy: 0.0000e+00 - acc: 1.000 - ETA: 1s - loss: 0.0000e+00 - binary_crossentropy: 0.0000e+00 - acc: 1.000 - ETA: 1s - loss: 0.0000e+00 - binary_crossentropy: 0.0000e+00 - acc: 1.000 - ETA: 1s - loss: 0.0000e+00 - binary_crossentropy: 0.0000e+00 - acc: 1.000 - ETA: 0s - loss: 0.0000e+00 - binary_crossentropy: 0.0000e+00 - acc: 1.000 - ETA: 0s - loss: 0.0000e+00 - binary_crossentropy: 0.0000e+00 - acc: 1.000 - ETA: 0s - loss: 0.0000e+00 - binary_crossentropy: 0.0000e+00 - acc: 1.000 - ETA: 0s - loss: 0.0000e+00 - binary_crossentropy: 0.0000e+00 - acc: 1.000 - ETA: 0s - loss: 0.0000e+00 - binary_crossentropy: 0.0000e+00 - acc: 1.000 - ETA: 0s - loss: 0.0000e+00 - binary_crossentropy: 0.0000e+00 - acc: 1.000 - ETA: 0s - loss: 0.0000e+00 - binary_crossentropy: 0.0000e+00 - acc: 1.000 - ETA: 0s - loss: 0.0000e+00 - binary_crossentropy: 0.0000e+00 - acc: 1.000 - ETA: 0s - loss: 0.0000e+00 - binary_crossentropy: 0.0000e+00 - acc: 1.000 - ETA: 0s - loss: 0.0000e+00 - binary_crossentropy: 0.0000e+00 - acc: 1.000 - ETA: 0s - loss: 0.0000e+00 - binary_crossentropy: 0.0000e+00 - acc: 1.000 - ETA: 0s - loss: 0.0000e+00 - binary_crossentropy: 0.0000e+00 - acc: 1.000 - ETA: 0s - loss: 0.0000e+00 - binary_crossentropy: 0.0000e+00 - acc: 1.000 - ETA: 0s - loss: 0.0000e+00 - binary_crossentropy: 0.0000e+00 - acc: 1.000 - ETA: 0s - loss: 0.0000e+00 - binary_crossentropy: 0.0000e+00 - acc: 1.000 - ETA: 0s - loss: 0.0000e+00 - binary_crossentropy: 0.0000e+00 - acc: 1.000 - ETA: 0s - loss: 0.0000e+00 - binary_crossentropy: 0.0000e+00 - acc: 1.000 - ETA: 0s - loss: 0.0000e+00 - binary_crossentropy: 0.0000e+00 - acc: 1.000 - ETA: 0s - loss: 0.0000e+00 - binary_crossentropy: 0.0000e+00 - acc: 1.000 - 3s 161us/sample - loss: 0.0000e+00 - binary_crossentropy: 0.0000e+00 - acc: 1.0000 - val_loss: 0.0000e+00 - val_binary_crossentropy: 0.0000e+00 - val_acc: 1.0000\n",
      "Epoch 3/5\n",
      "16113/16113 [==============================] - ETA: 3s - loss: 0.0000e+00 - binary_crossentropy: 0.0000e+00 - acc: 1.000 - ETA: 2s - loss: 0.0000e+00 - binary_crossentropy: 0.0000e+00 - acc: 1.000 - ETA: 2s - loss: 0.0000e+00 - binary_crossentropy: 0.0000e+00 - acc: 1.000 - ETA: 2s - loss: 0.0000e+00 - binary_crossentropy: 0.0000e+00 - acc: 1.000 - ETA: 2s - loss: 0.0000e+00 - binary_crossentropy: 0.0000e+00 - acc: 1.000 - ETA: 2s - loss: 0.0000e+00 - binary_crossentropy: 0.0000e+00 - acc: 1.000 - ETA: 2s - loss: 0.0000e+00 - binary_crossentropy: 0.0000e+00 - acc: 1.000 - ETA: 1s - loss: 0.0000e+00 - binary_crossentropy: 0.0000e+00 - acc: 1.000 - ETA: 1s - loss: 0.0000e+00 - binary_crossentropy: 0.0000e+00 - acc: 1.000 - ETA: 1s - loss: 0.0000e+00 - binary_crossentropy: 0.0000e+00 - acc: 1.000 - ETA: 1s - loss: 0.0000e+00 - binary_crossentropy: 0.0000e+00 - acc: 1.000 - ETA: 1s - loss: 0.0000e+00 - binary_crossentropy: 0.0000e+00 - acc: 1.000 - ETA: 1s - loss: 0.0000e+00 - binary_crossentropy: 0.0000e+00 - acc: 1.000 - ETA: 1s - loss: 0.0000e+00 - binary_crossentropy: 0.0000e+00 - acc: 1.000 - ETA: 1s - loss: 0.0000e+00 - binary_crossentropy: 0.0000e+00 - acc: 1.000 - ETA: 1s - loss: 0.0000e+00 - binary_crossentropy: 0.0000e+00 - acc: 1.000 - ETA: 1s - loss: 0.0000e+00 - binary_crossentropy: 0.0000e+00 - acc: 1.000 - ETA: 1s - loss: 0.0000e+00 - binary_crossentropy: 0.0000e+00 - acc: 1.000 - ETA: 1s - loss: 0.0000e+00 - binary_crossentropy: 0.0000e+00 - acc: 1.000 - ETA: 1s - loss: 0.0000e+00 - binary_crossentropy: 0.0000e+00 - acc: 1.000 - ETA: 1s - loss: 0.0000e+00 - binary_crossentropy: 0.0000e+00 - acc: 1.000 - ETA: 1s - loss: 0.0000e+00 - binary_crossentropy: 0.0000e+00 - acc: 1.000 - ETA: 1s - loss: 0.0000e+00 - binary_crossentropy: 0.0000e+00 - acc: 1.000 - ETA: 1s - loss: 0.0000e+00 - binary_crossentropy: 0.0000e+00 - acc: 1.000 - ETA: 1s - loss: 0.0000e+00 - binary_crossentropy: 0.0000e+00 - acc: 1.000 - ETA: 1s - loss: 0.0000e+00 - binary_crossentropy: 0.0000e+00 - acc: 1.000 - ETA: 0s - loss: 0.0000e+00 - binary_crossentropy: 0.0000e+00 - acc: 1.000 - ETA: 0s - loss: 0.0000e+00 - binary_crossentropy: 0.0000e+00 - acc: 1.000 - ETA: 0s - loss: 0.0000e+00 - binary_crossentropy: 0.0000e+00 - acc: 1.000 - ETA: 0s - loss: 0.0000e+00 - binary_crossentropy: 0.0000e+00 - acc: 1.000 - ETA: 0s - loss: 0.0000e+00 - binary_crossentropy: 0.0000e+00 - acc: 1.000 - ETA: 0s - loss: 0.0000e+00 - binary_crossentropy: 0.0000e+00 - acc: 1.000 - ETA: 0s - loss: 0.0000e+00 - binary_crossentropy: 0.0000e+00 - acc: 1.000 - ETA: 0s - loss: 0.0000e+00 - binary_crossentropy: 0.0000e+00 - acc: 1.000 - ETA: 0s - loss: 0.0000e+00 - binary_crossentropy: 0.0000e+00 - acc: 1.000 - ETA: 0s - loss: 0.0000e+00 - binary_crossentropy: 0.0000e+00 - acc: 1.000 - ETA: 0s - loss: 0.0000e+00 - binary_crossentropy: 0.0000e+00 - acc: 1.000 - ETA: 0s - loss: 0.0000e+00 - binary_crossentropy: 0.0000e+00 - acc: 1.000 - ETA: 0s - loss: 0.0000e+00 - binary_crossentropy: 0.0000e+00 - acc: 1.000 - ETA: 0s - loss: 0.0000e+00 - binary_crossentropy: 0.0000e+00 - acc: 1.000 - ETA: 0s - loss: 0.0000e+00 - binary_crossentropy: 0.0000e+00 - acc: 1.000 - ETA: 0s - loss: 0.0000e+00 - binary_crossentropy: 0.0000e+00 - acc: 1.000 - ETA: 0s - loss: 0.0000e+00 - binary_crossentropy: 0.0000e+00 - acc: 1.000 - ETA: 0s - loss: 0.0000e+00 - binary_crossentropy: 0.0000e+00 - acc: 1.000 - ETA: 0s - loss: 0.0000e+00 - binary_crossentropy: 0.0000e+00 - acc: 1.000 - ETA: 0s - loss: 0.0000e+00 - binary_crossentropy: 0.0000e+00 - acc: 1.000 - 3s 161us/sample - loss: 0.0000e+00 - binary_crossentropy: 0.0000e+00 - acc: 1.0000 - val_loss: 0.0000e+00 - val_binary_crossentropy: 0.0000e+00 - val_acc: 1.0000\n",
      "Epoch 4/5\n",
      "16113/16113 [==============================] - ETA: 3s - loss: 0.0000e+00 - binary_crossentropy: 0.0000e+00 - acc: 1.000 - ETA: 2s - loss: 0.0000e+00 - binary_crossentropy: 0.0000e+00 - acc: 1.000 - ETA: 2s - loss: 0.0000e+00 - binary_crossentropy: 0.0000e+00 - acc: 1.000 - ETA: 2s - loss: 0.0000e+00 - binary_crossentropy: 0.0000e+00 - acc: 1.000 - ETA: 2s - loss: 0.0000e+00 - binary_crossentropy: 0.0000e+00 - acc: 1.000 - ETA: 2s - loss: 0.0000e+00 - binary_crossentropy: 0.0000e+00 - acc: 1.000 - ETA: 1s - loss: 0.0000e+00 - binary_crossentropy: 0.0000e+00 - acc: 1.000 - ETA: 1s - loss: 0.0000e+00 - binary_crossentropy: 0.0000e+00 - acc: 1.000 - ETA: 1s - loss: 0.0000e+00 - binary_crossentropy: 0.0000e+00 - acc: 1.000 - ETA: 1s - loss: 0.0000e+00 - binary_crossentropy: 0.0000e+00 - acc: 1.000 - ETA: 1s - loss: 0.0000e+00 - binary_crossentropy: 0.0000e+00 - acc: 1.000 - ETA: 1s - loss: 0.0000e+00 - binary_crossentropy: 0.0000e+00 - acc: 1.000 - ETA: 1s - loss: 0.0000e+00 - binary_crossentropy: 0.0000e+00 - acc: 1.000 - ETA: 1s - loss: 0.0000e+00 - binary_crossentropy: 0.0000e+00 - acc: 1.000 - ETA: 1s - loss: 0.0000e+00 - binary_crossentropy: 0.0000e+00 - acc: 1.000 - ETA: 1s - loss: 0.0000e+00 - binary_crossentropy: 0.0000e+00 - acc: 1.000 - ETA: 1s - loss: 0.0000e+00 - binary_crossentropy: 0.0000e+00 - acc: 1.000 - ETA: 1s - loss: 0.0000e+00 - binary_crossentropy: 0.0000e+00 - acc: 1.000 - ETA: 1s - loss: 0.0000e+00 - binary_crossentropy: 0.0000e+00 - acc: 1.000 - ETA: 1s - loss: 0.0000e+00 - binary_crossentropy: 0.0000e+00 - acc: 1.000 - ETA: 1s - loss: 0.0000e+00 - binary_crossentropy: 0.0000e+00 - acc: 1.000 - ETA: 1s - loss: 0.0000e+00 - binary_crossentropy: 0.0000e+00 - acc: 1.000 - ETA: 1s - loss: 0.0000e+00 - binary_crossentropy: 0.0000e+00 - acc: 1.000 - ETA: 1s - loss: 0.0000e+00 - binary_crossentropy: 0.0000e+00 - acc: 1.000 - ETA: 1s - loss: 0.0000e+00 - binary_crossentropy: 0.0000e+00 - acc: 1.000 - ETA: 0s - loss: 0.0000e+00 - binary_crossentropy: 0.0000e+00 - acc: 1.000 - ETA: 0s - loss: 0.0000e+00 - binary_crossentropy: 0.0000e+00 - acc: 1.000 - ETA: 0s - loss: 0.0000e+00 - binary_crossentropy: 0.0000e+00 - acc: 1.000 - ETA: 0s - loss: 0.0000e+00 - binary_crossentropy: 0.0000e+00 - acc: 1.000 - ETA: 0s - loss: 0.0000e+00 - binary_crossentropy: 0.0000e+00 - acc: 1.000 - ETA: 0s - loss: 0.0000e+00 - binary_crossentropy: 0.0000e+00 - acc: 1.000 - ETA: 0s - loss: 0.0000e+00 - binary_crossentropy: 0.0000e+00 - acc: 1.000 - ETA: 0s - loss: 0.0000e+00 - binary_crossentropy: 0.0000e+00 - acc: 1.000 - ETA: 0s - loss: 0.0000e+00 - binary_crossentropy: 0.0000e+00 - acc: 1.000 - ETA: 0s - loss: 0.0000e+00 - binary_crossentropy: 0.0000e+00 - acc: 1.000 - ETA: 0s - loss: 0.0000e+00 - binary_crossentropy: 0.0000e+00 - acc: 1.000 - ETA: 0s - loss: 0.0000e+00 - binary_crossentropy: 0.0000e+00 - acc: 1.000 - ETA: 0s - loss: 0.0000e+00 - binary_crossentropy: 0.0000e+00 - acc: 1.000 - ETA: 0s - loss: 0.0000e+00 - binary_crossentropy: 0.0000e+00 - acc: 1.000 - ETA: 0s - loss: 0.0000e+00 - binary_crossentropy: 0.0000e+00 - acc: 1.000 - ETA: 0s - loss: 0.0000e+00 - binary_crossentropy: 0.0000e+00 - acc: 1.000 - ETA: 0s - loss: 0.0000e+00 - binary_crossentropy: 0.0000e+00 - acc: 1.000 - ETA: 0s - loss: 0.0000e+00 - binary_crossentropy: 0.0000e+00 - acc: 1.000 - ETA: 0s - loss: 0.0000e+00 - binary_crossentropy: 0.0000e+00 - acc: 1.000 - ETA: 0s - loss: 0.0000e+00 - binary_crossentropy: 0.0000e+00 - acc: 1.000 - 3s 155us/sample - loss: 0.0000e+00 - binary_crossentropy: 0.0000e+00 - acc: 1.0000 - val_loss: 0.0000e+00 - val_binary_crossentropy: 0.0000e+00 - val_acc: 1.0000\n",
      "Epoch 5/5\n",
      "16113/16113 [==============================] - ETA: 2s - loss: 0.0000e+00 - binary_crossentropy: 0.0000e+00 - acc: 1.000 - ETA: 2s - loss: 0.0000e+00 - binary_crossentropy: 0.0000e+00 - acc: 1.000 - ETA: 2s - loss: 0.0000e+00 - binary_crossentropy: 0.0000e+00 - acc: 1.000 - ETA: 2s - loss: 0.0000e+00 - binary_crossentropy: 0.0000e+00 - acc: 1.000 - ETA: 2s - loss: 0.0000e+00 - binary_crossentropy: 0.0000e+00 - acc: 1.000 - ETA: 2s - loss: 0.0000e+00 - binary_crossentropy: 0.0000e+00 - acc: 1.000 - ETA: 2s - loss: 0.0000e+00 - binary_crossentropy: 0.0000e+00 - acc: 1.000 - ETA: 1s - loss: 0.0000e+00 - binary_crossentropy: 0.0000e+00 - acc: 1.000 - ETA: 1s - loss: 0.0000e+00 - binary_crossentropy: 0.0000e+00 - acc: 1.000 - ETA: 1s - loss: 0.0000e+00 - binary_crossentropy: 0.0000e+00 - acc: 1.000 - ETA: 1s - loss: 0.0000e+00 - binary_crossentropy: 0.0000e+00 - acc: 1.000 - ETA: 1s - loss: 0.0000e+00 - binary_crossentropy: 0.0000e+00 - acc: 1.000 - ETA: 1s - loss: 0.0000e+00 - binary_crossentropy: 0.0000e+00 - acc: 1.000 - ETA: 1s - loss: 0.0000e+00 - binary_crossentropy: 0.0000e+00 - acc: 1.000 - ETA: 1s - loss: 0.0000e+00 - binary_crossentropy: 0.0000e+00 - acc: 1.000 - ETA: 1s - loss: 0.0000e+00 - binary_crossentropy: 0.0000e+00 - acc: 1.000 - ETA: 1s - loss: 0.0000e+00 - binary_crossentropy: 0.0000e+00 - acc: 1.000 - ETA: 1s - loss: 0.0000e+00 - binary_crossentropy: 0.0000e+00 - acc: 1.000 - ETA: 1s - loss: 0.0000e+00 - binary_crossentropy: 0.0000e+00 - acc: 1.000 - ETA: 1s - loss: 0.0000e+00 - binary_crossentropy: 0.0000e+00 - acc: 1.000 - ETA: 1s - loss: 0.0000e+00 - binary_crossentropy: 0.0000e+00 - acc: 1.000 - ETA: 1s - loss: 0.0000e+00 - binary_crossentropy: 0.0000e+00 - acc: 1.000 - ETA: 1s - loss: 0.0000e+00 - binary_crossentropy: 0.0000e+00 - acc: 1.000 - ETA: 1s - loss: 0.0000e+00 - binary_crossentropy: 0.0000e+00 - acc: 1.000 - ETA: 1s - loss: 0.0000e+00 - binary_crossentropy: 0.0000e+00 - acc: 1.000 - ETA: 1s - loss: 0.0000e+00 - binary_crossentropy: 0.0000e+00 - acc: 1.000 - ETA: 0s - loss: 0.0000e+00 - binary_crossentropy: 0.0000e+00 - acc: 1.000 - ETA: 0s - loss: 0.0000e+00 - binary_crossentropy: 0.0000e+00 - acc: 1.000 - ETA: 0s - loss: 0.0000e+00 - binary_crossentropy: 0.0000e+00 - acc: 1.000 - ETA: 0s - loss: 0.0000e+00 - binary_crossentropy: 0.0000e+00 - acc: 1.000 - ETA: 0s - loss: 0.0000e+00 - binary_crossentropy: 0.0000e+00 - acc: 1.000 - ETA: 0s - loss: 0.0000e+00 - binary_crossentropy: 0.0000e+00 - acc: 1.000 - ETA: 0s - loss: 0.0000e+00 - binary_crossentropy: 0.0000e+00 - acc: 1.000 - ETA: 0s - loss: 0.0000e+00 - binary_crossentropy: 0.0000e+00 - acc: 1.000 - ETA: 0s - loss: 0.0000e+00 - binary_crossentropy: 0.0000e+00 - acc: 1.000 - ETA: 0s - loss: 0.0000e+00 - binary_crossentropy: 0.0000e+00 - acc: 1.000 - ETA: 0s - loss: 0.0000e+00 - binary_crossentropy: 0.0000e+00 - acc: 1.000 - ETA: 0s - loss: 0.0000e+00 - binary_crossentropy: 0.0000e+00 - acc: 1.000 - ETA: 0s - loss: 0.0000e+00 - binary_crossentropy: 0.0000e+00 - acc: 1.000 - ETA: 0s - loss: 0.0000e+00 - binary_crossentropy: 0.0000e+00 - acc: 1.000 - ETA: 0s - loss: 0.0000e+00 - binary_crossentropy: 0.0000e+00 - acc: 1.000 - ETA: 0s - loss: 0.0000e+00 - binary_crossentropy: 0.0000e+00 - acc: 1.000 - ETA: 0s - loss: 0.0000e+00 - binary_crossentropy: 0.0000e+00 - acc: 1.000 - ETA: 0s - loss: 0.0000e+00 - binary_crossentropy: 0.0000e+00 - acc: 1.000 - ETA: 0s - loss: 0.0000e+00 - binary_crossentropy: 0.0000e+00 - acc: 1.000 - 2s 155us/sample - loss: 0.0000e+00 - binary_crossentropy: 0.0000e+00 - acc: 1.0000 - val_loss: 0.0000e+00 - val_binary_crossentropy: 0.0000e+00 - val_acc: 1.0000\n",
      "Train on 16113 samples, validate on 4029 samples\n",
      "WARNING:tensorflow:OMP_NUM_THREADS is no longer used by the default Keras config. To configure the number of threads, use tf.config.threading APIs.\n",
      "Epoch 1/5\n",
      "16113/16113 [==============================] - ETA: 3:55 - loss: 0.0000e+00 - binary_crossentropy: 0.0000e+00 - acc: 1.000 - ETA: 23s - loss: 0.0000e+00 - binary_crossentropy: 0.0000e+00 - acc: 1.000 - ETA: 12s - loss: 0.0000e+00 - binary_crossentropy: 0.0000e+00 - acc: 1.00 - ETA: 8s - loss: 0.0000e+00 - binary_crossentropy: 0.0000e+00 - acc: 1.0000 - ETA: 7s - loss: 0.0000e+00 - binary_crossentropy: 0.0000e+00 - acc: 1.000 - ETA: 5s - loss: 0.0000e+00 - binary_crossentropy: 0.0000e+00 - acc: 1.000 - ETA: 5s - loss: 0.0000e+00 - binary_crossentropy: 0.0000e+00 - acc: 1.000 - ETA: 4s - loss: 0.0000e+00 - binary_crossentropy: 0.0000e+00 - acc: 1.000 - ETA: 4s - loss: 0.0000e+00 - binary_crossentropy: 0.0000e+00 - acc: 1.000 - ETA: 3s - loss: 0.0000e+00 - binary_crossentropy: 0.0000e+00 - acc: 1.000 - ETA: 3s - loss: 0.0000e+00 - binary_crossentropy: 0.0000e+00 - acc: 1.000 - ETA: 3s - loss: 0.0000e+00 - binary_crossentropy: 0.0000e+00 - acc: 1.000 - ETA: 3s - loss: 0.0000e+00 - binary_crossentropy: 0.0000e+00 - acc: 1.000 - ETA: 2s - loss: 0.0000e+00 - binary_crossentropy: 0.0000e+00 - acc: 1.000 - ETA: 2s - loss: 0.0000e+00 - binary_crossentropy: 0.0000e+00 - acc: 1.000 - ETA: 2s - loss: 0.0000e+00 - binary_crossentropy: 0.0000e+00 - acc: 1.000 - ETA: 2s - loss: 0.0000e+00 - binary_crossentropy: 0.0000e+00 - acc: 1.000 - ETA: 2s - loss: 0.0000e+00 - binary_crossentropy: 0.0000e+00 - acc: 1.000 - ETA: 2s - loss: 0.0000e+00 - binary_crossentropy: 0.0000e+00 - acc: 1.000 - ETA: 2s - loss: 0.0000e+00 - binary_crossentropy: 0.0000e+00 - acc: 1.000 - ETA: 1s - loss: 0.0000e+00 - binary_crossentropy: 0.0000e+00 - acc: 1.000 - ETA: 1s - loss: 0.0000e+00 - binary_crossentropy: 0.0000e+00 - acc: 1.000 - ETA: 1s - loss: 0.0000e+00 - binary_crossentropy: 0.0000e+00 - acc: 1.000 - ETA: 1s - loss: 0.0000e+00 - binary_crossentropy: 0.0000e+00 - acc: 1.000 - ETA: 1s - loss: 0.0000e+00 - binary_crossentropy: 0.0000e+00 - acc: 1.000 - ETA: 1s - loss: 0.0000e+00 - binary_crossentropy: 0.0000e+00 - acc: 1.000 - ETA: 1s - loss: 0.0000e+00 - binary_crossentropy: 0.0000e+00 - acc: 1.000 - ETA: 1s - loss: 0.0000e+00 - binary_crossentropy: 0.0000e+00 - acc: 1.000 - ETA: 1s - loss: 0.0000e+00 - binary_crossentropy: 0.0000e+00 - acc: 1.000 - ETA: 1s - loss: 0.0000e+00 - binary_crossentropy: 0.0000e+00 - acc: 1.000 - ETA: 1s - loss: 0.0000e+00 - binary_crossentropy: 0.0000e+00 - acc: 1.000 - ETA: 0s - loss: 0.0000e+00 - binary_crossentropy: 0.0000e+00 - acc: 1.000 - ETA: 0s - loss: 0.0000e+00 - binary_crossentropy: 0.0000e+00 - acc: 1.000 - ETA: 0s - loss: 0.0000e+00 - binary_crossentropy: 0.0000e+00 - acc: 1.000 - ETA: 0s - loss: 0.0000e+00 - binary_crossentropy: 0.0000e+00 - acc: 1.000 - ETA: 0s - loss: 0.0000e+00 - binary_crossentropy: 0.0000e+00 - acc: 1.000 - ETA: 0s - loss: 0.0000e+00 - binary_crossentropy: 0.0000e+00 - acc: 1.000 - ETA: 0s - loss: 0.0000e+00 - binary_crossentropy: 0.0000e+00 - acc: 1.000 - ETA: 0s - loss: 0.0000e+00 - binary_crossentropy: 0.0000e+00 - acc: 1.000 - ETA: 0s - loss: 0.0000e+00 - binary_crossentropy: 0.0000e+00 - acc: 1.000 - ETA: 0s - loss: 0.0000e+00 - binary_crossentropy: 0.0000e+00 - acc: 1.000 - ETA: 0s - loss: 0.0000e+00 - binary_crossentropy: 0.0000e+00 - acc: 1.000 - ETA: 0s - loss: 0.0000e+00 - binary_crossentropy: 0.0000e+00 - acc: 1.000 - ETA: 0s - loss: 0.0000e+00 - binary_crossentropy: 0.0000e+00 - acc: 1.000 - ETA: 0s - loss: 0.0000e+00 - binary_crossentropy: 0.0000e+00 - acc: 1.000 - ETA: 0s - loss: 0.0000e+00 - binary_crossentropy: 0.0000e+00 - acc: 1.000 - 3s 200us/sample - loss: 0.0000e+00 - binary_crossentropy: 0.0000e+00 - acc: 1.0000 - val_loss: 0.0000e+00 - val_binary_crossentropy: 0.0000e+00 - val_acc: 1.0000\n",
      "Epoch 2/5\n",
      "16113/16113 [==============================] - ETA: 2s - loss: 0.0000e+00 - binary_crossentropy: 0.0000e+00 - acc: 1.000 - ETA: 2s - loss: 0.0000e+00 - binary_crossentropy: 0.0000e+00 - acc: 1.000 - ETA: 2s - loss: 0.0000e+00 - binary_crossentropy: 0.0000e+00 - acc: 1.000 - ETA: 2s - loss: 0.0000e+00 - binary_crossentropy: 0.0000e+00 - acc: 1.000 - ETA: 2s - loss: 0.0000e+00 - binary_crossentropy: 0.0000e+00 - acc: 1.000 - ETA: 2s - loss: 0.0000e+00 - binary_crossentropy: 0.0000e+00 - acc: 1.000 - ETA: 2s - loss: 0.0000e+00 - binary_crossentropy: 0.0000e+00 - acc: 1.000 - ETA: 1s - loss: 0.0000e+00 - binary_crossentropy: 0.0000e+00 - acc: 1.000 - ETA: 1s - loss: 0.0000e+00 - binary_crossentropy: 0.0000e+00 - acc: 1.000 - ETA: 1s - loss: 0.0000e+00 - binary_crossentropy: 0.0000e+00 - acc: 1.000 - ETA: 1s - loss: 0.0000e+00 - binary_crossentropy: 0.0000e+00 - acc: 1.000 - ETA: 1s - loss: 0.0000e+00 - binary_crossentropy: 0.0000e+00 - acc: 1.000 - ETA: 1s - loss: 0.0000e+00 - binary_crossentropy: 0.0000e+00 - acc: 1.000 - ETA: 1s - loss: 0.0000e+00 - binary_crossentropy: 0.0000e+00 - acc: 1.000 - ETA: 1s - loss: 0.0000e+00 - binary_crossentropy: 0.0000e+00 - acc: 1.000 - ETA: 1s - loss: 0.0000e+00 - binary_crossentropy: 0.0000e+00 - acc: 1.000 - ETA: 1s - loss: 0.0000e+00 - binary_crossentropy: 0.0000e+00 - acc: 1.000 - ETA: 1s - loss: 0.0000e+00 - binary_crossentropy: 0.0000e+00 - acc: 1.000 - ETA: 1s - loss: 0.0000e+00 - binary_crossentropy: 0.0000e+00 - acc: 1.000 - ETA: 1s - loss: 0.0000e+00 - binary_crossentropy: 0.0000e+00 - acc: 1.000 - ETA: 1s - loss: 0.0000e+00 - binary_crossentropy: 0.0000e+00 - acc: 1.000 - ETA: 1s - loss: 0.0000e+00 - binary_crossentropy: 0.0000e+00 - acc: 1.000 - ETA: 1s - loss: 0.0000e+00 - binary_crossentropy: 0.0000e+00 - acc: 1.000 - ETA: 1s - loss: 0.0000e+00 - binary_crossentropy: 0.0000e+00 - acc: 1.000 - ETA: 1s - loss: 0.0000e+00 - binary_crossentropy: 0.0000e+00 - acc: 1.000 - ETA: 1s - loss: 0.0000e+00 - binary_crossentropy: 0.0000e+00 - acc: 1.000 - ETA: 0s - loss: 0.0000e+00 - binary_crossentropy: 0.0000e+00 - acc: 1.000 - ETA: 0s - loss: 0.0000e+00 - binary_crossentropy: 0.0000e+00 - acc: 1.000 - ETA: 0s - loss: 0.0000e+00 - binary_crossentropy: 0.0000e+00 - acc: 1.000 - ETA: 0s - loss: 0.0000e+00 - binary_crossentropy: 0.0000e+00 - acc: 1.000 - ETA: 0s - loss: 0.0000e+00 - binary_crossentropy: 0.0000e+00 - acc: 1.000 - ETA: 0s - loss: 0.0000e+00 - binary_crossentropy: 0.0000e+00 - acc: 1.000 - ETA: 0s - loss: 0.0000e+00 - binary_crossentropy: 0.0000e+00 - acc: 1.000 - ETA: 0s - loss: 0.0000e+00 - binary_crossentropy: 0.0000e+00 - acc: 1.000 - ETA: 0s - loss: 0.0000e+00 - binary_crossentropy: 0.0000e+00 - acc: 1.000 - ETA: 0s - loss: 0.0000e+00 - binary_crossentropy: 0.0000e+00 - acc: 1.000 - ETA: 0s - loss: 0.0000e+00 - binary_crossentropy: 0.0000e+00 - acc: 1.000 - ETA: 0s - loss: 0.0000e+00 - binary_crossentropy: 0.0000e+00 - acc: 1.000 - ETA: 0s - loss: 0.0000e+00 - binary_crossentropy: 0.0000e+00 - acc: 1.000 - ETA: 0s - loss: 0.0000e+00 - binary_crossentropy: 0.0000e+00 - acc: 1.000 - ETA: 0s - loss: 0.0000e+00 - binary_crossentropy: 0.0000e+00 - acc: 1.000 - ETA: 0s - loss: 0.0000e+00 - binary_crossentropy: 0.0000e+00 - acc: 1.000 - ETA: 0s - loss: 0.0000e+00 - binary_crossentropy: 0.0000e+00 - acc: 1.000 - ETA: 0s - loss: 0.0000e+00 - binary_crossentropy: 0.0000e+00 - acc: 1.000 - ETA: 0s - loss: 0.0000e+00 - binary_crossentropy: 0.0000e+00 - acc: 1.000 - 3s 163us/sample - loss: 0.0000e+00 - binary_crossentropy: 0.0000e+00 - acc: 1.0000 - val_loss: 0.0000e+00 - val_binary_crossentropy: 0.0000e+00 - val_acc: 1.0000\n",
      "Epoch 3/5\n",
      "16113/16113 [==============================] - ETA: 3s - loss: 0.0000e+00 - binary_crossentropy: 0.0000e+00 - acc: 1.000 - ETA: 2s - loss: 0.0000e+00 - binary_crossentropy: 0.0000e+00 - acc: 1.000 - ETA: 2s - loss: 0.0000e+00 - binary_crossentropy: 0.0000e+00 - acc: 1.000 - ETA: 2s - loss: 0.0000e+00 - binary_crossentropy: 0.0000e+00 - acc: 1.000 - ETA: 2s - loss: 0.0000e+00 - binary_crossentropy: 0.0000e+00 - acc: 1.000 - ETA: 2s - loss: 0.0000e+00 - binary_crossentropy: 0.0000e+00 - acc: 1.000 - ETA: 2s - loss: 0.0000e+00 - binary_crossentropy: 0.0000e+00 - acc: 1.000 - ETA: 1s - loss: 0.0000e+00 - binary_crossentropy: 0.0000e+00 - acc: 1.000 - ETA: 1s - loss: 0.0000e+00 - binary_crossentropy: 0.0000e+00 - acc: 1.000 - ETA: 1s - loss: 0.0000e+00 - binary_crossentropy: 0.0000e+00 - acc: 1.000 - ETA: 1s - loss: 0.0000e+00 - binary_crossentropy: 0.0000e+00 - acc: 1.000 - ETA: 1s - loss: 0.0000e+00 - binary_crossentropy: 0.0000e+00 - acc: 1.000 - ETA: 1s - loss: 0.0000e+00 - binary_crossentropy: 0.0000e+00 - acc: 1.000 - ETA: 1s - loss: 0.0000e+00 - binary_crossentropy: 0.0000e+00 - acc: 1.000 - ETA: 1s - loss: 0.0000e+00 - binary_crossentropy: 0.0000e+00 - acc: 1.000 - ETA: 1s - loss: 0.0000e+00 - binary_crossentropy: 0.0000e+00 - acc: 1.000 - ETA: 1s - loss: 0.0000e+00 - binary_crossentropy: 0.0000e+00 - acc: 1.000 - ETA: 1s - loss: 0.0000e+00 - binary_crossentropy: 0.0000e+00 - acc: 1.000 - ETA: 1s - loss: 0.0000e+00 - binary_crossentropy: 0.0000e+00 - acc: 1.000 - ETA: 1s - loss: 0.0000e+00 - binary_crossentropy: 0.0000e+00 - acc: 1.000 - ETA: 1s - loss: 0.0000e+00 - binary_crossentropy: 0.0000e+00 - acc: 1.000 - ETA: 1s - loss: 0.0000e+00 - binary_crossentropy: 0.0000e+00 - acc: 1.000 - ETA: 1s - loss: 0.0000e+00 - binary_crossentropy: 0.0000e+00 - acc: 1.000 - ETA: 1s - loss: 0.0000e+00 - binary_crossentropy: 0.0000e+00 - acc: 1.000 - ETA: 1s - loss: 0.0000e+00 - binary_crossentropy: 0.0000e+00 - acc: 1.000 - ETA: 1s - loss: 0.0000e+00 - binary_crossentropy: 0.0000e+00 - acc: 1.000 - ETA: 0s - loss: 0.0000e+00 - binary_crossentropy: 0.0000e+00 - acc: 1.000 - ETA: 0s - loss: 0.0000e+00 - binary_crossentropy: 0.0000e+00 - acc: 1.000 - ETA: 0s - loss: 0.0000e+00 - binary_crossentropy: 0.0000e+00 - acc: 1.000 - ETA: 0s - loss: 0.0000e+00 - binary_crossentropy: 0.0000e+00 - acc: 1.000 - ETA: 0s - loss: 0.0000e+00 - binary_crossentropy: 0.0000e+00 - acc: 1.000 - ETA: 0s - loss: 0.0000e+00 - binary_crossentropy: 0.0000e+00 - acc: 1.000 - ETA: 0s - loss: 0.0000e+00 - binary_crossentropy: 0.0000e+00 - acc: 1.000 - ETA: 0s - loss: 0.0000e+00 - binary_crossentropy: 0.0000e+00 - acc: 1.000 - ETA: 0s - loss: 0.0000e+00 - binary_crossentropy: 0.0000e+00 - acc: 1.000 - ETA: 0s - loss: 0.0000e+00 - binary_crossentropy: 0.0000e+00 - acc: 1.000 - ETA: 0s - loss: 0.0000e+00 - binary_crossentropy: 0.0000e+00 - acc: 1.000 - ETA: 0s - loss: 0.0000e+00 - binary_crossentropy: 0.0000e+00 - acc: 1.000 - ETA: 0s - loss: 0.0000e+00 - binary_crossentropy: 0.0000e+00 - acc: 1.000 - ETA: 0s - loss: 0.0000e+00 - binary_crossentropy: 0.0000e+00 - acc: 1.000 - ETA: 0s - loss: 0.0000e+00 - binary_crossentropy: 0.0000e+00 - acc: 1.000 - ETA: 0s - loss: 0.0000e+00 - binary_crossentropy: 0.0000e+00 - acc: 1.000 - ETA: 0s - loss: 0.0000e+00 - binary_crossentropy: 0.0000e+00 - acc: 1.000 - ETA: 0s - loss: 0.0000e+00 - binary_crossentropy: 0.0000e+00 - acc: 1.000 - 3s 159us/sample - loss: 0.0000e+00 - binary_crossentropy: 0.0000e+00 - acc: 1.0000 - val_loss: 0.0000e+00 - val_binary_crossentropy: 0.0000e+00 - val_acc: 1.0000\n",
      "Epoch 4/5\n",
      "16113/16113 [==============================] - ETA: 3s - loss: 0.0000e+00 - binary_crossentropy: 0.0000e+00 - acc: 1.000 - ETA: 2s - loss: 0.0000e+00 - binary_crossentropy: 0.0000e+00 - acc: 1.000 - ETA: 2s - loss: 0.0000e+00 - binary_crossentropy: 0.0000e+00 - acc: 1.000 - ETA: 2s - loss: 0.0000e+00 - binary_crossentropy: 0.0000e+00 - acc: 1.000 - ETA: 2s - loss: 0.0000e+00 - binary_crossentropy: 0.0000e+00 - acc: 1.000 - ETA: 2s - loss: 0.0000e+00 - binary_crossentropy: 0.0000e+00 - acc: 1.000 - ETA: 1s - loss: 0.0000e+00 - binary_crossentropy: 0.0000e+00 - acc: 1.000 - ETA: 1s - loss: 0.0000e+00 - binary_crossentropy: 0.0000e+00 - acc: 1.000 - ETA: 1s - loss: 0.0000e+00 - binary_crossentropy: 0.0000e+00 - acc: 1.000 - ETA: 1s - loss: 0.0000e+00 - binary_crossentropy: 0.0000e+00 - acc: 1.000 - ETA: 1s - loss: 0.0000e+00 - binary_crossentropy: 0.0000e+00 - acc: 1.000 - ETA: 1s - loss: 0.0000e+00 - binary_crossentropy: 0.0000e+00 - acc: 1.000 - ETA: 1s - loss: 0.0000e+00 - binary_crossentropy: 0.0000e+00 - acc: 1.000 - ETA: 1s - loss: 0.0000e+00 - binary_crossentropy: 0.0000e+00 - acc: 1.000 - ETA: 1s - loss: 0.0000e+00 - binary_crossentropy: 0.0000e+00 - acc: 1.000 - ETA: 1s - loss: 0.0000e+00 - binary_crossentropy: 0.0000e+00 - acc: 1.000 - ETA: 1s - loss: 0.0000e+00 - binary_crossentropy: 0.0000e+00 - acc: 1.000 - ETA: 1s - loss: 0.0000e+00 - binary_crossentropy: 0.0000e+00 - acc: 1.000 - ETA: 1s - loss: 0.0000e+00 - binary_crossentropy: 0.0000e+00 - acc: 1.000 - ETA: 1s - loss: 0.0000e+00 - binary_crossentropy: 0.0000e+00 - acc: 1.000 - ETA: 1s - loss: 0.0000e+00 - binary_crossentropy: 0.0000e+00 - acc: 1.000 - ETA: 1s - loss: 0.0000e+00 - binary_crossentropy: 0.0000e+00 - acc: 1.000 - ETA: 1s - loss: 0.0000e+00 - binary_crossentropy: 0.0000e+00 - acc: 1.000 - ETA: 1s - loss: 0.0000e+00 - binary_crossentropy: 0.0000e+00 - acc: 1.000 - ETA: 1s - loss: 0.0000e+00 - binary_crossentropy: 0.0000e+00 - acc: 1.000 - ETA: 1s - loss: 0.0000e+00 - binary_crossentropy: 0.0000e+00 - acc: 1.000 - ETA: 0s - loss: 0.0000e+00 - binary_crossentropy: 0.0000e+00 - acc: 1.000 - ETA: 0s - loss: 0.0000e+00 - binary_crossentropy: 0.0000e+00 - acc: 1.000 - ETA: 0s - loss: 0.0000e+00 - binary_crossentropy: 0.0000e+00 - acc: 1.000 - ETA: 0s - loss: 0.0000e+00 - binary_crossentropy: 0.0000e+00 - acc: 1.000 - ETA: 0s - loss: 0.0000e+00 - binary_crossentropy: 0.0000e+00 - acc: 1.000 - ETA: 0s - loss: 0.0000e+00 - binary_crossentropy: 0.0000e+00 - acc: 1.000 - ETA: 0s - loss: 0.0000e+00 - binary_crossentropy: 0.0000e+00 - acc: 1.000 - ETA: 0s - loss: 0.0000e+00 - binary_crossentropy: 0.0000e+00 - acc: 1.000 - ETA: 0s - loss: 0.0000e+00 - binary_crossentropy: 0.0000e+00 - acc: 1.000 - ETA: 0s - loss: 0.0000e+00 - binary_crossentropy: 0.0000e+00 - acc: 1.000 - ETA: 0s - loss: 0.0000e+00 - binary_crossentropy: 0.0000e+00 - acc: 1.000 - ETA: 0s - loss: 0.0000e+00 - binary_crossentropy: 0.0000e+00 - acc: 1.000 - ETA: 0s - loss: 0.0000e+00 - binary_crossentropy: 0.0000e+00 - acc: 1.000 - ETA: 0s - loss: 0.0000e+00 - binary_crossentropy: 0.0000e+00 - acc: 1.000 - ETA: 0s - loss: 0.0000e+00 - binary_crossentropy: 0.0000e+00 - acc: 1.000 - ETA: 0s - loss: 0.0000e+00 - binary_crossentropy: 0.0000e+00 - acc: 1.000 - ETA: 0s - loss: 0.0000e+00 - binary_crossentropy: 0.0000e+00 - acc: 1.000 - ETA: 0s - loss: 0.0000e+00 - binary_crossentropy: 0.0000e+00 - acc: 1.000 - 3s 159us/sample - loss: 0.0000e+00 - binary_crossentropy: 0.0000e+00 - acc: 1.0000 - val_loss: 0.0000e+00 - val_binary_crossentropy: 0.0000e+00 - val_acc: 1.0000\n",
      "Epoch 5/5\n",
      "16113/16113 [==============================] - ETA: 2s - loss: 0.0000e+00 - binary_crossentropy: 0.0000e+00 - acc: 1.000 - ETA: 2s - loss: 0.0000e+00 - binary_crossentropy: 0.0000e+00 - acc: 1.000 - ETA: 2s - loss: 0.0000e+00 - binary_crossentropy: 0.0000e+00 - acc: 1.000 - ETA: 2s - loss: 0.0000e+00 - binary_crossentropy: 0.0000e+00 - acc: 1.000 - ETA: 2s - loss: 0.0000e+00 - binary_crossentropy: 0.0000e+00 - acc: 1.000 - ETA: 2s - loss: 0.0000e+00 - binary_crossentropy: 0.0000e+00 - acc: 1.000 - ETA: 2s - loss: 0.0000e+00 - binary_crossentropy: 0.0000e+00 - acc: 1.000 - ETA: 1s - loss: 0.0000e+00 - binary_crossentropy: 0.0000e+00 - acc: 1.000 - ETA: 1s - loss: 0.0000e+00 - binary_crossentropy: 0.0000e+00 - acc: 1.000 - ETA: 1s - loss: 0.0000e+00 - binary_crossentropy: 0.0000e+00 - acc: 1.000 - ETA: 1s - loss: 0.0000e+00 - binary_crossentropy: 0.0000e+00 - acc: 1.000 - ETA: 1s - loss: 0.0000e+00 - binary_crossentropy: 0.0000e+00 - acc: 1.000 - ETA: 1s - loss: 0.0000e+00 - binary_crossentropy: 0.0000e+00 - acc: 1.000 - ETA: 1s - loss: 0.0000e+00 - binary_crossentropy: 0.0000e+00 - acc: 1.000 - ETA: 1s - loss: 0.0000e+00 - binary_crossentropy: 0.0000e+00 - acc: 1.000 - ETA: 1s - loss: 0.0000e+00 - binary_crossentropy: 0.0000e+00 - acc: 1.000 - ETA: 1s - loss: 0.0000e+00 - binary_crossentropy: 0.0000e+00 - acc: 1.000 - ETA: 1s - loss: 0.0000e+00 - binary_crossentropy: 0.0000e+00 - acc: 1.000 - ETA: 1s - loss: 0.0000e+00 - binary_crossentropy: 0.0000e+00 - acc: 1.000 - ETA: 1s - loss: 0.0000e+00 - binary_crossentropy: 0.0000e+00 - acc: 1.000 - ETA: 1s - loss: 0.0000e+00 - binary_crossentropy: 0.0000e+00 - acc: 1.000 - ETA: 1s - loss: 0.0000e+00 - binary_crossentropy: 0.0000e+00 - acc: 1.000 - ETA: 1s - loss: 0.0000e+00 - binary_crossentropy: 0.0000e+00 - acc: 1.000 - ETA: 1s - loss: 0.0000e+00 - binary_crossentropy: 0.0000e+00 - acc: 1.000 - ETA: 1s - loss: 0.0000e+00 - binary_crossentropy: 0.0000e+00 - acc: 1.000 - ETA: 0s - loss: 0.0000e+00 - binary_crossentropy: 0.0000e+00 - acc: 1.000 - ETA: 0s - loss: 0.0000e+00 - binary_crossentropy: 0.0000e+00 - acc: 1.000 - ETA: 0s - loss: 0.0000e+00 - binary_crossentropy: 0.0000e+00 - acc: 1.000 - ETA: 0s - loss: 0.0000e+00 - binary_crossentropy: 0.0000e+00 - acc: 1.000 - ETA: 0s - loss: 0.0000e+00 - binary_crossentropy: 0.0000e+00 - acc: 1.000 - ETA: 0s - loss: 0.0000e+00 - binary_crossentropy: 0.0000e+00 - acc: 1.000 - ETA: 0s - loss: 0.0000e+00 - binary_crossentropy: 0.0000e+00 - acc: 1.000 - ETA: 0s - loss: 0.0000e+00 - binary_crossentropy: 0.0000e+00 - acc: 1.000 - ETA: 0s - loss: 0.0000e+00 - binary_crossentropy: 0.0000e+00 - acc: 1.000 - ETA: 0s - loss: 0.0000e+00 - binary_crossentropy: 0.0000e+00 - acc: 1.000 - ETA: 0s - loss: 0.0000e+00 - binary_crossentropy: 0.0000e+00 - acc: 1.000 - ETA: 0s - loss: 0.0000e+00 - binary_crossentropy: 0.0000e+00 - acc: 1.000 - ETA: 0s - loss: 0.0000e+00 - binary_crossentropy: 0.0000e+00 - acc: 1.000 - ETA: 0s - loss: 0.0000e+00 - binary_crossentropy: 0.0000e+00 - acc: 1.000 - ETA: 0s - loss: 0.0000e+00 - binary_crossentropy: 0.0000e+00 - acc: 1.000 - ETA: 0s - loss: 0.0000e+00 - binary_crossentropy: 0.0000e+00 - acc: 1.000 - ETA: 0s - loss: 0.0000e+00 - binary_crossentropy: 0.0000e+00 - acc: 1.000 - ETA: 0s - loss: 0.0000e+00 - binary_crossentropy: 0.0000e+00 - acc: 1.000 - ETA: 0s - loss: 0.0000e+00 - binary_crossentropy: 0.0000e+00 - acc: 1.000 - 3s 156us/sample - loss: 0.0000e+00 - binary_crossentropy: 0.0000e+00 - acc: 1.0000 - val_loss: 0.0000e+00 - val_binary_crossentropy: 0.0000e+00 - val_acc: 1.0000\n"
     ]
    },
    {
     "data": {
      "text/html": [
       "<span style=\"color:#4527A0\"><h1 style=\"font-size:18px\">Trial complete</h1></span>"
      ],
      "text/plain": [
       "<IPython.core.display.HTML object>"
      ]
     },
     "metadata": {},
     "output_type": "display_data"
    },
    {
     "data": {
      "text/html": [
       "<span style=\"color:#4527A0\"><h1 style=\"font-size:18px\">Trial summary</h1></span>"
      ],
      "text/plain": [
       "<IPython.core.display.HTML object>"
      ]
     },
     "metadata": {},
     "output_type": "display_data"
    },
    {
     "data": {
      "text/html": [
       "<span style=\"color:cyan\"> |-Trial ID: d4fb30b390a41a138f276efab31643bf</span>"
      ],
      "text/plain": [
       "<IPython.core.display.HTML object>"
      ]
     },
     "metadata": {},
     "output_type": "display_data"
    },
    {
     "data": {
      "text/html": [
       "<span style=\"color:cyan\"> |-Score: 1.0</span>"
      ],
      "text/plain": [
       "<IPython.core.display.HTML object>"
      ]
     },
     "metadata": {},
     "output_type": "display_data"
    },
    {
     "data": {
      "text/html": [
       "<span style=\"color:cyan\"> |-Best step: 0</span>"
      ],
      "text/plain": [
       "<IPython.core.display.HTML object>"
      ]
     },
     "metadata": {},
     "output_type": "display_data"
    },
    {
     "data": {
      "text/html": [
       "<span style=\"color:#7E57C2\"><h2 style=\"font-size:16px\">Hyperparameters:</h2></span>"
      ],
      "text/plain": [
       "<IPython.core.display.HTML object>"
      ]
     },
     "metadata": {},
     "output_type": "display_data"
    },
    {
     "data": {
      "text/html": [
       "<span style=\"color:cyan\"> |-dense_activation: relu</span>"
      ],
      "text/plain": [
       "<IPython.core.display.HTML object>"
      ]
     },
     "metadata": {},
     "output_type": "display_data"
    },
    {
     "data": {
      "text/html": [
       "<span style=\"color:blue\"> |-learning_rate: 0.001</span>"
      ],
      "text/plain": [
       "<IPython.core.display.HTML object>"
      ]
     },
     "metadata": {},
     "output_type": "display_data"
    },
    {
     "data": {
      "text/html": [
       "<span style=\"color:cyan\"> |-units: 450</span>"
      ],
      "text/plain": [
       "<IPython.core.display.HTML object>"
      ]
     },
     "metadata": {},
     "output_type": "display_data"
    },
    {
     "name": "stdout",
     "output_type": "stream",
     "text": [
      "Train on 16113 samples, validate on 4029 samples\n",
      "WARNING:tensorflow:OMP_NUM_THREADS is no longer used by the default Keras config. To configure the number of threads, use tf.config.threading APIs.\n",
      "Epoch 1/5\n",
      "16113/16113 [==============================] - ETA: 3:34 - loss: 0.0000e+00 - binary_crossentropy: 0.0000e+00 - acc: 1.000 - ETA: 16s - loss: 0.0000e+00 - binary_crossentropy: 0.0000e+00 - acc: 1.000 - ETA: 9s - loss: 0.0000e+00 - binary_crossentropy: 0.0000e+00 - acc: 1.0000 - ETA: 6s - loss: 0.0000e+00 - binary_crossentropy: 0.0000e+00 - acc: 1.000 - ETA: 5s - loss: 0.0000e+00 - binary_crossentropy: 0.0000e+00 - acc: 1.000 - ETA: 4s - loss: 0.0000e+00 - binary_crossentropy: 0.0000e+00 - acc: 1.000 - ETA: 3s - loss: 0.0000e+00 - binary_crossentropy: 0.0000e+00 - acc: 1.000 - ETA: 3s - loss: 0.0000e+00 - binary_crossentropy: 0.0000e+00 - acc: 1.000 - ETA: 2s - loss: 0.0000e+00 - binary_crossentropy: 0.0000e+00 - acc: 1.000 - ETA: 2s - loss: 0.0000e+00 - binary_crossentropy: 0.0000e+00 - acc: 1.000 - ETA: 2s - loss: 0.0000e+00 - binary_crossentropy: 0.0000e+00 - acc: 1.000 - ETA: 2s - loss: 0.0000e+00 - binary_crossentropy: 0.0000e+00 - acc: 1.000 - ETA: 2s - loss: 0.0000e+00 - binary_crossentropy: 0.0000e+00 - acc: 1.000 - ETA: 1s - loss: 0.0000e+00 - binary_crossentropy: 0.0000e+00 - acc: 1.000 - ETA: 1s - loss: 0.0000e+00 - binary_crossentropy: 0.0000e+00 - acc: 1.000 - ETA: 1s - loss: 0.0000e+00 - binary_crossentropy: 0.0000e+00 - acc: 1.000 - ETA: 1s - loss: 0.0000e+00 - binary_crossentropy: 0.0000e+00 - acc: 1.000 - ETA: 1s - loss: 0.0000e+00 - binary_crossentropy: 0.0000e+00 - acc: 1.000 - ETA: 1s - loss: 0.0000e+00 - binary_crossentropy: 0.0000e+00 - acc: 1.000 - ETA: 1s - loss: 0.0000e+00 - binary_crossentropy: 0.0000e+00 - acc: 1.000 - ETA: 1s - loss: 0.0000e+00 - binary_crossentropy: 0.0000e+00 - acc: 1.000 - ETA: 1s - loss: 0.0000e+00 - binary_crossentropy: 0.0000e+00 - acc: 1.000 - ETA: 0s - loss: 0.0000e+00 - binary_crossentropy: 0.0000e+00 - acc: 1.000 - ETA: 0s - loss: 0.0000e+00 - binary_crossentropy: 0.0000e+00 - acc: 1.000 - ETA: 0s - loss: 0.0000e+00 - binary_crossentropy: 0.0000e+00 - acc: 1.000 - ETA: 0s - loss: 0.0000e+00 - binary_crossentropy: 0.0000e+00 - acc: 1.000 - ETA: 0s - loss: 0.0000e+00 - binary_crossentropy: 0.0000e+00 - acc: 1.000 - ETA: 0s - loss: 0.0000e+00 - binary_crossentropy: 0.0000e+00 - acc: 1.000 - ETA: 0s - loss: 0.0000e+00 - binary_crossentropy: 0.0000e+00 - acc: 1.000 - ETA: 0s - loss: 0.0000e+00 - binary_crossentropy: 0.0000e+00 - acc: 1.000 - ETA: 0s - loss: 0.0000e+00 - binary_crossentropy: 0.0000e+00 - acc: 1.000 - ETA: 0s - loss: 0.0000e+00 - binary_crossentropy: 0.0000e+00 - acc: 1.000 - ETA: 0s - loss: 0.0000e+00 - binary_crossentropy: 0.0000e+00 - acc: 1.000 - ETA: 0s - loss: 0.0000e+00 - binary_crossentropy: 0.0000e+00 - acc: 1.000 - ETA: 0s - loss: 0.0000e+00 - binary_crossentropy: 0.0000e+00 - acc: 1.000 - ETA: 0s - loss: 0.0000e+00 - binary_crossentropy: 0.0000e+00 - acc: 1.000 - ETA: 0s - loss: 0.0000e+00 - binary_crossentropy: 0.0000e+00 - acc: 1.000 - 3s 172us/sample - loss: 0.0000e+00 - binary_crossentropy: 0.0000e+00 - acc: 1.0000 - val_loss: 0.0000e+00 - val_binary_crossentropy: 0.0000e+00 - val_acc: 1.0000\n",
      "Epoch 2/5\n",
      "16113/16113 [==============================] - ETA: 2s - loss: 0.0000e+00 - binary_crossentropy: 0.0000e+00 - acc: 1.000 - ETA: 1s - loss: 0.0000e+00 - binary_crossentropy: 0.0000e+00 - acc: 1.000 - ETA: 1s - loss: 0.0000e+00 - binary_crossentropy: 0.0000e+00 - acc: 1.000 - ETA: 1s - loss: 0.0000e+00 - binary_crossentropy: 0.0000e+00 - acc: 1.000 - ETA: 1s - loss: 0.0000e+00 - binary_crossentropy: 0.0000e+00 - acc: 1.000 - ETA: 1s - loss: 0.0000e+00 - binary_crossentropy: 0.0000e+00 - acc: 1.000 - ETA: 1s - loss: 0.0000e+00 - binary_crossentropy: 0.0000e+00 - acc: 1.000 - ETA: 1s - loss: 0.0000e+00 - binary_crossentropy: 0.0000e+00 - acc: 1.000 - ETA: 1s - loss: 0.0000e+00 - binary_crossentropy: 0.0000e+00 - acc: 1.000 - ETA: 1s - loss: 0.0000e+00 - binary_crossentropy: 0.0000e+00 - acc: 1.000 - ETA: 1s - loss: 0.0000e+00 - binary_crossentropy: 0.0000e+00 - acc: 1.000 - ETA: 1s - loss: 0.0000e+00 - binary_crossentropy: 0.0000e+00 - acc: 1.000 - ETA: 1s - loss: 0.0000e+00 - binary_crossentropy: 0.0000e+00 - acc: 1.000 - ETA: 1s - loss: 0.0000e+00 - binary_crossentropy: 0.0000e+00 - acc: 1.000 - ETA: 1s - loss: 0.0000e+00 - binary_crossentropy: 0.0000e+00 - acc: 1.000 - ETA: 1s - loss: 0.0000e+00 - binary_crossentropy: 0.0000e+00 - acc: 1.000 - ETA: 1s - loss: 0.0000e+00 - binary_crossentropy: 0.0000e+00 - acc: 1.000 - ETA: 1s - loss: 0.0000e+00 - binary_crossentropy: 0.0000e+00 - acc: 1.000 - ETA: 0s - loss: 0.0000e+00 - binary_crossentropy: 0.0000e+00 - acc: 1.000 - ETA: 0s - loss: 0.0000e+00 - binary_crossentropy: 0.0000e+00 - acc: 1.000 - ETA: 0s - loss: 0.0000e+00 - binary_crossentropy: 0.0000e+00 - acc: 1.000 - ETA: 0s - loss: 0.0000e+00 - binary_crossentropy: 0.0000e+00 - acc: 1.000 - ETA: 0s - loss: 0.0000e+00 - binary_crossentropy: 0.0000e+00 - acc: 1.000 - ETA: 0s - loss: 0.0000e+00 - binary_crossentropy: 0.0000e+00 - acc: 1.000 - ETA: 0s - loss: 0.0000e+00 - binary_crossentropy: 0.0000e+00 - acc: 1.000 - ETA: 0s - loss: 0.0000e+00 - binary_crossentropy: 0.0000e+00 - acc: 1.000 - ETA: 0s - loss: 0.0000e+00 - binary_crossentropy: 0.0000e+00 - acc: 1.000 - ETA: 0s - loss: 0.0000e+00 - binary_crossentropy: 0.0000e+00 - acc: 1.000 - ETA: 0s - loss: 0.0000e+00 - binary_crossentropy: 0.0000e+00 - acc: 1.000 - ETA: 0s - loss: 0.0000e+00 - binary_crossentropy: 0.0000e+00 - acc: 1.000 - ETA: 0s - loss: 0.0000e+00 - binary_crossentropy: 0.0000e+00 - acc: 1.000 - ETA: 0s - loss: 0.0000e+00 - binary_crossentropy: 0.0000e+00 - acc: 1.000 - ETA: 0s - loss: 0.0000e+00 - binary_crossentropy: 0.0000e+00 - acc: 1.000 - ETA: 0s - loss: 0.0000e+00 - binary_crossentropy: 0.0000e+00 - acc: 1.000 - ETA: 0s - loss: 0.0000e+00 - binary_crossentropy: 0.0000e+00 - acc: 1.000 - ETA: 0s - loss: 0.0000e+00 - binary_crossentropy: 0.0000e+00 - acc: 1.000 - ETA: 0s - loss: 0.0000e+00 - binary_crossentropy: 0.0000e+00 - acc: 1.000 - 2s 132us/sample - loss: 0.0000e+00 - binary_crossentropy: 0.0000e+00 - acc: 1.0000 - val_loss: 0.0000e+00 - val_binary_crossentropy: 0.0000e+00 - val_acc: 1.0000\n",
      "Epoch 3/5\n",
      "16113/16113 [==============================] - ETA: 2s - loss: 0.0000e+00 - binary_crossentropy: 0.0000e+00 - acc: 1.000 - ETA: 1s - loss: 0.0000e+00 - binary_crossentropy: 0.0000e+00 - acc: 1.000 - ETA: 1s - loss: 0.0000e+00 - binary_crossentropy: 0.0000e+00 - acc: 1.000 - ETA: 1s - loss: 0.0000e+00 - binary_crossentropy: 0.0000e+00 - acc: 1.000 - ETA: 1s - loss: 0.0000e+00 - binary_crossentropy: 0.0000e+00 - acc: 1.000 - ETA: 1s - loss: 0.0000e+00 - binary_crossentropy: 0.0000e+00 - acc: 1.000 - ETA: 1s - loss: 0.0000e+00 - binary_crossentropy: 0.0000e+00 - acc: 1.000 - ETA: 1s - loss: 0.0000e+00 - binary_crossentropy: 0.0000e+00 - acc: 1.000 - ETA: 1s - loss: 0.0000e+00 - binary_crossentropy: 0.0000e+00 - acc: 1.000 - ETA: 1s - loss: 0.0000e+00 - binary_crossentropy: 0.0000e+00 - acc: 1.000 - ETA: 1s - loss: 0.0000e+00 - binary_crossentropy: 0.0000e+00 - acc: 1.000 - ETA: 1s - loss: 0.0000e+00 - binary_crossentropy: 0.0000e+00 - acc: 1.000 - ETA: 1s - loss: 0.0000e+00 - binary_crossentropy: 0.0000e+00 - acc: 1.000 - ETA: 1s - loss: 0.0000e+00 - binary_crossentropy: 0.0000e+00 - acc: 1.000 - ETA: 1s - loss: 0.0000e+00 - binary_crossentropy: 0.0000e+00 - acc: 1.000 - ETA: 1s - loss: 0.0000e+00 - binary_crossentropy: 0.0000e+00 - acc: 1.000 - ETA: 1s - loss: 0.0000e+00 - binary_crossentropy: 0.0000e+00 - acc: 1.000 - ETA: 0s - loss: 0.0000e+00 - binary_crossentropy: 0.0000e+00 - acc: 1.000 - ETA: 0s - loss: 0.0000e+00 - binary_crossentropy: 0.0000e+00 - acc: 1.000 - ETA: 0s - loss: 0.0000e+00 - binary_crossentropy: 0.0000e+00 - acc: 1.000 - ETA: 0s - loss: 0.0000e+00 - binary_crossentropy: 0.0000e+00 - acc: 1.000 - ETA: 0s - loss: 0.0000e+00 - binary_crossentropy: 0.0000e+00 - acc: 1.000 - ETA: 0s - loss: 0.0000e+00 - binary_crossentropy: 0.0000e+00 - acc: 1.000 - ETA: 0s - loss: 0.0000e+00 - binary_crossentropy: 0.0000e+00 - acc: 1.000 - ETA: 0s - loss: 0.0000e+00 - binary_crossentropy: 0.0000e+00 - acc: 1.000 - ETA: 0s - loss: 0.0000e+00 - binary_crossentropy: 0.0000e+00 - acc: 1.000 - ETA: 0s - loss: 0.0000e+00 - binary_crossentropy: 0.0000e+00 - acc: 1.000 - ETA: 0s - loss: 0.0000e+00 - binary_crossentropy: 0.0000e+00 - acc: 1.000 - ETA: 0s - loss: 0.0000e+00 - binary_crossentropy: 0.0000e+00 - acc: 1.000 - ETA: 0s - loss: 0.0000e+00 - binary_crossentropy: 0.0000e+00 - acc: 1.000 - ETA: 0s - loss: 0.0000e+00 - binary_crossentropy: 0.0000e+00 - acc: 1.000 - ETA: 0s - loss: 0.0000e+00 - binary_crossentropy: 0.0000e+00 - acc: 1.000 - ETA: 0s - loss: 0.0000e+00 - binary_crossentropy: 0.0000e+00 - acc: 1.000 - ETA: 0s - loss: 0.0000e+00 - binary_crossentropy: 0.0000e+00 - acc: 1.000 - ETA: 0s - loss: 0.0000e+00 - binary_crossentropy: 0.0000e+00 - acc: 1.000 - ETA: 0s - loss: 0.0000e+00 - binary_crossentropy: 0.0000e+00 - acc: 1.000 - ETA: 0s - loss: 0.0000e+00 - binary_crossentropy: 0.0000e+00 - acc: 1.000 - 2s 132us/sample - loss: 0.0000e+00 - binary_crossentropy: 0.0000e+00 - acc: 1.0000 - val_loss: 0.0000e+00 - val_binary_crossentropy: 0.0000e+00 - val_acc: 1.0000\n",
      "Epoch 4/5\n",
      "16113/16113 [==============================] - ETA: 2s - loss: 0.0000e+00 - binary_crossentropy: 0.0000e+00 - acc: 1.000 - ETA: 1s - loss: 0.0000e+00 - binary_crossentropy: 0.0000e+00 - acc: 1.000 - ETA: 1s - loss: 0.0000e+00 - binary_crossentropy: 0.0000e+00 - acc: 1.000 - ETA: 1s - loss: 0.0000e+00 - binary_crossentropy: 0.0000e+00 - acc: 1.000 - ETA: 1s - loss: 0.0000e+00 - binary_crossentropy: 0.0000e+00 - acc: 1.000 - ETA: 1s - loss: 0.0000e+00 - binary_crossentropy: 0.0000e+00 - acc: 1.000 - ETA: 1s - loss: 0.0000e+00 - binary_crossentropy: 0.0000e+00 - acc: 1.000 - ETA: 1s - loss: 0.0000e+00 - binary_crossentropy: 0.0000e+00 - acc: 1.000 - ETA: 1s - loss: 0.0000e+00 - binary_crossentropy: 0.0000e+00 - acc: 1.000 - ETA: 1s - loss: 0.0000e+00 - binary_crossentropy: 0.0000e+00 - acc: 1.000 - ETA: 1s - loss: 0.0000e+00 - binary_crossentropy: 0.0000e+00 - acc: 1.000 - ETA: 1s - loss: 0.0000e+00 - binary_crossentropy: 0.0000e+00 - acc: 1.000 - ETA: 1s - loss: 0.0000e+00 - binary_crossentropy: 0.0000e+00 - acc: 1.000 - ETA: 1s - loss: 0.0000e+00 - binary_crossentropy: 0.0000e+00 - acc: 1.000 - ETA: 1s - loss: 0.0000e+00 - binary_crossentropy: 0.0000e+00 - acc: 1.000 - ETA: 1s - loss: 0.0000e+00 - binary_crossentropy: 0.0000e+00 - acc: 1.000 - ETA: 1s - loss: 0.0000e+00 - binary_crossentropy: 0.0000e+00 - acc: 1.000 - ETA: 1s - loss: 0.0000e+00 - binary_crossentropy: 0.0000e+00 - acc: 1.000 - ETA: 0s - loss: 0.0000e+00 - binary_crossentropy: 0.0000e+00 - acc: 1.000 - ETA: 0s - loss: 0.0000e+00 - binary_crossentropy: 0.0000e+00 - acc: 1.000 - ETA: 0s - loss: 0.0000e+00 - binary_crossentropy: 0.0000e+00 - acc: 1.000 - ETA: 0s - loss: 0.0000e+00 - binary_crossentropy: 0.0000e+00 - acc: 1.000 - ETA: 0s - loss: 0.0000e+00 - binary_crossentropy: 0.0000e+00 - acc: 1.000 - ETA: 0s - loss: 0.0000e+00 - binary_crossentropy: 0.0000e+00 - acc: 1.000 - ETA: 0s - loss: 0.0000e+00 - binary_crossentropy: 0.0000e+00 - acc: 1.000 - ETA: 0s - loss: 0.0000e+00 - binary_crossentropy: 0.0000e+00 - acc: 1.000 - ETA: 0s - loss: 0.0000e+00 - binary_crossentropy: 0.0000e+00 - acc: 1.000 - ETA: 0s - loss: 0.0000e+00 - binary_crossentropy: 0.0000e+00 - acc: 1.000 - ETA: 0s - loss: 0.0000e+00 - binary_crossentropy: 0.0000e+00 - acc: 1.000 - ETA: 0s - loss: 0.0000e+00 - binary_crossentropy: 0.0000e+00 - acc: 1.000 - ETA: 0s - loss: 0.0000e+00 - binary_crossentropy: 0.0000e+00 - acc: 1.000 - ETA: 0s - loss: 0.0000e+00 - binary_crossentropy: 0.0000e+00 - acc: 1.000 - ETA: 0s - loss: 0.0000e+00 - binary_crossentropy: 0.0000e+00 - acc: 1.000 - ETA: 0s - loss: 0.0000e+00 - binary_crossentropy: 0.0000e+00 - acc: 1.000 - ETA: 0s - loss: 0.0000e+00 - binary_crossentropy: 0.0000e+00 - acc: 1.000 - ETA: 0s - loss: 0.0000e+00 - binary_crossentropy: 0.0000e+00 - acc: 1.000 - ETA: 0s - loss: 0.0000e+00 - binary_crossentropy: 0.0000e+00 - acc: 1.000 - 2s 132us/sample - loss: 0.0000e+00 - binary_crossentropy: 0.0000e+00 - acc: 1.0000 - val_loss: 0.0000e+00 - val_binary_crossentropy: 0.0000e+00 - val_acc: 1.0000\n",
      "Epoch 5/5\n",
      "16113/16113 [==============================] - ETA: 2s - loss: 0.0000e+00 - binary_crossentropy: 0.0000e+00 - acc: 1.000 - ETA: 1s - loss: 0.0000e+00 - binary_crossentropy: 0.0000e+00 - acc: 1.000 - ETA: 1s - loss: 0.0000e+00 - binary_crossentropy: 0.0000e+00 - acc: 1.000 - ETA: 1s - loss: 0.0000e+00 - binary_crossentropy: 0.0000e+00 - acc: 1.000 - ETA: 1s - loss: 0.0000e+00 - binary_crossentropy: 0.0000e+00 - acc: 1.000 - ETA: 1s - loss: 0.0000e+00 - binary_crossentropy: 0.0000e+00 - acc: 1.000 - ETA: 1s - loss: 0.0000e+00 - binary_crossentropy: 0.0000e+00 - acc: 1.000 - ETA: 1s - loss: 0.0000e+00 - binary_crossentropy: 0.0000e+00 - acc: 1.000 - ETA: 1s - loss: 0.0000e+00 - binary_crossentropy: 0.0000e+00 - acc: 1.000 - ETA: 1s - loss: 0.0000e+00 - binary_crossentropy: 0.0000e+00 - acc: 1.000 - ETA: 1s - loss: 0.0000e+00 - binary_crossentropy: 0.0000e+00 - acc: 1.000 - ETA: 1s - loss: 0.0000e+00 - binary_crossentropy: 0.0000e+00 - acc: 1.000 - ETA: 1s - loss: 0.0000e+00 - binary_crossentropy: 0.0000e+00 - acc: 1.000 - ETA: 1s - loss: 0.0000e+00 - binary_crossentropy: 0.0000e+00 - acc: 1.000 - ETA: 1s - loss: 0.0000e+00 - binary_crossentropy: 0.0000e+00 - acc: 1.000 - ETA: 1s - loss: 0.0000e+00 - binary_crossentropy: 0.0000e+00 - acc: 1.000 - ETA: 1s - loss: 0.0000e+00 - binary_crossentropy: 0.0000e+00 - acc: 1.000 - ETA: 0s - loss: 0.0000e+00 - binary_crossentropy: 0.0000e+00 - acc: 1.000 - ETA: 0s - loss: 0.0000e+00 - binary_crossentropy: 0.0000e+00 - acc: 1.000 - ETA: 0s - loss: 0.0000e+00 - binary_crossentropy: 0.0000e+00 - acc: 1.000 - ETA: 0s - loss: 0.0000e+00 - binary_crossentropy: 0.0000e+00 - acc: 1.000 - ETA: 0s - loss: 0.0000e+00 - binary_crossentropy: 0.0000e+00 - acc: 1.000 - ETA: 0s - loss: 0.0000e+00 - binary_crossentropy: 0.0000e+00 - acc: 1.000 - ETA: 0s - loss: 0.0000e+00 - binary_crossentropy: 0.0000e+00 - acc: 1.000 - ETA: 0s - loss: 0.0000e+00 - binary_crossentropy: 0.0000e+00 - acc: 1.000 - ETA: 0s - loss: 0.0000e+00 - binary_crossentropy: 0.0000e+00 - acc: 1.000 - ETA: 0s - loss: 0.0000e+00 - binary_crossentropy: 0.0000e+00 - acc: 1.000 - ETA: 0s - loss: 0.0000e+00 - binary_crossentropy: 0.0000e+00 - acc: 1.000 - ETA: 0s - loss: 0.0000e+00 - binary_crossentropy: 0.0000e+00 - acc: 1.000 - ETA: 0s - loss: 0.0000e+00 - binary_crossentropy: 0.0000e+00 - acc: 1.000 - ETA: 0s - loss: 0.0000e+00 - binary_crossentropy: 0.0000e+00 - acc: 1.000 - ETA: 0s - loss: 0.0000e+00 - binary_crossentropy: 0.0000e+00 - acc: 1.000 - ETA: 0s - loss: 0.0000e+00 - binary_crossentropy: 0.0000e+00 - acc: 1.000 - ETA: 0s - loss: 0.0000e+00 - binary_crossentropy: 0.0000e+00 - acc: 1.000 - ETA: 0s - loss: 0.0000e+00 - binary_crossentropy: 0.0000e+00 - acc: 1.000 - ETA: 0s - loss: 0.0000e+00 - binary_crossentropy: 0.0000e+00 - acc: 1.000 - 2s 129us/sample - loss: 0.0000e+00 - binary_crossentropy: 0.0000e+00 - acc: 1.0000 - val_loss: 0.0000e+00 - val_binary_crossentropy: 0.0000e+00 - val_acc: 1.0000\n",
      "Train on 16113 samples, validate on 4029 samples\n",
      "WARNING:tensorflow:OMP_NUM_THREADS is no longer used by the default Keras config. To configure the number of threads, use tf.config.threading APIs.\n",
      "Epoch 1/5\n",
      "16113/16113 [==============================] - ETA: 3:39 - loss: 0.0000e+00 - binary_crossentropy: 0.0000e+00 - acc: 1.000 - ETA: 15s - loss: 0.0000e+00 - binary_crossentropy: 0.0000e+00 - acc: 1.000 - ETA: 9s - loss: 0.0000e+00 - binary_crossentropy: 0.0000e+00 - acc: 1.0000 - ETA: 6s - loss: 0.0000e+00 - binary_crossentropy: 0.0000e+00 - acc: 1.000 - ETA: 5s - loss: 0.0000e+00 - binary_crossentropy: 0.0000e+00 - acc: 1.000 - ETA: 4s - loss: 0.0000e+00 - binary_crossentropy: 0.0000e+00 - acc: 1.000 - ETA: 3s - loss: 0.0000e+00 - binary_crossentropy: 0.0000e+00 - acc: 1.000 - ETA: 3s - loss: 0.0000e+00 - binary_crossentropy: 0.0000e+00 - acc: 1.000 - ETA: 3s - loss: 0.0000e+00 - binary_crossentropy: 0.0000e+00 - acc: 1.000 - ETA: 2s - loss: 0.0000e+00 - binary_crossentropy: 0.0000e+00 - acc: 1.000 - ETA: 2s - loss: 0.0000e+00 - binary_crossentropy: 0.0000e+00 - acc: 1.000 - ETA: 2s - loss: 0.0000e+00 - binary_crossentropy: 0.0000e+00 - acc: 1.000 - ETA: 2s - loss: 0.0000e+00 - binary_crossentropy: 0.0000e+00 - acc: 1.000 - ETA: 2s - loss: 0.0000e+00 - binary_crossentropy: 0.0000e+00 - acc: 1.000 - ETA: 1s - loss: 0.0000e+00 - binary_crossentropy: 0.0000e+00 - acc: 1.000 - ETA: 1s - loss: 0.0000e+00 - binary_crossentropy: 0.0000e+00 - acc: 1.000 - ETA: 1s - loss: 0.0000e+00 - binary_crossentropy: 0.0000e+00 - acc: 1.000 - ETA: 1s - loss: 0.0000e+00 - binary_crossentropy: 0.0000e+00 - acc: 1.000 - ETA: 1s - loss: 0.0000e+00 - binary_crossentropy: 0.0000e+00 - acc: 1.000 - ETA: 1s - loss: 0.0000e+00 - binary_crossentropy: 0.0000e+00 - acc: 1.000 - ETA: 1s - loss: 0.0000e+00 - binary_crossentropy: 0.0000e+00 - acc: 1.000 - ETA: 1s - loss: 0.0000e+00 - binary_crossentropy: 0.0000e+00 - acc: 1.000 - ETA: 1s - loss: 0.0000e+00 - binary_crossentropy: 0.0000e+00 - acc: 1.000 - ETA: 0s - loss: 0.0000e+00 - binary_crossentropy: 0.0000e+00 - acc: 1.000 - ETA: 0s - loss: 0.0000e+00 - binary_crossentropy: 0.0000e+00 - acc: 1.000 - ETA: 0s - loss: 0.0000e+00 - binary_crossentropy: 0.0000e+00 - acc: 1.000 - ETA: 0s - loss: 0.0000e+00 - binary_crossentropy: 0.0000e+00 - acc: 1.000 - ETA: 0s - loss: 0.0000e+00 - binary_crossentropy: 0.0000e+00 - acc: 1.000 - ETA: 0s - loss: 0.0000e+00 - binary_crossentropy: 0.0000e+00 - acc: 1.000 - ETA: 0s - loss: 0.0000e+00 - binary_crossentropy: 0.0000e+00 - acc: 1.000 - ETA: 0s - loss: 0.0000e+00 - binary_crossentropy: 0.0000e+00 - acc: 1.000 - ETA: 0s - loss: 0.0000e+00 - binary_crossentropy: 0.0000e+00 - acc: 1.000 - ETA: 0s - loss: 0.0000e+00 - binary_crossentropy: 0.0000e+00 - acc: 1.000 - ETA: 0s - loss: 0.0000e+00 - binary_crossentropy: 0.0000e+00 - acc: 1.000 - ETA: 0s - loss: 0.0000e+00 - binary_crossentropy: 0.0000e+00 - acc: 1.000 - ETA: 0s - loss: 0.0000e+00 - binary_crossentropy: 0.0000e+00 - acc: 1.000 - ETA: 0s - loss: 0.0000e+00 - binary_crossentropy: 0.0000e+00 - acc: 1.000 - 3s 169us/sample - loss: 0.0000e+00 - binary_crossentropy: 0.0000e+00 - acc: 1.0000 - val_loss: 0.0000e+00 - val_binary_crossentropy: 0.0000e+00 - val_acc: 1.0000\n",
      "Epoch 2/5\n",
      "16113/16113 [==============================] - ETA: 2s - loss: 0.0000e+00 - binary_crossentropy: 0.0000e+00 - acc: 1.000 - ETA: 1s - loss: 0.0000e+00 - binary_crossentropy: 0.0000e+00 - acc: 1.000 - ETA: 1s - loss: 0.0000e+00 - binary_crossentropy: 0.0000e+00 - acc: 1.000 - ETA: 1s - loss: 0.0000e+00 - binary_crossentropy: 0.0000e+00 - acc: 1.000 - ETA: 1s - loss: 0.0000e+00 - binary_crossentropy: 0.0000e+00 - acc: 1.000 - ETA: 1s - loss: 0.0000e+00 - binary_crossentropy: 0.0000e+00 - acc: 1.000 - ETA: 1s - loss: 0.0000e+00 - binary_crossentropy: 0.0000e+00 - acc: 1.000 - ETA: 1s - loss: 0.0000e+00 - binary_crossentropy: 0.0000e+00 - acc: 1.000 - ETA: 1s - loss: 0.0000e+00 - binary_crossentropy: 0.0000e+00 - acc: 1.000 - ETA: 1s - loss: 0.0000e+00 - binary_crossentropy: 0.0000e+00 - acc: 1.000 - ETA: 1s - loss: 0.0000e+00 - binary_crossentropy: 0.0000e+00 - acc: 1.000 - ETA: 1s - loss: 0.0000e+00 - binary_crossentropy: 0.0000e+00 - acc: 1.000 - ETA: 1s - loss: 0.0000e+00 - binary_crossentropy: 0.0000e+00 - acc: 1.000 - ETA: 1s - loss: 0.0000e+00 - binary_crossentropy: 0.0000e+00 - acc: 1.000 - ETA: 1s - loss: 0.0000e+00 - binary_crossentropy: 0.0000e+00 - acc: 1.000 - ETA: 1s - loss: 0.0000e+00 - binary_crossentropy: 0.0000e+00 - acc: 1.000 - ETA: 1s - loss: 0.0000e+00 - binary_crossentropy: 0.0000e+00 - acc: 1.000 - ETA: 1s - loss: 0.0000e+00 - binary_crossentropy: 0.0000e+00 - acc: 1.000 - ETA: 0s - loss: 0.0000e+00 - binary_crossentropy: 0.0000e+00 - acc: 1.000 - ETA: 0s - loss: 0.0000e+00 - binary_crossentropy: 0.0000e+00 - acc: 1.000 - ETA: 0s - loss: 0.0000e+00 - binary_crossentropy: 0.0000e+00 - acc: 1.000 - ETA: 0s - loss: 0.0000e+00 - binary_crossentropy: 0.0000e+00 - acc: 1.000 - ETA: 0s - loss: 0.0000e+00 - binary_crossentropy: 0.0000e+00 - acc: 1.000 - ETA: 0s - loss: 0.0000e+00 - binary_crossentropy: 0.0000e+00 - acc: 1.000 - ETA: 0s - loss: 0.0000e+00 - binary_crossentropy: 0.0000e+00 - acc: 1.000 - ETA: 0s - loss: 0.0000e+00 - binary_crossentropy: 0.0000e+00 - acc: 1.000 - ETA: 0s - loss: 0.0000e+00 - binary_crossentropy: 0.0000e+00 - acc: 1.000 - ETA: 0s - loss: 0.0000e+00 - binary_crossentropy: 0.0000e+00 - acc: 1.000 - ETA: 0s - loss: 0.0000e+00 - binary_crossentropy: 0.0000e+00 - acc: 1.000 - ETA: 0s - loss: 0.0000e+00 - binary_crossentropy: 0.0000e+00 - acc: 1.000 - ETA: 0s - loss: 0.0000e+00 - binary_crossentropy: 0.0000e+00 - acc: 1.000 - ETA: 0s - loss: 0.0000e+00 - binary_crossentropy: 0.0000e+00 - acc: 1.000 - ETA: 0s - loss: 0.0000e+00 - binary_crossentropy: 0.0000e+00 - acc: 1.000 - ETA: 0s - loss: 0.0000e+00 - binary_crossentropy: 0.0000e+00 - acc: 1.000 - ETA: 0s - loss: 0.0000e+00 - binary_crossentropy: 0.0000e+00 - acc: 1.000 - ETA: 0s - loss: 0.0000e+00 - binary_crossentropy: 0.0000e+00 - acc: 1.000 - ETA: 0s - loss: 0.0000e+00 - binary_crossentropy: 0.0000e+00 - acc: 1.000 - ETA: 0s - loss: 0.0000e+00 - binary_crossentropy: 0.0000e+00 - acc: 1.000 - 2s 135us/sample - loss: 0.0000e+00 - binary_crossentropy: 0.0000e+00 - acc: 1.0000 - val_loss: 0.0000e+00 - val_binary_crossentropy: 0.0000e+00 - val_acc: 1.0000\n",
      "Epoch 3/5\n",
      "16113/16113 [==============================] - ETA: 2s - loss: 0.0000e+00 - binary_crossentropy: 0.0000e+00 - acc: 1.000 - ETA: 1s - loss: 0.0000e+00 - binary_crossentropy: 0.0000e+00 - acc: 1.000 - ETA: 1s - loss: 0.0000e+00 - binary_crossentropy: 0.0000e+00 - acc: 1.000 - ETA: 1s - loss: 0.0000e+00 - binary_crossentropy: 0.0000e+00 - acc: 1.000 - ETA: 1s - loss: 0.0000e+00 - binary_crossentropy: 0.0000e+00 - acc: 1.000 - ETA: 1s - loss: 0.0000e+00 - binary_crossentropy: 0.0000e+00 - acc: 1.000 - ETA: 1s - loss: 0.0000e+00 - binary_crossentropy: 0.0000e+00 - acc: 1.000 - ETA: 1s - loss: 0.0000e+00 - binary_crossentropy: 0.0000e+00 - acc: 1.000 - ETA: 1s - loss: 0.0000e+00 - binary_crossentropy: 0.0000e+00 - acc: 1.000 - ETA: 1s - loss: 0.0000e+00 - binary_crossentropy: 0.0000e+00 - acc: 1.000 - ETA: 1s - loss: 0.0000e+00 - binary_crossentropy: 0.0000e+00 - acc: 1.000 - ETA: 1s - loss: 0.0000e+00 - binary_crossentropy: 0.0000e+00 - acc: 1.000 - ETA: 1s - loss: 0.0000e+00 - binary_crossentropy: 0.0000e+00 - acc: 1.000 - ETA: 1s - loss: 0.0000e+00 - binary_crossentropy: 0.0000e+00 - acc: 1.000 - ETA: 1s - loss: 0.0000e+00 - binary_crossentropy: 0.0000e+00 - acc: 1.000 - ETA: 1s - loss: 0.0000e+00 - binary_crossentropy: 0.0000e+00 - acc: 1.000 - ETA: 1s - loss: 0.0000e+00 - binary_crossentropy: 0.0000e+00 - acc: 1.000 - ETA: 0s - loss: 0.0000e+00 - binary_crossentropy: 0.0000e+00 - acc: 1.000 - ETA: 0s - loss: 0.0000e+00 - binary_crossentropy: 0.0000e+00 - acc: 1.000 - ETA: 0s - loss: 0.0000e+00 - binary_crossentropy: 0.0000e+00 - acc: 1.000 - ETA: 0s - loss: 0.0000e+00 - binary_crossentropy: 0.0000e+00 - acc: 1.000 - ETA: 0s - loss: 0.0000e+00 - binary_crossentropy: 0.0000e+00 - acc: 1.000 - ETA: 0s - loss: 0.0000e+00 - binary_crossentropy: 0.0000e+00 - acc: 1.000 - ETA: 0s - loss: 0.0000e+00 - binary_crossentropy: 0.0000e+00 - acc: 1.000 - ETA: 0s - loss: 0.0000e+00 - binary_crossentropy: 0.0000e+00 - acc: 1.000 - ETA: 0s - loss: 0.0000e+00 - binary_crossentropy: 0.0000e+00 - acc: 1.000 - ETA: 0s - loss: 0.0000e+00 - binary_crossentropy: 0.0000e+00 - acc: 1.000 - ETA: 0s - loss: 0.0000e+00 - binary_crossentropy: 0.0000e+00 - acc: 1.000 - ETA: 0s - loss: 0.0000e+00 - binary_crossentropy: 0.0000e+00 - acc: 1.000 - ETA: 0s - loss: 0.0000e+00 - binary_crossentropy: 0.0000e+00 - acc: 1.000 - ETA: 0s - loss: 0.0000e+00 - binary_crossentropy: 0.0000e+00 - acc: 1.000 - ETA: 0s - loss: 0.0000e+00 - binary_crossentropy: 0.0000e+00 - acc: 1.000 - ETA: 0s - loss: 0.0000e+00 - binary_crossentropy: 0.0000e+00 - acc: 1.000 - ETA: 0s - loss: 0.0000e+00 - binary_crossentropy: 0.0000e+00 - acc: 1.000 - ETA: 0s - loss: 0.0000e+00 - binary_crossentropy: 0.0000e+00 - acc: 1.000 - ETA: 0s - loss: 0.0000e+00 - binary_crossentropy: 0.0000e+00 - acc: 1.000 - 2s 131us/sample - loss: 0.0000e+00 - binary_crossentropy: 0.0000e+00 - acc: 1.0000 - val_loss: 0.0000e+00 - val_binary_crossentropy: 0.0000e+00 - val_acc: 1.0000\n",
      "Epoch 4/5\n",
      "16113/16113 [==============================] - ETA: 2s - loss: 0.0000e+00 - binary_crossentropy: 0.0000e+00 - acc: 1.000 - ETA: 1s - loss: 0.0000e+00 - binary_crossentropy: 0.0000e+00 - acc: 1.000 - ETA: 1s - loss: 0.0000e+00 - binary_crossentropy: 0.0000e+00 - acc: 1.000 - ETA: 1s - loss: 0.0000e+00 - binary_crossentropy: 0.0000e+00 - acc: 1.000 - ETA: 1s - loss: 0.0000e+00 - binary_crossentropy: 0.0000e+00 - acc: 1.000 - ETA: 1s - loss: 0.0000e+00 - binary_crossentropy: 0.0000e+00 - acc: 1.000 - ETA: 1s - loss: 0.0000e+00 - binary_crossentropy: 0.0000e+00 - acc: 1.000 - ETA: 1s - loss: 0.0000e+00 - binary_crossentropy: 0.0000e+00 - acc: 1.000 - ETA: 1s - loss: 0.0000e+00 - binary_crossentropy: 0.0000e+00 - acc: 1.000 - ETA: 1s - loss: 0.0000e+00 - binary_crossentropy: 0.0000e+00 - acc: 1.000 - ETA: 1s - loss: 0.0000e+00 - binary_crossentropy: 0.0000e+00 - acc: 1.000 - ETA: 1s - loss: 0.0000e+00 - binary_crossentropy: 0.0000e+00 - acc: 1.000 - ETA: 1s - loss: 0.0000e+00 - binary_crossentropy: 0.0000e+00 - acc: 1.000 - ETA: 1s - loss: 0.0000e+00 - binary_crossentropy: 0.0000e+00 - acc: 1.000 - ETA: 1s - loss: 0.0000e+00 - binary_crossentropy: 0.0000e+00 - acc: 1.000 - ETA: 1s - loss: 0.0000e+00 - binary_crossentropy: 0.0000e+00 - acc: 1.000 - ETA: 1s - loss: 0.0000e+00 - binary_crossentropy: 0.0000e+00 - acc: 1.000 - ETA: 0s - loss: 0.0000e+00 - binary_crossentropy: 0.0000e+00 - acc: 1.000 - ETA: 0s - loss: 0.0000e+00 - binary_crossentropy: 0.0000e+00 - acc: 1.000 - ETA: 0s - loss: 0.0000e+00 - binary_crossentropy: 0.0000e+00 - acc: 1.000 - ETA: 0s - loss: 0.0000e+00 - binary_crossentropy: 0.0000e+00 - acc: 1.000 - ETA: 0s - loss: 0.0000e+00 - binary_crossentropy: 0.0000e+00 - acc: 1.000 - ETA: 0s - loss: 0.0000e+00 - binary_crossentropy: 0.0000e+00 - acc: 1.000 - ETA: 0s - loss: 0.0000e+00 - binary_crossentropy: 0.0000e+00 - acc: 1.000 - ETA: 0s - loss: 0.0000e+00 - binary_crossentropy: 0.0000e+00 - acc: 1.000 - ETA: 0s - loss: 0.0000e+00 - binary_crossentropy: 0.0000e+00 - acc: 1.000 - ETA: 0s - loss: 0.0000e+00 - binary_crossentropy: 0.0000e+00 - acc: 1.000 - ETA: 0s - loss: 0.0000e+00 - binary_crossentropy: 0.0000e+00 - acc: 1.000 - ETA: 0s - loss: 0.0000e+00 - binary_crossentropy: 0.0000e+00 - acc: 1.000 - ETA: 0s - loss: 0.0000e+00 - binary_crossentropy: 0.0000e+00 - acc: 1.000 - ETA: 0s - loss: 0.0000e+00 - binary_crossentropy: 0.0000e+00 - acc: 1.000 - ETA: 0s - loss: 0.0000e+00 - binary_crossentropy: 0.0000e+00 - acc: 1.000 - ETA: 0s - loss: 0.0000e+00 - binary_crossentropy: 0.0000e+00 - acc: 1.000 - ETA: 0s - loss: 0.0000e+00 - binary_crossentropy: 0.0000e+00 - acc: 1.000 - ETA: 0s - loss: 0.0000e+00 - binary_crossentropy: 0.0000e+00 - acc: 1.000 - ETA: 0s - loss: 0.0000e+00 - binary_crossentropy: 0.0000e+00 - acc: 1.000 - 2s 130us/sample - loss: 0.0000e+00 - binary_crossentropy: 0.0000e+00 - acc: 1.0000 - val_loss: 0.0000e+00 - val_binary_crossentropy: 0.0000e+00 - val_acc: 1.0000\n",
      "Epoch 5/5\n",
      "16113/16113 [==============================] - ETA: 2s - loss: 0.0000e+00 - binary_crossentropy: 0.0000e+00 - acc: 1.000 - ETA: 1s - loss: 0.0000e+00 - binary_crossentropy: 0.0000e+00 - acc: 1.000 - ETA: 1s - loss: 0.0000e+00 - binary_crossentropy: 0.0000e+00 - acc: 1.000 - ETA: 1s - loss: 0.0000e+00 - binary_crossentropy: 0.0000e+00 - acc: 1.000 - ETA: 1s - loss: 0.0000e+00 - binary_crossentropy: 0.0000e+00 - acc: 1.000 - ETA: 1s - loss: 0.0000e+00 - binary_crossentropy: 0.0000e+00 - acc: 1.000 - ETA: 1s - loss: 0.0000e+00 - binary_crossentropy: 0.0000e+00 - acc: 1.000 - ETA: 1s - loss: 0.0000e+00 - binary_crossentropy: 0.0000e+00 - acc: 1.000 - ETA: 1s - loss: 0.0000e+00 - binary_crossentropy: 0.0000e+00 - acc: 1.000 - ETA: 1s - loss: 0.0000e+00 - binary_crossentropy: 0.0000e+00 - acc: 1.000 - ETA: 1s - loss: 0.0000e+00 - binary_crossentropy: 0.0000e+00 - acc: 1.000 - ETA: 1s - loss: 0.0000e+00 - binary_crossentropy: 0.0000e+00 - acc: 1.000 - ETA: 1s - loss: 0.0000e+00 - binary_crossentropy: 0.0000e+00 - acc: 1.000 - ETA: 1s - loss: 0.0000e+00 - binary_crossentropy: 0.0000e+00 - acc: 1.000 - ETA: 1s - loss: 0.0000e+00 - binary_crossentropy: 0.0000e+00 - acc: 1.000 - ETA: 1s - loss: 0.0000e+00 - binary_crossentropy: 0.0000e+00 - acc: 1.000 - ETA: 1s - loss: 0.0000e+00 - binary_crossentropy: 0.0000e+00 - acc: 1.000 - ETA: 1s - loss: 0.0000e+00 - binary_crossentropy: 0.0000e+00 - acc: 1.000 - ETA: 0s - loss: 0.0000e+00 - binary_crossentropy: 0.0000e+00 - acc: 1.000 - ETA: 0s - loss: 0.0000e+00 - binary_crossentropy: 0.0000e+00 - acc: 1.000 - ETA: 0s - loss: 0.0000e+00 - binary_crossentropy: 0.0000e+00 - acc: 1.000 - ETA: 0s - loss: 0.0000e+00 - binary_crossentropy: 0.0000e+00 - acc: 1.000 - ETA: 0s - loss: 0.0000e+00 - binary_crossentropy: 0.0000e+00 - acc: 1.000 - ETA: 0s - loss: 0.0000e+00 - binary_crossentropy: 0.0000e+00 - acc: 1.000 - ETA: 0s - loss: 0.0000e+00 - binary_crossentropy: 0.0000e+00 - acc: 1.000 - ETA: 0s - loss: 0.0000e+00 - binary_crossentropy: 0.0000e+00 - acc: 1.000 - ETA: 0s - loss: 0.0000e+00 - binary_crossentropy: 0.0000e+00 - acc: 1.000 - ETA: 0s - loss: 0.0000e+00 - binary_crossentropy: 0.0000e+00 - acc: 1.000 - ETA: 0s - loss: 0.0000e+00 - binary_crossentropy: 0.0000e+00 - acc: 1.000 - ETA: 0s - loss: 0.0000e+00 - binary_crossentropy: 0.0000e+00 - acc: 1.000 - ETA: 0s - loss: 0.0000e+00 - binary_crossentropy: 0.0000e+00 - acc: 1.000 - ETA: 0s - loss: 0.0000e+00 - binary_crossentropy: 0.0000e+00 - acc: 1.000 - ETA: 0s - loss: 0.0000e+00 - binary_crossentropy: 0.0000e+00 - acc: 1.000 - ETA: 0s - loss: 0.0000e+00 - binary_crossentropy: 0.0000e+00 - acc: 1.000 - ETA: 0s - loss: 0.0000e+00 - binary_crossentropy: 0.0000e+00 - acc: 1.000 - ETA: 0s - loss: 0.0000e+00 - binary_crossentropy: 0.0000e+00 - acc: 1.000 - 2s 130us/sample - loss: 0.0000e+00 - binary_crossentropy: 0.0000e+00 - acc: 1.0000 - val_loss: 0.0000e+00 - val_binary_crossentropy: 0.0000e+00 - val_acc: 1.0000\n",
      "Train on 16113 samples, validate on 4029 samples\n",
      "WARNING:tensorflow:OMP_NUM_THREADS is no longer used by the default Keras config. To configure the number of threads, use tf.config.threading APIs.\n",
      "Epoch 1/5\n",
      "16113/16113 [==============================] - ETA: 3:34 - loss: 15.3332 - binary_crossentropy: 15.2492 - acc: 0.0000e+0 - ETA: 16s - loss: 15.3332 - binary_crossentropy: 15.2492 - acc: 0.0000e+0 - ETA: 9s - loss: 15.3332 - binary_crossentropy: 15.2492 - acc: 0.0000e+00 - ETA: 6s - loss: 15.3332 - binary_crossentropy: 15.2492 - acc: 0.0000e+0 - ETA: 5s - loss: 15.3332 - binary_crossentropy: 15.2492 - acc: 0.0000e+0 - ETA: 4s - loss: 15.3332 - binary_crossentropy: 15.2493 - acc: 0.0000e+0 - ETA: 3s - loss: 15.3332 - binary_crossentropy: 15.2493 - acc: 0.0000e+0 - ETA: 3s - loss: 15.3332 - binary_crossentropy: 15.2493 - acc: 0.0000e+0 - ETA: 3s - loss: 15.3332 - binary_crossentropy: 15.2493 - acc: 0.0000e+0 - ETA: 2s - loss: 15.3332 - binary_crossentropy: 15.2493 - acc: 0.0000e+0 - ETA: 2s - loss: 15.3332 - binary_crossentropy: 15.2493 - acc: 0.0000e+0 - ETA: 2s - loss: 15.3332 - binary_crossentropy: 15.2493 - acc: 0.0000e+0 - ETA: 2s - loss: 14.2159 - binary_crossentropy: 14.1380 - acc: 0.0727    - ETA: 1s - loss: 13.1040 - binary_crossentropy: 13.0323 - acc: 0.145 - ETA: 1s - loss: 12.1535 - binary_crossentropy: 12.0869 - acc: 0.207 - ETA: 1s - loss: 11.3315 - binary_crossentropy: 11.2694 - acc: 0.260 - ETA: 1s - loss: 10.6137 - binary_crossentropy: 10.5555 - acc: 0.307 - ETA: 1s - loss: 9.9814 - binary_crossentropy: 9.9267 - acc: 0.3489  - ETA: 1s - loss: 9.4202 - binary_crossentropy: 9.3686 - acc: 0.385 - ETA: 1s - loss: 8.9187 - binary_crossentropy: 8.8699 - acc: 0.418 - ETA: 1s - loss: 8.4679 - binary_crossentropy: 8.4216 - acc: 0.447 - ETA: 1s - loss: 8.0605 - binary_crossentropy: 8.0164 - acc: 0.474 - ETA: 1s - loss: 7.6906 - binary_crossentropy: 7.6484 - acc: 0.498 - ETA: 0s - loss: 7.3530 - binary_crossentropy: 7.3128 - acc: 0.520 - ETA: 0s - loss: 7.0439 - binary_crossentropy: 7.0053 - acc: 0.540 - ETA: 0s - loss: 6.7597 - binary_crossentropy: 6.7227 - acc: 0.559 - ETA: 0s - loss: 6.4976 - binary_crossentropy: 6.4620 - acc: 0.576 - ETA: 0s - loss: 6.2550 - binary_crossentropy: 6.2207 - acc: 0.592 - ETA: 0s - loss: 6.0299 - binary_crossentropy: 5.9968 - acc: 0.606 - ETA: 0s - loss: 5.8204 - binary_crossentropy: 5.7885 - acc: 0.620 - ETA: 0s - loss: 5.6250 - binary_crossentropy: 5.5942 - acc: 0.633 - ETA: 0s - loss: 5.4423 - binary_crossentropy: 5.4125 - acc: 0.645 - ETA: 0s - loss: 5.2711 - binary_crossentropy: 5.2422 - acc: 0.656 - ETA: 0s - loss: 5.1103 - binary_crossentropy: 5.0823 - acc: 0.666 - ETA: 0s - loss: 4.9590 - binary_crossentropy: 4.9319 - acc: 0.676 - ETA: 0s - loss: 4.8165 - binary_crossentropy: 4.7901 - acc: 0.685 - ETA: 0s - loss: 4.6912 - binary_crossentropy: 4.6655 - acc: 0.694 - 3s 167us/sample - loss: 4.6583 - binary_crossentropy: 4.6328 - acc: 0.6961 - val_loss: 0.0000e+00 - val_binary_crossentropy: 0.0000e+00 - val_acc: 1.0000\n",
      "Epoch 2/5\n",
      "16113/16113 [==============================] - ETA: 2s - loss: 0.0000e+00 - binary_crossentropy: 0.0000e+00 - acc: 1.000 - ETA: 2s - loss: 0.0000e+00 - binary_crossentropy: 0.0000e+00 - acc: 1.000 - ETA: 1s - loss: 0.0000e+00 - binary_crossentropy: 0.0000e+00 - acc: 1.000 - ETA: 1s - loss: 0.0000e+00 - binary_crossentropy: 0.0000e+00 - acc: 1.000 - ETA: 1s - loss: 0.0000e+00 - binary_crossentropy: 0.0000e+00 - acc: 1.000 - ETA: 1s - loss: 0.0000e+00 - binary_crossentropy: 0.0000e+00 - acc: 1.000 - ETA: 1s - loss: 0.0000e+00 - binary_crossentropy: 0.0000e+00 - acc: 1.000 - ETA: 1s - loss: 0.0000e+00 - binary_crossentropy: 0.0000e+00 - acc: 1.000 - ETA: 1s - loss: 0.0000e+00 - binary_crossentropy: 0.0000e+00 - acc: 1.000 - ETA: 1s - loss: 0.0000e+00 - binary_crossentropy: 0.0000e+00 - acc: 1.000 - ETA: 1s - loss: 0.0000e+00 - binary_crossentropy: 0.0000e+00 - acc: 1.000 - ETA: 1s - loss: 0.0000e+00 - binary_crossentropy: 0.0000e+00 - acc: 1.000 - ETA: 1s - loss: 0.0000e+00 - binary_crossentropy: 0.0000e+00 - acc: 1.000 - ETA: 1s - loss: 0.0000e+00 - binary_crossentropy: 0.0000e+00 - acc: 1.000 - ETA: 1s - loss: 0.0000e+00 - binary_crossentropy: 0.0000e+00 - acc: 1.000 - ETA: 1s - loss: 0.0000e+00 - binary_crossentropy: 0.0000e+00 - acc: 1.000 - ETA: 1s - loss: 0.0000e+00 - binary_crossentropy: 0.0000e+00 - acc: 1.000 - ETA: 0s - loss: 0.0000e+00 - binary_crossentropy: 0.0000e+00 - acc: 1.000 - ETA: 0s - loss: 0.0000e+00 - binary_crossentropy: 0.0000e+00 - acc: 1.000 - ETA: 0s - loss: 0.0000e+00 - binary_crossentropy: 0.0000e+00 - acc: 1.000 - ETA: 0s - loss: 0.0000e+00 - binary_crossentropy: 0.0000e+00 - acc: 1.000 - ETA: 0s - loss: 0.0000e+00 - binary_crossentropy: 0.0000e+00 - acc: 1.000 - ETA: 0s - loss: 0.0000e+00 - binary_crossentropy: 0.0000e+00 - acc: 1.000 - ETA: 0s - loss: 0.0000e+00 - binary_crossentropy: 0.0000e+00 - acc: 1.000 - ETA: 0s - loss: 0.0000e+00 - binary_crossentropy: 0.0000e+00 - acc: 1.000 - ETA: 0s - loss: 0.0000e+00 - binary_crossentropy: 0.0000e+00 - acc: 1.000 - ETA: 0s - loss: 0.0000e+00 - binary_crossentropy: 0.0000e+00 - acc: 1.000 - ETA: 0s - loss: 0.0000e+00 - binary_crossentropy: 0.0000e+00 - acc: 1.000 - ETA: 0s - loss: 0.0000e+00 - binary_crossentropy: 0.0000e+00 - acc: 1.000 - ETA: 0s - loss: 0.0000e+00 - binary_crossentropy: 0.0000e+00 - acc: 1.000 - ETA: 0s - loss: 0.0000e+00 - binary_crossentropy: 0.0000e+00 - acc: 1.000 - ETA: 0s - loss: 0.0000e+00 - binary_crossentropy: 0.0000e+00 - acc: 1.000 - ETA: 0s - loss: 0.0000e+00 - binary_crossentropy: 0.0000e+00 - acc: 1.000 - ETA: 0s - loss: 0.0000e+00 - binary_crossentropy: 0.0000e+00 - acc: 1.000 - ETA: 0s - loss: 0.0000e+00 - binary_crossentropy: 0.0000e+00 - acc: 1.000 - ETA: 0s - loss: 0.0000e+00 - binary_crossentropy: 0.0000e+00 - acc: 1.000 - ETA: 0s - loss: 0.0000e+00 - binary_crossentropy: 0.0000e+00 - acc: 1.000 - 2s 133us/sample - loss: 0.0000e+00 - binary_crossentropy: 0.0000e+00 - acc: 1.0000 - val_loss: 0.0000e+00 - val_binary_crossentropy: 0.0000e+00 - val_acc: 1.0000\n",
      "Epoch 3/5\n",
      "16113/16113 [==============================] - ETA: 2s - loss: 0.0000e+00 - binary_crossentropy: 0.0000e+00 - acc: 1.000 - ETA: 1s - loss: 0.0000e+00 - binary_crossentropy: 0.0000e+00 - acc: 1.000 - ETA: 1s - loss: 0.0000e+00 - binary_crossentropy: 0.0000e+00 - acc: 1.000 - ETA: 1s - loss: 0.0000e+00 - binary_crossentropy: 0.0000e+00 - acc: 1.000 - ETA: 1s - loss: 0.0000e+00 - binary_crossentropy: 0.0000e+00 - acc: 1.000 - ETA: 1s - loss: 0.0000e+00 - binary_crossentropy: 0.0000e+00 - acc: 1.000 - ETA: 1s - loss: 0.0000e+00 - binary_crossentropy: 0.0000e+00 - acc: 1.000 - ETA: 1s - loss: 0.0000e+00 - binary_crossentropy: 0.0000e+00 - acc: 1.000 - ETA: 1s - loss: 0.0000e+00 - binary_crossentropy: 0.0000e+00 - acc: 1.000 - ETA: 1s - loss: 0.0000e+00 - binary_crossentropy: 0.0000e+00 - acc: 1.000 - ETA: 1s - loss: 0.0000e+00 - binary_crossentropy: 0.0000e+00 - acc: 1.000 - ETA: 1s - loss: 0.0000e+00 - binary_crossentropy: 0.0000e+00 - acc: 1.000 - ETA: 1s - loss: 0.0000e+00 - binary_crossentropy: 0.0000e+00 - acc: 1.000 - ETA: 1s - loss: 0.0000e+00 - binary_crossentropy: 0.0000e+00 - acc: 1.000 - ETA: 1s - loss: 0.0000e+00 - binary_crossentropy: 0.0000e+00 - acc: 1.000 - ETA: 1s - loss: 0.0000e+00 - binary_crossentropy: 0.0000e+00 - acc: 1.000 - ETA: 1s - loss: 0.0000e+00 - binary_crossentropy: 0.0000e+00 - acc: 1.000 - ETA: 1s - loss: 0.0000e+00 - binary_crossentropy: 0.0000e+00 - acc: 1.000 - ETA: 0s - loss: 0.0000e+00 - binary_crossentropy: 0.0000e+00 - acc: 1.000 - ETA: 0s - loss: 0.0000e+00 - binary_crossentropy: 0.0000e+00 - acc: 1.000 - ETA: 0s - loss: 0.0000e+00 - binary_crossentropy: 0.0000e+00 - acc: 1.000 - ETA: 0s - loss: 0.0000e+00 - binary_crossentropy: 0.0000e+00 - acc: 1.000 - ETA: 0s - loss: 0.0000e+00 - binary_crossentropy: 0.0000e+00 - acc: 1.000 - ETA: 0s - loss: 0.0000e+00 - binary_crossentropy: 0.0000e+00 - acc: 1.000 - ETA: 0s - loss: 0.0000e+00 - binary_crossentropy: 0.0000e+00 - acc: 1.000 - ETA: 0s - loss: 0.0000e+00 - binary_crossentropy: 0.0000e+00 - acc: 1.000 - ETA: 0s - loss: 0.0000e+00 - binary_crossentropy: 0.0000e+00 - acc: 1.000 - ETA: 0s - loss: 0.0000e+00 - binary_crossentropy: 0.0000e+00 - acc: 1.000 - ETA: 0s - loss: 0.0000e+00 - binary_crossentropy: 0.0000e+00 - acc: 1.000 - ETA: 0s - loss: 0.0000e+00 - binary_crossentropy: 0.0000e+00 - acc: 1.000 - ETA: 0s - loss: 0.0000e+00 - binary_crossentropy: 0.0000e+00 - acc: 1.000 - ETA: 0s - loss: 0.0000e+00 - binary_crossentropy: 0.0000e+00 - acc: 1.000 - ETA: 0s - loss: 0.0000e+00 - binary_crossentropy: 0.0000e+00 - acc: 1.000 - ETA: 0s - loss: 0.0000e+00 - binary_crossentropy: 0.0000e+00 - acc: 1.000 - ETA: 0s - loss: 0.0000e+00 - binary_crossentropy: 0.0000e+00 - acc: 1.000 - ETA: 0s - loss: 0.0000e+00 - binary_crossentropy: 0.0000e+00 - acc: 1.000 - ETA: 0s - loss: 0.0000e+00 - binary_crossentropy: 0.0000e+00 - acc: 1.000 - 2s 133us/sample - loss: 0.0000e+00 - binary_crossentropy: 0.0000e+00 - acc: 1.0000 - val_loss: 0.0000e+00 - val_binary_crossentropy: 0.0000e+00 - val_acc: 1.0000\n",
      "Epoch 4/5\n",
      "16113/16113 [==============================] - ETA: 2s - loss: 0.0000e+00 - binary_crossentropy: 0.0000e+00 - acc: 1.000 - ETA: 1s - loss: 0.0000e+00 - binary_crossentropy: 0.0000e+00 - acc: 1.000 - ETA: 1s - loss: 0.0000e+00 - binary_crossentropy: 0.0000e+00 - acc: 1.000 - ETA: 1s - loss: 0.0000e+00 - binary_crossentropy: 0.0000e+00 - acc: 1.000 - ETA: 1s - loss: 0.0000e+00 - binary_crossentropy: 0.0000e+00 - acc: 1.000 - ETA: 1s - loss: 0.0000e+00 - binary_crossentropy: 0.0000e+00 - acc: 1.000 - ETA: 1s - loss: 0.0000e+00 - binary_crossentropy: 0.0000e+00 - acc: 1.000 - ETA: 1s - loss: 0.0000e+00 - binary_crossentropy: 0.0000e+00 - acc: 1.000 - ETA: 1s - loss: 0.0000e+00 - binary_crossentropy: 0.0000e+00 - acc: 1.000 - ETA: 1s - loss: 0.0000e+00 - binary_crossentropy: 0.0000e+00 - acc: 1.000 - ETA: 1s - loss: 0.0000e+00 - binary_crossentropy: 0.0000e+00 - acc: 1.000 - ETA: 1s - loss: 0.0000e+00 - binary_crossentropy: 0.0000e+00 - acc: 1.000 - ETA: 1s - loss: 0.0000e+00 - binary_crossentropy: 0.0000e+00 - acc: 1.000 - ETA: 1s - loss: 0.0000e+00 - binary_crossentropy: 0.0000e+00 - acc: 1.000 - ETA: 1s - loss: 0.0000e+00 - binary_crossentropy: 0.0000e+00 - acc: 1.000 - ETA: 1s - loss: 0.0000e+00 - binary_crossentropy: 0.0000e+00 - acc: 1.000 - ETA: 1s - loss: 0.0000e+00 - binary_crossentropy: 0.0000e+00 - acc: 1.000 - ETA: 0s - loss: 0.0000e+00 - binary_crossentropy: 0.0000e+00 - acc: 1.000 - ETA: 0s - loss: 0.0000e+00 - binary_crossentropy: 0.0000e+00 - acc: 1.000 - ETA: 0s - loss: 0.0000e+00 - binary_crossentropy: 0.0000e+00 - acc: 1.000 - ETA: 0s - loss: 0.0000e+00 - binary_crossentropy: 0.0000e+00 - acc: 1.000 - ETA: 0s - loss: 0.0000e+00 - binary_crossentropy: 0.0000e+00 - acc: 1.000 - ETA: 0s - loss: 0.0000e+00 - binary_crossentropy: 0.0000e+00 - acc: 1.000 - ETA: 0s - loss: 0.0000e+00 - binary_crossentropy: 0.0000e+00 - acc: 1.000 - ETA: 0s - loss: 0.0000e+00 - binary_crossentropy: 0.0000e+00 - acc: 1.000 - ETA: 0s - loss: 0.0000e+00 - binary_crossentropy: 0.0000e+00 - acc: 1.000 - ETA: 0s - loss: 0.0000e+00 - binary_crossentropy: 0.0000e+00 - acc: 1.000 - ETA: 0s - loss: 0.0000e+00 - binary_crossentropy: 0.0000e+00 - acc: 1.000 - ETA: 0s - loss: 0.0000e+00 - binary_crossentropy: 0.0000e+00 - acc: 1.000 - ETA: 0s - loss: 0.0000e+00 - binary_crossentropy: 0.0000e+00 - acc: 1.000 - ETA: 0s - loss: 0.0000e+00 - binary_crossentropy: 0.0000e+00 - acc: 1.000 - ETA: 0s - loss: 0.0000e+00 - binary_crossentropy: 0.0000e+00 - acc: 1.000 - ETA: 0s - loss: 0.0000e+00 - binary_crossentropy: 0.0000e+00 - acc: 1.000 - ETA: 0s - loss: 0.0000e+00 - binary_crossentropy: 0.0000e+00 - acc: 1.000 - ETA: 0s - loss: 0.0000e+00 - binary_crossentropy: 0.0000e+00 - acc: 1.000 - ETA: 0s - loss: 0.0000e+00 - binary_crossentropy: 0.0000e+00 - acc: 1.000 - 2s 131us/sample - loss: 0.0000e+00 - binary_crossentropy: 0.0000e+00 - acc: 1.0000 - val_loss: 0.0000e+00 - val_binary_crossentropy: 0.0000e+00 - val_acc: 1.0000\n",
      "Epoch 5/5\n",
      "16113/16113 [==============================] - ETA: 2s - loss: 0.0000e+00 - binary_crossentropy: 0.0000e+00 - acc: 1.000 - ETA: 1s - loss: 0.0000e+00 - binary_crossentropy: 0.0000e+00 - acc: 1.000 - ETA: 1s - loss: 0.0000e+00 - binary_crossentropy: 0.0000e+00 - acc: 1.000 - ETA: 1s - loss: 0.0000e+00 - binary_crossentropy: 0.0000e+00 - acc: 1.000 - ETA: 1s - loss: 0.0000e+00 - binary_crossentropy: 0.0000e+00 - acc: 1.000 - ETA: 1s - loss: 0.0000e+00 - binary_crossentropy: 0.0000e+00 - acc: 1.000 - ETA: 1s - loss: 0.0000e+00 - binary_crossentropy: 0.0000e+00 - acc: 1.000 - ETA: 1s - loss: 0.0000e+00 - binary_crossentropy: 0.0000e+00 - acc: 1.000 - ETA: 1s - loss: 0.0000e+00 - binary_crossentropy: 0.0000e+00 - acc: 1.000 - ETA: 1s - loss: 0.0000e+00 - binary_crossentropy: 0.0000e+00 - acc: 1.000 - ETA: 1s - loss: 0.0000e+00 - binary_crossentropy: 0.0000e+00 - acc: 1.000 - ETA: 1s - loss: 0.0000e+00 - binary_crossentropy: 0.0000e+00 - acc: 1.000 - ETA: 1s - loss: 0.0000e+00 - binary_crossentropy: 0.0000e+00 - acc: 1.000 - ETA: 1s - loss: 0.0000e+00 - binary_crossentropy: 0.0000e+00 - acc: 1.000 - ETA: 1s - loss: 0.0000e+00 - binary_crossentropy: 0.0000e+00 - acc: 1.000 - ETA: 1s - loss: 0.0000e+00 - binary_crossentropy: 0.0000e+00 - acc: 1.000 - ETA: 1s - loss: 0.0000e+00 - binary_crossentropy: 0.0000e+00 - acc: 1.000 - ETA: 1s - loss: 0.0000e+00 - binary_crossentropy: 0.0000e+00 - acc: 1.000 - ETA: 0s - loss: 0.0000e+00 - binary_crossentropy: 0.0000e+00 - acc: 1.000 - ETA: 0s - loss: 0.0000e+00 - binary_crossentropy: 0.0000e+00 - acc: 1.000 - ETA: 0s - loss: 0.0000e+00 - binary_crossentropy: 0.0000e+00 - acc: 1.000 - ETA: 0s - loss: 0.0000e+00 - binary_crossentropy: 0.0000e+00 - acc: 1.000 - ETA: 0s - loss: 0.0000e+00 - binary_crossentropy: 0.0000e+00 - acc: 1.000 - ETA: 0s - loss: 0.0000e+00 - binary_crossentropy: 0.0000e+00 - acc: 1.000 - ETA: 0s - loss: 0.0000e+00 - binary_crossentropy: 0.0000e+00 - acc: 1.000 - ETA: 0s - loss: 0.0000e+00 - binary_crossentropy: 0.0000e+00 - acc: 1.000 - ETA: 0s - loss: 0.0000e+00 - binary_crossentropy: 0.0000e+00 - acc: 1.000 - ETA: 0s - loss: 0.0000e+00 - binary_crossentropy: 0.0000e+00 - acc: 1.000 - ETA: 0s - loss: 0.0000e+00 - binary_crossentropy: 0.0000e+00 - acc: 1.000 - ETA: 0s - loss: 0.0000e+00 - binary_crossentropy: 0.0000e+00 - acc: 1.000 - ETA: 0s - loss: 0.0000e+00 - binary_crossentropy: 0.0000e+00 - acc: 1.000 - ETA: 0s - loss: 0.0000e+00 - binary_crossentropy: 0.0000e+00 - acc: 1.000 - ETA: 0s - loss: 0.0000e+00 - binary_crossentropy: 0.0000e+00 - acc: 1.000 - ETA: 0s - loss: 0.0000e+00 - binary_crossentropy: 0.0000e+00 - acc: 1.000 - ETA: 0s - loss: 0.0000e+00 - binary_crossentropy: 0.0000e+00 - acc: 1.000 - ETA: 0s - loss: 0.0000e+00 - binary_crossentropy: 0.0000e+00 - acc: 1.000 - ETA: 0s - loss: 0.0000e+00 - binary_crossentropy: 0.0000e+00 - acc: 1.000 - 2s 132us/sample - loss: 0.0000e+00 - binary_crossentropy: 0.0000e+00 - acc: 1.0000 - val_loss: 0.0000e+00 - val_binary_crossentropy: 0.0000e+00 - val_acc: 1.0000\n"
     ]
    },
    {
     "data": {
      "text/html": [
       "<span style=\"color:#4527A0\"><h1 style=\"font-size:18px\">Trial complete</h1></span>"
      ],
      "text/plain": [
       "<IPython.core.display.HTML object>"
      ]
     },
     "metadata": {},
     "output_type": "display_data"
    },
    {
     "data": {
      "text/html": [
       "<span style=\"color:#4527A0\"><h1 style=\"font-size:18px\">Trial summary</h1></span>"
      ],
      "text/plain": [
       "<IPython.core.display.HTML object>"
      ]
     },
     "metadata": {},
     "output_type": "display_data"
    },
    {
     "data": {
      "text/html": [
       "<span style=\"color:cyan\"> |-Trial ID: e0aa240d3f2cee89b1265b1071f4c2fe</span>"
      ],
      "text/plain": [
       "<IPython.core.display.HTML object>"
      ]
     },
     "metadata": {},
     "output_type": "display_data"
    },
    {
     "data": {
      "text/html": [
       "<span style=\"color:cyan\"> |-Score: 1.0</span>"
      ],
      "text/plain": [
       "<IPython.core.display.HTML object>"
      ]
     },
     "metadata": {},
     "output_type": "display_data"
    },
    {
     "data": {
      "text/html": [
       "<span style=\"color:cyan\"> |-Best step: 0</span>"
      ],
      "text/plain": [
       "<IPython.core.display.HTML object>"
      ]
     },
     "metadata": {},
     "output_type": "display_data"
    },
    {
     "data": {
      "text/html": [
       "<span style=\"color:#7E57C2\"><h2 style=\"font-size:16px\">Hyperparameters:</h2></span>"
      ],
      "text/plain": [
       "<IPython.core.display.HTML object>"
      ]
     },
     "metadata": {},
     "output_type": "display_data"
    },
    {
     "data": {
      "text/html": [
       "<span style=\"color:cyan\"> |-dense_activation: relu</span>"
      ],
      "text/plain": [
       "<IPython.core.display.HTML object>"
      ]
     },
     "metadata": {},
     "output_type": "display_data"
    },
    {
     "data": {
      "text/html": [
       "<span style=\"color:blue\"> |-learning_rate: 0.01</span>"
      ],
      "text/plain": [
       "<IPython.core.display.HTML object>"
      ]
     },
     "metadata": {},
     "output_type": "display_data"
    },
    {
     "data": {
      "text/html": [
       "<span style=\"color:cyan\"> |-units: 162</span>"
      ],
      "text/plain": [
       "<IPython.core.display.HTML object>"
      ]
     },
     "metadata": {},
     "output_type": "display_data"
    },
    {
     "name": "stdout",
     "output_type": "stream",
     "text": [
      "Train on 16113 samples, validate on 4029 samples\n",
      "WARNING:tensorflow:OMP_NUM_THREADS is no longer used by the default Keras config. To configure the number of threads, use tf.config.threading APIs.\n",
      "Epoch 1/5\n",
      "16113/16113 [==============================] - ETA: 2:57 - loss: 0.5467 - binary_crossentropy: 0.5467 - acc: 1.000 - ETA: 15s - loss: 0.0921 - binary_crossentropy: 0.0921 - acc: 1.000 - ETA: 9s - loss: 0.0500 - binary_crossentropy: 0.0500 - acc: 1.0000 - ETA: 6s - loss: 0.0343 - binary_crossentropy: 0.0343 - acc: 1.000 - ETA: 5s - loss: 0.0261 - binary_crossentropy: 0.0261 - acc: 1.000 - ETA: 4s - loss: 0.0210 - binary_crossentropy: 0.0210 - acc: 1.000 - ETA: 4s - loss: 0.0176 - binary_crossentropy: 0.0176 - acc: 1.000 - ETA: 3s - loss: 0.0154 - binary_crossentropy: 0.0154 - acc: 1.000 - ETA: 3s - loss: 0.0135 - binary_crossentropy: 0.0135 - acc: 1.000 - ETA: 3s - loss: 0.0120 - binary_crossentropy: 0.0120 - acc: 1.000 - ETA: 3s - loss: 0.0107 - binary_crossentropy: 0.0107 - acc: 1.000 - ETA: 2s - loss: 0.0098 - binary_crossentropy: 0.0098 - acc: 1.000 - ETA: 2s - loss: 0.0089 - binary_crossentropy: 0.0089 - acc: 1.000 - ETA: 2s - loss: 0.0082 - binary_crossentropy: 0.0082 - acc: 1.000 - ETA: 2s - loss: 0.0075 - binary_crossentropy: 0.0075 - acc: 1.000 - ETA: 2s - loss: 0.0069 - binary_crossentropy: 0.0069 - acc: 1.000 - ETA: 1s - loss: 0.0064 - binary_crossentropy: 0.0064 - acc: 1.000 - ETA: 1s - loss: 0.0060 - binary_crossentropy: 0.0060 - acc: 1.000 - ETA: 1s - loss: 0.0056 - binary_crossentropy: 0.0056 - acc: 1.000 - ETA: 1s - loss: 0.0052 - binary_crossentropy: 0.0052 - acc: 1.000 - ETA: 1s - loss: 0.0050 - binary_crossentropy: 0.0050 - acc: 1.000 - ETA: 1s - loss: 0.0047 - binary_crossentropy: 0.0047 - acc: 1.000 - ETA: 1s - loss: 0.0045 - binary_crossentropy: 0.0045 - acc: 1.000 - ETA: 1s - loss: 0.0043 - binary_crossentropy: 0.0043 - acc: 1.000 - ETA: 1s - loss: 0.0041 - binary_crossentropy: 0.0041 - acc: 1.000 - ETA: 1s - loss: 0.0040 - binary_crossentropy: 0.0040 - acc: 1.000 - ETA: 0s - loss: 0.0038 - binary_crossentropy: 0.0038 - acc: 1.000 - ETA: 0s - loss: 0.0036 - binary_crossentropy: 0.0036 - acc: 1.000 - ETA: 0s - loss: 0.0035 - binary_crossentropy: 0.0035 - acc: 1.000 - ETA: 0s - loss: 0.0034 - binary_crossentropy: 0.0034 - acc: 1.000 - ETA: 0s - loss: 0.0033 - binary_crossentropy: 0.0033 - acc: 1.000 - ETA: 0s - loss: 0.0032 - binary_crossentropy: 0.0032 - acc: 1.000 - ETA: 0s - loss: 0.0031 - binary_crossentropy: 0.0031 - acc: 1.000 - ETA: 0s - loss: 0.0030 - binary_crossentropy: 0.0030 - acc: 1.000 - ETA: 0s - loss: 0.0029 - binary_crossentropy: 0.0029 - acc: 1.000 - ETA: 0s - loss: 0.0028 - binary_crossentropy: 0.0028 - acc: 1.000 - ETA: 0s - loss: 0.0027 - binary_crossentropy: 0.0027 - acc: 1.000 - ETA: 0s - loss: 0.0026 - binary_crossentropy: 0.0026 - acc: 1.000 - ETA: 0s - loss: 0.0026 - binary_crossentropy: 0.0026 - acc: 1.000 - ETA: 0s - loss: 0.0025 - binary_crossentropy: 0.0025 - acc: 1.000 - ETA: 0s - loss: 0.0024 - binary_crossentropy: 0.0024 - acc: 1.000 - 3s 182us/sample - loss: 0.0024 - binary_crossentropy: 0.0024 - acc: 1.0000 - val_loss: 2.3785e-08 - val_binary_crossentropy: 2.3785e-08 - val_acc: 1.0000\n",
      "Epoch 2/5\n",
      "16113/16113 [==============================] - ETA: 2s - loss: 2.4370e-08 - binary_crossentropy: 2.4370e-08 - acc: 1.000 - ETA: 2s - loss: 2.3198e-08 - binary_crossentropy: 2.3198e-08 - acc: 1.000 - ETA: 1s - loss: 2.2504e-08 - binary_crossentropy: 2.2504e-08 - acc: 1.000 - ETA: 1s - loss: 2.2005e-08 - binary_crossentropy: 2.2005e-08 - acc: 1.000 - ETA: 1s - loss: 2.1452e-08 - binary_crossentropy: 2.1452e-08 - acc: 1.000 - ETA: 1s - loss: 2.0878e-08 - binary_crossentropy: 2.0878e-08 - acc: 1.000 - ETA: 1s - loss: 2.0437e-08 - binary_crossentropy: 2.0437e-08 - acc: 1.000 - ETA: 1s - loss: 2.0049e-08 - binary_crossentropy: 2.0049e-08 - acc: 1.000 - ETA: 1s - loss: 1.9637e-08 - binary_crossentropy: 1.9637e-08 - acc: 1.000 - ETA: 1s - loss: 1.9275e-08 - binary_crossentropy: 1.9275e-08 - acc: 1.000 - ETA: 1s - loss: 1.8901e-08 - binary_crossentropy: 1.8901e-08 - acc: 1.000 - ETA: 1s - loss: 1.8529e-08 - binary_crossentropy: 1.8529e-08 - acc: 1.000 - ETA: 1s - loss: 1.8185e-08 - binary_crossentropy: 1.8185e-08 - acc: 1.000 - ETA: 1s - loss: 1.7881e-08 - binary_crossentropy: 1.7881e-08 - acc: 1.000 - ETA: 1s - loss: 1.7580e-08 - binary_crossentropy: 1.7580e-08 - acc: 1.000 - ETA: 1s - loss: 1.7266e-08 - binary_crossentropy: 1.7266e-08 - acc: 1.000 - ETA: 1s - loss: 1.6965e-08 - binary_crossentropy: 1.6965e-08 - acc: 1.000 - ETA: 1s - loss: 1.6673e-08 - binary_crossentropy: 1.6673e-08 - acc: 1.000 - ETA: 1s - loss: 1.6416e-08 - binary_crossentropy: 1.6416e-08 - acc: 1.000 - ETA: 1s - loss: 1.6137e-08 - binary_crossentropy: 1.6137e-08 - acc: 1.000 - ETA: 1s - loss: 1.5871e-08 - binary_crossentropy: 1.5871e-08 - acc: 1.000 - ETA: 1s - loss: 1.5638e-08 - binary_crossentropy: 1.5638e-08 - acc: 1.000 - ETA: 1s - loss: 1.5393e-08 - binary_crossentropy: 1.5393e-08 - acc: 1.000 - ETA: 0s - loss: 1.5173e-08 - binary_crossentropy: 1.5173e-08 - acc: 1.000 - ETA: 0s - loss: 1.4939e-08 - binary_crossentropy: 1.4939e-08 - acc: 1.000 - ETA: 0s - loss: 1.4733e-08 - binary_crossentropy: 1.4733e-08 - acc: 1.000 - ETA: 0s - loss: 1.4495e-08 - binary_crossentropy: 1.4495e-08 - acc: 1.000 - ETA: 0s - loss: 1.4300e-08 - binary_crossentropy: 1.4300e-08 - acc: 1.000 - ETA: 0s - loss: 1.4093e-08 - binary_crossentropy: 1.4093e-08 - acc: 1.000 - ETA: 0s - loss: 1.3911e-08 - binary_crossentropy: 1.3911e-08 - acc: 1.000 - ETA: 0s - loss: 1.3702e-08 - binary_crossentropy: 1.3702e-08 - acc: 1.000 - ETA: 0s - loss: 1.3511e-08 - binary_crossentropy: 1.3511e-08 - acc: 1.000 - ETA: 0s - loss: 1.3328e-08 - binary_crossentropy: 1.3328e-08 - acc: 1.000 - ETA: 0s - loss: 1.3150e-08 - binary_crossentropy: 1.3150e-08 - acc: 1.000 - ETA: 0s - loss: 1.2977e-08 - binary_crossentropy: 1.2977e-08 - acc: 1.000 - ETA: 0s - loss: 1.2837e-08 - binary_crossentropy: 1.2837e-08 - acc: 1.000 - ETA: 0s - loss: 1.2699e-08 - binary_crossentropy: 1.2699e-08 - acc: 1.000 - ETA: 0s - loss: 1.2579e-08 - binary_crossentropy: 1.2579e-08 - acc: 1.000 - ETA: 0s - loss: 1.2433e-08 - binary_crossentropy: 1.2433e-08 - acc: 1.000 - ETA: 0s - loss: 1.2278e-08 - binary_crossentropy: 1.2278e-08 - acc: 1.000 - ETA: 0s - loss: 1.2127e-08 - binary_crossentropy: 1.2127e-08 - acc: 1.000 - ETA: 0s - loss: 1.2004e-08 - binary_crossentropy: 1.2004e-08 - acc: 1.000 - ETA: 0s - loss: 1.1860e-08 - binary_crossentropy: 1.1860e-08 - acc: 1.000 - 3s 156us/sample - loss: 1.1748e-08 - binary_crossentropy: 1.1748e-08 - acc: 1.0000 - val_loss: 5.8739e-09 - val_binary_crossentropy: 5.8739e-09 - val_acc: 1.0000\n",
      "Epoch 3/5\n",
      "16113/16113 [==============================] - ETA: 2s - loss: 5.7557e-09 - binary_crossentropy: 5.7557e-09 - acc: 1.000 - ETA: 2s - loss: 5.7729e-09 - binary_crossentropy: 5.7729e-09 - acc: 1.000 - ETA: 1s - loss: 5.7351e-09 - binary_crossentropy: 5.7351e-09 - acc: 1.000 - ETA: 2s - loss: 5.6845e-09 - binary_crossentropy: 5.6845e-09 - acc: 1.000 - ETA: 2s - loss: 5.6280e-09 - binary_crossentropy: 5.6280e-09 - acc: 1.000 - ETA: 1s - loss: 5.5578e-09 - binary_crossentropy: 5.5578e-09 - acc: 1.000 - ETA: 1s - loss: 5.4966e-09 - binary_crossentropy: 5.4966e-09 - acc: 1.000 - ETA: 1s - loss: 5.4340e-09 - binary_crossentropy: 5.4340e-09 - acc: 1.000 - ETA: 1s - loss: 5.3794e-09 - binary_crossentropy: 5.3794e-09 - acc: 1.000 - ETA: 1s - loss: 5.3191e-09 - binary_crossentropy: 5.3191e-09 - acc: 1.000 - ETA: 1s - loss: 5.2551e-09 - binary_crossentropy: 5.2551e-09 - acc: 1.000 - ETA: 1s - loss: 5.2030e-09 - binary_crossentropy: 5.2030e-09 - acc: 1.000 - ETA: 1s - loss: 5.1426e-09 - binary_crossentropy: 5.1426e-09 - acc: 1.000 - ETA: 1s - loss: 5.1067e-09 - binary_crossentropy: 5.1067e-09 - acc: 1.000 - ETA: 1s - loss: 5.0641e-09 - binary_crossentropy: 5.0641e-09 - acc: 1.000 - ETA: 1s - loss: 5.0270e-09 - binary_crossentropy: 5.0270e-09 - acc: 1.000 - ETA: 1s - loss: 4.9746e-09 - binary_crossentropy: 4.9746e-09 - acc: 1.000 - ETA: 1s - loss: 4.9412e-09 - binary_crossentropy: 4.9412e-09 - acc: 1.000 - ETA: 1s - loss: 4.8914e-09 - binary_crossentropy: 4.8914e-09 - acc: 1.000 - ETA: 1s - loss: 4.8465e-09 - binary_crossentropy: 4.8465e-09 - acc: 1.000 - ETA: 1s - loss: 4.8049e-09 - binary_crossentropy: 4.8049e-09 - acc: 1.000 - ETA: 1s - loss: 4.7651e-09 - binary_crossentropy: 4.7651e-09 - acc: 1.000 - ETA: 1s - loss: 4.7187e-09 - binary_crossentropy: 4.7187e-09 - acc: 1.000 - ETA: 1s - loss: 4.6731e-09 - binary_crossentropy: 4.6731e-09 - acc: 1.000 - ETA: 1s - loss: 4.6350e-09 - binary_crossentropy: 4.6350e-09 - acc: 1.000 - ETA: 0s - loss: 4.5904e-09 - binary_crossentropy: 4.5904e-09 - acc: 1.000 - ETA: 0s - loss: 4.5457e-09 - binary_crossentropy: 4.5457e-09 - acc: 1.000 - ETA: 0s - loss: 4.5038e-09 - binary_crossentropy: 4.5038e-09 - acc: 1.000 - ETA: 0s - loss: 4.4620e-09 - binary_crossentropy: 4.4620e-09 - acc: 1.000 - ETA: 0s - loss: 4.4217e-09 - binary_crossentropy: 4.4217e-09 - acc: 1.000 - ETA: 0s - loss: 4.3825e-09 - binary_crossentropy: 4.3825e-09 - acc: 1.000 - ETA: 0s - loss: 4.3439e-09 - binary_crossentropy: 4.3439e-09 - acc: 1.000 - ETA: 0s - loss: 4.3059e-09 - binary_crossentropy: 4.3059e-09 - acc: 1.000 - ETA: 0s - loss: 4.2676e-09 - binary_crossentropy: 4.2676e-09 - acc: 1.000 - ETA: 0s - loss: 4.2297e-09 - binary_crossentropy: 4.2297e-09 - acc: 1.000 - ETA: 0s - loss: 4.1938e-09 - binary_crossentropy: 4.1938e-09 - acc: 1.000 - ETA: 0s - loss: 4.1554e-09 - binary_crossentropy: 4.1554e-09 - acc: 1.000 - ETA: 0s - loss: 4.1200e-09 - binary_crossentropy: 4.1200e-09 - acc: 1.000 - ETA: 0s - loss: 4.0889e-09 - binary_crossentropy: 4.0889e-09 - acc: 1.000 - ETA: 0s - loss: 4.0575e-09 - binary_crossentropy: 4.0575e-09 - acc: 1.000 - ETA: 0s - loss: 4.0245e-09 - binary_crossentropy: 4.0245e-09 - acc: 1.000 - ETA: 0s - loss: 3.9964e-09 - binary_crossentropy: 3.9964e-09 - acc: 1.000 - 2s 153us/sample - loss: 3.9927e-09 - binary_crossentropy: 3.9927e-09 - acc: 1.0000 - val_loss: 2.7238e-09 - val_binary_crossentropy: 2.7238e-09 - val_acc: 1.0000\n",
      "Epoch 4/5\n",
      "16113/16113 [==============================] - ETA: 2s - loss: 2.7216e-09 - binary_crossentropy: 2.7216e-09 - acc: 1.000 - ETA: 2s - loss: 2.6948e-09 - binary_crossentropy: 2.6948e-09 - acc: 1.000 - ETA: 2s - loss: 2.6798e-09 - binary_crossentropy: 2.6798e-09 - acc: 1.000 - ETA: 1s - loss: 2.6563e-09 - binary_crossentropy: 2.6563e-09 - acc: 1.000 - ETA: 1s - loss: 2.6390e-09 - binary_crossentropy: 2.6390e-09 - acc: 1.000 - ETA: 1s - loss: 2.6196e-09 - binary_crossentropy: 2.6196e-09 - acc: 1.000 - ETA: 1s - loss: 2.6005e-09 - binary_crossentropy: 2.6005e-09 - acc: 1.000 - ETA: 1s - loss: 2.5788e-09 - binary_crossentropy: 2.5788e-09 - acc: 1.000 - ETA: 1s - loss: 2.5607e-09 - binary_crossentropy: 2.5607e-09 - acc: 1.000 - ETA: 1s - loss: 2.5408e-09 - binary_crossentropy: 2.5408e-09 - acc: 1.000 - ETA: 1s - loss: 2.5216e-09 - binary_crossentropy: 2.5216e-09 - acc: 1.000 - ETA: 1s - loss: 2.5037e-09 - binary_crossentropy: 2.5037e-09 - acc: 1.000 - ETA: 1s - loss: 2.4884e-09 - binary_crossentropy: 2.4884e-09 - acc: 1.000 - ETA: 1s - loss: 2.4719e-09 - binary_crossentropy: 2.4719e-09 - acc: 1.000 - ETA: 1s - loss: 2.4541e-09 - binary_crossentropy: 2.4541e-09 - acc: 1.000 - ETA: 1s - loss: 2.4384e-09 - binary_crossentropy: 2.4384e-09 - acc: 1.000 - ETA: 1s - loss: 2.4225e-09 - binary_crossentropy: 2.4225e-09 - acc: 1.000 - ETA: 1s - loss: 2.4064e-09 - binary_crossentropy: 2.4064e-09 - acc: 1.000 - ETA: 1s - loss: 2.3918e-09 - binary_crossentropy: 2.3918e-09 - acc: 1.000 - ETA: 1s - loss: 2.3776e-09 - binary_crossentropy: 2.3776e-09 - acc: 1.000 - ETA: 1s - loss: 2.3634e-09 - binary_crossentropy: 2.3634e-09 - acc: 1.000 - ETA: 1s - loss: 2.3498e-09 - binary_crossentropy: 2.3498e-09 - acc: 1.000 - ETA: 0s - loss: 2.3342e-09 - binary_crossentropy: 2.3342e-09 - acc: 1.000 - ETA: 0s - loss: 2.3200e-09 - binary_crossentropy: 2.3200e-09 - acc: 1.000 - ETA: 0s - loss: 2.3048e-09 - binary_crossentropy: 2.3048e-09 - acc: 1.000 - ETA: 0s - loss: 2.2896e-09 - binary_crossentropy: 2.2896e-09 - acc: 1.000 - ETA: 0s - loss: 2.2763e-09 - binary_crossentropy: 2.2763e-09 - acc: 1.000 - ETA: 0s - loss: 2.2617e-09 - binary_crossentropy: 2.2617e-09 - acc: 1.000 - ETA: 0s - loss: 2.2488e-09 - binary_crossentropy: 2.2488e-09 - acc: 1.000 - ETA: 0s - loss: 2.2346e-09 - binary_crossentropy: 2.2346e-09 - acc: 1.000 - ETA: 0s - loss: 2.2215e-09 - binary_crossentropy: 2.2215e-09 - acc: 1.000 - ETA: 0s - loss: 2.2076e-09 - binary_crossentropy: 2.2076e-09 - acc: 1.000 - ETA: 0s - loss: 2.1935e-09 - binary_crossentropy: 2.1935e-09 - acc: 1.000 - ETA: 0s - loss: 2.1826e-09 - binary_crossentropy: 2.1826e-09 - acc: 1.000 - ETA: 0s - loss: 2.1690e-09 - binary_crossentropy: 2.1690e-09 - acc: 1.000 - ETA: 0s - loss: 2.1553e-09 - binary_crossentropy: 2.1553e-09 - acc: 1.000 - ETA: 0s - loss: 2.1431e-09 - binary_crossentropy: 2.1431e-09 - acc: 1.000 - ETA: 0s - loss: 2.1311e-09 - binary_crossentropy: 2.1311e-09 - acc: 1.000 - ETA: 0s - loss: 2.1183e-09 - binary_crossentropy: 2.1183e-09 - acc: 1.000 - ETA: 0s - loss: 2.1051e-09 - binary_crossentropy: 2.1051e-09 - acc: 1.000 - ETA: 0s - loss: 2.0929e-09 - binary_crossentropy: 2.0929e-09 - acc: 1.000 - 2s 148us/sample - loss: 2.0905e-09 - binary_crossentropy: 2.0905e-09 - acc: 1.0000 - val_loss: 1.6046e-09 - val_binary_crossentropy: 1.6046e-09 - val_acc: 1.0000\n",
      "Epoch 5/5\n",
      "16113/16113 [==============================] - ETA: 2s - loss: 1.5521e-09 - binary_crossentropy: 1.5521e-09 - acc: 1.000 - ETA: 2s - loss: 1.6037e-09 - binary_crossentropy: 1.6037e-09 - acc: 1.000 - ETA: 2s - loss: 1.5920e-09 - binary_crossentropy: 1.5920e-09 - acc: 1.000 - ETA: 2s - loss: 1.5809e-09 - binary_crossentropy: 1.5809e-09 - acc: 1.000 - ETA: 1s - loss: 1.5715e-09 - binary_crossentropy: 1.5715e-09 - acc: 1.000 - ETA: 1s - loss: 1.5618e-09 - binary_crossentropy: 1.5618e-09 - acc: 1.000 - ETA: 1s - loss: 1.5549e-09 - binary_crossentropy: 1.5549e-09 - acc: 1.000 - ETA: 1s - loss: 1.5471e-09 - binary_crossentropy: 1.5471e-09 - acc: 1.000 - ETA: 1s - loss: 1.5385e-09 - binary_crossentropy: 1.5385e-09 - acc: 1.000 - ETA: 1s - loss: 1.5311e-09 - binary_crossentropy: 1.5311e-09 - acc: 1.000 - ETA: 1s - loss: 1.5221e-09 - binary_crossentropy: 1.5221e-09 - acc: 1.000 - ETA: 1s - loss: 1.5141e-09 - binary_crossentropy: 1.5141e-09 - acc: 1.000 - ETA: 1s - loss: 1.5055e-09 - binary_crossentropy: 1.5055e-09 - acc: 1.000 - ETA: 1s - loss: 1.4973e-09 - binary_crossentropy: 1.4973e-09 - acc: 1.000 - ETA: 1s - loss: 1.4898e-09 - binary_crossentropy: 1.4898e-09 - acc: 1.000 - ETA: 1s - loss: 1.4821e-09 - binary_crossentropy: 1.4821e-09 - acc: 1.000 - ETA: 1s - loss: 1.4752e-09 - binary_crossentropy: 1.4752e-09 - acc: 1.000 - ETA: 1s - loss: 1.4674e-09 - binary_crossentropy: 1.4674e-09 - acc: 1.000 - ETA: 1s - loss: 1.4591e-09 - binary_crossentropy: 1.4591e-09 - acc: 1.000 - ETA: 1s - loss: 1.4514e-09 - binary_crossentropy: 1.4514e-09 - acc: 1.000 - ETA: 1s - loss: 1.4435e-09 - binary_crossentropy: 1.4435e-09 - acc: 1.000 - ETA: 0s - loss: 1.4368e-09 - binary_crossentropy: 1.4368e-09 - acc: 1.000 - ETA: 0s - loss: 1.4295e-09 - binary_crossentropy: 1.4295e-09 - acc: 1.000 - ETA: 0s - loss: 1.4220e-09 - binary_crossentropy: 1.4220e-09 - acc: 1.000 - ETA: 0s - loss: 1.4144e-09 - binary_crossentropy: 1.4144e-09 - acc: 1.000 - ETA: 0s - loss: 1.4071e-09 - binary_crossentropy: 1.4071e-09 - acc: 1.000 - ETA: 0s - loss: 1.4001e-09 - binary_crossentropy: 1.4001e-09 - acc: 1.000 - ETA: 0s - loss: 1.3936e-09 - binary_crossentropy: 1.3936e-09 - acc: 1.000 - ETA: 0s - loss: 1.3869e-09 - binary_crossentropy: 1.3869e-09 - acc: 1.000 - ETA: 0s - loss: 1.3805e-09 - binary_crossentropy: 1.3805e-09 - acc: 1.000 - ETA: 0s - loss: 1.3737e-09 - binary_crossentropy: 1.3737e-09 - acc: 1.000 - ETA: 0s - loss: 1.3669e-09 - binary_crossentropy: 1.3669e-09 - acc: 1.000 - ETA: 0s - loss: 1.3601e-09 - binary_crossentropy: 1.3601e-09 - acc: 1.000 - ETA: 0s - loss: 1.3535e-09 - binary_crossentropy: 1.3535e-09 - acc: 1.000 - ETA: 0s - loss: 1.3473e-09 - binary_crossentropy: 1.3473e-09 - acc: 1.000 - ETA: 0s - loss: 1.3407e-09 - binary_crossentropy: 1.3407e-09 - acc: 1.000 - ETA: 0s - loss: 1.3338e-09 - binary_crossentropy: 1.3338e-09 - acc: 1.000 - ETA: 0s - loss: 1.3273e-09 - binary_crossentropy: 1.3273e-09 - acc: 1.000 - ETA: 0s - loss: 1.3214e-09 - binary_crossentropy: 1.3214e-09 - acc: 1.000 - ETA: 0s - loss: 1.3157e-09 - binary_crossentropy: 1.3157e-09 - acc: 1.000 - 2s 144us/sample - loss: 1.3123e-09 - binary_crossentropy: 1.3123e-09 - acc: 1.0000 - val_loss: 1.0719e-09 - val_binary_crossentropy: 1.0719e-09 - val_acc: 1.0000\n",
      "Train on 16113 samples, validate on 4029 samples\n",
      "WARNING:tensorflow:OMP_NUM_THREADS is no longer used by the default Keras config. To configure the number of threads, use tf.config.threading APIs.\n",
      "Epoch 1/5\n",
      "16113/16113 [==============================] - ETA: 3:07 - loss: 0.8899 - binary_crossentropy: 0.8899 - acc: 0.0000e+0 - ETA: 16s - loss: 0.1644 - binary_crossentropy: 0.1644 - acc: 0.9231    - ETA: 9s - loss: 0.0893 - binary_crossentropy: 0.0893 - acc: 0.9583 - ETA: 7s - loss: 0.0612 - binary_crossentropy: 0.0612 - acc: 0.971 - ETA: 5s - loss: 0.0437 - binary_crossentropy: 0.0437 - acc: 0.979 - ETA: 4s - loss: 0.0340 - binary_crossentropy: 0.0340 - acc: 0.984 - ETA: 3s - loss: 0.0290 - binary_crossentropy: 0.0290 - acc: 0.986 - ETA: 3s - loss: 0.0252 - binary_crossentropy: 0.0252 - acc: 0.988 - ETA: 3s - loss: 0.0228 - binary_crossentropy: 0.0228 - acc: 0.989 - ETA: 3s - loss: 0.0202 - binary_crossentropy: 0.0202 - acc: 0.990 - ETA: 2s - loss: 0.0180 - binary_crossentropy: 0.0180 - acc: 0.991 - ETA: 2s - loss: 0.0166 - binary_crossentropy: 0.0166 - acc: 0.992 - ETA: 2s - loss: 0.0152 - binary_crossentropy: 0.0152 - acc: 0.992 - ETA: 2s - loss: 0.0140 - binary_crossentropy: 0.0140 - acc: 0.993 - ETA: 2s - loss: 0.0128 - binary_crossentropy: 0.0128 - acc: 0.994 - ETA: 2s - loss: 0.0119 - binary_crossentropy: 0.0119 - acc: 0.994 - ETA: 1s - loss: 0.0112 - binary_crossentropy: 0.0112 - acc: 0.994 - ETA: 1s - loss: 0.0105 - binary_crossentropy: 0.0105 - acc: 0.995 - ETA: 1s - loss: 0.0100 - binary_crossentropy: 0.0100 - acc: 0.995 - ETA: 1s - loss: 0.0094 - binary_crossentropy: 0.0094 - acc: 0.995 - ETA: 1s - loss: 0.0090 - binary_crossentropy: 0.0090 - acc: 0.995 - ETA: 1s - loss: 0.0086 - binary_crossentropy: 0.0086 - acc: 0.996 - ETA: 1s - loss: 0.0082 - binary_crossentropy: 0.0082 - acc: 0.996 - ETA: 1s - loss: 0.0078 - binary_crossentropy: 0.0078 - acc: 0.996 - ETA: 1s - loss: 0.0075 - binary_crossentropy: 0.0075 - acc: 0.996 - ETA: 1s - loss: 0.0072 - binary_crossentropy: 0.0072 - acc: 0.996 - ETA: 1s - loss: 0.0069 - binary_crossentropy: 0.0069 - acc: 0.996 - ETA: 1s - loss: 0.0067 - binary_crossentropy: 0.0067 - acc: 0.996 - ETA: 0s - loss: 0.0064 - binary_crossentropy: 0.0064 - acc: 0.997 - ETA: 0s - loss: 0.0062 - binary_crossentropy: 0.0062 - acc: 0.997 - ETA: 0s - loss: 0.0060 - binary_crossentropy: 0.0060 - acc: 0.997 - ETA: 0s - loss: 0.0058 - binary_crossentropy: 0.0058 - acc: 0.997 - ETA: 0s - loss: 0.0057 - binary_crossentropy: 0.0057 - acc: 0.997 - ETA: 0s - loss: 0.0055 - binary_crossentropy: 0.0055 - acc: 0.997 - ETA: 0s - loss: 0.0054 - binary_crossentropy: 0.0054 - acc: 0.997 - ETA: 0s - loss: 0.0052 - binary_crossentropy: 0.0052 - acc: 0.997 - ETA: 0s - loss: 0.0051 - binary_crossentropy: 0.0051 - acc: 0.997 - ETA: 0s - loss: 0.0049 - binary_crossentropy: 0.0049 - acc: 0.997 - ETA: 0s - loss: 0.0048 - binary_crossentropy: 0.0048 - acc: 0.997 - ETA: 0s - loss: 0.0047 - binary_crossentropy: 0.0047 - acc: 0.997 - ETA: 0s - loss: 0.0045 - binary_crossentropy: 0.0045 - acc: 0.997 - ETA: 0s - loss: 0.0044 - binary_crossentropy: 0.0044 - acc: 0.997 - ETA: 0s - loss: 0.0043 - binary_crossentropy: 0.0043 - acc: 0.998 - 3s 186us/sample - loss: 0.0043 - binary_crossentropy: 0.0043 - acc: 0.9980 - val_loss: 3.5212e-08 - val_binary_crossentropy: 3.5212e-08 - val_acc: 1.0000\n",
      "Epoch 2/5\n",
      "16113/16113 [==============================] - ETA: 3s - loss: 3.5905e-08 - binary_crossentropy: 3.5905e-08 - acc: 1.000 - ETA: 2s - loss: 3.4430e-08 - binary_crossentropy: 3.4430e-08 - acc: 1.000 - ETA: 2s - loss: 3.3565e-08 - binary_crossentropy: 3.3565e-08 - acc: 1.000 - ETA: 2s - loss: 3.2740e-08 - binary_crossentropy: 3.2740e-08 - acc: 1.000 - ETA: 2s - loss: 3.1924e-08 - binary_crossentropy: 3.1924e-08 - acc: 1.000 - ETA: 2s - loss: 3.1154e-08 - binary_crossentropy: 3.1154e-08 - acc: 1.000 - ETA: 1s - loss: 3.0486e-08 - binary_crossentropy: 3.0486e-08 - acc: 1.000 - ETA: 1s - loss: 2.9859e-08 - binary_crossentropy: 2.9859e-08 - acc: 1.000 - ETA: 1s - loss: 2.9201e-08 - binary_crossentropy: 2.9201e-08 - acc: 1.000 - ETA: 1s - loss: 2.8565e-08 - binary_crossentropy: 2.8565e-08 - acc: 1.000 - ETA: 1s - loss: 2.7965e-08 - binary_crossentropy: 2.7965e-08 - acc: 1.000 - ETA: 1s - loss: 2.7440e-08 - binary_crossentropy: 2.7440e-08 - acc: 1.000 - ETA: 1s - loss: 2.6930e-08 - binary_crossentropy: 2.6930e-08 - acc: 1.000 - ETA: 1s - loss: 2.6397e-08 - binary_crossentropy: 2.6397e-08 - acc: 1.000 - ETA: 1s - loss: 2.5924e-08 - binary_crossentropy: 2.5924e-08 - acc: 1.000 - ETA: 1s - loss: 2.5427e-08 - binary_crossentropy: 2.5427e-08 - acc: 1.000 - ETA: 1s - loss: 2.4953e-08 - binary_crossentropy: 2.4953e-08 - acc: 1.000 - ETA: 1s - loss: 2.4490e-08 - binary_crossentropy: 2.4490e-08 - acc: 1.000 - ETA: 1s - loss: 2.4042e-08 - binary_crossentropy: 2.4042e-08 - acc: 1.000 - ETA: 1s - loss: 2.3621e-08 - binary_crossentropy: 2.3621e-08 - acc: 1.000 - ETA: 1s - loss: 2.3246e-08 - binary_crossentropy: 2.3246e-08 - acc: 1.000 - ETA: 1s - loss: 2.2878e-08 - binary_crossentropy: 2.2878e-08 - acc: 1.000 - ETA: 1s - loss: 2.2495e-08 - binary_crossentropy: 2.2495e-08 - acc: 1.000 - ETA: 1s - loss: 2.2154e-08 - binary_crossentropy: 2.2154e-08 - acc: 1.000 - ETA: 1s - loss: 2.1794e-08 - binary_crossentropy: 2.1794e-08 - acc: 1.000 - ETA: 0s - loss: 2.1446e-08 - binary_crossentropy: 2.1446e-08 - acc: 1.000 - ETA: 0s - loss: 2.1111e-08 - binary_crossentropy: 2.1111e-08 - acc: 1.000 - ETA: 0s - loss: 2.0811e-08 - binary_crossentropy: 2.0811e-08 - acc: 1.000 - ETA: 0s - loss: 2.0522e-08 - binary_crossentropy: 2.0522e-08 - acc: 1.000 - ETA: 0s - loss: 2.0237e-08 - binary_crossentropy: 2.0237e-08 - acc: 1.000 - ETA: 0s - loss: 1.9940e-08 - binary_crossentropy: 1.9940e-08 - acc: 1.000 - ETA: 0s - loss: 1.9649e-08 - binary_crossentropy: 1.9649e-08 - acc: 1.000 - ETA: 0s - loss: 1.9391e-08 - binary_crossentropy: 1.9391e-08 - acc: 1.000 - ETA: 0s - loss: 1.9116e-08 - binary_crossentropy: 1.9116e-08 - acc: 1.000 - ETA: 0s - loss: 1.8850e-08 - binary_crossentropy: 1.8850e-08 - acc: 1.000 - ETA: 0s - loss: 1.8590e-08 - binary_crossentropy: 1.8590e-08 - acc: 1.000 - ETA: 0s - loss: 1.8359e-08 - binary_crossentropy: 1.8359e-08 - acc: 1.000 - ETA: 0s - loss: 1.8135e-08 - binary_crossentropy: 1.8135e-08 - acc: 1.000 - ETA: 0s - loss: 1.7895e-08 - binary_crossentropy: 1.7895e-08 - acc: 1.000 - ETA: 0s - loss: 1.7661e-08 - binary_crossentropy: 1.7661e-08 - acc: 1.000 - ETA: 0s - loss: 1.7435e-08 - binary_crossentropy: 1.7435e-08 - acc: 1.000 - ETA: 0s - loss: 1.7232e-08 - binary_crossentropy: 1.7232e-08 - acc: 1.000 - ETA: 0s - loss: 1.7033e-08 - binary_crossentropy: 1.7033e-08 - acc: 1.000 - ETA: 0s - loss: 1.6839e-08 - binary_crossentropy: 1.6839e-08 - acc: 1.000 - 3s 157us/sample - loss: 1.6760e-08 - binary_crossentropy: 1.6760e-08 - acc: 1.0000 - val_loss: 8.0647e-09 - val_binary_crossentropy: 8.0647e-09 - val_acc: 1.0000\n",
      "Epoch 3/5\n",
      "16113/16113 [==============================] - ETA: 3s - loss: 8.1613e-09 - binary_crossentropy: 8.1613e-09 - acc: 1.000 - ETA: 2s - loss: 7.9782e-09 - binary_crossentropy: 7.9782e-09 - acc: 1.000 - ETA: 2s - loss: 7.8912e-09 - binary_crossentropy: 7.8912e-09 - acc: 1.000 - ETA: 2s - loss: 7.8027e-09 - binary_crossentropy: 7.8027e-09 - acc: 1.000 - ETA: 2s - loss: 7.7203e-09 - binary_crossentropy: 7.7203e-09 - acc: 1.000 - ETA: 2s - loss: 7.6376e-09 - binary_crossentropy: 7.6376e-09 - acc: 1.000 - ETA: 2s - loss: 7.5569e-09 - binary_crossentropy: 7.5569e-09 - acc: 1.000 - ETA: 1s - loss: 7.4723e-09 - binary_crossentropy: 7.4723e-09 - acc: 1.000 - ETA: 1s - loss: 7.3903e-09 - binary_crossentropy: 7.3903e-09 - acc: 1.000 - ETA: 1s - loss: 7.3110e-09 - binary_crossentropy: 7.3110e-09 - acc: 1.000 - ETA: 1s - loss: 7.2387e-09 - binary_crossentropy: 7.2387e-09 - acc: 1.000 - ETA: 1s - loss: 7.1616e-09 - binary_crossentropy: 7.1616e-09 - acc: 1.000 - ETA: 1s - loss: 7.0931e-09 - binary_crossentropy: 7.0931e-09 - acc: 1.000 - ETA: 1s - loss: 7.0176e-09 - binary_crossentropy: 7.0176e-09 - acc: 1.000 - ETA: 1s - loss: 6.9458e-09 - binary_crossentropy: 6.9458e-09 - acc: 1.000 - ETA: 1s - loss: 6.8763e-09 - binary_crossentropy: 6.8763e-09 - acc: 1.000 - ETA: 1s - loss: 6.8093e-09 - binary_crossentropy: 6.8093e-09 - acc: 1.000 - ETA: 1s - loss: 6.7465e-09 - binary_crossentropy: 6.7465e-09 - acc: 1.000 - ETA: 1s - loss: 6.6848e-09 - binary_crossentropy: 6.6848e-09 - acc: 1.000 - ETA: 1s - loss: 6.6255e-09 - binary_crossentropy: 6.6255e-09 - acc: 1.000 - ETA: 1s - loss: 6.5669e-09 - binary_crossentropy: 6.5669e-09 - acc: 1.000 - ETA: 1s - loss: 6.5039e-09 - binary_crossentropy: 6.5039e-09 - acc: 1.000 - ETA: 1s - loss: 6.4479e-09 - binary_crossentropy: 6.4479e-09 - acc: 1.000 - ETA: 1s - loss: 6.3923e-09 - binary_crossentropy: 6.3923e-09 - acc: 1.000 - ETA: 1s - loss: 6.3339e-09 - binary_crossentropy: 6.3339e-09 - acc: 1.000 - ETA: 0s - loss: 6.2797e-09 - binary_crossentropy: 6.2797e-09 - acc: 1.000 - ETA: 0s - loss: 6.2274e-09 - binary_crossentropy: 6.2274e-09 - acc: 1.000 - ETA: 0s - loss: 6.1718e-09 - binary_crossentropy: 6.1718e-09 - acc: 1.000 - ETA: 0s - loss: 6.1208e-09 - binary_crossentropy: 6.1208e-09 - acc: 1.000 - ETA: 0s - loss: 6.0666e-09 - binary_crossentropy: 6.0666e-09 - acc: 1.000 - ETA: 0s - loss: 6.0142e-09 - binary_crossentropy: 6.0142e-09 - acc: 1.000 - ETA: 0s - loss: 5.9617e-09 - binary_crossentropy: 5.9617e-09 - acc: 1.000 - ETA: 0s - loss: 5.9148e-09 - binary_crossentropy: 5.9148e-09 - acc: 1.000 - ETA: 0s - loss: 5.8643e-09 - binary_crossentropy: 5.8643e-09 - acc: 1.000 - ETA: 0s - loss: 5.8182e-09 - binary_crossentropy: 5.8182e-09 - acc: 1.000 - ETA: 0s - loss: 5.7730e-09 - binary_crossentropy: 5.7730e-09 - acc: 1.000 - ETA: 0s - loss: 5.7288e-09 - binary_crossentropy: 5.7288e-09 - acc: 1.000 - ETA: 0s - loss: 5.6858e-09 - binary_crossentropy: 5.6858e-09 - acc: 1.000 - ETA: 0s - loss: 5.6431e-09 - binary_crossentropy: 5.6431e-09 - acc: 1.000 - ETA: 0s - loss: 5.5971e-09 - binary_crossentropy: 5.5971e-09 - acc: 1.000 - ETA: 0s - loss: 5.5557e-09 - binary_crossentropy: 5.5557e-09 - acc: 1.000 - ETA: 0s - loss: 5.5111e-09 - binary_crossentropy: 5.5111e-09 - acc: 1.000 - ETA: 0s - loss: 5.4706e-09 - binary_crossentropy: 5.4706e-09 - acc: 1.000 - ETA: 0s - loss: 5.4280e-09 - binary_crossentropy: 5.4280e-09 - acc: 1.000 - 3s 160us/sample - loss: 5.3941e-09 - binary_crossentropy: 5.3941e-09 - acc: 1.0000 - val_loss: 3.6159e-09 - val_binary_crossentropy: 3.6159e-09 - val_acc: 1.0000\n",
      "Epoch 4/5\n",
      "16113/16113 [==============================] - ETA: 3s - loss: 3.6016e-09 - binary_crossentropy: 3.6016e-09 - acc: 1.000 - ETA: 2s - loss: 3.5799e-09 - binary_crossentropy: 3.5798e-09 - acc: 1.000 - ETA: 2s - loss: 3.5585e-09 - binary_crossentropy: 3.5585e-09 - acc: 1.000 - ETA: 2s - loss: 3.5307e-09 - binary_crossentropy: 3.5307e-09 - acc: 1.000 - ETA: 2s - loss: 3.5083e-09 - binary_crossentropy: 3.5083e-09 - acc: 1.000 - ETA: 2s - loss: 3.4815e-09 - binary_crossentropy: 3.4815e-09 - acc: 1.000 - ETA: 1s - loss: 3.4584e-09 - binary_crossentropy: 3.4584e-09 - acc: 1.000 - ETA: 1s - loss: 3.4351e-09 - binary_crossentropy: 3.4351e-09 - acc: 1.000 - ETA: 1s - loss: 3.4105e-09 - binary_crossentropy: 3.4105e-09 - acc: 1.000 - ETA: 1s - loss: 3.3878e-09 - binary_crossentropy: 3.3878e-09 - acc: 1.000 - ETA: 1s - loss: 3.3667e-09 - binary_crossentropy: 3.3667e-09 - acc: 1.000 - ETA: 1s - loss: 3.3447e-09 - binary_crossentropy: 3.3447e-09 - acc: 1.000 - ETA: 1s - loss: 3.3233e-09 - binary_crossentropy: 3.3233e-09 - acc: 1.000 - ETA: 1s - loss: 3.2997e-09 - binary_crossentropy: 3.2997e-09 - acc: 1.000 - ETA: 1s - loss: 3.2786e-09 - binary_crossentropy: 3.2786e-09 - acc: 1.000 - ETA: 1s - loss: 3.2573e-09 - binary_crossentropy: 3.2573e-09 - acc: 1.000 - ETA: 1s - loss: 3.2367e-09 - binary_crossentropy: 3.2367e-09 - acc: 1.000 - ETA: 1s - loss: 3.2164e-09 - binary_crossentropy: 3.2164e-09 - acc: 1.000 - ETA: 1s - loss: 3.1946e-09 - binary_crossentropy: 3.1946e-09 - acc: 1.000 - ETA: 1s - loss: 3.1752e-09 - binary_crossentropy: 3.1752e-09 - acc: 1.000 - ETA: 1s - loss: 3.1543e-09 - binary_crossentropy: 3.1543e-09 - acc: 1.000 - ETA: 1s - loss: 3.1339e-09 - binary_crossentropy: 3.1339e-09 - acc: 1.000 - ETA: 1s - loss: 3.1136e-09 - binary_crossentropy: 3.1136e-09 - acc: 1.000 - ETA: 1s - loss: 3.0953e-09 - binary_crossentropy: 3.0953e-09 - acc: 1.000 - ETA: 1s - loss: 3.0751e-09 - binary_crossentropy: 3.0751e-09 - acc: 1.000 - ETA: 0s - loss: 3.0549e-09 - binary_crossentropy: 3.0549e-09 - acc: 1.000 - ETA: 0s - loss: 3.0355e-09 - binary_crossentropy: 3.0355e-09 - acc: 1.000 - ETA: 0s - loss: 3.0184e-09 - binary_crossentropy: 3.0184e-09 - acc: 1.000 - ETA: 0s - loss: 2.9997e-09 - binary_crossentropy: 2.9997e-09 - acc: 1.000 - ETA: 0s - loss: 2.9811e-09 - binary_crossentropy: 2.9811e-09 - acc: 1.000 - ETA: 0s - loss: 2.9620e-09 - binary_crossentropy: 2.9620e-09 - acc: 1.000 - ETA: 0s - loss: 2.9433e-09 - binary_crossentropy: 2.9433e-09 - acc: 1.000 - ETA: 0s - loss: 2.9253e-09 - binary_crossentropy: 2.9253e-09 - acc: 1.000 - ETA: 0s - loss: 2.9074e-09 - binary_crossentropy: 2.9074e-09 - acc: 1.000 - ETA: 0s - loss: 2.8913e-09 - binary_crossentropy: 2.8913e-09 - acc: 1.000 - ETA: 0s - loss: 2.8755e-09 - binary_crossentropy: 2.8755e-09 - acc: 1.000 - ETA: 0s - loss: 2.8584e-09 - binary_crossentropy: 2.8584e-09 - acc: 1.000 - ETA: 0s - loss: 2.8411e-09 - binary_crossentropy: 2.8411e-09 - acc: 1.000 - ETA: 0s - loss: 2.8244e-09 - binary_crossentropy: 2.8244e-09 - acc: 1.000 - ETA: 0s - loss: 2.8079e-09 - binary_crossentropy: 2.8079e-09 - acc: 1.000 - ETA: 0s - loss: 2.7926e-09 - binary_crossentropy: 2.7926e-09 - acc: 1.000 - ETA: 0s - loss: 2.7779e-09 - binary_crossentropy: 2.7779e-09 - acc: 1.000 - ETA: 0s - loss: 2.7631e-09 - binary_crossentropy: 2.7631e-09 - acc: 1.000 - ETA: 0s - loss: 2.7483e-09 - binary_crossentropy: 2.7483e-09 - acc: 1.000 - 3s 157us/sample - loss: 2.7425e-09 - binary_crossentropy: 2.7425e-09 - acc: 1.0000 - val_loss: 2.0796e-09 - val_binary_crossentropy: 2.0796e-09 - val_acc: 1.0000\n",
      "Epoch 5/5\n",
      "16113/16113 [==============================] - ETA: 2s - loss: 2.0555e-09 - binary_crossentropy: 2.0555e-09 - acc: 1.000 - ETA: 2s - loss: 2.0672e-09 - binary_crossentropy: 2.0672e-09 - acc: 1.000 - ETA: 2s - loss: 2.0570e-09 - binary_crossentropy: 2.0570e-09 - acc: 1.000 - ETA: 2s - loss: 2.0446e-09 - binary_crossentropy: 2.0446e-09 - acc: 1.000 - ETA: 2s - loss: 2.0342e-09 - binary_crossentropy: 2.0342e-09 - acc: 1.000 - ETA: 2s - loss: 2.0239e-09 - binary_crossentropy: 2.0239e-09 - acc: 1.000 - ETA: 1s - loss: 2.0117e-09 - binary_crossentropy: 2.0117e-09 - acc: 1.000 - ETA: 1s - loss: 2.0024e-09 - binary_crossentropy: 2.0024e-09 - acc: 1.000 - ETA: 1s - loss: 1.9919e-09 - binary_crossentropy: 1.9919e-09 - acc: 1.000 - ETA: 1s - loss: 1.9827e-09 - binary_crossentropy: 1.9827e-09 - acc: 1.000 - ETA: 1s - loss: 1.9721e-09 - binary_crossentropy: 1.9721e-09 - acc: 1.000 - ETA: 1s - loss: 1.9630e-09 - binary_crossentropy: 1.9630e-09 - acc: 1.000 - ETA: 1s - loss: 1.9525e-09 - binary_crossentropy: 1.9525e-09 - acc: 1.000 - ETA: 1s - loss: 1.9432e-09 - binary_crossentropy: 1.9432e-09 - acc: 1.000 - ETA: 1s - loss: 1.9337e-09 - binary_crossentropy: 1.9337e-09 - acc: 1.000 - ETA: 1s - loss: 1.9242e-09 - binary_crossentropy: 1.9242e-09 - acc: 1.000 - ETA: 1s - loss: 1.9139e-09 - binary_crossentropy: 1.9139e-09 - acc: 1.000 - ETA: 1s - loss: 1.9047e-09 - binary_crossentropy: 1.9047e-09 - acc: 1.000 - ETA: 1s - loss: 1.8950e-09 - binary_crossentropy: 1.8950e-09 - acc: 1.000 - ETA: 1s - loss: 1.8860e-09 - binary_crossentropy: 1.8860e-09 - acc: 1.000 - ETA: 1s - loss: 1.8765e-09 - binary_crossentropy: 1.8765e-09 - acc: 1.000 - ETA: 1s - loss: 1.8668e-09 - binary_crossentropy: 1.8668e-09 - acc: 1.000 - ETA: 1s - loss: 1.8572e-09 - binary_crossentropy: 1.8572e-09 - acc: 1.000 - ETA: 1s - loss: 1.8491e-09 - binary_crossentropy: 1.8491e-09 - acc: 1.000 - ETA: 1s - loss: 1.8397e-09 - binary_crossentropy: 1.8397e-09 - acc: 1.000 - ETA: 0s - loss: 1.8309e-09 - binary_crossentropy: 1.8309e-09 - acc: 1.000 - ETA: 0s - loss: 1.8220e-09 - binary_crossentropy: 1.8220e-09 - acc: 1.000 - ETA: 0s - loss: 1.8133e-09 - binary_crossentropy: 1.8133e-09 - acc: 1.000 - ETA: 0s - loss: 1.8044e-09 - binary_crossentropy: 1.8044e-09 - acc: 1.000 - ETA: 0s - loss: 1.7955e-09 - binary_crossentropy: 1.7955e-09 - acc: 1.000 - ETA: 0s - loss: 1.7869e-09 - binary_crossentropy: 1.7869e-09 - acc: 1.000 - ETA: 0s - loss: 1.7784e-09 - binary_crossentropy: 1.7784e-09 - acc: 1.000 - ETA: 0s - loss: 1.7698e-09 - binary_crossentropy: 1.7698e-09 - acc: 1.000 - ETA: 0s - loss: 1.7614e-09 - binary_crossentropy: 1.7614e-09 - acc: 1.000 - ETA: 0s - loss: 1.7538e-09 - binary_crossentropy: 1.7538e-09 - acc: 1.000 - ETA: 0s - loss: 1.7462e-09 - binary_crossentropy: 1.7462e-09 - acc: 1.000 - ETA: 0s - loss: 1.7400e-09 - binary_crossentropy: 1.7400e-09 - acc: 1.000 - ETA: 0s - loss: 1.7326e-09 - binary_crossentropy: 1.7326e-09 - acc: 1.000 - ETA: 0s - loss: 1.7246e-09 - binary_crossentropy: 1.7246e-09 - acc: 1.000 - ETA: 0s - loss: 1.7175e-09 - binary_crossentropy: 1.7175e-09 - acc: 1.000 - ETA: 0s - loss: 1.7095e-09 - binary_crossentropy: 1.7095e-09 - acc: 1.000 - ETA: 0s - loss: 1.7016e-09 - binary_crossentropy: 1.7016e-09 - acc: 1.000 - ETA: 0s - loss: 1.6942e-09 - binary_crossentropy: 1.6942e-09 - acc: 1.000 - ETA: 0s - loss: 1.6866e-09 - binary_crossentropy: 1.6866e-09 - acc: 1.000 - 3s 158us/sample - loss: 1.6839e-09 - binary_crossentropy: 1.6839e-09 - acc: 1.0000 - val_loss: 1.3618e-09 - val_binary_crossentropy: 1.3618e-09 - val_acc: 1.0000\n",
      "Train on 16113 samples, validate on 4029 samples\n",
      "WARNING:tensorflow:OMP_NUM_THREADS is no longer used by the default Keras config. To configure the number of threads, use tf.config.threading APIs.\n",
      "Epoch 1/5\n",
      "16113/16113 [==============================] - ETA: 3:13 - loss: 0.4842 - binary_crossentropy: 0.4842 - acc: 1.000 - ETA: 17s - loss: 0.0808 - binary_crossentropy: 0.0808 - acc: 1.000 - ETA: 10s - loss: 0.0422 - binary_crossentropy: 0.0422 - acc: 1.00 - ETA: 7s - loss: 0.0286 - binary_crossentropy: 0.0286 - acc: 1.0000 - ETA: 6s - loss: 0.0216 - binary_crossentropy: 0.0216 - acc: 1.000 - ETA: 5s - loss: 0.0173 - binary_crossentropy: 0.0173 - acc: 1.000 - ETA: 4s - loss: 0.0143 - binary_crossentropy: 0.0143 - acc: 1.000 - ETA: 4s - loss: 0.0123 - binary_crossentropy: 0.0123 - acc: 1.000 - ETA: 3s - loss: 0.0108 - binary_crossentropy: 0.0108 - acc: 1.000 - ETA: 3s - loss: 0.0096 - binary_crossentropy: 0.0096 - acc: 1.000 - ETA: 3s - loss: 0.0086 - binary_crossentropy: 0.0086 - acc: 1.000 - ETA: 2s - loss: 0.0078 - binary_crossentropy: 0.0078 - acc: 1.000 - ETA: 2s - loss: 0.0072 - binary_crossentropy: 0.0072 - acc: 1.000 - ETA: 2s - loss: 0.0067 - binary_crossentropy: 0.0067 - acc: 1.000 - ETA: 2s - loss: 0.0061 - binary_crossentropy: 0.0061 - acc: 1.000 - ETA: 2s - loss: 0.0057 - binary_crossentropy: 0.0057 - acc: 1.000 - ETA: 2s - loss: 0.0054 - binary_crossentropy: 0.0054 - acc: 1.000 - ETA: 2s - loss: 0.0050 - binary_crossentropy: 0.0050 - acc: 1.000 - ETA: 1s - loss: 0.0048 - binary_crossentropy: 0.0048 - acc: 1.000 - ETA: 1s - loss: 0.0045 - binary_crossentropy: 0.0045 - acc: 1.000 - ETA: 1s - loss: 0.0042 - binary_crossentropy: 0.0042 - acc: 1.000 - ETA: 1s - loss: 0.0040 - binary_crossentropy: 0.0040 - acc: 1.000 - ETA: 1s - loss: 0.0038 - binary_crossentropy: 0.0038 - acc: 1.000 - ETA: 1s - loss: 0.0037 - binary_crossentropy: 0.0037 - acc: 1.000 - ETA: 1s - loss: 0.0035 - binary_crossentropy: 0.0035 - acc: 1.000 - ETA: 1s - loss: 0.0034 - binary_crossentropy: 0.0034 - acc: 1.000 - ETA: 1s - loss: 0.0032 - binary_crossentropy: 0.0032 - acc: 1.000 - ETA: 1s - loss: 0.0031 - binary_crossentropy: 0.0031 - acc: 1.000 - ETA: 1s - loss: 0.0030 - binary_crossentropy: 0.0030 - acc: 1.000 - ETA: 0s - loss: 0.0029 - binary_crossentropy: 0.0029 - acc: 1.000 - ETA: 0s - loss: 0.0028 - binary_crossentropy: 0.0028 - acc: 1.000 - ETA: 0s - loss: 0.0027 - binary_crossentropy: 0.0027 - acc: 1.000 - ETA: 0s - loss: 0.0026 - binary_crossentropy: 0.0026 - acc: 1.000 - ETA: 0s - loss: 0.0025 - binary_crossentropy: 0.0025 - acc: 1.000 - ETA: 0s - loss: 0.0024 - binary_crossentropy: 0.0024 - acc: 1.000 - ETA: 0s - loss: 0.0024 - binary_crossentropy: 0.0024 - acc: 1.000 - ETA: 0s - loss: 0.0023 - binary_crossentropy: 0.0023 - acc: 1.000 - ETA: 0s - loss: 0.0023 - binary_crossentropy: 0.0023 - acc: 1.000 - ETA: 0s - loss: 0.0022 - binary_crossentropy: 0.0022 - acc: 1.000 - ETA: 0s - loss: 0.0021 - binary_crossentropy: 0.0021 - acc: 1.000 - ETA: 0s - loss: 0.0021 - binary_crossentropy: 0.0021 - acc: 1.000 - ETA: 0s - loss: 0.0020 - binary_crossentropy: 0.0020 - acc: 1.000 - ETA: 0s - loss: 0.0020 - binary_crossentropy: 0.0020 - acc: 1.000 - ETA: 0s - loss: 0.0020 - binary_crossentropy: 0.0020 - acc: 1.000 - 3s 189us/sample - loss: 0.0019 - binary_crossentropy: 0.0019 - acc: 1.0000 - val_loss: 3.6965e-08 - val_binary_crossentropy: 3.6965e-08 - val_acc: 1.0000\n",
      "Epoch 2/5\n",
      "16113/16113 [==============================] - ETA: 3s - loss: 3.6503e-08 - binary_crossentropy: 3.6503e-08 - acc: 1.000 - ETA: 2s - loss: 3.6166e-08 - binary_crossentropy: 3.6166e-08 - acc: 1.000 - ETA: 2s - loss: 3.5355e-08 - binary_crossentropy: 3.5355e-08 - acc: 1.000 - ETA: 2s - loss: 3.4418e-08 - binary_crossentropy: 3.4418e-08 - acc: 1.000 - ETA: 1s - loss: 3.3481e-08 - binary_crossentropy: 3.3481e-08 - acc: 1.000 - ETA: 1s - loss: 3.2700e-08 - binary_crossentropy: 3.2700e-08 - acc: 1.000 - ETA: 1s - loss: 3.1921e-08 - binary_crossentropy: 3.1921e-08 - acc: 1.000 - ETA: 1s - loss: 3.1271e-08 - binary_crossentropy: 3.1271e-08 - acc: 1.000 - ETA: 1s - loss: 3.0564e-08 - binary_crossentropy: 3.0564e-08 - acc: 1.000 - ETA: 1s - loss: 2.9925e-08 - binary_crossentropy: 2.9925e-08 - acc: 1.000 - ETA: 1s - loss: 2.9334e-08 - binary_crossentropy: 2.9334e-08 - acc: 1.000 - ETA: 1s - loss: 2.8773e-08 - binary_crossentropy: 2.8773e-08 - acc: 1.000 - ETA: 1s - loss: 2.8194e-08 - binary_crossentropy: 2.8194e-08 - acc: 1.000 - ETA: 1s - loss: 2.7676e-08 - binary_crossentropy: 2.7676e-08 - acc: 1.000 - ETA: 1s - loss: 2.7190e-08 - binary_crossentropy: 2.7190e-08 - acc: 1.000 - ETA: 1s - loss: 2.6726e-08 - binary_crossentropy: 2.6726e-08 - acc: 1.000 - ETA: 1s - loss: 2.6224e-08 - binary_crossentropy: 2.6224e-08 - acc: 1.000 - ETA: 1s - loss: 2.5756e-08 - binary_crossentropy: 2.5756e-08 - acc: 1.000 - ETA: 1s - loss: 2.5290e-08 - binary_crossentropy: 2.5290e-08 - acc: 1.000 - ETA: 1s - loss: 2.4815e-08 - binary_crossentropy: 2.4815e-08 - acc: 1.000 - ETA: 1s - loss: 2.4321e-08 - binary_crossentropy: 2.4321e-08 - acc: 1.000 - ETA: 1s - loss: 2.3846e-08 - binary_crossentropy: 2.3846e-08 - acc: 1.000 - ETA: 1s - loss: 2.3452e-08 - binary_crossentropy: 2.3452e-08 - acc: 1.000 - ETA: 0s - loss: 2.3072e-08 - binary_crossentropy: 2.3072e-08 - acc: 1.000 - ETA: 0s - loss: 2.2730e-08 - binary_crossentropy: 2.2730e-08 - acc: 1.000 - ETA: 0s - loss: 2.2343e-08 - binary_crossentropy: 2.2343e-08 - acc: 1.000 - ETA: 0s - loss: 2.1969e-08 - binary_crossentropy: 2.1969e-08 - acc: 1.000 - ETA: 0s - loss: 2.1582e-08 - binary_crossentropy: 2.1582e-08 - acc: 1.000 - ETA: 0s - loss: 2.1290e-08 - binary_crossentropy: 2.1290e-08 - acc: 1.000 - ETA: 0s - loss: 2.0977e-08 - binary_crossentropy: 2.0977e-08 - acc: 1.000 - ETA: 0s - loss: 2.0674e-08 - binary_crossentropy: 2.0674e-08 - acc: 1.000 - ETA: 0s - loss: 2.0403e-08 - binary_crossentropy: 2.0403e-08 - acc: 1.000 - ETA: 0s - loss: 2.0118e-08 - binary_crossentropy: 2.0118e-08 - acc: 1.000 - ETA: 0s - loss: 1.9842e-08 - binary_crossentropy: 1.9842e-08 - acc: 1.000 - ETA: 0s - loss: 1.9594e-08 - binary_crossentropy: 1.9594e-08 - acc: 1.000 - ETA: 0s - loss: 1.9329e-08 - binary_crossentropy: 1.9329e-08 - acc: 1.000 - ETA: 0s - loss: 1.9073e-08 - binary_crossentropy: 1.9073e-08 - acc: 1.000 - ETA: 0s - loss: 1.8823e-08 - binary_crossentropy: 1.8823e-08 - acc: 1.000 - ETA: 0s - loss: 1.8579e-08 - binary_crossentropy: 1.8579e-08 - acc: 1.000 - ETA: 0s - loss: 1.8359e-08 - binary_crossentropy: 1.8359e-08 - acc: 1.000 - ETA: 0s - loss: 1.8129e-08 - binary_crossentropy: 1.8129e-08 - acc: 1.000 - ETA: 0s - loss: 1.7903e-08 - binary_crossentropy: 1.7903e-08 - acc: 1.000 - ETA: 0s - loss: 1.7684e-08 - binary_crossentropy: 1.7684e-08 - acc: 1.000 - 2s 153us/sample - loss: 1.7674e-08 - binary_crossentropy: 1.7674e-08 - acc: 1.0000 - val_loss: 8.5764e-09 - val_binary_crossentropy: 8.5764e-09 - val_acc: 1.0000\n",
      "Epoch 3/5\n",
      "16113/16113 [==============================] - ETA: 2s - loss: 8.5181e-09 - binary_crossentropy: 8.5181e-09 - acc: 1.000 - ETA: 1s - loss: 8.4920e-09 - binary_crossentropy: 8.4920e-09 - acc: 1.000 - ETA: 1s - loss: 8.3863e-09 - binary_crossentropy: 8.3863e-09 - acc: 1.000 - ETA: 1s - loss: 8.2857e-09 - binary_crossentropy: 8.2857e-09 - acc: 1.000 - ETA: 1s - loss: 8.1843e-09 - binary_crossentropy: 8.1843e-09 - acc: 1.000 - ETA: 1s - loss: 8.0977e-09 - binary_crossentropy: 8.0977e-09 - acc: 1.000 - ETA: 1s - loss: 8.0027e-09 - binary_crossentropy: 8.0027e-09 - acc: 1.000 - ETA: 1s - loss: 7.9111e-09 - binary_crossentropy: 7.9111e-09 - acc: 1.000 - ETA: 1s - loss: 7.8325e-09 - binary_crossentropy: 7.8325e-09 - acc: 1.000 - ETA: 1s - loss: 7.7518e-09 - binary_crossentropy: 7.7517e-09 - acc: 1.000 - ETA: 1s - loss: 7.6628e-09 - binary_crossentropy: 7.6628e-09 - acc: 1.000 - ETA: 1s - loss: 7.5770e-09 - binary_crossentropy: 7.5770e-09 - acc: 1.000 - ETA: 1s - loss: 7.5015e-09 - binary_crossentropy: 7.5015e-09 - acc: 1.000 - ETA: 1s - loss: 7.4113e-09 - binary_crossentropy: 7.4113e-09 - acc: 1.000 - ETA: 1s - loss: 7.3244e-09 - binary_crossentropy: 7.3244e-09 - acc: 1.000 - ETA: 1s - loss: 7.2460e-09 - binary_crossentropy: 7.2460e-09 - acc: 1.000 - ETA: 1s - loss: 7.1716e-09 - binary_crossentropy: 7.1716e-09 - acc: 1.000 - ETA: 1s - loss: 7.1067e-09 - binary_crossentropy: 7.1067e-09 - acc: 1.000 - ETA: 1s - loss: 7.0368e-09 - binary_crossentropy: 7.0368e-09 - acc: 1.000 - ETA: 1s - loss: 6.9690e-09 - binary_crossentropy: 6.9690e-09 - acc: 1.000 - ETA: 1s - loss: 6.9074e-09 - binary_crossentropy: 6.9074e-09 - acc: 1.000 - ETA: 1s - loss: 6.8418e-09 - binary_crossentropy: 6.8418e-09 - acc: 1.000 - ETA: 1s - loss: 6.7792e-09 - binary_crossentropy: 6.7792e-09 - acc: 1.000 - ETA: 0s - loss: 6.7158e-09 - binary_crossentropy: 6.7158e-09 - acc: 1.000 - ETA: 0s - loss: 6.6478e-09 - binary_crossentropy: 6.6478e-09 - acc: 1.000 - ETA: 0s - loss: 6.5927e-09 - binary_crossentropy: 6.5927e-09 - acc: 1.000 - ETA: 0s - loss: 6.5393e-09 - binary_crossentropy: 6.5393e-09 - acc: 1.000 - ETA: 0s - loss: 6.4845e-09 - binary_crossentropy: 6.4845e-09 - acc: 1.000 - ETA: 0s - loss: 6.4320e-09 - binary_crossentropy: 6.4320e-09 - acc: 1.000 - ETA: 0s - loss: 6.3769e-09 - binary_crossentropy: 6.3769e-09 - acc: 1.000 - ETA: 0s - loss: 6.3215e-09 - binary_crossentropy: 6.3215e-09 - acc: 1.000 - ETA: 0s - loss: 6.2674e-09 - binary_crossentropy: 6.2674e-09 - acc: 1.000 - ETA: 0s - loss: 6.2135e-09 - binary_crossentropy: 6.2135e-09 - acc: 1.000 - ETA: 0s - loss: 6.1613e-09 - binary_crossentropy: 6.1613e-09 - acc: 1.000 - ETA: 0s - loss: 6.1149e-09 - binary_crossentropy: 6.1149e-09 - acc: 1.000 - ETA: 0s - loss: 6.0645e-09 - binary_crossentropy: 6.0645e-09 - acc: 1.000 - ETA: 0s - loss: 6.0151e-09 - binary_crossentropy: 6.0151e-09 - acc: 1.000 - ETA: 0s - loss: 5.9672e-09 - binary_crossentropy: 5.9672e-09 - acc: 1.000 - ETA: 0s - loss: 5.9229e-09 - binary_crossentropy: 5.9229e-09 - acc: 1.000 - ETA: 0s - loss: 5.8759e-09 - binary_crossentropy: 5.8759e-09 - acc: 1.000 - ETA: 0s - loss: 5.8294e-09 - binary_crossentropy: 5.8294e-09 - acc: 1.000 - ETA: 0s - loss: 5.7866e-09 - binary_crossentropy: 5.7866e-09 - acc: 1.000 - ETA: 0s - loss: 5.7422e-09 - binary_crossentropy: 5.7422e-09 - acc: 1.000 - 2s 153us/sample - loss: 5.7401e-09 - binary_crossentropy: 5.7401e-09 - acc: 1.0000 - val_loss: 3.8632e-09 - val_binary_crossentropy: 3.8632e-09 - val_acc: 1.0000\n",
      "Epoch 4/5\n",
      "16113/16113 [==============================] - ETA: 2s - loss: 3.8460e-09 - binary_crossentropy: 3.8460e-09 - acc: 1.000 - ETA: 2s - loss: 3.8509e-09 - binary_crossentropy: 3.8509e-09 - acc: 1.000 - ETA: 2s - loss: 3.8195e-09 - binary_crossentropy: 3.8195e-09 - acc: 1.000 - ETA: 2s - loss: 3.7746e-09 - binary_crossentropy: 3.7746e-09 - acc: 1.000 - ETA: 1s - loss: 3.7460e-09 - binary_crossentropy: 3.7460e-09 - acc: 1.000 - ETA: 1s - loss: 3.7117e-09 - binary_crossentropy: 3.7117e-09 - acc: 1.000 - ETA: 1s - loss: 3.6848e-09 - binary_crossentropy: 3.6848e-09 - acc: 1.000 - ETA: 1s - loss: 3.6558e-09 - binary_crossentropy: 3.6558e-09 - acc: 1.000 - ETA: 1s - loss: 3.6287e-09 - binary_crossentropy: 3.6287e-09 - acc: 1.000 - ETA: 1s - loss: 3.6005e-09 - binary_crossentropy: 3.6005e-09 - acc: 1.000 - ETA: 1s - loss: 3.5730e-09 - binary_crossentropy: 3.5730e-09 - acc: 1.000 - ETA: 1s - loss: 3.5497e-09 - binary_crossentropy: 3.5497e-09 - acc: 1.000 - ETA: 1s - loss: 3.5258e-09 - binary_crossentropy: 3.5258e-09 - acc: 1.000 - ETA: 1s - loss: 3.5010e-09 - binary_crossentropy: 3.5010e-09 - acc: 1.000 - ETA: 1s - loss: 3.4767e-09 - binary_crossentropy: 3.4767e-09 - acc: 1.000 - ETA: 1s - loss: 3.4541e-09 - binary_crossentropy: 3.4541e-09 - acc: 1.000 - ETA: 1s - loss: 3.4324e-09 - binary_crossentropy: 3.4324e-09 - acc: 1.000 - ETA: 1s - loss: 3.4097e-09 - binary_crossentropy: 3.4097e-09 - acc: 1.000 - ETA: 1s - loss: 3.3879e-09 - binary_crossentropy: 3.3879e-09 - acc: 1.000 - ETA: 1s - loss: 3.3677e-09 - binary_crossentropy: 3.3677e-09 - acc: 1.000 - ETA: 1s - loss: 3.3470e-09 - binary_crossentropy: 3.3470e-09 - acc: 1.000 - ETA: 1s - loss: 3.3252e-09 - binary_crossentropy: 3.3252e-09 - acc: 1.000 - ETA: 1s - loss: 3.3060e-09 - binary_crossentropy: 3.3060e-09 - acc: 1.000 - ETA: 1s - loss: 3.2861e-09 - binary_crossentropy: 3.2861e-09 - acc: 1.000 - ETA: 0s - loss: 3.2667e-09 - binary_crossentropy: 3.2667e-09 - acc: 1.000 - ETA: 0s - loss: 3.2472e-09 - binary_crossentropy: 3.2472e-09 - acc: 1.000 - ETA: 0s - loss: 3.2282e-09 - binary_crossentropy: 3.2282e-09 - acc: 1.000 - ETA: 0s - loss: 3.2098e-09 - binary_crossentropy: 3.2098e-09 - acc: 1.000 - ETA: 0s - loss: 3.1914e-09 - binary_crossentropy: 3.1914e-09 - acc: 1.000 - ETA: 0s - loss: 3.1735e-09 - binary_crossentropy: 3.1735e-09 - acc: 1.000 - ETA: 0s - loss: 3.1557e-09 - binary_crossentropy: 3.1557e-09 - acc: 1.000 - ETA: 0s - loss: 3.1370e-09 - binary_crossentropy: 3.1370e-09 - acc: 1.000 - ETA: 0s - loss: 3.1199e-09 - binary_crossentropy: 3.1199e-09 - acc: 1.000 - ETA: 0s - loss: 3.1030e-09 - binary_crossentropy: 3.1030e-09 - acc: 1.000 - ETA: 0s - loss: 3.0857e-09 - binary_crossentropy: 3.0857e-09 - acc: 1.000 - ETA: 0s - loss: 3.0688e-09 - binary_crossentropy: 3.0688e-09 - acc: 1.000 - ETA: 0s - loss: 3.0503e-09 - binary_crossentropy: 3.0503e-09 - acc: 1.000 - ETA: 0s - loss: 3.0312e-09 - binary_crossentropy: 3.0312e-09 - acc: 1.000 - ETA: 0s - loss: 3.0131e-09 - binary_crossentropy: 3.0131e-09 - acc: 1.000 - ETA: 0s - loss: 2.9965e-09 - binary_crossentropy: 2.9965e-09 - acc: 1.000 - ETA: 0s - loss: 2.9790e-09 - binary_crossentropy: 2.9790e-09 - acc: 1.000 - ETA: 0s - loss: 2.9606e-09 - binary_crossentropy: 2.9606e-09 - acc: 1.000 - ETA: 0s - loss: 2.9451e-09 - binary_crossentropy: 2.9451e-09 - acc: 1.000 - ETA: 0s - loss: 2.9285e-09 - binary_crossentropy: 2.9285e-09 - acc: 1.000 - 2s 155us/sample - loss: 2.9277e-09 - binary_crossentropy: 2.9277e-09 - acc: 1.0000 - val_loss: 2.2255e-09 - val_binary_crossentropy: 2.2255e-09 - val_acc: 1.0000\n",
      "Epoch 5/5\n",
      "16113/16113 [==============================] - ETA: 2s - loss: 2.1822e-09 - binary_crossentropy: 2.1822e-09 - acc: 1.000 - ETA: 2s - loss: 2.1920e-09 - binary_crossentropy: 2.1920e-09 - acc: 1.000 - ETA: 1s - loss: 2.1820e-09 - binary_crossentropy: 2.1820e-09 - acc: 1.000 - ETA: 1s - loss: 2.1738e-09 - binary_crossentropy: 2.1738e-09 - acc: 1.000 - ETA: 1s - loss: 2.1626e-09 - binary_crossentropy: 2.1626e-09 - acc: 1.000 - ETA: 1s - loss: 2.1534e-09 - binary_crossentropy: 2.1534e-09 - acc: 1.000 - ETA: 1s - loss: 2.1442e-09 - binary_crossentropy: 2.1442e-09 - acc: 1.000 - ETA: 1s - loss: 2.1332e-09 - binary_crossentropy: 2.1332e-09 - acc: 1.000 - ETA: 1s - loss: 2.1242e-09 - binary_crossentropy: 2.1242e-09 - acc: 1.000 - ETA: 1s - loss: 2.1129e-09 - binary_crossentropy: 2.1129e-09 - acc: 1.000 - ETA: 1s - loss: 2.1040e-09 - binary_crossentropy: 2.1040e-09 - acc: 1.000 - ETA: 1s - loss: 2.0927e-09 - binary_crossentropy: 2.0927e-09 - acc: 1.000 - ETA: 1s - loss: 2.0815e-09 - binary_crossentropy: 2.0815e-09 - acc: 1.000 - ETA: 1s - loss: 2.0712e-09 - binary_crossentropy: 2.0712e-09 - acc: 1.000 - ETA: 1s - loss: 2.0611e-09 - binary_crossentropy: 2.0611e-09 - acc: 1.000 - ETA: 1s - loss: 2.0497e-09 - binary_crossentropy: 2.0497e-09 - acc: 1.000 - ETA: 1s - loss: 2.0402e-09 - binary_crossentropy: 2.0402e-09 - acc: 1.000 - ETA: 1s - loss: 2.0308e-09 - binary_crossentropy: 2.0308e-09 - acc: 1.000 - ETA: 1s - loss: 2.0221e-09 - binary_crossentropy: 2.0221e-09 - acc: 1.000 - ETA: 1s - loss: 2.0112e-09 - binary_crossentropy: 2.0112e-09 - acc: 1.000 - ETA: 1s - loss: 2.0000e-09 - binary_crossentropy: 2.0000e-09 - acc: 1.000 - ETA: 1s - loss: 1.9892e-09 - binary_crossentropy: 1.9892e-09 - acc: 1.000 - ETA: 1s - loss: 1.9797e-09 - binary_crossentropy: 1.9797e-09 - acc: 1.000 - ETA: 1s - loss: 1.9701e-09 - binary_crossentropy: 1.9701e-09 - acc: 1.000 - ETA: 0s - loss: 1.9606e-09 - binary_crossentropy: 1.9606e-09 - acc: 1.000 - ETA: 0s - loss: 1.9513e-09 - binary_crossentropy: 1.9513e-09 - acc: 1.000 - ETA: 0s - loss: 1.9416e-09 - binary_crossentropy: 1.9416e-09 - acc: 1.000 - ETA: 0s - loss: 1.9332e-09 - binary_crossentropy: 1.9332e-09 - acc: 1.000 - ETA: 0s - loss: 1.9231e-09 - binary_crossentropy: 1.9231e-09 - acc: 1.000 - ETA: 0s - loss: 1.9137e-09 - binary_crossentropy: 1.9137e-09 - acc: 1.000 - ETA: 0s - loss: 1.9032e-09 - binary_crossentropy: 1.9032e-09 - acc: 1.000 - ETA: 0s - loss: 1.8945e-09 - binary_crossentropy: 1.8945e-09 - acc: 1.000 - ETA: 0s - loss: 1.8864e-09 - binary_crossentropy: 1.8864e-09 - acc: 1.000 - ETA: 0s - loss: 1.8783e-09 - binary_crossentropy: 1.8783e-09 - acc: 1.000 - ETA: 0s - loss: 1.8708e-09 - binary_crossentropy: 1.8708e-09 - acc: 1.000 - ETA: 0s - loss: 1.8636e-09 - binary_crossentropy: 1.8636e-09 - acc: 1.000 - ETA: 0s - loss: 1.8551e-09 - binary_crossentropy: 1.8551e-09 - acc: 1.000 - ETA: 0s - loss: 1.8476e-09 - binary_crossentropy: 1.8476e-09 - acc: 1.000 - ETA: 0s - loss: 1.8391e-09 - binary_crossentropy: 1.8391e-09 - acc: 1.000 - ETA: 0s - loss: 1.8308e-09 - binary_crossentropy: 1.8308e-09 - acc: 1.000 - ETA: 0s - loss: 1.8209e-09 - binary_crossentropy: 1.8209e-09 - acc: 1.000 - ETA: 0s - loss: 1.8124e-09 - binary_crossentropy: 1.8124e-09 - acc: 1.000 - ETA: 0s - loss: 1.8043e-09 - binary_crossentropy: 1.8043e-09 - acc: 1.000 - 2s 154us/sample - loss: 1.7993e-09 - binary_crossentropy: 1.7993e-09 - acc: 1.0000 - val_loss: 1.4580e-09 - val_binary_crossentropy: 1.4580e-09 - val_acc: 1.0000\n"
     ]
    },
    {
     "data": {
      "text/html": [
       "<span style=\"color:#4527A0\"><h1 style=\"font-size:18px\">Trial complete</h1></span>"
      ],
      "text/plain": [
       "<IPython.core.display.HTML object>"
      ]
     },
     "metadata": {},
     "output_type": "display_data"
    },
    {
     "data": {
      "text/html": [
       "<span style=\"color:#4527A0\"><h1 style=\"font-size:18px\">Trial summary</h1></span>"
      ],
      "text/plain": [
       "<IPython.core.display.HTML object>"
      ]
     },
     "metadata": {},
     "output_type": "display_data"
    },
    {
     "data": {
      "text/html": [
       "<span style=\"color:cyan\"> |-Trial ID: b239d80ee46198bbf02a0ccfda76cdfa</span>"
      ],
      "text/plain": [
       "<IPython.core.display.HTML object>"
      ]
     },
     "metadata": {},
     "output_type": "display_data"
    },
    {
     "data": {
      "text/html": [
       "<span style=\"color:cyan\"> |-Score: 1.0</span>"
      ],
      "text/plain": [
       "<IPython.core.display.HTML object>"
      ]
     },
     "metadata": {},
     "output_type": "display_data"
    },
    {
     "data": {
      "text/html": [
       "<span style=\"color:cyan\"> |-Best step: 0</span>"
      ],
      "text/plain": [
       "<IPython.core.display.HTML object>"
      ]
     },
     "metadata": {},
     "output_type": "display_data"
    },
    {
     "data": {
      "text/html": [
       "<span style=\"color:#7E57C2\"><h2 style=\"font-size:16px\">Hyperparameters:</h2></span>"
      ],
      "text/plain": [
       "<IPython.core.display.HTML object>"
      ]
     },
     "metadata": {},
     "output_type": "display_data"
    },
    {
     "data": {
      "text/html": [
       "<span style=\"color:cyan\"> |-dense_activation: sigmoid</span>"
      ],
      "text/plain": [
       "<IPython.core.display.HTML object>"
      ]
     },
     "metadata": {},
     "output_type": "display_data"
    },
    {
     "data": {
      "text/html": [
       "<span style=\"color:blue\"> |-learning_rate: 0.001</span>"
      ],
      "text/plain": [
       "<IPython.core.display.HTML object>"
      ]
     },
     "metadata": {},
     "output_type": "display_data"
    },
    {
     "data": {
      "text/html": [
       "<span style=\"color:cyan\"> |-units: 450</span>"
      ],
      "text/plain": [
       "<IPython.core.display.HTML object>"
      ]
     },
     "metadata": {},
     "output_type": "display_data"
    },
    {
     "name": "stdout",
     "output_type": "stream",
     "text": [
      "Train on 16113 samples, validate on 4029 samples\n",
      "WARNING:tensorflow:OMP_NUM_THREADS is no longer used by the default Keras config. To configure the number of threads, use tf.config.threading APIs.\n",
      "Epoch 1/5\n",
      "16113/16113 [==============================] - ETA: 3:38 - loss: 0.9741 - binary_crossentropy: 0.9741 - acc: 0.0000e+0 - ETA: 18s - loss: 0.0749 - binary_crossentropy: 0.0749 - acc: 0.9231    - ETA: 10s - loss: 0.0390 - binary_crossentropy: 0.0390 - acc: 0.96 - ETA: 7s - loss: 0.0271 - binary_crossentropy: 0.0271 - acc: 0.9722 - ETA: 6s - loss: 0.0207 - binary_crossentropy: 0.0207 - acc: 0.978 - ETA: 5s - loss: 0.0171 - binary_crossentropy: 0.0171 - acc: 0.982 - ETA: 4s - loss: 0.0143 - binary_crossentropy: 0.0143 - acc: 0.985 - ETA: 4s - loss: 0.0123 - binary_crossentropy: 0.0123 - acc: 0.987 - ETA: 3s - loss: 0.0108 - binary_crossentropy: 0.0108 - acc: 0.988 - ETA: 3s - loss: 0.0097 - binary_crossentropy: 0.0097 - acc: 0.990 - ETA: 3s - loss: 0.0089 - binary_crossentropy: 0.0089 - acc: 0.990 - ETA: 3s - loss: 0.0081 - binary_crossentropy: 0.0081 - acc: 0.991 - ETA: 2s - loss: 0.0074 - binary_crossentropy: 0.0074 - acc: 0.992 - ETA: 2s - loss: 0.0068 - binary_crossentropy: 0.0068 - acc: 0.993 - ETA: 2s - loss: 0.0063 - binary_crossentropy: 0.0063 - acc: 0.993 - ETA: 2s - loss: 0.0059 - binary_crossentropy: 0.0059 - acc: 0.993 - ETA: 2s - loss: 0.0055 - binary_crossentropy: 0.0055 - acc: 0.994 - ETA: 2s - loss: 0.0052 - binary_crossentropy: 0.0052 - acc: 0.994 - ETA: 2s - loss: 0.0049 - binary_crossentropy: 0.0049 - acc: 0.994 - ETA: 2s - loss: 0.0047 - binary_crossentropy: 0.0047 - acc: 0.995 - ETA: 1s - loss: 0.0045 - binary_crossentropy: 0.0045 - acc: 0.995 - ETA: 1s - loss: 0.0043 - binary_crossentropy: 0.0043 - acc: 0.995 - ETA: 1s - loss: 0.0041 - binary_crossentropy: 0.0041 - acc: 0.995 - ETA: 1s - loss: 0.0039 - binary_crossentropy: 0.0039 - acc: 0.996 - ETA: 1s - loss: 0.0037 - binary_crossentropy: 0.0037 - acc: 0.996 - ETA: 1s - loss: 0.0036 - binary_crossentropy: 0.0036 - acc: 0.996 - ETA: 1s - loss: 0.0034 - binary_crossentropy: 0.0034 - acc: 0.996 - ETA: 1s - loss: 0.0033 - binary_crossentropy: 0.0033 - acc: 0.996 - ETA: 1s - loss: 0.0032 - binary_crossentropy: 0.0032 - acc: 0.996 - ETA: 1s - loss: 0.0031 - binary_crossentropy: 0.0031 - acc: 0.996 - ETA: 1s - loss: 0.0030 - binary_crossentropy: 0.0030 - acc: 0.997 - ETA: 1s - loss: 0.0029 - binary_crossentropy: 0.0029 - acc: 0.997 - ETA: 0s - loss: 0.0028 - binary_crossentropy: 0.0028 - acc: 0.997 - ETA: 0s - loss: 0.0027 - binary_crossentropy: 0.0027 - acc: 0.997 - ETA: 0s - loss: 0.0026 - binary_crossentropy: 0.0026 - acc: 0.997 - ETA: 0s - loss: 0.0025 - binary_crossentropy: 0.0025 - acc: 0.997 - ETA: 0s - loss: 0.0025 - binary_crossentropy: 0.0025 - acc: 0.997 - ETA: 0s - loss: 0.0024 - binary_crossentropy: 0.0024 - acc: 0.997 - ETA: 0s - loss: 0.0023 - binary_crossentropy: 0.0023 - acc: 0.997 - ETA: 0s - loss: 0.0023 - binary_crossentropy: 0.0023 - acc: 0.997 - ETA: 0s - loss: 0.0022 - binary_crossentropy: 0.0022 - acc: 0.997 - ETA: 0s - loss: 0.0022 - binary_crossentropy: 0.0022 - acc: 0.997 - ETA: 0s - loss: 0.0021 - binary_crossentropy: 0.0021 - acc: 0.997 - ETA: 0s - loss: 0.0021 - binary_crossentropy: 0.0021 - acc: 0.997 - ETA: 0s - loss: 0.0020 - binary_crossentropy: 0.0020 - acc: 0.997 - ETA: 0s - loss: 0.0020 - binary_crossentropy: 0.0020 - acc: 0.998 - 3s 209us/sample - loss: 0.0019 - binary_crossentropy: 0.0019 - acc: 0.9980 - val_loss: 0.0000e+00 - val_binary_crossentropy: 0.0000e+00 - val_acc: 1.0000\n",
      "Epoch 2/5\n",
      "16113/16113 [==============================] - ETA: 3s - loss: 0.0000e+00 - binary_crossentropy: 0.0000e+00 - acc: 1.000 - ETA: 2s - loss: 0.0000e+00 - binary_crossentropy: 0.0000e+00 - acc: 1.000 - ETA: 2s - loss: 0.0000e+00 - binary_crossentropy: 0.0000e+00 - acc: 1.000 - ETA: 1s - loss: 0.0000e+00 - binary_crossentropy: 0.0000e+00 - acc: 1.000 - ETA: 1s - loss: 0.0000e+00 - binary_crossentropy: 0.0000e+00 - acc: 1.000 - ETA: 1s - loss: 0.0000e+00 - binary_crossentropy: 0.0000e+00 - acc: 1.000 - ETA: 1s - loss: 0.0000e+00 - binary_crossentropy: 0.0000e+00 - acc: 1.000 - ETA: 1s - loss: 0.0000e+00 - binary_crossentropy: 0.0000e+00 - acc: 1.000 - ETA: 1s - loss: 0.0000e+00 - binary_crossentropy: 0.0000e+00 - acc: 1.000 - ETA: 1s - loss: 0.0000e+00 - binary_crossentropy: 0.0000e+00 - acc: 1.000 - ETA: 1s - loss: 0.0000e+00 - binary_crossentropy: 0.0000e+00 - acc: 1.000 - ETA: 1s - loss: 0.0000e+00 - binary_crossentropy: 0.0000e+00 - acc: 1.000 - ETA: 1s - loss: 0.0000e+00 - binary_crossentropy: 0.0000e+00 - acc: 1.000 - ETA: 1s - loss: 0.0000e+00 - binary_crossentropy: 0.0000e+00 - acc: 1.000 - ETA: 1s - loss: 0.0000e+00 - binary_crossentropy: 0.0000e+00 - acc: 1.000 - ETA: 1s - loss: 0.0000e+00 - binary_crossentropy: 0.0000e+00 - acc: 1.000 - ETA: 1s - loss: 0.0000e+00 - binary_crossentropy: 0.0000e+00 - acc: 1.000 - ETA: 1s - loss: 0.0000e+00 - binary_crossentropy: 0.0000e+00 - acc: 1.000 - ETA: 1s - loss: 0.0000e+00 - binary_crossentropy: 0.0000e+00 - acc: 1.000 - ETA: 1s - loss: 0.0000e+00 - binary_crossentropy: 0.0000e+00 - acc: 1.000 - ETA: 1s - loss: 0.0000e+00 - binary_crossentropy: 0.0000e+00 - acc: 1.000 - ETA: 1s - loss: 0.0000e+00 - binary_crossentropy: 0.0000e+00 - acc: 1.000 - ETA: 1s - loss: 0.0000e+00 - binary_crossentropy: 0.0000e+00 - acc: 1.000 - ETA: 1s - loss: 0.0000e+00 - binary_crossentropy: 0.0000e+00 - acc: 1.000 - ETA: 1s - loss: 0.0000e+00 - binary_crossentropy: 0.0000e+00 - acc: 1.000 - ETA: 1s - loss: 0.0000e+00 - binary_crossentropy: 0.0000e+00 - acc: 1.000 - ETA: 1s - loss: 0.0000e+00 - binary_crossentropy: 0.0000e+00 - acc: 1.000 - ETA: 0s - loss: 0.0000e+00 - binary_crossentropy: 0.0000e+00 - acc: 1.000 - ETA: 0s - loss: 0.0000e+00 - binary_crossentropy: 0.0000e+00 - acc: 1.000 - ETA: 0s - loss: 0.0000e+00 - binary_crossentropy: 0.0000e+00 - acc: 1.000 - ETA: 0s - loss: 0.0000e+00 - binary_crossentropy: 0.0000e+00 - acc: 1.000 - ETA: 0s - loss: 0.0000e+00 - binary_crossentropy: 0.0000e+00 - acc: 1.000 - ETA: 0s - loss: 0.0000e+00 - binary_crossentropy: 0.0000e+00 - acc: 1.000 - ETA: 0s - loss: 0.0000e+00 - binary_crossentropy: 0.0000e+00 - acc: 1.000 - ETA: 0s - loss: 0.0000e+00 - binary_crossentropy: 0.0000e+00 - acc: 1.000 - ETA: 0s - loss: 0.0000e+00 - binary_crossentropy: 0.0000e+00 - acc: 1.000 - ETA: 0s - loss: 0.0000e+00 - binary_crossentropy: 0.0000e+00 - acc: 1.000 - ETA: 0s - loss: 0.0000e+00 - binary_crossentropy: 0.0000e+00 - acc: 1.000 - ETA: 0s - loss: 0.0000e+00 - binary_crossentropy: 0.0000e+00 - acc: 1.000 - ETA: 0s - loss: 0.0000e+00 - binary_crossentropy: 0.0000e+00 - acc: 1.000 - ETA: 0s - loss: 0.0000e+00 - binary_crossentropy: 0.0000e+00 - acc: 1.000 - ETA: 0s - loss: 0.0000e+00 - binary_crossentropy: 0.0000e+00 - acc: 1.000 - ETA: 0s - loss: 0.0000e+00 - binary_crossentropy: 0.0000e+00 - acc: 1.000 - ETA: 0s - loss: 0.0000e+00 - binary_crossentropy: 0.0000e+00 - acc: 1.000 - ETA: 0s - loss: 0.0000e+00 - binary_crossentropy: 0.0000e+00 - acc: 1.000 - 3s 164us/sample - loss: 0.0000e+00 - binary_crossentropy: 0.0000e+00 - acc: 1.0000 - val_loss: 0.0000e+00 - val_binary_crossentropy: 0.0000e+00 - val_acc: 1.0000\n",
      "Epoch 3/5\n",
      "16113/16113 [==============================] - ETA: 3s - loss: 0.0000e+00 - binary_crossentropy: 0.0000e+00 - acc: 1.000 - ETA: 2s - loss: 0.0000e+00 - binary_crossentropy: 0.0000e+00 - acc: 1.000 - ETA: 2s - loss: 0.0000e+00 - binary_crossentropy: 0.0000e+00 - acc: 1.000 - ETA: 2s - loss: 0.0000e+00 - binary_crossentropy: 0.0000e+00 - acc: 1.000 - ETA: 2s - loss: 0.0000e+00 - binary_crossentropy: 0.0000e+00 - acc: 1.000 - ETA: 2s - loss: 0.0000e+00 - binary_crossentropy: 0.0000e+00 - acc: 1.000 - ETA: 2s - loss: 0.0000e+00 - binary_crossentropy: 0.0000e+00 - acc: 1.000 - ETA: 2s - loss: 0.0000e+00 - binary_crossentropy: 0.0000e+00 - acc: 1.000 - ETA: 1s - loss: 0.0000e+00 - binary_crossentropy: 0.0000e+00 - acc: 1.000 - ETA: 1s - loss: 0.0000e+00 - binary_crossentropy: 0.0000e+00 - acc: 1.000 - ETA: 1s - loss: 0.0000e+00 - binary_crossentropy: 0.0000e+00 - acc: 1.000 - ETA: 1s - loss: 0.0000e+00 - binary_crossentropy: 0.0000e+00 - acc: 1.000 - ETA: 1s - loss: 0.0000e+00 - binary_crossentropy: 0.0000e+00 - acc: 1.000 - ETA: 1s - loss: 0.0000e+00 - binary_crossentropy: 0.0000e+00 - acc: 1.000 - ETA: 1s - loss: 0.0000e+00 - binary_crossentropy: 0.0000e+00 - acc: 1.000 - ETA: 1s - loss: 0.0000e+00 - binary_crossentropy: 0.0000e+00 - acc: 1.000 - ETA: 1s - loss: 0.0000e+00 - binary_crossentropy: 0.0000e+00 - acc: 1.000 - ETA: 1s - loss: 0.0000e+00 - binary_crossentropy: 0.0000e+00 - acc: 1.000 - ETA: 1s - loss: 0.0000e+00 - binary_crossentropy: 0.0000e+00 - acc: 1.000 - ETA: 1s - loss: 0.0000e+00 - binary_crossentropy: 0.0000e+00 - acc: 1.000 - ETA: 1s - loss: 0.0000e+00 - binary_crossentropy: 0.0000e+00 - acc: 1.000 - ETA: 1s - loss: 0.0000e+00 - binary_crossentropy: 0.0000e+00 - acc: 1.000 - ETA: 1s - loss: 0.0000e+00 - binary_crossentropy: 0.0000e+00 - acc: 1.000 - ETA: 1s - loss: 0.0000e+00 - binary_crossentropy: 0.0000e+00 - acc: 1.000 - ETA: 1s - loss: 0.0000e+00 - binary_crossentropy: 0.0000e+00 - acc: 1.000 - ETA: 1s - loss: 0.0000e+00 - binary_crossentropy: 0.0000e+00 - acc: 1.000 - ETA: 1s - loss: 0.0000e+00 - binary_crossentropy: 0.0000e+00 - acc: 1.000 - ETA: 0s - loss: 0.0000e+00 - binary_crossentropy: 0.0000e+00 - acc: 1.000 - ETA: 0s - loss: 0.0000e+00 - binary_crossentropy: 0.0000e+00 - acc: 1.000 - ETA: 0s - loss: 0.0000e+00 - binary_crossentropy: 0.0000e+00 - acc: 1.000 - ETA: 0s - loss: 0.0000e+00 - binary_crossentropy: 0.0000e+00 - acc: 1.000 - ETA: 0s - loss: 0.0000e+00 - binary_crossentropy: 0.0000e+00 - acc: 1.000 - ETA: 0s - loss: 0.0000e+00 - binary_crossentropy: 0.0000e+00 - acc: 1.000 - ETA: 0s - loss: 0.0000e+00 - binary_crossentropy: 0.0000e+00 - acc: 1.000 - ETA: 0s - loss: 0.0000e+00 - binary_crossentropy: 0.0000e+00 - acc: 1.000 - ETA: 0s - loss: 0.0000e+00 - binary_crossentropy: 0.0000e+00 - acc: 1.000 - ETA: 0s - loss: 0.0000e+00 - binary_crossentropy: 0.0000e+00 - acc: 1.000 - ETA: 0s - loss: 0.0000e+00 - binary_crossentropy: 0.0000e+00 - acc: 1.000 - ETA: 0s - loss: 0.0000e+00 - binary_crossentropy: 0.0000e+00 - acc: 1.000 - ETA: 0s - loss: 0.0000e+00 - binary_crossentropy: 0.0000e+00 - acc: 1.000 - ETA: 0s - loss: 0.0000e+00 - binary_crossentropy: 0.0000e+00 - acc: 1.000 - ETA: 0s - loss: 0.0000e+00 - binary_crossentropy: 0.0000e+00 - acc: 1.000 - ETA: 0s - loss: 0.0000e+00 - binary_crossentropy: 0.0000e+00 - acc: 1.000 - ETA: 0s - loss: 0.0000e+00 - binary_crossentropy: 0.0000e+00 - acc: 1.000 - ETA: 0s - loss: 0.0000e+00 - binary_crossentropy: 0.0000e+00 - acc: 1.000 - ETA: 0s - loss: 0.0000e+00 - binary_crossentropy: 0.0000e+00 - acc: 1.000 - 3s 166us/sample - loss: 0.0000e+00 - binary_crossentropy: 0.0000e+00 - acc: 1.0000 - val_loss: 0.0000e+00 - val_binary_crossentropy: 0.0000e+00 - val_acc: 1.0000\n",
      "Epoch 4/5\n",
      "16113/16113 [==============================] - ETA: 2s - loss: 0.0000e+00 - binary_crossentropy: 0.0000e+00 - acc: 1.000 - ETA: 2s - loss: 0.0000e+00 - binary_crossentropy: 0.0000e+00 - acc: 1.000 - ETA: 2s - loss: 0.0000e+00 - binary_crossentropy: 0.0000e+00 - acc: 1.000 - ETA: 2s - loss: 0.0000e+00 - binary_crossentropy: 0.0000e+00 - acc: 1.000 - ETA: 2s - loss: 0.0000e+00 - binary_crossentropy: 0.0000e+00 - acc: 1.000 - ETA: 1s - loss: 0.0000e+00 - binary_crossentropy: 0.0000e+00 - acc: 1.000 - ETA: 1s - loss: 0.0000e+00 - binary_crossentropy: 0.0000e+00 - acc: 1.000 - ETA: 1s - loss: 0.0000e+00 - binary_crossentropy: 0.0000e+00 - acc: 1.000 - ETA: 1s - loss: 0.0000e+00 - binary_crossentropy: 0.0000e+00 - acc: 1.000 - ETA: 1s - loss: 0.0000e+00 - binary_crossentropy: 0.0000e+00 - acc: 1.000 - ETA: 1s - loss: 0.0000e+00 - binary_crossentropy: 0.0000e+00 - acc: 1.000 - ETA: 1s - loss: 0.0000e+00 - binary_crossentropy: 0.0000e+00 - acc: 1.000 - ETA: 1s - loss: 0.0000e+00 - binary_crossentropy: 0.0000e+00 - acc: 1.000 - ETA: 1s - loss: 0.0000e+00 - binary_crossentropy: 0.0000e+00 - acc: 1.000 - ETA: 1s - loss: 0.0000e+00 - binary_crossentropy: 0.0000e+00 - acc: 1.000 - ETA: 1s - loss: 0.0000e+00 - binary_crossentropy: 0.0000e+00 - acc: 1.000 - ETA: 1s - loss: 0.0000e+00 - binary_crossentropy: 0.0000e+00 - acc: 1.000 - ETA: 1s - loss: 0.0000e+00 - binary_crossentropy: 0.0000e+00 - acc: 1.000 - ETA: 1s - loss: 0.0000e+00 - binary_crossentropy: 0.0000e+00 - acc: 1.000 - ETA: 1s - loss: 0.0000e+00 - binary_crossentropy: 0.0000e+00 - acc: 1.000 - ETA: 1s - loss: 0.0000e+00 - binary_crossentropy: 0.0000e+00 - acc: 1.000 - ETA: 1s - loss: 0.0000e+00 - binary_crossentropy: 0.0000e+00 - acc: 1.000 - ETA: 1s - loss: 0.0000e+00 - binary_crossentropy: 0.0000e+00 - acc: 1.000 - ETA: 1s - loss: 0.0000e+00 - binary_crossentropy: 0.0000e+00 - acc: 1.000 - ETA: 1s - loss: 0.0000e+00 - binary_crossentropy: 0.0000e+00 - acc: 1.000 - ETA: 1s - loss: 0.0000e+00 - binary_crossentropy: 0.0000e+00 - acc: 1.000 - ETA: 1s - loss: 0.0000e+00 - binary_crossentropy: 0.0000e+00 - acc: 1.000 - ETA: 0s - loss: 0.0000e+00 - binary_crossentropy: 0.0000e+00 - acc: 1.000 - ETA: 0s - loss: 0.0000e+00 - binary_crossentropy: 0.0000e+00 - acc: 1.000 - ETA: 0s - loss: 0.0000e+00 - binary_crossentropy: 0.0000e+00 - acc: 1.000 - ETA: 0s - loss: 0.0000e+00 - binary_crossentropy: 0.0000e+00 - acc: 1.000 - ETA: 0s - loss: 0.0000e+00 - binary_crossentropy: 0.0000e+00 - acc: 1.000 - ETA: 0s - loss: 0.0000e+00 - binary_crossentropy: 0.0000e+00 - acc: 1.000 - ETA: 0s - loss: 0.0000e+00 - binary_crossentropy: 0.0000e+00 - acc: 1.000 - ETA: 0s - loss: 0.0000e+00 - binary_crossentropy: 0.0000e+00 - acc: 1.000 - ETA: 0s - loss: 0.0000e+00 - binary_crossentropy: 0.0000e+00 - acc: 1.000 - ETA: 0s - loss: 0.0000e+00 - binary_crossentropy: 0.0000e+00 - acc: 1.000 - ETA: 0s - loss: 0.0000e+00 - binary_crossentropy: 0.0000e+00 - acc: 1.000 - ETA: 0s - loss: 0.0000e+00 - binary_crossentropy: 0.0000e+00 - acc: 1.000 - ETA: 0s - loss: 0.0000e+00 - binary_crossentropy: 0.0000e+00 - acc: 1.000 - ETA: 0s - loss: 0.0000e+00 - binary_crossentropy: 0.0000e+00 - acc: 1.000 - ETA: 0s - loss: 0.0000e+00 - binary_crossentropy: 0.0000e+00 - acc: 1.000 - ETA: 0s - loss: 0.0000e+00 - binary_crossentropy: 0.0000e+00 - acc: 1.000 - ETA: 0s - loss: 0.0000e+00 - binary_crossentropy: 0.0000e+00 - acc: 1.000 - ETA: 0s - loss: 0.0000e+00 - binary_crossentropy: 0.0000e+00 - acc: 1.000 - ETA: 0s - loss: 0.0000e+00 - binary_crossentropy: 0.0000e+00 - acc: 1.000 - 3s 163us/sample - loss: 0.0000e+00 - binary_crossentropy: 0.0000e+00 - acc: 1.0000 - val_loss: 0.0000e+00 - val_binary_crossentropy: 0.0000e+00 - val_acc: 1.0000\n",
      "Epoch 5/5\n",
      "16113/16113 [==============================] - ETA: 2s - loss: 0.0000e+00 - binary_crossentropy: 0.0000e+00 - acc: 1.000 - ETA: 2s - loss: 0.0000e+00 - binary_crossentropy: 0.0000e+00 - acc: 1.000 - ETA: 2s - loss: 0.0000e+00 - binary_crossentropy: 0.0000e+00 - acc: 1.000 - ETA: 2s - loss: 0.0000e+00 - binary_crossentropy: 0.0000e+00 - acc: 1.000 - ETA: 2s - loss: 0.0000e+00 - binary_crossentropy: 0.0000e+00 - acc: 1.000 - ETA: 2s - loss: 0.0000e+00 - binary_crossentropy: 0.0000e+00 - acc: 1.000 - ETA: 1s - loss: 0.0000e+00 - binary_crossentropy: 0.0000e+00 - acc: 1.000 - ETA: 1s - loss: 0.0000e+00 - binary_crossentropy: 0.0000e+00 - acc: 1.000 - ETA: 1s - loss: 0.0000e+00 - binary_crossentropy: 0.0000e+00 - acc: 1.000 - ETA: 1s - loss: 0.0000e+00 - binary_crossentropy: 0.0000e+00 - acc: 1.000 - ETA: 1s - loss: 0.0000e+00 - binary_crossentropy: 0.0000e+00 - acc: 1.000 - ETA: 1s - loss: 0.0000e+00 - binary_crossentropy: 0.0000e+00 - acc: 1.000 - ETA: 1s - loss: 0.0000e+00 - binary_crossentropy: 0.0000e+00 - acc: 1.000 - ETA: 1s - loss: 0.0000e+00 - binary_crossentropy: 0.0000e+00 - acc: 1.000 - ETA: 1s - loss: 0.0000e+00 - binary_crossentropy: 0.0000e+00 - acc: 1.000 - ETA: 1s - loss: 0.0000e+00 - binary_crossentropy: 0.0000e+00 - acc: 1.000 - ETA: 1s - loss: 0.0000e+00 - binary_crossentropy: 0.0000e+00 - acc: 1.000 - ETA: 1s - loss: 0.0000e+00 - binary_crossentropy: 0.0000e+00 - acc: 1.000 - ETA: 1s - loss: 0.0000e+00 - binary_crossentropy: 0.0000e+00 - acc: 1.000 - ETA: 1s - loss: 0.0000e+00 - binary_crossentropy: 0.0000e+00 - acc: 1.000 - ETA: 1s - loss: 0.0000e+00 - binary_crossentropy: 0.0000e+00 - acc: 1.000 - ETA: 1s - loss: 0.0000e+00 - binary_crossentropy: 0.0000e+00 - acc: 1.000 - ETA: 1s - loss: 0.0000e+00 - binary_crossentropy: 0.0000e+00 - acc: 1.000 - ETA: 1s - loss: 0.0000e+00 - binary_crossentropy: 0.0000e+00 - acc: 1.000 - ETA: 1s - loss: 0.0000e+00 - binary_crossentropy: 0.0000e+00 - acc: 1.000 - ETA: 1s - loss: 0.0000e+00 - binary_crossentropy: 0.0000e+00 - acc: 1.000 - ETA: 1s - loss: 0.0000e+00 - binary_crossentropy: 0.0000e+00 - acc: 1.000 - ETA: 0s - loss: 0.0000e+00 - binary_crossentropy: 0.0000e+00 - acc: 1.000 - ETA: 0s - loss: 0.0000e+00 - binary_crossentropy: 0.0000e+00 - acc: 1.000 - ETA: 0s - loss: 0.0000e+00 - binary_crossentropy: 0.0000e+00 - acc: 1.000 - ETA: 0s - loss: 0.0000e+00 - binary_crossentropy: 0.0000e+00 - acc: 1.000 - ETA: 0s - loss: 0.0000e+00 - binary_crossentropy: 0.0000e+00 - acc: 1.000 - ETA: 0s - loss: 0.0000e+00 - binary_crossentropy: 0.0000e+00 - acc: 1.000 - ETA: 0s - loss: 0.0000e+00 - binary_crossentropy: 0.0000e+00 - acc: 1.000 - ETA: 0s - loss: 0.0000e+00 - binary_crossentropy: 0.0000e+00 - acc: 1.000 - ETA: 0s - loss: 0.0000e+00 - binary_crossentropy: 0.0000e+00 - acc: 1.000 - ETA: 0s - loss: 0.0000e+00 - binary_crossentropy: 0.0000e+00 - acc: 1.000 - ETA: 0s - loss: 0.0000e+00 - binary_crossentropy: 0.0000e+00 - acc: 1.000 - ETA: 0s - loss: 0.0000e+00 - binary_crossentropy: 0.0000e+00 - acc: 1.000 - ETA: 0s - loss: 0.0000e+00 - binary_crossentropy: 0.0000e+00 - acc: 1.000 - ETA: 0s - loss: 0.0000e+00 - binary_crossentropy: 0.0000e+00 - acc: 1.000 - ETA: 0s - loss: 0.0000e+00 - binary_crossentropy: 0.0000e+00 - acc: 1.000 - ETA: 0s - loss: 0.0000e+00 - binary_crossentropy: 0.0000e+00 - acc: 1.000 - ETA: 0s - loss: 0.0000e+00 - binary_crossentropy: 0.0000e+00 - acc: 1.000 - ETA: 0s - loss: 0.0000e+00 - binary_crossentropy: 0.0000e+00 - acc: 1.000 - ETA: 0s - loss: 0.0000e+00 - binary_crossentropy: 0.0000e+00 - acc: 1.000 - 3s 166us/sample - loss: 0.0000e+00 - binary_crossentropy: 0.0000e+00 - acc: 1.0000 - val_loss: 0.0000e+00 - val_binary_crossentropy: 0.0000e+00 - val_acc: 1.0000\n",
      "Train on 16113 samples, validate on 4029 samples\n",
      "WARNING:tensorflow:OMP_NUM_THREADS is no longer used by the default Keras config. To configure the number of threads, use tf.config.threading APIs.\n",
      "Epoch 1/5\n",
      "16113/16113 [==============================] - ETA: 3:47 - loss: 0.0000e+00 - binary_crossentropy: 0.0000e+00 - acc: 1.000 - ETA: 22s - loss: 0.0000e+00 - binary_crossentropy: 0.0000e+00 - acc: 1.000 - ETA: 12s - loss: 0.0000e+00 - binary_crossentropy: 0.0000e+00 - acc: 1.00 - ETA: 8s - loss: 0.0000e+00 - binary_crossentropy: 0.0000e+00 - acc: 1.0000 - ETA: 6s - loss: 0.0000e+00 - binary_crossentropy: 0.0000e+00 - acc: 1.000 - ETA: 5s - loss: 0.0000e+00 - binary_crossentropy: 0.0000e+00 - acc: 1.000 - ETA: 4s - loss: 0.0000e+00 - binary_crossentropy: 0.0000e+00 - acc: 1.000 - ETA: 4s - loss: 0.0000e+00 - binary_crossentropy: 0.0000e+00 - acc: 1.000 - ETA: 3s - loss: 0.0000e+00 - binary_crossentropy: 0.0000e+00 - acc: 1.000 - ETA: 3s - loss: 0.0000e+00 - binary_crossentropy: 0.0000e+00 - acc: 1.000 - ETA: 3s - loss: 0.0000e+00 - binary_crossentropy: 0.0000e+00 - acc: 1.000 - ETA: 3s - loss: 0.0000e+00 - binary_crossentropy: 0.0000e+00 - acc: 1.000 - ETA: 2s - loss: 0.0000e+00 - binary_crossentropy: 0.0000e+00 - acc: 1.000 - ETA: 2s - loss: 0.0000e+00 - binary_crossentropy: 0.0000e+00 - acc: 1.000 - ETA: 2s - loss: 0.0000e+00 - binary_crossentropy: 0.0000e+00 - acc: 1.000 - ETA: 2s - loss: 0.0000e+00 - binary_crossentropy: 0.0000e+00 - acc: 1.000 - ETA: 2s - loss: 0.0000e+00 - binary_crossentropy: 0.0000e+00 - acc: 1.000 - ETA: 2s - loss: 0.0000e+00 - binary_crossentropy: 0.0000e+00 - acc: 1.000 - ETA: 2s - loss: 0.0000e+00 - binary_crossentropy: 0.0000e+00 - acc: 1.000 - ETA: 1s - loss: 0.0000e+00 - binary_crossentropy: 0.0000e+00 - acc: 1.000 - ETA: 1s - loss: 0.0000e+00 - binary_crossentropy: 0.0000e+00 - acc: 1.000 - ETA: 1s - loss: 0.0000e+00 - binary_crossentropy: 0.0000e+00 - acc: 1.000 - ETA: 1s - loss: 0.0000e+00 - binary_crossentropy: 0.0000e+00 - acc: 1.000 - ETA: 1s - loss: 0.0000e+00 - binary_crossentropy: 0.0000e+00 - acc: 1.000 - ETA: 1s - loss: 0.0000e+00 - binary_crossentropy: 0.0000e+00 - acc: 1.000 - ETA: 1s - loss: 0.0000e+00 - binary_crossentropy: 0.0000e+00 - acc: 1.000 - ETA: 1s - loss: 0.0000e+00 - binary_crossentropy: 0.0000e+00 - acc: 1.000 - ETA: 1s - loss: 0.0000e+00 - binary_crossentropy: 0.0000e+00 - acc: 1.000 - ETA: 1s - loss: 0.0000e+00 - binary_crossentropy: 0.0000e+00 - acc: 1.000 - ETA: 1s - loss: 0.0000e+00 - binary_crossentropy: 0.0000e+00 - acc: 1.000 - ETA: 1s - loss: 0.0000e+00 - binary_crossentropy: 0.0000e+00 - acc: 1.000 - ETA: 0s - loss: 0.0000e+00 - binary_crossentropy: 0.0000e+00 - acc: 1.000 - ETA: 0s - loss: 0.0000e+00 - binary_crossentropy: 0.0000e+00 - acc: 1.000 - ETA: 0s - loss: 0.0000e+00 - binary_crossentropy: 0.0000e+00 - acc: 1.000 - ETA: 0s - loss: 0.0000e+00 - binary_crossentropy: 0.0000e+00 - acc: 1.000 - ETA: 0s - loss: 0.0000e+00 - binary_crossentropy: 0.0000e+00 - acc: 1.000 - ETA: 0s - loss: 0.0000e+00 - binary_crossentropy: 0.0000e+00 - acc: 1.000 - ETA: 0s - loss: 0.0000e+00 - binary_crossentropy: 0.0000e+00 - acc: 1.000 - ETA: 0s - loss: 0.0000e+00 - binary_crossentropy: 0.0000e+00 - acc: 1.000 - ETA: 0s - loss: 0.0000e+00 - binary_crossentropy: 0.0000e+00 - acc: 1.000 - ETA: 0s - loss: 0.0000e+00 - binary_crossentropy: 0.0000e+00 - acc: 1.000 - ETA: 0s - loss: 0.0000e+00 - binary_crossentropy: 0.0000e+00 - acc: 1.000 - ETA: 0s - loss: 0.0000e+00 - binary_crossentropy: 0.0000e+00 - acc: 1.000 - ETA: 0s - loss: 0.0000e+00 - binary_crossentropy: 0.0000e+00 - acc: 1.000 - ETA: 0s - loss: 0.0000e+00 - binary_crossentropy: 0.0000e+00 - acc: 1.000 - ETA: 0s - loss: 0.0000e+00 - binary_crossentropy: 0.0000e+00 - acc: 1.000 - 3s 202us/sample - loss: 0.0000e+00 - binary_crossentropy: 0.0000e+00 - acc: 1.0000 - val_loss: 0.0000e+00 - val_binary_crossentropy: 0.0000e+00 - val_acc: 1.0000\n",
      "Epoch 2/5\n",
      "16113/16113 [==============================] - ETA: 2s - loss: 0.0000e+00 - binary_crossentropy: 0.0000e+00 - acc: 1.000 - ETA: 2s - loss: 0.0000e+00 - binary_crossentropy: 0.0000e+00 - acc: 1.000 - ETA: 2s - loss: 0.0000e+00 - binary_crossentropy: 0.0000e+00 - acc: 1.000 - ETA: 2s - loss: 0.0000e+00 - binary_crossentropy: 0.0000e+00 - acc: 1.000 - ETA: 2s - loss: 0.0000e+00 - binary_crossentropy: 0.0000e+00 - acc: 1.000 - ETA: 2s - loss: 0.0000e+00 - binary_crossentropy: 0.0000e+00 - acc: 1.000 - ETA: 2s - loss: 0.0000e+00 - binary_crossentropy: 0.0000e+00 - acc: 1.000 - ETA: 2s - loss: 0.0000e+00 - binary_crossentropy: 0.0000e+00 - acc: 1.000 - ETA: 1s - loss: 0.0000e+00 - binary_crossentropy: 0.0000e+00 - acc: 1.000 - ETA: 1s - loss: 0.0000e+00 - binary_crossentropy: 0.0000e+00 - acc: 1.000 - ETA: 1s - loss: 0.0000e+00 - binary_crossentropy: 0.0000e+00 - acc: 1.000 - ETA: 1s - loss: 0.0000e+00 - binary_crossentropy: 0.0000e+00 - acc: 1.000 - ETA: 1s - loss: 0.0000e+00 - binary_crossentropy: 0.0000e+00 - acc: 1.000 - ETA: 1s - loss: 0.0000e+00 - binary_crossentropy: 0.0000e+00 - acc: 1.000 - ETA: 1s - loss: 0.0000e+00 - binary_crossentropy: 0.0000e+00 - acc: 1.000 - ETA: 1s - loss: 0.0000e+00 - binary_crossentropy: 0.0000e+00 - acc: 1.000 - ETA: 1s - loss: 0.0000e+00 - binary_crossentropy: 0.0000e+00 - acc: 1.000 - ETA: 1s - loss: 0.0000e+00 - binary_crossentropy: 0.0000e+00 - acc: 1.000 - ETA: 1s - loss: 0.0000e+00 - binary_crossentropy: 0.0000e+00 - acc: 1.000 - ETA: 1s - loss: 0.0000e+00 - binary_crossentropy: 0.0000e+00 - acc: 1.000 - ETA: 1s - loss: 0.0000e+00 - binary_crossentropy: 0.0000e+00 - acc: 1.000 - ETA: 1s - loss: 0.0000e+00 - binary_crossentropy: 0.0000e+00 - acc: 1.000 - ETA: 1s - loss: 0.0000e+00 - binary_crossentropy: 0.0000e+00 - acc: 1.000 - ETA: 1s - loss: 0.0000e+00 - binary_crossentropy: 0.0000e+00 - acc: 1.000 - ETA: 1s - loss: 0.0000e+00 - binary_crossentropy: 0.0000e+00 - acc: 1.000 - ETA: 1s - loss: 0.0000e+00 - binary_crossentropy: 0.0000e+00 - acc: 1.000 - ETA: 1s - loss: 0.0000e+00 - binary_crossentropy: 0.0000e+00 - acc: 1.000 - ETA: 1s - loss: 0.0000e+00 - binary_crossentropy: 0.0000e+00 - acc: 1.000 - ETA: 0s - loss: 0.0000e+00 - binary_crossentropy: 0.0000e+00 - acc: 1.000 - ETA: 0s - loss: 0.0000e+00 - binary_crossentropy: 0.0000e+00 - acc: 1.000 - ETA: 0s - loss: 0.0000e+00 - binary_crossentropy: 0.0000e+00 - acc: 1.000 - ETA: 0s - loss: 0.0000e+00 - binary_crossentropy: 0.0000e+00 - acc: 1.000 - ETA: 0s - loss: 0.0000e+00 - binary_crossentropy: 0.0000e+00 - acc: 1.000 - ETA: 0s - loss: 0.0000e+00 - binary_crossentropy: 0.0000e+00 - acc: 1.000 - ETA: 0s - loss: 0.0000e+00 - binary_crossentropy: 0.0000e+00 - acc: 1.000 - ETA: 0s - loss: 0.0000e+00 - binary_crossentropy: 0.0000e+00 - acc: 1.000 - ETA: 0s - loss: 0.0000e+00 - binary_crossentropy: 0.0000e+00 - acc: 1.000 - ETA: 0s - loss: 0.0000e+00 - binary_crossentropy: 0.0000e+00 - acc: 1.000 - ETA: 0s - loss: 0.0000e+00 - binary_crossentropy: 0.0000e+00 - acc: 1.000 - ETA: 0s - loss: 0.0000e+00 - binary_crossentropy: 0.0000e+00 - acc: 1.000 - ETA: 0s - loss: 0.0000e+00 - binary_crossentropy: 0.0000e+00 - acc: 1.000 - ETA: 0s - loss: 0.0000e+00 - binary_crossentropy: 0.0000e+00 - acc: 1.000 - ETA: 0s - loss: 0.0000e+00 - binary_crossentropy: 0.0000e+00 - acc: 1.000 - ETA: 0s - loss: 0.0000e+00 - binary_crossentropy: 0.0000e+00 - acc: 1.000 - ETA: 0s - loss: 0.0000e+00 - binary_crossentropy: 0.0000e+00 - acc: 1.000 - ETA: 0s - loss: 0.0000e+00 - binary_crossentropy: 0.0000e+00 - acc: 1.000 - ETA: 0s - loss: 0.0000e+00 - binary_crossentropy: 0.0000e+00 - acc: 1.000 - 3s 168us/sample - loss: 0.0000e+00 - binary_crossentropy: 0.0000e+00 - acc: 1.0000 - val_loss: 0.0000e+00 - val_binary_crossentropy: 0.0000e+00 - val_acc: 1.0000\n",
      "Epoch 3/5\n",
      "16113/16113 [==============================] - ETA: 2s - loss: 0.0000e+00 - binary_crossentropy: 0.0000e+00 - acc: 1.000 - ETA: 2s - loss: 0.0000e+00 - binary_crossentropy: 0.0000e+00 - acc: 1.000 - ETA: 2s - loss: 0.0000e+00 - binary_crossentropy: 0.0000e+00 - acc: 1.000 - ETA: 2s - loss: 0.0000e+00 - binary_crossentropy: 0.0000e+00 - acc: 1.000 - ETA: 2s - loss: 0.0000e+00 - binary_crossentropy: 0.0000e+00 - acc: 1.000 - ETA: 2s - loss: 0.0000e+00 - binary_crossentropy: 0.0000e+00 - acc: 1.000 - ETA: 2s - loss: 0.0000e+00 - binary_crossentropy: 0.0000e+00 - acc: 1.000 - ETA: 1s - loss: 0.0000e+00 - binary_crossentropy: 0.0000e+00 - acc: 1.000 - ETA: 1s - loss: 0.0000e+00 - binary_crossentropy: 0.0000e+00 - acc: 1.000 - ETA: 1s - loss: 0.0000e+00 - binary_crossentropy: 0.0000e+00 - acc: 1.000 - ETA: 1s - loss: 0.0000e+00 - binary_crossentropy: 0.0000e+00 - acc: 1.000 - ETA: 1s - loss: 0.0000e+00 - binary_crossentropy: 0.0000e+00 - acc: 1.000 - ETA: 1s - loss: 0.0000e+00 - binary_crossentropy: 0.0000e+00 - acc: 1.000 - ETA: 1s - loss: 0.0000e+00 - binary_crossentropy: 0.0000e+00 - acc: 1.000 - ETA: 1s - loss: 0.0000e+00 - binary_crossentropy: 0.0000e+00 - acc: 1.000 - ETA: 1s - loss: 0.0000e+00 - binary_crossentropy: 0.0000e+00 - acc: 1.000 - ETA: 1s - loss: 0.0000e+00 - binary_crossentropy: 0.0000e+00 - acc: 1.000 - ETA: 1s - loss: 0.0000e+00 - binary_crossentropy: 0.0000e+00 - acc: 1.000 - ETA: 1s - loss: 0.0000e+00 - binary_crossentropy: 0.0000e+00 - acc: 1.000 - ETA: 1s - loss: 0.0000e+00 - binary_crossentropy: 0.0000e+00 - acc: 1.000 - ETA: 1s - loss: 0.0000e+00 - binary_crossentropy: 0.0000e+00 - acc: 1.000 - ETA: 1s - loss: 0.0000e+00 - binary_crossentropy: 0.0000e+00 - acc: 1.000 - ETA: 1s - loss: 0.0000e+00 - binary_crossentropy: 0.0000e+00 - acc: 1.000 - ETA: 1s - loss: 0.0000e+00 - binary_crossentropy: 0.0000e+00 - acc: 1.000 - ETA: 1s - loss: 0.0000e+00 - binary_crossentropy: 0.0000e+00 - acc: 1.000 - ETA: 1s - loss: 0.0000e+00 - binary_crossentropy: 0.0000e+00 - acc: 1.000 - ETA: 1s - loss: 0.0000e+00 - binary_crossentropy: 0.0000e+00 - acc: 1.000 - ETA: 0s - loss: 0.0000e+00 - binary_crossentropy: 0.0000e+00 - acc: 1.000 - ETA: 0s - loss: 0.0000e+00 - binary_crossentropy: 0.0000e+00 - acc: 1.000 - ETA: 0s - loss: 0.0000e+00 - binary_crossentropy: 0.0000e+00 - acc: 1.000 - ETA: 0s - loss: 0.0000e+00 - binary_crossentropy: 0.0000e+00 - acc: 1.000 - ETA: 0s - loss: 0.0000e+00 - binary_crossentropy: 0.0000e+00 - acc: 1.000 - ETA: 0s - loss: 0.0000e+00 - binary_crossentropy: 0.0000e+00 - acc: 1.000 - ETA: 0s - loss: 0.0000e+00 - binary_crossentropy: 0.0000e+00 - acc: 1.000 - ETA: 0s - loss: 0.0000e+00 - binary_crossentropy: 0.0000e+00 - acc: 1.000 - ETA: 0s - loss: 0.0000e+00 - binary_crossentropy: 0.0000e+00 - acc: 1.000 - ETA: 0s - loss: 0.0000e+00 - binary_crossentropy: 0.0000e+00 - acc: 1.000 - ETA: 0s - loss: 0.0000e+00 - binary_crossentropy: 0.0000e+00 - acc: 1.000 - ETA: 0s - loss: 0.0000e+00 - binary_crossentropy: 0.0000e+00 - acc: 1.000 - ETA: 0s - loss: 0.0000e+00 - binary_crossentropy: 0.0000e+00 - acc: 1.000 - ETA: 0s - loss: 0.0000e+00 - binary_crossentropy: 0.0000e+00 - acc: 1.000 - ETA: 0s - loss: 0.0000e+00 - binary_crossentropy: 0.0000e+00 - acc: 1.000 - ETA: 0s - loss: 0.0000e+00 - binary_crossentropy: 0.0000e+00 - acc: 1.000 - ETA: 0s - loss: 0.0000e+00 - binary_crossentropy: 0.0000e+00 - acc: 1.000 - ETA: 0s - loss: 0.0000e+00 - binary_crossentropy: 0.0000e+00 - acc: 1.000 - ETA: 0s - loss: 0.0000e+00 - binary_crossentropy: 0.0000e+00 - acc: 1.000 - ETA: 0s - loss: 0.0000e+00 - binary_crossentropy: 0.0000e+00 - acc: 1.000 - 3s 168us/sample - loss: 0.0000e+00 - binary_crossentropy: 0.0000e+00 - acc: 1.0000 - val_loss: 0.0000e+00 - val_binary_crossentropy: 0.0000e+00 - val_acc: 1.0000\n",
      "Epoch 4/5\n",
      "16113/16113 [==============================] - ETA: 3s - loss: 0.0000e+00 - binary_crossentropy: 0.0000e+00 - acc: 1.000 - ETA: 2s - loss: 0.0000e+00 - binary_crossentropy: 0.0000e+00 - acc: 1.000 - ETA: 2s - loss: 0.0000e+00 - binary_crossentropy: 0.0000e+00 - acc: 1.000 - ETA: 2s - loss: 0.0000e+00 - binary_crossentropy: 0.0000e+00 - acc: 1.000 - ETA: 2s - loss: 0.0000e+00 - binary_crossentropy: 0.0000e+00 - acc: 1.000 - ETA: 2s - loss: 0.0000e+00 - binary_crossentropy: 0.0000e+00 - acc: 1.000 - ETA: 2s - loss: 0.0000e+00 - binary_crossentropy: 0.0000e+00 - acc: 1.000 - ETA: 2s - loss: 0.0000e+00 - binary_crossentropy: 0.0000e+00 - acc: 1.000 - ETA: 2s - loss: 0.0000e+00 - binary_crossentropy: 0.0000e+00 - acc: 1.000 - ETA: 1s - loss: 0.0000e+00 - binary_crossentropy: 0.0000e+00 - acc: 1.000 - ETA: 1s - loss: 0.0000e+00 - binary_crossentropy: 0.0000e+00 - acc: 1.000 - ETA: 1s - loss: 0.0000e+00 - binary_crossentropy: 0.0000e+00 - acc: 1.000 - ETA: 1s - loss: 0.0000e+00 - binary_crossentropy: 0.0000e+00 - acc: 1.000 - ETA: 1s - loss: 0.0000e+00 - binary_crossentropy: 0.0000e+00 - acc: 1.000 - ETA: 1s - loss: 0.0000e+00 - binary_crossentropy: 0.0000e+00 - acc: 1.000 - ETA: 1s - loss: 0.0000e+00 - binary_crossentropy: 0.0000e+00 - acc: 1.000 - ETA: 1s - loss: 0.0000e+00 - binary_crossentropy: 0.0000e+00 - acc: 1.000 - ETA: 1s - loss: 0.0000e+00 - binary_crossentropy: 0.0000e+00 - acc: 1.000 - ETA: 1s - loss: 0.0000e+00 - binary_crossentropy: 0.0000e+00 - acc: 1.000 - ETA: 1s - loss: 0.0000e+00 - binary_crossentropy: 0.0000e+00 - acc: 1.000 - ETA: 1s - loss: 0.0000e+00 - binary_crossentropy: 0.0000e+00 - acc: 1.000 - ETA: 1s - loss: 0.0000e+00 - binary_crossentropy: 0.0000e+00 - acc: 1.000 - ETA: 1s - loss: 0.0000e+00 - binary_crossentropy: 0.0000e+00 - acc: 1.000 - ETA: 1s - loss: 0.0000e+00 - binary_crossentropy: 0.0000e+00 - acc: 1.000 - ETA: 1s - loss: 0.0000e+00 - binary_crossentropy: 0.0000e+00 - acc: 1.000 - ETA: 1s - loss: 0.0000e+00 - binary_crossentropy: 0.0000e+00 - acc: 1.000 - ETA: 1s - loss: 0.0000e+00 - binary_crossentropy: 0.0000e+00 - acc: 1.000 - ETA: 1s - loss: 0.0000e+00 - binary_crossentropy: 0.0000e+00 - acc: 1.000 - ETA: 0s - loss: 0.0000e+00 - binary_crossentropy: 0.0000e+00 - acc: 1.000 - ETA: 0s - loss: 0.0000e+00 - binary_crossentropy: 0.0000e+00 - acc: 1.000 - ETA: 0s - loss: 0.0000e+00 - binary_crossentropy: 0.0000e+00 - acc: 1.000 - ETA: 0s - loss: 0.0000e+00 - binary_crossentropy: 0.0000e+00 - acc: 1.000 - ETA: 0s - loss: 0.0000e+00 - binary_crossentropy: 0.0000e+00 - acc: 1.000 - ETA: 0s - loss: 0.0000e+00 - binary_crossentropy: 0.0000e+00 - acc: 1.000 - ETA: 0s - loss: 0.0000e+00 - binary_crossentropy: 0.0000e+00 - acc: 1.000 - ETA: 0s - loss: 0.0000e+00 - binary_crossentropy: 0.0000e+00 - acc: 1.000 - ETA: 0s - loss: 0.0000e+00 - binary_crossentropy: 0.0000e+00 - acc: 1.000 - ETA: 0s - loss: 0.0000e+00 - binary_crossentropy: 0.0000e+00 - acc: 1.000 - ETA: 0s - loss: 0.0000e+00 - binary_crossentropy: 0.0000e+00 - acc: 1.000 - ETA: 0s - loss: 0.0000e+00 - binary_crossentropy: 0.0000e+00 - acc: 1.000 - ETA: 0s - loss: 0.0000e+00 - binary_crossentropy: 0.0000e+00 - acc: 1.000 - ETA: 0s - loss: 0.0000e+00 - binary_crossentropy: 0.0000e+00 - acc: 1.000 - ETA: 0s - loss: 0.0000e+00 - binary_crossentropy: 0.0000e+00 - acc: 1.000 - ETA: 0s - loss: 0.0000e+00 - binary_crossentropy: 0.0000e+00 - acc: 1.000 - ETA: 0s - loss: 0.0000e+00 - binary_crossentropy: 0.0000e+00 - acc: 1.000 - ETA: 0s - loss: 0.0000e+00 - binary_crossentropy: 0.0000e+00 - acc: 1.000 - ETA: 0s - loss: 0.0000e+00 - binary_crossentropy: 0.0000e+00 - acc: 1.000 - ETA: 0s - loss: 0.0000e+00 - binary_crossentropy: 0.0000e+00 - acc: 1.000 - 3s 169us/sample - loss: 0.0000e+00 - binary_crossentropy: 0.0000e+00 - acc: 1.0000 - val_loss: 0.0000e+00 - val_binary_crossentropy: 0.0000e+00 - val_acc: 1.0000\n",
      "Epoch 5/5\n",
      "16113/16113 [==============================] - ETA: 2s - loss: 0.0000e+00 - binary_crossentropy: 0.0000e+00 - acc: 1.000 - ETA: 2s - loss: 0.0000e+00 - binary_crossentropy: 0.0000e+00 - acc: 1.000 - ETA: 2s - loss: 0.0000e+00 - binary_crossentropy: 0.0000e+00 - acc: 1.000 - ETA: 2s - loss: 0.0000e+00 - binary_crossentropy: 0.0000e+00 - acc: 1.000 - ETA: 2s - loss: 0.0000e+00 - binary_crossentropy: 0.0000e+00 - acc: 1.000 - ETA: 2s - loss: 0.0000e+00 - binary_crossentropy: 0.0000e+00 - acc: 1.000 - ETA: 2s - loss: 0.0000e+00 - binary_crossentropy: 0.0000e+00 - acc: 1.000 - ETA: 2s - loss: 0.0000e+00 - binary_crossentropy: 0.0000e+00 - acc: 1.000 - ETA: 1s - loss: 0.0000e+00 - binary_crossentropy: 0.0000e+00 - acc: 1.000 - ETA: 1s - loss: 0.0000e+00 - binary_crossentropy: 0.0000e+00 - acc: 1.000 - ETA: 1s - loss: 0.0000e+00 - binary_crossentropy: 0.0000e+00 - acc: 1.000 - ETA: 1s - loss: 0.0000e+00 - binary_crossentropy: 0.0000e+00 - acc: 1.000 - ETA: 1s - loss: 0.0000e+00 - binary_crossentropy: 0.0000e+00 - acc: 1.000 - ETA: 1s - loss: 0.0000e+00 - binary_crossentropy: 0.0000e+00 - acc: 1.000 - ETA: 1s - loss: 0.0000e+00 - binary_crossentropy: 0.0000e+00 - acc: 1.000 - ETA: 1s - loss: 0.0000e+00 - binary_crossentropy: 0.0000e+00 - acc: 1.000 - ETA: 1s - loss: 0.0000e+00 - binary_crossentropy: 0.0000e+00 - acc: 1.000 - ETA: 1s - loss: 0.0000e+00 - binary_crossentropy: 0.0000e+00 - acc: 1.000 - ETA: 1s - loss: 0.0000e+00 - binary_crossentropy: 0.0000e+00 - acc: 1.000 - ETA: 1s - loss: 0.0000e+00 - binary_crossentropy: 0.0000e+00 - acc: 1.000 - ETA: 1s - loss: 0.0000e+00 - binary_crossentropy: 0.0000e+00 - acc: 1.000 - ETA: 1s - loss: 0.0000e+00 - binary_crossentropy: 0.0000e+00 - acc: 1.000 - ETA: 1s - loss: 0.0000e+00 - binary_crossentropy: 0.0000e+00 - acc: 1.000 - ETA: 1s - loss: 0.0000e+00 - binary_crossentropy: 0.0000e+00 - acc: 1.000 - ETA: 1s - loss: 0.0000e+00 - binary_crossentropy: 0.0000e+00 - acc: 1.000 - ETA: 1s - loss: 0.0000e+00 - binary_crossentropy: 0.0000e+00 - acc: 1.000 - ETA: 1s - loss: 0.0000e+00 - binary_crossentropy: 0.0000e+00 - acc: 1.000 - ETA: 0s - loss: 0.0000e+00 - binary_crossentropy: 0.0000e+00 - acc: 1.000 - ETA: 0s - loss: 0.0000e+00 - binary_crossentropy: 0.0000e+00 - acc: 1.000 - ETA: 0s - loss: 0.0000e+00 - binary_crossentropy: 0.0000e+00 - acc: 1.000 - ETA: 0s - loss: 0.0000e+00 - binary_crossentropy: 0.0000e+00 - acc: 1.000 - ETA: 0s - loss: 0.0000e+00 - binary_crossentropy: 0.0000e+00 - acc: 1.000 - ETA: 0s - loss: 0.0000e+00 - binary_crossentropy: 0.0000e+00 - acc: 1.000 - ETA: 0s - loss: 0.0000e+00 - binary_crossentropy: 0.0000e+00 - acc: 1.000 - ETA: 0s - loss: 0.0000e+00 - binary_crossentropy: 0.0000e+00 - acc: 1.000 - ETA: 0s - loss: 0.0000e+00 - binary_crossentropy: 0.0000e+00 - acc: 1.000 - ETA: 0s - loss: 0.0000e+00 - binary_crossentropy: 0.0000e+00 - acc: 1.000 - ETA: 0s - loss: 0.0000e+00 - binary_crossentropy: 0.0000e+00 - acc: 1.000 - ETA: 0s - loss: 0.0000e+00 - binary_crossentropy: 0.0000e+00 - acc: 1.000 - ETA: 0s - loss: 0.0000e+00 - binary_crossentropy: 0.0000e+00 - acc: 1.000 - ETA: 0s - loss: 0.0000e+00 - binary_crossentropy: 0.0000e+00 - acc: 1.000 - ETA: 0s - loss: 0.0000e+00 - binary_crossentropy: 0.0000e+00 - acc: 1.000 - ETA: 0s - loss: 0.0000e+00 - binary_crossentropy: 0.0000e+00 - acc: 1.000 - ETA: 0s - loss: 0.0000e+00 - binary_crossentropy: 0.0000e+00 - acc: 1.000 - ETA: 0s - loss: 0.0000e+00 - binary_crossentropy: 0.0000e+00 - acc: 1.000 - ETA: 0s - loss: 0.0000e+00 - binary_crossentropy: 0.0000e+00 - acc: 1.000 - 3s 166us/sample - loss: 0.0000e+00 - binary_crossentropy: 0.0000e+00 - acc: 1.0000 - val_loss: 0.0000e+00 - val_binary_crossentropy: 0.0000e+00 - val_acc: 1.0000\n",
      "Train on 16113 samples, validate on 4029 samples\n",
      "WARNING:tensorflow:OMP_NUM_THREADS is no longer used by the default Keras config. To configure the number of threads, use tf.config.threading APIs.\n",
      "Epoch 1/5\n",
      "16113/16113 [==============================] - ETA: 3:53 - loss: 15.3332 - binary_crossentropy: 15.2492 - acc: 0.0000e+0 - ETA: 21s - loss: 15.3332 - binary_crossentropy: 15.2492 - acc: 0.0000e+0 - ETA: 12s - loss: 15.3332 - binary_crossentropy: 15.2492 - acc: 0.0000e+ - ETA: 8s - loss: 15.3332 - binary_crossentropy: 15.2492 - acc: 0.0000e+00 - ETA: 6s - loss: 15.3332 - binary_crossentropy: 15.2492 - acc: 0.0000e+0 - ETA: 5s - loss: 15.3332 - binary_crossentropy: 15.2493 - acc: 0.0000e+0 - ETA: 4s - loss: 15.3332 - binary_crossentropy: 15.2493 - acc: 0.0000e+0 - ETA: 4s - loss: 15.3332 - binary_crossentropy: 15.2493 - acc: 0.0000e+0 - ETA: 3s - loss: 15.3332 - binary_crossentropy: 15.2493 - acc: 0.0000e+0 - ETA: 3s - loss: 15.3332 - binary_crossentropy: 15.2493 - acc: 0.0000e+0 - ETA: 3s - loss: 15.3332 - binary_crossentropy: 15.2493 - acc: 0.0000e+0 - ETA: 2s - loss: 15.3332 - binary_crossentropy: 15.2493 - acc: 0.0000e+0 - ETA: 2s - loss: 15.3332 - binary_crossentropy: 15.2493 - acc: 0.0000e+0 - ETA: 2s - loss: 15.3332 - binary_crossentropy: 15.2493 - acc: 0.0000e+0 - ETA: 2s - loss: 15.3332 - binary_crossentropy: 15.2493 - acc: 0.0000e+0 - ETA: 2s - loss: 15.3332 - binary_crossentropy: 15.2493 - acc: 0.0000e+0 - ETA: 1s - loss: 15.3332 - binary_crossentropy: 15.2493 - acc: 0.0000e+0 - ETA: 1s - loss: 15.3332 - binary_crossentropy: 15.2493 - acc: 0.0000e+0 - ETA: 1s - loss: 15.3332 - binary_crossentropy: 15.2493 - acc: 0.0000e+0 - ETA: 1s - loss: 15.3332 - binary_crossentropy: 15.2493 - acc: 0.0000e+0 - ETA: 1s - loss: 15.3332 - binary_crossentropy: 15.2493 - acc: 0.0000e+0 - ETA: 1s - loss: 15.3332 - binary_crossentropy: 15.2493 - acc: 0.0000e+0 - ETA: 1s - loss: 15.3332 - binary_crossentropy: 15.2493 - acc: 0.0000e+0 - ETA: 1s - loss: 15.3332 - binary_crossentropy: 15.2493 - acc: 0.0000e+0 - ETA: 1s - loss: 15.3332 - binary_crossentropy: 15.2492 - acc: 0.0000e+0 - ETA: 1s - loss: 15.3332 - binary_crossentropy: 15.2492 - acc: 0.0000e+0 - ETA: 1s - loss: 15.3332 - binary_crossentropy: 15.2492 - acc: 0.0000e+0 - ETA: 1s - loss: 15.3332 - binary_crossentropy: 15.2492 - acc: 0.0000e+0 - ETA: 0s - loss: 15.3332 - binary_crossentropy: 15.2492 - acc: 0.0000e+0 - ETA: 0s - loss: 15.3332 - binary_crossentropy: 15.2492 - acc: 0.0000e+0 - ETA: 0s - loss: 15.3332 - binary_crossentropy: 15.2492 - acc: 0.0000e+0 - ETA: 0s - loss: 15.3332 - binary_crossentropy: 15.2492 - acc: 0.0000e+0 - ETA: 0s - loss: 15.3332 - binary_crossentropy: 15.2492 - acc: 0.0000e+0 - ETA: 0s - loss: 15.3332 - binary_crossentropy: 15.2492 - acc: 0.0000e+0 - ETA: 0s - loss: 15.3332 - binary_crossentropy: 15.2492 - acc: 0.0000e+0 - ETA: 0s - loss: 15.3332 - binary_crossentropy: 15.2492 - acc: 0.0000e+0 - ETA: 0s - loss: 15.3332 - binary_crossentropy: 15.2492 - acc: 0.0000e+0 - ETA: 0s - loss: 15.3332 - binary_crossentropy: 15.2492 - acc: 0.0000e+0 - ETA: 0s - loss: 15.3332 - binary_crossentropy: 15.2492 - acc: 0.0000e+0 - ETA: 0s - loss: 15.3332 - binary_crossentropy: 15.2492 - acc: 0.0000e+0 - ETA: 0s - loss: 15.3332 - binary_crossentropy: 15.2492 - acc: 0.0000e+0 - ETA: 0s - loss: 15.3332 - binary_crossentropy: 15.2492 - acc: 0.0000e+0 - ETA: 0s - loss: 15.3332 - binary_crossentropy: 15.2492 - acc: 0.0000e+0 - ETA: 0s - loss: 15.3332 - binary_crossentropy: 15.2492 - acc: 0.0000e+0 - 3s 195us/sample - loss: 15.3332 - binary_crossentropy: 15.2492 - acc: 0.0000e+00 - val_loss: 15.2492 - val_binary_crossentropy: 15.2493 - val_acc: 0.0000e+00\n",
      "Epoch 2/5\n",
      "16113/16113 [==============================] - ETA: 2s - loss: 15.3332 - binary_crossentropy: 15.2492 - acc: 0.0000e+0 - ETA: 2s - loss: 15.3332 - binary_crossentropy: 15.2492 - acc: 0.0000e+0 - ETA: 2s - loss: 15.3332 - binary_crossentropy: 15.2492 - acc: 0.0000e+0 - ETA: 2s - loss: 15.3332 - binary_crossentropy: 15.2492 - acc: 0.0000e+0 - ETA: 2s - loss: 15.3332 - binary_crossentropy: 15.2492 - acc: 0.0000e+0 - ETA: 2s - loss: 15.3332 - binary_crossentropy: 15.2493 - acc: 0.0000e+0 - ETA: 2s - loss: 15.3332 - binary_crossentropy: 15.2493 - acc: 0.0000e+0 - ETA: 2s - loss: 15.3332 - binary_crossentropy: 15.2493 - acc: 0.0000e+0 - ETA: 1s - loss: 15.3332 - binary_crossentropy: 15.2493 - acc: 0.0000e+0 - ETA: 1s - loss: 15.3332 - binary_crossentropy: 15.2493 - acc: 0.0000e+0 - ETA: 1s - loss: 15.3332 - binary_crossentropy: 15.2493 - acc: 0.0000e+0 - ETA: 1s - loss: 15.3332 - binary_crossentropy: 15.2493 - acc: 0.0000e+0 - ETA: 1s - loss: 15.3332 - binary_crossentropy: 15.2493 - acc: 0.0000e+0 - ETA: 1s - loss: 15.3332 - binary_crossentropy: 15.2493 - acc: 0.0000e+0 - ETA: 1s - loss: 15.3332 - binary_crossentropy: 15.2493 - acc: 0.0000e+0 - ETA: 1s - loss: 15.3332 - binary_crossentropy: 15.2493 - acc: 0.0000e+0 - ETA: 1s - loss: 15.3332 - binary_crossentropy: 15.2493 - acc: 0.0000e+0 - ETA: 1s - loss: 15.3332 - binary_crossentropy: 15.2493 - acc: 0.0000e+0 - ETA: 1s - loss: 15.3332 - binary_crossentropy: 15.2493 - acc: 0.0000e+0 - ETA: 1s - loss: 15.3332 - binary_crossentropy: 15.2493 - acc: 0.0000e+0 - ETA: 1s - loss: 15.3332 - binary_crossentropy: 15.2493 - acc: 0.0000e+0 - ETA: 1s - loss: 15.3332 - binary_crossentropy: 15.2493 - acc: 0.0000e+0 - ETA: 1s - loss: 15.3332 - binary_crossentropy: 15.2493 - acc: 0.0000e+0 - ETA: 1s - loss: 15.3332 - binary_crossentropy: 15.2493 - acc: 0.0000e+0 - ETA: 1s - loss: 15.3332 - binary_crossentropy: 15.2493 - acc: 0.0000e+0 - ETA: 1s - loss: 15.3332 - binary_crossentropy: 15.2493 - acc: 0.0000e+0 - ETA: 1s - loss: 15.3332 - binary_crossentropy: 15.2492 - acc: 0.0000e+0 - ETA: 0s - loss: 15.3332 - binary_crossentropy: 15.2492 - acc: 0.0000e+0 - ETA: 0s - loss: 15.3332 - binary_crossentropy: 15.2492 - acc: 0.0000e+0 - ETA: 0s - loss: 15.3332 - binary_crossentropy: 15.2492 - acc: 0.0000e+0 - ETA: 0s - loss: 15.3332 - binary_crossentropy: 15.2492 - acc: 0.0000e+0 - ETA: 0s - loss: 15.3332 - binary_crossentropy: 15.2492 - acc: 0.0000e+0 - ETA: 0s - loss: 15.3332 - binary_crossentropy: 15.2492 - acc: 0.0000e+0 - ETA: 0s - loss: 15.3332 - binary_crossentropy: 15.2492 - acc: 0.0000e+0 - ETA: 0s - loss: 15.3332 - binary_crossentropy: 15.2492 - acc: 0.0000e+0 - ETA: 0s - loss: 15.3332 - binary_crossentropy: 15.2492 - acc: 0.0000e+0 - ETA: 0s - loss: 15.3332 - binary_crossentropy: 15.2492 - acc: 0.0000e+0 - ETA: 0s - loss: 15.3332 - binary_crossentropy: 15.2492 - acc: 0.0000e+0 - ETA: 0s - loss: 15.3332 - binary_crossentropy: 15.2492 - acc: 0.0000e+0 - ETA: 0s - loss: 15.3332 - binary_crossentropy: 15.2492 - acc: 0.0000e+0 - ETA: 0s - loss: 15.3332 - binary_crossentropy: 15.2492 - acc: 0.0000e+0 - ETA: 0s - loss: 15.3332 - binary_crossentropy: 15.2492 - acc: 0.0000e+0 - ETA: 0s - loss: 15.3332 - binary_crossentropy: 15.2492 - acc: 0.0000e+0 - ETA: 0s - loss: 15.3332 - binary_crossentropy: 15.2492 - acc: 0.0000e+0 - ETA: 0s - loss: 15.3332 - binary_crossentropy: 15.2492 - acc: 0.0000e+0 - ETA: 0s - loss: 15.3332 - binary_crossentropy: 15.2492 - acc: 0.0000e+0 - ETA: 0s - loss: 15.3332 - binary_crossentropy: 15.2492 - acc: 0.0000e+0 - 3s 168us/sample - loss: 15.3332 - binary_crossentropy: 15.2492 - acc: 0.0000e+00 - val_loss: 15.2492 - val_binary_crossentropy: 15.2493 - val_acc: 0.0000e+00\n",
      "Epoch 3/5\n",
      "16113/16113 [==============================] - ETA: 3s - loss: 15.3332 - binary_crossentropy: 15.2492 - acc: 0.0000e+0 - ETA: 2s - loss: 15.3332 - binary_crossentropy: 15.2492 - acc: 0.0000e+0 - ETA: 2s - loss: 15.3332 - binary_crossentropy: 15.2492 - acc: 0.0000e+0 - ETA: 2s - loss: 15.3332 - binary_crossentropy: 15.2492 - acc: 0.0000e+0 - ETA: 2s - loss: 15.3332 - binary_crossentropy: 15.2492 - acc: 0.0000e+0 - ETA: 1s - loss: 15.3332 - binary_crossentropy: 15.2493 - acc: 0.0000e+0 - ETA: 1s - loss: 15.3332 - binary_crossentropy: 15.2493 - acc: 0.0000e+0 - ETA: 1s - loss: 15.3332 - binary_crossentropy: 15.2493 - acc: 0.0000e+0 - ETA: 1s - loss: 15.3332 - binary_crossentropy: 15.2493 - acc: 0.0000e+0 - ETA: 1s - loss: 15.3332 - binary_crossentropy: 15.2493 - acc: 0.0000e+0 - ETA: 1s - loss: 15.3332 - binary_crossentropy: 15.2493 - acc: 0.0000e+0 - ETA: 1s - loss: 15.3332 - binary_crossentropy: 15.2493 - acc: 0.0000e+0 - ETA: 1s - loss: 15.3332 - binary_crossentropy: 15.2493 - acc: 0.0000e+0 - ETA: 1s - loss: 15.3332 - binary_crossentropy: 15.2493 - acc: 0.0000e+0 - ETA: 1s - loss: 15.3332 - binary_crossentropy: 15.2493 - acc: 0.0000e+0 - ETA: 1s - loss: 15.3332 - binary_crossentropy: 15.2493 - acc: 0.0000e+0 - ETA: 1s - loss: 15.3332 - binary_crossentropy: 15.2493 - acc: 0.0000e+0 - ETA: 1s - loss: 15.3332 - binary_crossentropy: 15.2493 - acc: 0.0000e+0 - ETA: 1s - loss: 15.3332 - binary_crossentropy: 15.2493 - acc: 0.0000e+0 - ETA: 1s - loss: 15.3332 - binary_crossentropy: 15.2493 - acc: 0.0000e+0 - ETA: 1s - loss: 15.3332 - binary_crossentropy: 15.2493 - acc: 0.0000e+0 - ETA: 1s - loss: 15.3332 - binary_crossentropy: 15.2493 - acc: 0.0000e+0 - ETA: 1s - loss: 15.3332 - binary_crossentropy: 15.2493 - acc: 0.0000e+0 - ETA: 1s - loss: 15.3332 - binary_crossentropy: 15.2493 - acc: 0.0000e+0 - ETA: 1s - loss: 15.3332 - binary_crossentropy: 15.2493 - acc: 0.0000e+0 - ETA: 0s - loss: 15.3332 - binary_crossentropy: 15.2492 - acc: 0.0000e+0 - ETA: 0s - loss: 15.3332 - binary_crossentropy: 15.2492 - acc: 0.0000e+0 - ETA: 0s - loss: 15.3332 - binary_crossentropy: 15.2492 - acc: 0.0000e+0 - ETA: 0s - loss: 15.3332 - binary_crossentropy: 15.2492 - acc: 0.0000e+0 - ETA: 0s - loss: 15.3332 - binary_crossentropy: 15.2492 - acc: 0.0000e+0 - ETA: 0s - loss: 15.3332 - binary_crossentropy: 15.2492 - acc: 0.0000e+0 - ETA: 0s - loss: 15.3332 - binary_crossentropy: 15.2492 - acc: 0.0000e+0 - ETA: 0s - loss: 15.3332 - binary_crossentropy: 15.2492 - acc: 0.0000e+0 - ETA: 0s - loss: 15.3332 - binary_crossentropy: 15.2492 - acc: 0.0000e+0 - ETA: 0s - loss: 15.3332 - binary_crossentropy: 15.2492 - acc: 0.0000e+0 - ETA: 0s - loss: 15.3332 - binary_crossentropy: 15.2492 - acc: 0.0000e+0 - ETA: 0s - loss: 15.3332 - binary_crossentropy: 15.2492 - acc: 0.0000e+0 - ETA: 0s - loss: 15.3332 - binary_crossentropy: 15.2492 - acc: 0.0000e+0 - ETA: 0s - loss: 15.3332 - binary_crossentropy: 15.2492 - acc: 0.0000e+0 - ETA: 0s - loss: 15.3332 - binary_crossentropy: 15.2492 - acc: 0.0000e+0 - ETA: 0s - loss: 15.3332 - binary_crossentropy: 15.2492 - acc: 0.0000e+0 - ETA: 0s - loss: 15.3332 - binary_crossentropy: 15.2492 - acc: 0.0000e+0 - ETA: 0s - loss: 15.3332 - binary_crossentropy: 15.2492 - acc: 0.0000e+0 - ETA: 0s - loss: 15.3332 - binary_crossentropy: 15.2492 - acc: 0.0000e+0 - ETA: 0s - loss: 15.3332 - binary_crossentropy: 15.2492 - acc: 0.0000e+0 - ETA: 0s - loss: 15.3332 - binary_crossentropy: 15.2492 - acc: 0.0000e+0 - 3s 163us/sample - loss: 15.3332 - binary_crossentropy: 15.2492 - acc: 0.0000e+00 - val_loss: 15.2492 - val_binary_crossentropy: 15.2493 - val_acc: 0.0000e+00\n",
      "Epoch 4/5\n",
      "16113/16113 [==============================] - ETA: 3s - loss: 15.3332 - binary_crossentropy: 15.2492 - acc: 0.0000e+0 - ETA: 2s - loss: 15.3332 - binary_crossentropy: 15.2492 - acc: 0.0000e+0 - ETA: 2s - loss: 15.3332 - binary_crossentropy: 15.2492 - acc: 0.0000e+0 - ETA: 2s - loss: 15.3332 - binary_crossentropy: 15.2492 - acc: 0.0000e+0 - ETA: 2s - loss: 15.3332 - binary_crossentropy: 15.2492 - acc: 0.0000e+0 - ETA: 2s - loss: 15.3332 - binary_crossentropy: 15.2492 - acc: 0.0000e+0 - ETA: 2s - loss: 15.3332 - binary_crossentropy: 15.2493 - acc: 0.0000e+0 - ETA: 2s - loss: 15.3332 - binary_crossentropy: 15.2493 - acc: 0.0000e+0 - ETA: 2s - loss: 15.3332 - binary_crossentropy: 15.2493 - acc: 0.0000e+0 - ETA: 1s - loss: 15.3332 - binary_crossentropy: 15.2493 - acc: 0.0000e+0 - ETA: 1s - loss: 15.3332 - binary_crossentropy: 15.2493 - acc: 0.0000e+0 - ETA: 1s - loss: 15.3332 - binary_crossentropy: 15.2493 - acc: 0.0000e+0 - ETA: 1s - loss: 15.3332 - binary_crossentropy: 15.2493 - acc: 0.0000e+0 - ETA: 1s - loss: 15.3332 - binary_crossentropy: 15.2493 - acc: 0.0000e+0 - ETA: 1s - loss: 15.3332 - binary_crossentropy: 15.2493 - acc: 0.0000e+0 - ETA: 1s - loss: 15.3332 - binary_crossentropy: 15.2493 - acc: 0.0000e+0 - ETA: 1s - loss: 15.3332 - binary_crossentropy: 15.2493 - acc: 0.0000e+0 - ETA: 1s - loss: 15.3332 - binary_crossentropy: 15.2493 - acc: 0.0000e+0 - ETA: 1s - loss: 15.3332 - binary_crossentropy: 15.2493 - acc: 0.0000e+0 - ETA: 1s - loss: 15.3332 - binary_crossentropy: 15.2493 - acc: 0.0000e+0 - ETA: 1s - loss: 15.3332 - binary_crossentropy: 15.2493 - acc: 0.0000e+0 - ETA: 1s - loss: 15.3332 - binary_crossentropy: 15.2493 - acc: 0.0000e+0 - ETA: 1s - loss: 15.3332 - binary_crossentropy: 15.2493 - acc: 0.0000e+0 - ETA: 1s - loss: 15.3332 - binary_crossentropy: 15.2493 - acc: 0.0000e+0 - ETA: 1s - loss: 15.3332 - binary_crossentropy: 15.2493 - acc: 0.0000e+0 - ETA: 1s - loss: 15.3332 - binary_crossentropy: 15.2493 - acc: 0.0000e+0 - ETA: 1s - loss: 15.3332 - binary_crossentropy: 15.2492 - acc: 0.0000e+0 - ETA: 1s - loss: 15.3332 - binary_crossentropy: 15.2492 - acc: 0.0000e+0 - ETA: 0s - loss: 15.3332 - binary_crossentropy: 15.2492 - acc: 0.0000e+0 - ETA: 0s - loss: 15.3332 - binary_crossentropy: 15.2492 - acc: 0.0000e+0 - ETA: 0s - loss: 15.3332 - binary_crossentropy: 15.2492 - acc: 0.0000e+0 - ETA: 0s - loss: 15.3332 - binary_crossentropy: 15.2492 - acc: 0.0000e+0 - ETA: 0s - loss: 15.3332 - binary_crossentropy: 15.2492 - acc: 0.0000e+0 - ETA: 0s - loss: 15.3332 - binary_crossentropy: 15.2492 - acc: 0.0000e+0 - ETA: 0s - loss: 15.3332 - binary_crossentropy: 15.2492 - acc: 0.0000e+0 - ETA: 0s - loss: 15.3332 - binary_crossentropy: 15.2492 - acc: 0.0000e+0 - ETA: 0s - loss: 15.3332 - binary_crossentropy: 15.2492 - acc: 0.0000e+0 - ETA: 0s - loss: 15.3332 - binary_crossentropy: 15.2492 - acc: 0.0000e+0 - ETA: 0s - loss: 15.3332 - binary_crossentropy: 15.2492 - acc: 0.0000e+0 - ETA: 0s - loss: 15.3332 - binary_crossentropy: 15.2492 - acc: 0.0000e+0 - ETA: 0s - loss: 15.3332 - binary_crossentropy: 15.2492 - acc: 0.0000e+0 - ETA: 0s - loss: 15.3332 - binary_crossentropy: 15.2492 - acc: 0.0000e+0 - ETA: 0s - loss: 15.3332 - binary_crossentropy: 15.2492 - acc: 0.0000e+0 - ETA: 0s - loss: 15.3332 - binary_crossentropy: 15.2492 - acc: 0.0000e+0 - ETA: 0s - loss: 15.3332 - binary_crossentropy: 15.2492 - acc: 0.0000e+0 - ETA: 0s - loss: 15.3332 - binary_crossentropy: 15.2492 - acc: 0.0000e+0 - ETA: 0s - loss: 15.3332 - binary_crossentropy: 15.2492 - acc: 0.0000e+0 - 3s 167us/sample - loss: 15.3332 - binary_crossentropy: 15.2492 - acc: 0.0000e+00 - val_loss: 15.2492 - val_binary_crossentropy: 15.2493 - val_acc: 0.0000e+00\n",
      "Epoch 5/5\n",
      "16113/16113 [==============================] - ETA: 2s - loss: 15.3332 - binary_crossentropy: 15.2492 - acc: 0.0000e+0 - ETA: 2s - loss: 15.3332 - binary_crossentropy: 15.2492 - acc: 0.0000e+0 - ETA: 2s - loss: 15.3332 - binary_crossentropy: 15.2492 - acc: 0.0000e+0 - ETA: 2s - loss: 15.3332 - binary_crossentropy: 15.2492 - acc: 0.0000e+0 - ETA: 2s - loss: 15.3332 - binary_crossentropy: 15.2492 - acc: 0.0000e+0 - ETA: 2s - loss: 15.3332 - binary_crossentropy: 15.2492 - acc: 0.0000e+0 - ETA: 2s - loss: 15.3332 - binary_crossentropy: 15.2493 - acc: 0.0000e+0 - ETA: 1s - loss: 15.3332 - binary_crossentropy: 15.2493 - acc: 0.0000e+0 - ETA: 1s - loss: 15.3332 - binary_crossentropy: 15.2493 - acc: 0.0000e+0 - ETA: 1s - loss: 15.3332 - binary_crossentropy: 15.2493 - acc: 0.0000e+0 - ETA: 1s - loss: 15.3332 - binary_crossentropy: 15.2493 - acc: 0.0000e+0 - ETA: 1s - loss: 15.3332 - binary_crossentropy: 15.2493 - acc: 0.0000e+0 - ETA: 1s - loss: 15.3332 - binary_crossentropy: 15.2493 - acc: 0.0000e+0 - ETA: 1s - loss: 15.3332 - binary_crossentropy: 15.2493 - acc: 0.0000e+0 - ETA: 1s - loss: 15.3332 - binary_crossentropy: 15.2493 - acc: 0.0000e+0 - ETA: 1s - loss: 15.3332 - binary_crossentropy: 15.2493 - acc: 0.0000e+0 - ETA: 1s - loss: 15.3332 - binary_crossentropy: 15.2493 - acc: 0.0000e+0 - ETA: 1s - loss: 15.3332 - binary_crossentropy: 15.2493 - acc: 0.0000e+0 - ETA: 1s - loss: 15.3332 - binary_crossentropy: 15.2493 - acc: 0.0000e+0 - ETA: 1s - loss: 15.3332 - binary_crossentropy: 15.2493 - acc: 0.0000e+0 - ETA: 1s - loss: 15.3332 - binary_crossentropy: 15.2493 - acc: 0.0000e+0 - ETA: 1s - loss: 15.3332 - binary_crossentropy: 15.2493 - acc: 0.0000e+0 - ETA: 1s - loss: 15.3332 - binary_crossentropy: 15.2493 - acc: 0.0000e+0 - ETA: 1s - loss: 15.3332 - binary_crossentropy: 15.2493 - acc: 0.0000e+0 - ETA: 0s - loss: 15.3332 - binary_crossentropy: 15.2492 - acc: 0.0000e+0 - ETA: 0s - loss: 15.3332 - binary_crossentropy: 15.2492 - acc: 0.0000e+0 - ETA: 0s - loss: 15.3332 - binary_crossentropy: 15.2492 - acc: 0.0000e+0 - ETA: 0s - loss: 15.3332 - binary_crossentropy: 15.2492 - acc: 0.0000e+0 - ETA: 0s - loss: 15.3332 - binary_crossentropy: 15.2492 - acc: 0.0000e+0 - ETA: 0s - loss: 15.3332 - binary_crossentropy: 15.2492 - acc: 0.0000e+0 - ETA: 0s - loss: 15.3332 - binary_crossentropy: 15.2492 - acc: 0.0000e+0 - ETA: 0s - loss: 15.3332 - binary_crossentropy: 15.2492 - acc: 0.0000e+0 - ETA: 0s - loss: 15.3332 - binary_crossentropy: 15.2492 - acc: 0.0000e+0 - ETA: 0s - loss: 15.3332 - binary_crossentropy: 15.2492 - acc: 0.0000e+0 - ETA: 0s - loss: 15.3332 - binary_crossentropy: 15.2492 - acc: 0.0000e+0 - ETA: 0s - loss: 15.3332 - binary_crossentropy: 15.2492 - acc: 0.0000e+0 - ETA: 0s - loss: 15.3332 - binary_crossentropy: 15.2492 - acc: 0.0000e+0 - ETA: 0s - loss: 15.3332 - binary_crossentropy: 15.2492 - acc: 0.0000e+0 - ETA: 0s - loss: 15.3332 - binary_crossentropy: 15.2492 - acc: 0.0000e+0 - ETA: 0s - loss: 15.3332 - binary_crossentropy: 15.2492 - acc: 0.0000e+0 - ETA: 0s - loss: 15.3332 - binary_crossentropy: 15.2492 - acc: 0.0000e+0 - ETA: 0s - loss: 15.3332 - binary_crossentropy: 15.2492 - acc: 0.0000e+0 - ETA: 0s - loss: 15.3332 - binary_crossentropy: 15.2492 - acc: 0.0000e+0 - ETA: 0s - loss: 15.3332 - binary_crossentropy: 15.2492 - acc: 0.0000e+0 - 3s 160us/sample - loss: 15.3332 - binary_crossentropy: 15.2492 - acc: 0.0000e+00 - val_loss: 15.2492 - val_binary_crossentropy: 15.2493 - val_acc: 0.0000e+00\n"
     ]
    },
    {
     "data": {
      "text/html": [
       "<span style=\"color:#4527A0\"><h1 style=\"font-size:18px\">Trial complete</h1></span>"
      ],
      "text/plain": [
       "<IPython.core.display.HTML object>"
      ]
     },
     "metadata": {},
     "output_type": "display_data"
    },
    {
     "data": {
      "text/html": [
       "<span style=\"color:#4527A0\"><h1 style=\"font-size:18px\">Trial summary</h1></span>"
      ],
      "text/plain": [
       "<IPython.core.display.HTML object>"
      ]
     },
     "metadata": {},
     "output_type": "display_data"
    },
    {
     "data": {
      "text/html": [
       "<span style=\"color:cyan\"> |-Trial ID: 0017092e64c365d038f6f7763d5b2ad8</span>"
      ],
      "text/plain": [
       "<IPython.core.display.HTML object>"
      ]
     },
     "metadata": {},
     "output_type": "display_data"
    },
    {
     "data": {
      "text/html": [
       "<span style=\"color:cyan\"> |-Score: 0.6666666865348816</span>"
      ],
      "text/plain": [
       "<IPython.core.display.HTML object>"
      ]
     },
     "metadata": {},
     "output_type": "display_data"
    },
    {
     "data": {
      "text/html": [
       "<span style=\"color:cyan\"> |-Best step: 0</span>"
      ],
      "text/plain": [
       "<IPython.core.display.HTML object>"
      ]
     },
     "metadata": {},
     "output_type": "display_data"
    },
    {
     "data": {
      "text/html": [
       "<span style=\"color:#7E57C2\"><h2 style=\"font-size:16px\">Hyperparameters:</h2></span>"
      ],
      "text/plain": [
       "<IPython.core.display.HTML object>"
      ]
     },
     "metadata": {},
     "output_type": "display_data"
    },
    {
     "data": {
      "text/html": [
       "<span style=\"color:cyan\"> |-dense_activation: relu</span>"
      ],
      "text/plain": [
       "<IPython.core.display.HTML object>"
      ]
     },
     "metadata": {},
     "output_type": "display_data"
    },
    {
     "data": {
      "text/html": [
       "<span style=\"color:blue\"> |-learning_rate: 0.001</span>"
      ],
      "text/plain": [
       "<IPython.core.display.HTML object>"
      ]
     },
     "metadata": {},
     "output_type": "display_data"
    },
    {
     "data": {
      "text/html": [
       "<span style=\"color:cyan\"> |-units: 482</span>"
      ],
      "text/plain": [
       "<IPython.core.display.HTML object>"
      ]
     },
     "metadata": {},
     "output_type": "display_data"
    },
    {
     "name": "stdout",
     "output_type": "stream",
     "text": [
      "Train on 16113 samples, validate on 4029 samples\n",
      "WARNING:tensorflow:OMP_NUM_THREADS is no longer used by the default Keras config. To configure the number of threads, use tf.config.threading APIs.\n",
      "Epoch 1/5\n",
      "16113/16113 [==============================] - ETA: 3:14 - loss: 0.7829 - binary_crossentropy: 0.7829 - acc: 0.0000e+0 - ETA: 19s - loss: 0.2067 - binary_crossentropy: 0.2067 - acc: 0.9091    - ETA: 11s - loss: 0.1096 - binary_crossentropy: 0.1096 - acc: 0.95 - ETA: 8s - loss: 0.0743 - binary_crossentropy: 0.0743 - acc: 0.9677 - ETA: 6s - loss: 0.0562 - binary_crossentropy: 0.0562 - acc: 0.975 - ETA: 5s - loss: 0.0443 - binary_crossentropy: 0.0443 - acc: 0.980 - ETA: 4s - loss: 0.0366 - binary_crossentropy: 0.0366 - acc: 0.984 - ETA: 4s - loss: 0.0311 - binary_crossentropy: 0.0311 - acc: 0.986 - ETA: 4s - loss: 0.0274 - binary_crossentropy: 0.0274 - acc: 0.988 - ETA: 3s - loss: 0.0243 - binary_crossentropy: 0.0243 - acc: 0.989 - ETA: 3s - loss: 0.0217 - binary_crossentropy: 0.0217 - acc: 0.990 - ETA: 3s - loss: 0.0197 - binary_crossentropy: 0.0197 - acc: 0.991 - ETA: 2s - loss: 0.0180 - binary_crossentropy: 0.0180 - acc: 0.992 - ETA: 2s - loss: 0.0166 - binary_crossentropy: 0.0166 - acc: 0.992 - ETA: 2s - loss: 0.0155 - binary_crossentropy: 0.0155 - acc: 0.993 - ETA: 2s - loss: 0.0143 - binary_crossentropy: 0.0143 - acc: 0.993 - ETA: 2s - loss: 0.0133 - binary_crossentropy: 0.0133 - acc: 0.994 - ETA: 2s - loss: 0.0124 - binary_crossentropy: 0.0124 - acc: 0.994 - ETA: 2s - loss: 0.0117 - binary_crossentropy: 0.0117 - acc: 0.994 - ETA: 1s - loss: 0.0110 - binary_crossentropy: 0.0110 - acc: 0.995 - ETA: 1s - loss: 0.0106 - binary_crossentropy: 0.0106 - acc: 0.995 - ETA: 1s - loss: 0.0099 - binary_crossentropy: 0.0099 - acc: 0.995 - ETA: 1s - loss: 0.0094 - binary_crossentropy: 0.0094 - acc: 0.995 - ETA: 1s - loss: 0.0089 - binary_crossentropy: 0.0089 - acc: 0.996 - ETA: 1s - loss: 0.0085 - binary_crossentropy: 0.0085 - acc: 0.996 - ETA: 1s - loss: 0.0081 - binary_crossentropy: 0.0081 - acc: 0.996 - ETA: 1s - loss: 0.0077 - binary_crossentropy: 0.0077 - acc: 0.996 - ETA: 1s - loss: 0.0075 - binary_crossentropy: 0.0075 - acc: 0.996 - ETA: 1s - loss: 0.0072 - binary_crossentropy: 0.0072 - acc: 0.996 - ETA: 0s - loss: 0.0070 - binary_crossentropy: 0.0070 - acc: 0.997 - ETA: 0s - loss: 0.0067 - binary_crossentropy: 0.0067 - acc: 0.997 - ETA: 0s - loss: 0.0065 - binary_crossentropy: 0.0065 - acc: 0.997 - ETA: 0s - loss: 0.0063 - binary_crossentropy: 0.0063 - acc: 0.997 - ETA: 0s - loss: 0.0061 - binary_crossentropy: 0.0061 - acc: 0.997 - ETA: 0s - loss: 0.0059 - binary_crossentropy: 0.0059 - acc: 0.997 - ETA: 0s - loss: 0.0058 - binary_crossentropy: 0.0058 - acc: 0.997 - ETA: 0s - loss: 0.0056 - binary_crossentropy: 0.0056 - acc: 0.997 - ETA: 0s - loss: 0.0055 - binary_crossentropy: 0.0055 - acc: 0.997 - ETA: 0s - loss: 0.0053 - binary_crossentropy: 0.0053 - acc: 0.997 - ETA: 0s - loss: 0.0052 - binary_crossentropy: 0.0052 - acc: 0.997 - ETA: 0s - loss: 0.0051 - binary_crossentropy: 0.0051 - acc: 0.997 - ETA: 0s - loss: 0.0050 - binary_crossentropy: 0.0050 - acc: 0.997 - ETA: 0s - loss: 0.0048 - binary_crossentropy: 0.0048 - acc: 0.997 - ETA: 0s - loss: 0.0047 - binary_crossentropy: 0.0047 - acc: 0.998 - ETA: 0s - loss: 0.0046 - binary_crossentropy: 0.0046 - acc: 0.998 - 3s 199us/sample - loss: 0.0046 - binary_crossentropy: 0.0046 - acc: 0.9980 - val_loss: 5.5184e-08 - val_binary_crossentropy: 5.5184e-08 - val_acc: 1.0000\n",
      "Epoch 2/5\n",
      "16113/16113 [==============================] - ETA: 2s - loss: 5.6327e-08 - binary_crossentropy: 5.6327e-08 - acc: 1.000 - ETA: 2s - loss: 5.4087e-08 - binary_crossentropy: 5.4087e-08 - acc: 1.000 - ETA: 2s - loss: 5.2640e-08 - binary_crossentropy: 5.2640e-08 - acc: 1.000 - ETA: 2s - loss: 5.1357e-08 - binary_crossentropy: 5.1357e-08 - acc: 1.000 - ETA: 2s - loss: 5.0258e-08 - binary_crossentropy: 5.0258e-08 - acc: 1.000 - ETA: 2s - loss: 4.9242e-08 - binary_crossentropy: 4.9242e-08 - acc: 1.000 - ETA: 2s - loss: 4.8193e-08 - binary_crossentropy: 4.8193e-08 - acc: 1.000 - ETA: 2s - loss: 4.7118e-08 - binary_crossentropy: 4.7118e-08 - acc: 1.000 - ETA: 1s - loss: 4.6094e-08 - binary_crossentropy: 4.6094e-08 - acc: 1.000 - ETA: 1s - loss: 4.5196e-08 - binary_crossentropy: 4.5196e-08 - acc: 1.000 - ETA: 1s - loss: 4.4283e-08 - binary_crossentropy: 4.4283e-08 - acc: 1.000 - ETA: 1s - loss: 4.3467e-08 - binary_crossentropy: 4.3467e-08 - acc: 1.000 - ETA: 1s - loss: 4.2648e-08 - binary_crossentropy: 4.2648e-08 - acc: 1.000 - ETA: 1s - loss: 4.1873e-08 - binary_crossentropy: 4.1873e-08 - acc: 1.000 - ETA: 1s - loss: 4.1100e-08 - binary_crossentropy: 4.1100e-08 - acc: 1.000 - ETA: 1s - loss: 4.0374e-08 - binary_crossentropy: 4.0374e-08 - acc: 1.000 - ETA: 1s - loss: 3.9715e-08 - binary_crossentropy: 3.9715e-08 - acc: 1.000 - ETA: 1s - loss: 3.9007e-08 - binary_crossentropy: 3.9007e-08 - acc: 1.000 - ETA: 1s - loss: 3.8340e-08 - binary_crossentropy: 3.8340e-08 - acc: 1.000 - ETA: 1s - loss: 3.7692e-08 - binary_crossentropy: 3.7692e-08 - acc: 1.000 - ETA: 1s - loss: 3.7067e-08 - binary_crossentropy: 3.7067e-08 - acc: 1.000 - ETA: 1s - loss: 3.6464e-08 - binary_crossentropy: 3.6464e-08 - acc: 1.000 - ETA: 1s - loss: 3.5881e-08 - binary_crossentropy: 3.5881e-08 - acc: 1.000 - ETA: 1s - loss: 3.5304e-08 - binary_crossentropy: 3.5304e-08 - acc: 1.000 - ETA: 1s - loss: 3.4806e-08 - binary_crossentropy: 3.4806e-08 - acc: 1.000 - ETA: 1s - loss: 3.4274e-08 - binary_crossentropy: 3.4274e-08 - acc: 1.000 - ETA: 1s - loss: 3.3754e-08 - binary_crossentropy: 3.3754e-08 - acc: 1.000 - ETA: 0s - loss: 3.3261e-08 - binary_crossentropy: 3.3261e-08 - acc: 1.000 - ETA: 0s - loss: 3.2778e-08 - binary_crossentropy: 3.2778e-08 - acc: 1.000 - ETA: 0s - loss: 3.2312e-08 - binary_crossentropy: 3.2312e-08 - acc: 1.000 - ETA: 0s - loss: 3.1852e-08 - binary_crossentropy: 3.1852e-08 - acc: 1.000 - ETA: 0s - loss: 3.1403e-08 - binary_crossentropy: 3.1403e-08 - acc: 1.000 - ETA: 0s - loss: 3.0969e-08 - binary_crossentropy: 3.0969e-08 - acc: 1.000 - ETA: 0s - loss: 3.0559e-08 - binary_crossentropy: 3.0559e-08 - acc: 1.000 - ETA: 0s - loss: 3.0154e-08 - binary_crossentropy: 3.0154e-08 - acc: 1.000 - ETA: 0s - loss: 2.9759e-08 - binary_crossentropy: 2.9759e-08 - acc: 1.000 - ETA: 0s - loss: 2.9301e-08 - binary_crossentropy: 2.9301e-08 - acc: 1.000 - ETA: 0s - loss: 2.8929e-08 - binary_crossentropy: 2.8929e-08 - acc: 1.000 - ETA: 0s - loss: 2.8564e-08 - binary_crossentropy: 2.8564e-08 - acc: 1.000 - ETA: 0s - loss: 2.8207e-08 - binary_crossentropy: 2.8207e-08 - acc: 1.000 - ETA: 0s - loss: 2.7862e-08 - binary_crossentropy: 2.7862e-08 - acc: 1.000 - ETA: 0s - loss: 2.7554e-08 - binary_crossentropy: 2.7554e-08 - acc: 1.000 - ETA: 0s - loss: 2.7193e-08 - binary_crossentropy: 2.7193e-08 - acc: 1.000 - ETA: 0s - loss: 2.6815e-08 - binary_crossentropy: 2.6815e-08 - acc: 1.000 - ETA: 0s - loss: 2.6477e-08 - binary_crossentropy: 2.6477e-08 - acc: 1.000 - ETA: 0s - loss: 2.6171e-08 - binary_crossentropy: 2.6171e-08 - acc: 1.000 - 3s 163us/sample - loss: 2.6048e-08 - binary_crossentropy: 2.6048e-08 - acc: 1.0000 - val_loss: 1.2334e-08 - val_binary_crossentropy: 1.2334e-08 - val_acc: 1.0000\n",
      "Epoch 3/5\n",
      "16113/16113 [==============================] - ETA: 2s - loss: 1.2771e-08 - binary_crossentropy: 1.2771e-08 - acc: 1.000 - ETA: 2s - loss: 1.2252e-08 - binary_crossentropy: 1.2252e-08 - acc: 1.000 - ETA: 2s - loss: 1.2146e-08 - binary_crossentropy: 1.2146e-08 - acc: 1.000 - ETA: 2s - loss: 1.2003e-08 - binary_crossentropy: 1.2003e-08 - acc: 1.000 - ETA: 2s - loss: 1.1871e-08 - binary_crossentropy: 1.1871e-08 - acc: 1.000 - ETA: 2s - loss: 1.1739e-08 - binary_crossentropy: 1.1739e-08 - acc: 1.000 - ETA: 2s - loss: 1.1612e-08 - binary_crossentropy: 1.1612e-08 - acc: 1.000 - ETA: 2s - loss: 1.1492e-08 - binary_crossentropy: 1.1492e-08 - acc: 1.000 - ETA: 1s - loss: 1.1387e-08 - binary_crossentropy: 1.1387e-08 - acc: 1.000 - ETA: 1s - loss: 1.1263e-08 - binary_crossentropy: 1.1263e-08 - acc: 1.000 - ETA: 1s - loss: 1.1151e-08 - binary_crossentropy: 1.1151e-08 - acc: 1.000 - ETA: 1s - loss: 1.1026e-08 - binary_crossentropy: 1.1026e-08 - acc: 1.000 - ETA: 1s - loss: 1.0902e-08 - binary_crossentropy: 1.0902e-08 - acc: 1.000 - ETA: 1s - loss: 1.0795e-08 - binary_crossentropy: 1.0795e-08 - acc: 1.000 - ETA: 1s - loss: 1.0680e-08 - binary_crossentropy: 1.0680e-08 - acc: 1.000 - ETA: 1s - loss: 1.0550e-08 - binary_crossentropy: 1.0550e-08 - acc: 1.000 - ETA: 1s - loss: 1.0445e-08 - binary_crossentropy: 1.0445e-08 - acc: 1.000 - ETA: 1s - loss: 1.0348e-08 - binary_crossentropy: 1.0348e-08 - acc: 1.000 - ETA: 1s - loss: 1.0253e-08 - binary_crossentropy: 1.0253e-08 - acc: 1.000 - ETA: 1s - loss: 1.0157e-08 - binary_crossentropy: 1.0157e-08 - acc: 1.000 - ETA: 1s - loss: 1.0058e-08 - binary_crossentropy: 1.0058e-08 - acc: 1.000 - ETA: 1s - loss: 9.9673e-09 - binary_crossentropy: 9.9673e-09 - acc: 1.000 - ETA: 1s - loss: 9.8782e-09 - binary_crossentropy: 9.8782e-09 - acc: 1.000 - ETA: 1s - loss: 9.7924e-09 - binary_crossentropy: 9.7924e-09 - acc: 1.000 - ETA: 1s - loss: 9.7081e-09 - binary_crossentropy: 9.7081e-09 - acc: 1.000 - ETA: 0s - loss: 9.6095e-09 - binary_crossentropy: 9.6095e-09 - acc: 1.000 - ETA: 0s - loss: 9.5228e-09 - binary_crossentropy: 9.5228e-09 - acc: 1.000 - ETA: 0s - loss: 9.4438e-09 - binary_crossentropy: 9.4438e-09 - acc: 1.000 - ETA: 0s - loss: 9.3657e-09 - binary_crossentropy: 9.3657e-09 - acc: 1.000 - ETA: 0s - loss: 9.2943e-09 - binary_crossentropy: 9.2943e-09 - acc: 1.000 - ETA: 0s - loss: 9.2191e-09 - binary_crossentropy: 9.2191e-09 - acc: 1.000 - ETA: 0s - loss: 9.1440e-09 - binary_crossentropy: 9.1440e-09 - acc: 1.000 - ETA: 0s - loss: 9.0698e-09 - binary_crossentropy: 9.0698e-09 - acc: 1.000 - ETA: 0s - loss: 8.9978e-09 - binary_crossentropy: 8.9978e-09 - acc: 1.000 - ETA: 0s - loss: 8.9263e-09 - binary_crossentropy: 8.9263e-09 - acc: 1.000 - ETA: 0s - loss: 8.8550e-09 - binary_crossentropy: 8.8550e-09 - acc: 1.000 - ETA: 0s - loss: 8.7850e-09 - binary_crossentropy: 8.7850e-09 - acc: 1.000 - ETA: 0s - loss: 8.7154e-09 - binary_crossentropy: 8.7153e-09 - acc: 1.000 - ETA: 0s - loss: 8.6473e-09 - binary_crossentropy: 8.6473e-09 - acc: 1.000 - ETA: 0s - loss: 8.5828e-09 - binary_crossentropy: 8.5828e-09 - acc: 1.000 - ETA: 0s - loss: 8.5176e-09 - binary_crossentropy: 8.5176e-09 - acc: 1.000 - ETA: 0s - loss: 8.4478e-09 - binary_crossentropy: 8.4478e-09 - acc: 1.000 - ETA: 0s - loss: 8.3850e-09 - binary_crossentropy: 8.3850e-09 - acc: 1.000 - ETA: 0s - loss: 8.3222e-09 - binary_crossentropy: 8.3222e-09 - acc: 1.000 - ETA: 0s - loss: 8.2495e-09 - binary_crossentropy: 8.2495e-09 - acc: 1.000 - 3s 160us/sample - loss: 8.2196e-09 - binary_crossentropy: 8.2196e-09 - acc: 1.0000 - val_loss: 5.4560e-09 - val_binary_crossentropy: 5.4560e-09 - val_acc: 1.0000\n",
      "Epoch 4/5\n",
      "16113/16113 [==============================] - ETA: 2s - loss: 5.6959e-09 - binary_crossentropy: 5.6959e-09 - acc: 1.000 - ETA: 2s - loss: 5.4693e-09 - binary_crossentropy: 5.4693e-09 - acc: 1.000 - ETA: 2s - loss: 5.4158e-09 - binary_crossentropy: 5.4158e-09 - acc: 1.000 - ETA: 2s - loss: 5.3721e-09 - binary_crossentropy: 5.3721e-09 - acc: 1.000 - ETA: 2s - loss: 5.3365e-09 - binary_crossentropy: 5.3365e-09 - acc: 1.000 - ETA: 2s - loss: 5.2923e-09 - binary_crossentropy: 5.2923e-09 - acc: 1.000 - ETA: 2s - loss: 5.2557e-09 - binary_crossentropy: 5.2557e-09 - acc: 1.000 - ETA: 2s - loss: 5.2146e-09 - binary_crossentropy: 5.2146e-09 - acc: 1.000 - ETA: 1s - loss: 5.1737e-09 - binary_crossentropy: 5.1737e-09 - acc: 1.000 - ETA: 1s - loss: 5.1391e-09 - binary_crossentropy: 5.1391e-09 - acc: 1.000 - ETA: 1s - loss: 5.0993e-09 - binary_crossentropy: 5.0993e-09 - acc: 1.000 - ETA: 1s - loss: 5.0692e-09 - binary_crossentropy: 5.0692e-09 - acc: 1.000 - ETA: 1s - loss: 5.0378e-09 - binary_crossentropy: 5.0378e-09 - acc: 1.000 - ETA: 1s - loss: 5.0067e-09 - binary_crossentropy: 5.0067e-09 - acc: 1.000 - ETA: 1s - loss: 4.9734e-09 - binary_crossentropy: 4.9734e-09 - acc: 1.000 - ETA: 1s - loss: 4.9443e-09 - binary_crossentropy: 4.9443e-09 - acc: 1.000 - ETA: 1s - loss: 4.9134e-09 - binary_crossentropy: 4.9134e-09 - acc: 1.000 - ETA: 1s - loss: 4.8853e-09 - binary_crossentropy: 4.8853e-09 - acc: 1.000 - ETA: 1s - loss: 4.8557e-09 - binary_crossentropy: 4.8557e-09 - acc: 1.000 - ETA: 1s - loss: 4.8251e-09 - binary_crossentropy: 4.8251e-09 - acc: 1.000 - ETA: 1s - loss: 4.7949e-09 - binary_crossentropy: 4.7949e-09 - acc: 1.000 - ETA: 1s - loss: 4.7638e-09 - binary_crossentropy: 4.7638e-09 - acc: 1.000 - ETA: 1s - loss: 4.7332e-09 - binary_crossentropy: 4.7332e-09 - acc: 1.000 - ETA: 1s - loss: 4.7044e-09 - binary_crossentropy: 4.7044e-09 - acc: 1.000 - ETA: 1s - loss: 4.6782e-09 - binary_crossentropy: 4.6782e-09 - acc: 1.000 - ETA: 1s - loss: 4.6502e-09 - binary_crossentropy: 4.6502e-09 - acc: 1.000 - ETA: 1s - loss: 4.6231e-09 - binary_crossentropy: 4.6231e-09 - acc: 1.000 - ETA: 0s - loss: 4.5956e-09 - binary_crossentropy: 4.5956e-09 - acc: 1.000 - ETA: 0s - loss: 4.5688e-09 - binary_crossentropy: 4.5688e-09 - acc: 1.000 - ETA: 0s - loss: 4.5422e-09 - binary_crossentropy: 4.5422e-09 - acc: 1.000 - ETA: 0s - loss: 4.5161e-09 - binary_crossentropy: 4.5161e-09 - acc: 1.000 - ETA: 0s - loss: 4.4884e-09 - binary_crossentropy: 4.4884e-09 - acc: 1.000 - ETA: 0s - loss: 4.4616e-09 - binary_crossentropy: 4.4616e-09 - acc: 1.000 - ETA: 0s - loss: 4.4356e-09 - binary_crossentropy: 4.4356e-09 - acc: 1.000 - ETA: 0s - loss: 4.4084e-09 - binary_crossentropy: 4.4084e-09 - acc: 1.000 - ETA: 0s - loss: 4.3837e-09 - binary_crossentropy: 4.3837e-09 - acc: 1.000 - ETA: 0s - loss: 4.3576e-09 - binary_crossentropy: 4.3576e-09 - acc: 1.000 - ETA: 0s - loss: 4.3305e-09 - binary_crossentropy: 4.3305e-09 - acc: 1.000 - ETA: 0s - loss: 4.3065e-09 - binary_crossentropy: 4.3065e-09 - acc: 1.000 - ETA: 0s - loss: 4.2828e-09 - binary_crossentropy: 4.2828e-09 - acc: 1.000 - ETA: 0s - loss: 4.2600e-09 - binary_crossentropy: 4.2600e-09 - acc: 1.000 - ETA: 0s - loss: 4.2365e-09 - binary_crossentropy: 4.2365e-09 - acc: 1.000 - ETA: 0s - loss: 4.2087e-09 - binary_crossentropy: 4.2087e-09 - acc: 1.000 - ETA: 0s - loss: 4.1835e-09 - binary_crossentropy: 4.1835e-09 - acc: 1.000 - ETA: 0s - loss: 4.1610e-09 - binary_crossentropy: 4.1610e-09 - acc: 1.000 - ETA: 0s - loss: 4.1388e-09 - binary_crossentropy: 4.1388e-09 - acc: 1.000 - 3s 163us/sample - loss: 4.1315e-09 - binary_crossentropy: 4.1315e-09 - acc: 1.0000 - val_loss: 3.1088e-09 - val_binary_crossentropy: 3.1088e-09 - val_acc: 1.0000\n",
      "Epoch 5/5\n",
      "16113/16113 [==============================] - ETA: 3s - loss: 3.1010e-09 - binary_crossentropy: 3.1010e-09 - acc: 1.000 - ETA: 2s - loss: 3.0981e-09 - binary_crossentropy: 3.0981e-09 - acc: 1.000 - ETA: 2s - loss: 3.0859e-09 - binary_crossentropy: 3.0859e-09 - acc: 1.000 - ETA: 2s - loss: 3.0631e-09 - binary_crossentropy: 3.0631e-09 - acc: 1.000 - ETA: 2s - loss: 3.0472e-09 - binary_crossentropy: 3.0472e-09 - acc: 1.000 - ETA: 2s - loss: 3.0329e-09 - binary_crossentropy: 3.0329e-09 - acc: 1.000 - ETA: 1s - loss: 3.0173e-09 - binary_crossentropy: 3.0173e-09 - acc: 1.000 - ETA: 1s - loss: 3.0040e-09 - binary_crossentropy: 3.0040e-09 - acc: 1.000 - ETA: 1s - loss: 2.9905e-09 - binary_crossentropy: 2.9905e-09 - acc: 1.000 - ETA: 1s - loss: 2.9781e-09 - binary_crossentropy: 2.9781e-09 - acc: 1.000 - ETA: 1s - loss: 2.9645e-09 - binary_crossentropy: 2.9645e-09 - acc: 1.000 - ETA: 1s - loss: 2.9493e-09 - binary_crossentropy: 2.9493e-09 - acc: 1.000 - ETA: 1s - loss: 2.9341e-09 - binary_crossentropy: 2.9342e-09 - acc: 1.000 - ETA: 1s - loss: 2.9187e-09 - binary_crossentropy: 2.9187e-09 - acc: 1.000 - ETA: 1s - loss: 2.9034e-09 - binary_crossentropy: 2.9034e-09 - acc: 1.000 - ETA: 1s - loss: 2.8885e-09 - binary_crossentropy: 2.8885e-09 - acc: 1.000 - ETA: 1s - loss: 2.8744e-09 - binary_crossentropy: 2.8744e-09 - acc: 1.000 - ETA: 1s - loss: 2.8603e-09 - binary_crossentropy: 2.8603e-09 - acc: 1.000 - ETA: 1s - loss: 2.8452e-09 - binary_crossentropy: 2.8452e-09 - acc: 1.000 - ETA: 1s - loss: 2.8314e-09 - binary_crossentropy: 2.8314e-09 - acc: 1.000 - ETA: 1s - loss: 2.8178e-09 - binary_crossentropy: 2.8178e-09 - acc: 1.000 - ETA: 1s - loss: 2.8039e-09 - binary_crossentropy: 2.8039e-09 - acc: 1.000 - ETA: 1s - loss: 2.7877e-09 - binary_crossentropy: 2.7877e-09 - acc: 1.000 - ETA: 1s - loss: 2.7729e-09 - binary_crossentropy: 2.7729e-09 - acc: 1.000 - ETA: 1s - loss: 2.7598e-09 - binary_crossentropy: 2.7598e-09 - acc: 1.000 - ETA: 0s - loss: 2.7451e-09 - binary_crossentropy: 2.7451e-09 - acc: 1.000 - ETA: 0s - loss: 2.7321e-09 - binary_crossentropy: 2.7321e-09 - acc: 1.000 - ETA: 0s - loss: 2.7204e-09 - binary_crossentropy: 2.7204e-09 - acc: 1.000 - ETA: 0s - loss: 2.7075e-09 - binary_crossentropy: 2.7075e-09 - acc: 1.000 - ETA: 0s - loss: 2.6949e-09 - binary_crossentropy: 2.6949e-09 - acc: 1.000 - ETA: 0s - loss: 2.6834e-09 - binary_crossentropy: 2.6834e-09 - acc: 1.000 - ETA: 0s - loss: 2.6713e-09 - binary_crossentropy: 2.6713e-09 - acc: 1.000 - ETA: 0s - loss: 2.6591e-09 - binary_crossentropy: 2.6591e-09 - acc: 1.000 - ETA: 0s - loss: 2.6463e-09 - binary_crossentropy: 2.6463e-09 - acc: 1.000 - ETA: 0s - loss: 2.6345e-09 - binary_crossentropy: 2.6345e-09 - acc: 1.000 - ETA: 0s - loss: 2.6226e-09 - binary_crossentropy: 2.6226e-09 - acc: 1.000 - ETA: 0s - loss: 2.6115e-09 - binary_crossentropy: 2.6115e-09 - acc: 1.000 - ETA: 0s - loss: 2.5994e-09 - binary_crossentropy: 2.5994e-09 - acc: 1.000 - ETA: 0s - loss: 2.5877e-09 - binary_crossentropy: 2.5877e-09 - acc: 1.000 - ETA: 0s - loss: 2.5766e-09 - binary_crossentropy: 2.5766e-09 - acc: 1.000 - ETA: 0s - loss: 2.5650e-09 - binary_crossentropy: 2.5650e-09 - acc: 1.000 - ETA: 0s - loss: 2.5535e-09 - binary_crossentropy: 2.5535e-09 - acc: 1.000 - ETA: 0s - loss: 2.5418e-09 - binary_crossentropy: 2.5418e-09 - acc: 1.000 - ETA: 0s - loss: 2.5313e-09 - binary_crossentropy: 2.5313e-09 - acc: 1.000 - ETA: 0s - loss: 2.5181e-09 - binary_crossentropy: 2.5181e-09 - acc: 1.000 - 3s 159us/sample - loss: 2.5156e-09 - binary_crossentropy: 2.5156e-09 - acc: 1.0000 - val_loss: 2.0206e-09 - val_binary_crossentropy: 2.0206e-09 - val_acc: 1.0000\n",
      "Train on 16113 samples, validate on 4029 samples\n",
      "WARNING:tensorflow:OMP_NUM_THREADS is no longer used by the default Keras config. To configure the number of threads, use tf.config.threading APIs.\n",
      "Epoch 1/5\n",
      "16113/16113 [==============================] - ETA: 2:58 - loss: 0.6095 - binary_crossentropy: 0.6095 - acc: 1.000 - ETA: 15s - loss: 0.1028 - binary_crossentropy: 0.1028 - acc: 1.000 - ETA: 8s - loss: 0.0515 - binary_crossentropy: 0.0515 - acc: 1.0000 - ETA: 6s - loss: 0.0372 - binary_crossentropy: 0.0372 - acc: 1.000 - ETA: 5s - loss: 0.0291 - binary_crossentropy: 0.0291 - acc: 1.000 - ETA: 4s - loss: 0.0235 - binary_crossentropy: 0.0235 - acc: 1.000 - ETA: 4s - loss: 0.0197 - binary_crossentropy: 0.0197 - acc: 1.000 - ETA: 3s - loss: 0.0172 - binary_crossentropy: 0.0172 - acc: 1.000 - ETA: 3s - loss: 0.0150 - binary_crossentropy: 0.0150 - acc: 1.000 - ETA: 3s - loss: 0.0135 - binary_crossentropy: 0.0135 - acc: 1.000 - ETA: 3s - loss: 0.0122 - binary_crossentropy: 0.0122 - acc: 1.000 - ETA: 2s - loss: 0.0111 - binary_crossentropy: 0.0111 - acc: 1.000 - ETA: 2s - loss: 0.0100 - binary_crossentropy: 0.0100 - acc: 1.000 - ETA: 2s - loss: 0.0091 - binary_crossentropy: 0.0091 - acc: 1.000 - ETA: 2s - loss: 0.0084 - binary_crossentropy: 0.0084 - acc: 1.000 - ETA: 2s - loss: 0.0078 - binary_crossentropy: 0.0078 - acc: 1.000 - ETA: 2s - loss: 0.0072 - binary_crossentropy: 0.0072 - acc: 1.000 - ETA: 1s - loss: 0.0068 - binary_crossentropy: 0.0068 - acc: 1.000 - ETA: 1s - loss: 0.0065 - binary_crossentropy: 0.0065 - acc: 1.000 - ETA: 1s - loss: 0.0061 - binary_crossentropy: 0.0061 - acc: 1.000 - ETA: 1s - loss: 0.0058 - binary_crossentropy: 0.0058 - acc: 1.000 - ETA: 1s - loss: 0.0056 - binary_crossentropy: 0.0056 - acc: 1.000 - ETA: 1s - loss: 0.0053 - binary_crossentropy: 0.0053 - acc: 1.000 - ETA: 1s - loss: 0.0051 - binary_crossentropy: 0.0051 - acc: 1.000 - ETA: 1s - loss: 0.0049 - binary_crossentropy: 0.0049 - acc: 1.000 - ETA: 1s - loss: 0.0047 - binary_crossentropy: 0.0047 - acc: 1.000 - ETA: 1s - loss: 0.0045 - binary_crossentropy: 0.0045 - acc: 1.000 - ETA: 1s - loss: 0.0043 - binary_crossentropy: 0.0043 - acc: 1.000 - ETA: 1s - loss: 0.0042 - binary_crossentropy: 0.0042 - acc: 1.000 - ETA: 0s - loss: 0.0041 - binary_crossentropy: 0.0041 - acc: 1.000 - ETA: 0s - loss: 0.0039 - binary_crossentropy: 0.0039 - acc: 1.000 - ETA: 0s - loss: 0.0038 - binary_crossentropy: 0.0038 - acc: 1.000 - ETA: 0s - loss: 0.0036 - binary_crossentropy: 0.0036 - acc: 1.000 - ETA: 0s - loss: 0.0035 - binary_crossentropy: 0.0035 - acc: 1.000 - ETA: 0s - loss: 0.0034 - binary_crossentropy: 0.0034 - acc: 1.000 - ETA: 0s - loss: 0.0033 - binary_crossentropy: 0.0033 - acc: 1.000 - ETA: 0s - loss: 0.0032 - binary_crossentropy: 0.0032 - acc: 1.000 - ETA: 0s - loss: 0.0031 - binary_crossentropy: 0.0031 - acc: 1.000 - ETA: 0s - loss: 0.0030 - binary_crossentropy: 0.0030 - acc: 1.000 - ETA: 0s - loss: 0.0030 - binary_crossentropy: 0.0030 - acc: 1.000 - ETA: 0s - loss: 0.0029 - binary_crossentropy: 0.0029 - acc: 1.000 - ETA: 0s - loss: 0.0028 - binary_crossentropy: 0.0028 - acc: 1.000 - ETA: 0s - loss: 0.0028 - binary_crossentropy: 0.0028 - acc: 1.000 - ETA: 0s - loss: 0.0027 - binary_crossentropy: 0.0027 - acc: 1.000 - 3s 188us/sample - loss: 0.0027 - binary_crossentropy: 0.0027 - acc: 1.0000 - val_loss: 5.7062e-08 - val_binary_crossentropy: 5.7062e-08 - val_acc: 1.0000\n",
      "Epoch 2/5\n",
      "16113/16113 [==============================] - ETA: 2s - loss: 5.7743e-08 - binary_crossentropy: 5.7743e-08 - acc: 1.000 - ETA: 2s - loss: 5.5449e-08 - binary_crossentropy: 5.5449e-08 - acc: 1.000 - ETA: 2s - loss: 5.4043e-08 - binary_crossentropy: 5.4043e-08 - acc: 1.000 - ETA: 2s - loss: 5.2548e-08 - binary_crossentropy: 5.2548e-08 - acc: 1.000 - ETA: 2s - loss: 5.1143e-08 - binary_crossentropy: 5.1143e-08 - acc: 1.000 - ETA: 2s - loss: 4.9792e-08 - binary_crossentropy: 4.9792e-08 - acc: 1.000 - ETA: 2s - loss: 4.8568e-08 - binary_crossentropy: 4.8568e-08 - acc: 1.000 - ETA: 2s - loss: 4.7371e-08 - binary_crossentropy: 4.7371e-08 - acc: 1.000 - ETA: 1s - loss: 4.6207e-08 - binary_crossentropy: 4.6207e-08 - acc: 1.000 - ETA: 1s - loss: 4.5108e-08 - binary_crossentropy: 4.5108e-08 - acc: 1.000 - ETA: 1s - loss: 4.3899e-08 - binary_crossentropy: 4.3899e-08 - acc: 1.000 - ETA: 1s - loss: 4.2771e-08 - binary_crossentropy: 4.2771e-08 - acc: 1.000 - ETA: 1s - loss: 4.1742e-08 - binary_crossentropy: 4.1742e-08 - acc: 1.000 - ETA: 1s - loss: 4.0780e-08 - binary_crossentropy: 4.0780e-08 - acc: 1.000 - ETA: 1s - loss: 3.9940e-08 - binary_crossentropy: 3.9940e-08 - acc: 1.000 - ETA: 1s - loss: 3.9117e-08 - binary_crossentropy: 3.9117e-08 - acc: 1.000 - ETA: 1s - loss: 3.8268e-08 - binary_crossentropy: 3.8268e-08 - acc: 1.000 - ETA: 1s - loss: 3.7389e-08 - binary_crossentropy: 3.7389e-08 - acc: 1.000 - ETA: 1s - loss: 3.6552e-08 - binary_crossentropy: 3.6552e-08 - acc: 1.000 - ETA: 1s - loss: 3.5809e-08 - binary_crossentropy: 3.5809e-08 - acc: 1.000 - ETA: 1s - loss: 3.5156e-08 - binary_crossentropy: 3.5156e-08 - acc: 1.000 - ETA: 1s - loss: 3.4469e-08 - binary_crossentropy: 3.4469e-08 - acc: 1.000 - ETA: 1s - loss: 3.3757e-08 - binary_crossentropy: 3.3757e-08 - acc: 1.000 - ETA: 1s - loss: 3.3074e-08 - binary_crossentropy: 3.3074e-08 - acc: 1.000 - ETA: 0s - loss: 3.2518e-08 - binary_crossentropy: 3.2518e-08 - acc: 1.000 - ETA: 0s - loss: 3.2027e-08 - binary_crossentropy: 3.2027e-08 - acc: 1.000 - ETA: 0s - loss: 3.1551e-08 - binary_crossentropy: 3.1551e-08 - acc: 1.000 - ETA: 0s - loss: 3.1090e-08 - binary_crossentropy: 3.1090e-08 - acc: 1.000 - ETA: 0s - loss: 3.0600e-08 - binary_crossentropy: 3.0600e-08 - acc: 1.000 - ETA: 0s - loss: 3.0125e-08 - binary_crossentropy: 3.0125e-08 - acc: 1.000 - ETA: 0s - loss: 2.9704e-08 - binary_crossentropy: 2.9704e-08 - acc: 1.000 - ETA: 0s - loss: 2.9253e-08 - binary_crossentropy: 2.9253e-08 - acc: 1.000 - ETA: 0s - loss: 2.8818e-08 - binary_crossentropy: 2.8818e-08 - acc: 1.000 - ETA: 0s - loss: 2.8393e-08 - binary_crossentropy: 2.8393e-08 - acc: 1.000 - ETA: 0s - loss: 2.7980e-08 - binary_crossentropy: 2.7980e-08 - acc: 1.000 - ETA: 0s - loss: 2.7582e-08 - binary_crossentropy: 2.7582e-08 - acc: 1.000 - ETA: 0s - loss: 2.7195e-08 - binary_crossentropy: 2.7195e-08 - acc: 1.000 - ETA: 0s - loss: 2.6818e-08 - binary_crossentropy: 2.6818e-08 - acc: 1.000 - ETA: 0s - loss: 2.6385e-08 - binary_crossentropy: 2.6385e-08 - acc: 1.000 - ETA: 0s - loss: 2.6030e-08 - binary_crossentropy: 2.6030e-08 - acc: 1.000 - ETA: 0s - loss: 2.5686e-08 - binary_crossentropy: 2.5686e-08 - acc: 1.000 - ETA: 0s - loss: 2.5349e-08 - binary_crossentropy: 2.5349e-08 - acc: 1.000 - ETA: 0s - loss: 2.5051e-08 - binary_crossentropy: 2.5050e-08 - acc: 1.000 - ETA: 0s - loss: 2.4730e-08 - binary_crossentropy: 2.4730e-08 - acc: 1.000 - ETA: 0s - loss: 2.4417e-08 - binary_crossentropy: 2.4417e-08 - acc: 1.000 - 3s 160us/sample - loss: 2.4263e-08 - binary_crossentropy: 2.4263e-08 - acc: 1.0000 - val_loss: 1.0338e-08 - val_binary_crossentropy: 1.0338e-08 - val_acc: 1.0000\n",
      "Epoch 3/5\n",
      "16113/16113 [==============================] - ETA: 3s - loss: 1.0281e-08 - binary_crossentropy: 1.0281e-08 - acc: 1.000 - ETA: 2s - loss: 1.0212e-08 - binary_crossentropy: 1.0212e-08 - acc: 1.000 - ETA: 2s - loss: 1.0083e-08 - binary_crossentropy: 1.0083e-08 - acc: 1.000 - ETA: 2s - loss: 9.9700e-09 - binary_crossentropy: 9.9700e-09 - acc: 1.000 - ETA: 2s - loss: 9.8345e-09 - binary_crossentropy: 9.8345e-09 - acc: 1.000 - ETA: 2s - loss: 9.7164e-09 - binary_crossentropy: 9.7164e-09 - acc: 1.000 - ETA: 2s - loss: 9.6088e-09 - binary_crossentropy: 9.6088e-09 - acc: 1.000 - ETA: 2s - loss: 9.5053e-09 - binary_crossentropy: 9.5053e-09 - acc: 1.000 - ETA: 1s - loss: 9.3882e-09 - binary_crossentropy: 9.3882e-09 - acc: 1.000 - ETA: 1s - loss: 9.2686e-09 - binary_crossentropy: 9.2686e-09 - acc: 1.000 - ETA: 1s - loss: 9.1621e-09 - binary_crossentropy: 9.1621e-09 - acc: 1.000 - ETA: 1s - loss: 9.0587e-09 - binary_crossentropy: 9.0587e-09 - acc: 1.000 - ETA: 1s - loss: 8.9539e-09 - binary_crossentropy: 8.9539e-09 - acc: 1.000 - ETA: 1s - loss: 8.8621e-09 - binary_crossentropy: 8.8621e-09 - acc: 1.000 - ETA: 1s - loss: 8.7590e-09 - binary_crossentropy: 8.7590e-09 - acc: 1.000 - ETA: 1s - loss: 8.6655e-09 - binary_crossentropy: 8.6655e-09 - acc: 1.000 - ETA: 1s - loss: 8.5534e-09 - binary_crossentropy: 8.5534e-09 - acc: 1.000 - ETA: 1s - loss: 8.4519e-09 - binary_crossentropy: 8.4519e-09 - acc: 1.000 - ETA: 1s - loss: 8.3509e-09 - binary_crossentropy: 8.3509e-09 - acc: 1.000 - ETA: 1s - loss: 8.2688e-09 - binary_crossentropy: 8.2688e-09 - acc: 1.000 - ETA: 1s - loss: 8.1878e-09 - binary_crossentropy: 8.1878e-09 - acc: 1.000 - ETA: 1s - loss: 8.1102e-09 - binary_crossentropy: 8.1102e-09 - acc: 1.000 - ETA: 1s - loss: 8.0345e-09 - binary_crossentropy: 8.0345e-09 - acc: 1.000 - ETA: 1s - loss: 7.9600e-09 - binary_crossentropy: 7.9600e-09 - acc: 1.000 - ETA: 1s - loss: 7.8864e-09 - binary_crossentropy: 7.8864e-09 - acc: 1.000 - ETA: 0s - loss: 7.8143e-09 - binary_crossentropy: 7.8143e-09 - acc: 1.000 - ETA: 0s - loss: 7.7420e-09 - binary_crossentropy: 7.7420e-09 - acc: 1.000 - ETA: 0s - loss: 7.6660e-09 - binary_crossentropy: 7.6660e-09 - acc: 1.000 - ETA: 0s - loss: 7.5832e-09 - binary_crossentropy: 7.5832e-09 - acc: 1.000 - ETA: 0s - loss: 7.5147e-09 - binary_crossentropy: 7.5147e-09 - acc: 1.000 - ETA: 0s - loss: 7.4448e-09 - binary_crossentropy: 7.4448e-09 - acc: 1.000 - ETA: 0s - loss: 7.3690e-09 - binary_crossentropy: 7.3690e-09 - acc: 1.000 - ETA: 0s - loss: 7.2943e-09 - binary_crossentropy: 7.2943e-09 - acc: 1.000 - ETA: 0s - loss: 7.2217e-09 - binary_crossentropy: 7.2217e-09 - acc: 1.000 - ETA: 0s - loss: 7.1564e-09 - binary_crossentropy: 7.1564e-09 - acc: 1.000 - ETA: 0s - loss: 7.0966e-09 - binary_crossentropy: 7.0966e-09 - acc: 1.000 - ETA: 0s - loss: 7.0281e-09 - binary_crossentropy: 7.0281e-09 - acc: 1.000 - ETA: 0s - loss: 6.9709e-09 - binary_crossentropy: 6.9709e-09 - acc: 1.000 - ETA: 0s - loss: 6.9145e-09 - binary_crossentropy: 6.9145e-09 - acc: 1.000 - ETA: 0s - loss: 6.8539e-09 - binary_crossentropy: 6.8539e-09 - acc: 1.000 - ETA: 0s - loss: 6.7904e-09 - binary_crossentropy: 6.7904e-09 - acc: 1.000 - ETA: 0s - loss: 6.7369e-09 - binary_crossentropy: 6.7369e-09 - acc: 1.000 - ETA: 0s - loss: 6.6848e-09 - binary_crossentropy: 6.6848e-09 - acc: 1.000 - 2s 151us/sample - loss: 6.6401e-09 - binary_crossentropy: 6.6401e-09 - acc: 1.0000 - val_loss: 4.2901e-09 - val_binary_crossentropy: 4.2901e-09 - val_acc: 1.0000\n",
      "Epoch 4/5\n",
      "16113/16113 [==============================] - ETA: 2s - loss: 4.3277e-09 - binary_crossentropy: 4.3277e-09 - acc: 1.000 - ETA: 2s - loss: 4.2346e-09 - binary_crossentropy: 4.2346e-09 - acc: 1.000 - ETA: 1s - loss: 4.1984e-09 - binary_crossentropy: 4.1984e-09 - acc: 1.000 - ETA: 1s - loss: 4.1756e-09 - binary_crossentropy: 4.1756e-09 - acc: 1.000 - ETA: 1s - loss: 4.1437e-09 - binary_crossentropy: 4.1437e-09 - acc: 1.000 - ETA: 1s - loss: 4.1128e-09 - binary_crossentropy: 4.1128e-09 - acc: 1.000 - ETA: 1s - loss: 4.0819e-09 - binary_crossentropy: 4.0819e-09 - acc: 1.000 - ETA: 1s - loss: 4.0539e-09 - binary_crossentropy: 4.0539e-09 - acc: 1.000 - ETA: 1s - loss: 4.0232e-09 - binary_crossentropy: 4.0232e-09 - acc: 1.000 - ETA: 1s - loss: 3.9942e-09 - binary_crossentropy: 3.9942e-09 - acc: 1.000 - ETA: 1s - loss: 3.9666e-09 - binary_crossentropy: 3.9666e-09 - acc: 1.000 - ETA: 1s - loss: 3.9378e-09 - binary_crossentropy: 3.9378e-09 - acc: 1.000 - ETA: 1s - loss: 3.9092e-09 - binary_crossentropy: 3.9092e-09 - acc: 1.000 - ETA: 1s - loss: 3.8828e-09 - binary_crossentropy: 3.8828e-09 - acc: 1.000 - ETA: 1s - loss: 3.8600e-09 - binary_crossentropy: 3.8600e-09 - acc: 1.000 - ETA: 1s - loss: 3.8314e-09 - binary_crossentropy: 3.8314e-09 - acc: 1.000 - ETA: 1s - loss: 3.8062e-09 - binary_crossentropy: 3.8062e-09 - acc: 1.000 - ETA: 1s - loss: 3.7844e-09 - binary_crossentropy: 3.7844e-09 - acc: 1.000 - ETA: 1s - loss: 3.7562e-09 - binary_crossentropy: 3.7562e-09 - acc: 1.000 - ETA: 1s - loss: 3.7314e-09 - binary_crossentropy: 3.7314e-09 - acc: 1.000 - ETA: 1s - loss: 3.7072e-09 - binary_crossentropy: 3.7072e-09 - acc: 1.000 - ETA: 1s - loss: 3.6830e-09 - binary_crossentropy: 3.6830e-09 - acc: 1.000 - ETA: 1s - loss: 3.6597e-09 - binary_crossentropy: 3.6597e-09 - acc: 1.000 - ETA: 1s - loss: 3.6361e-09 - binary_crossentropy: 3.6361e-09 - acc: 1.000 - ETA: 1s - loss: 3.6140e-09 - binary_crossentropy: 3.6140e-09 - acc: 1.000 - ETA: 1s - loss: 3.5915e-09 - binary_crossentropy: 3.5915e-09 - acc: 1.000 - ETA: 0s - loss: 3.5684e-09 - binary_crossentropy: 3.5684e-09 - acc: 1.000 - ETA: 0s - loss: 3.5420e-09 - binary_crossentropy: 3.5420e-09 - acc: 1.000 - ETA: 0s - loss: 3.5204e-09 - binary_crossentropy: 3.5204e-09 - acc: 1.000 - ETA: 0s - loss: 3.4992e-09 - binary_crossentropy: 3.4992e-09 - acc: 1.000 - ETA: 0s - loss: 3.4777e-09 - binary_crossentropy: 3.4777e-09 - acc: 1.000 - ETA: 0s - loss: 3.4549e-09 - binary_crossentropy: 3.4549e-09 - acc: 1.000 - ETA: 0s - loss: 3.4323e-09 - binary_crossentropy: 3.4323e-09 - acc: 1.000 - ETA: 0s - loss: 3.4117e-09 - binary_crossentropy: 3.4117e-09 - acc: 1.000 - ETA: 0s - loss: 3.3917e-09 - binary_crossentropy: 3.3917e-09 - acc: 1.000 - ETA: 0s - loss: 3.3716e-09 - binary_crossentropy: 3.3716e-09 - acc: 1.000 - ETA: 0s - loss: 3.3522e-09 - binary_crossentropy: 3.3522e-09 - acc: 1.000 - ETA: 0s - loss: 3.3326e-09 - binary_crossentropy: 3.3326e-09 - acc: 1.000 - ETA: 0s - loss: 3.3133e-09 - binary_crossentropy: 3.3133e-09 - acc: 1.000 - ETA: 0s - loss: 3.2925e-09 - binary_crossentropy: 3.2925e-09 - acc: 1.000 - ETA: 0s - loss: 3.2741e-09 - binary_crossentropy: 3.2741e-09 - acc: 1.000 - ETA: 0s - loss: 3.2556e-09 - binary_crossentropy: 3.2556e-09 - acc: 1.000 - ETA: 0s - loss: 3.2374e-09 - binary_crossentropy: 3.2374e-09 - acc: 1.000 - ETA: 0s - loss: 3.2198e-09 - binary_crossentropy: 3.2198e-09 - acc: 1.000 - ETA: 0s - loss: 3.2021e-09 - binary_crossentropy: 3.2021e-09 - acc: 1.000 - 3s 157us/sample - loss: 3.1932e-09 - binary_crossentropy: 3.1932e-09 - acc: 1.0000 - val_loss: 2.3857e-09 - val_binary_crossentropy: 2.3857e-09 - val_acc: 1.0000\n",
      "Epoch 5/5\n",
      "16113/16113 [==============================] - ETA: 2s - loss: 2.3677e-09 - binary_crossentropy: 2.3677e-09 - acc: 1.000 - ETA: 2s - loss: 2.3617e-09 - binary_crossentropy: 2.3617e-09 - acc: 1.000 - ETA: 2s - loss: 2.3529e-09 - binary_crossentropy: 2.3529e-09 - acc: 1.000 - ETA: 2s - loss: 2.3439e-09 - binary_crossentropy: 2.3439e-09 - acc: 1.000 - ETA: 2s - loss: 2.3331e-09 - binary_crossentropy: 2.3331e-09 - acc: 1.000 - ETA: 2s - loss: 2.3202e-09 - binary_crossentropy: 2.3202e-09 - acc: 1.000 - ETA: 1s - loss: 2.3067e-09 - binary_crossentropy: 2.3067e-09 - acc: 1.000 - ETA: 1s - loss: 2.2918e-09 - binary_crossentropy: 2.2918e-09 - acc: 1.000 - ETA: 1s - loss: 2.2794e-09 - binary_crossentropy: 2.2794e-09 - acc: 1.000 - ETA: 1s - loss: 2.2649e-09 - binary_crossentropy: 2.2649e-09 - acc: 1.000 - ETA: 1s - loss: 2.2526e-09 - binary_crossentropy: 2.2526e-09 - acc: 1.000 - ETA: 1s - loss: 2.2398e-09 - binary_crossentropy: 2.2398e-09 - acc: 1.000 - ETA: 1s - loss: 2.2292e-09 - binary_crossentropy: 2.2292e-09 - acc: 1.000 - ETA: 1s - loss: 2.2163e-09 - binary_crossentropy: 2.2162e-09 - acc: 1.000 - ETA: 1s - loss: 2.2043e-09 - binary_crossentropy: 2.2043e-09 - acc: 1.000 - ETA: 1s - loss: 2.1907e-09 - binary_crossentropy: 2.1907e-09 - acc: 1.000 - ETA: 1s - loss: 2.1788e-09 - binary_crossentropy: 2.1788e-09 - acc: 1.000 - ETA: 1s - loss: 2.1675e-09 - binary_crossentropy: 2.1675e-09 - acc: 1.000 - ETA: 1s - loss: 2.1570e-09 - binary_crossentropy: 2.1570e-09 - acc: 1.000 - ETA: 1s - loss: 2.1464e-09 - binary_crossentropy: 2.1464e-09 - acc: 1.000 - ETA: 1s - loss: 2.1356e-09 - binary_crossentropy: 2.1356e-09 - acc: 1.000 - ETA: 1s - loss: 2.1248e-09 - binary_crossentropy: 2.1248e-09 - acc: 1.000 - ETA: 1s - loss: 2.1144e-09 - binary_crossentropy: 2.1144e-09 - acc: 1.000 - ETA: 1s - loss: 2.1040e-09 - binary_crossentropy: 2.1040e-09 - acc: 1.000 - ETA: 0s - loss: 2.0937e-09 - binary_crossentropy: 2.0937e-09 - acc: 1.000 - ETA: 0s - loss: 2.0835e-09 - binary_crossentropy: 2.0835e-09 - acc: 1.000 - ETA: 0s - loss: 2.0743e-09 - binary_crossentropy: 2.0743e-09 - acc: 1.000 - ETA: 0s - loss: 2.0646e-09 - binary_crossentropy: 2.0646e-09 - acc: 1.000 - ETA: 0s - loss: 2.0548e-09 - binary_crossentropy: 2.0548e-09 - acc: 1.000 - ETA: 0s - loss: 2.0455e-09 - binary_crossentropy: 2.0455e-09 - acc: 1.000 - ETA: 0s - loss: 2.0360e-09 - binary_crossentropy: 2.0360e-09 - acc: 1.000 - ETA: 0s - loss: 2.0262e-09 - binary_crossentropy: 2.0262e-09 - acc: 1.000 - ETA: 0s - loss: 2.0149e-09 - binary_crossentropy: 2.0149e-09 - acc: 1.000 - ETA: 0s - loss: 2.0058e-09 - binary_crossentropy: 2.0058e-09 - acc: 1.000 - ETA: 0s - loss: 1.9949e-09 - binary_crossentropy: 1.9949e-09 - acc: 1.000 - ETA: 0s - loss: 1.9850e-09 - binary_crossentropy: 1.9850e-09 - acc: 1.000 - ETA: 0s - loss: 1.9764e-09 - binary_crossentropy: 1.9764e-09 - acc: 1.000 - ETA: 0s - loss: 1.9678e-09 - binary_crossentropy: 1.9678e-09 - acc: 1.000 - ETA: 0s - loss: 1.9589e-09 - binary_crossentropy: 1.9589e-09 - acc: 1.000 - ETA: 0s - loss: 1.9503e-09 - binary_crossentropy: 1.9503e-09 - acc: 1.000 - ETA: 0s - loss: 1.9415e-09 - binary_crossentropy: 1.9415e-09 - acc: 1.000 - ETA: 0s - loss: 1.9316e-09 - binary_crossentropy: 1.9316e-09 - acc: 1.000 - ETA: 0s - loss: 1.9228e-09 - binary_crossentropy: 1.9228e-09 - acc: 1.000 - ETA: 0s - loss: 1.9142e-09 - binary_crossentropy: 1.9142e-09 - acc: 1.000 - 3s 157us/sample - loss: 1.9123e-09 - binary_crossentropy: 1.9123e-09 - acc: 1.0000 - val_loss: 1.5368e-09 - val_binary_crossentropy: 1.5368e-09 - val_acc: 1.0000\n",
      "Train on 16113 samples, validate on 4029 samples\n",
      "WARNING:tensorflow:OMP_NUM_THREADS is no longer used by the default Keras config. To configure the number of threads, use tf.config.threading APIs.\n",
      "Epoch 1/5\n",
      "16113/16113 [==============================] - ETA: 2:59 - loss: 0.7906 - binary_crossentropy: 0.7906 - acc: 0.0000e+0 - ETA: 16s - loss: 0.1510 - binary_crossentropy: 0.1510 - acc: 0.9167    - ETA: 9s - loss: 0.0757 - binary_crossentropy: 0.0757 - acc: 0.9583 - ETA: 6s - loss: 0.0519 - binary_crossentropy: 0.0519 - acc: 0.971 - ETA: 5s - loss: 0.0395 - binary_crossentropy: 0.0395 - acc: 0.978 - ETA: 4s - loss: 0.0324 - binary_crossentropy: 0.0324 - acc: 0.982 - ETA: 4s - loss: 0.0275 - binary_crossentropy: 0.0275 - acc: 0.984 - ETA: 3s - loss: 0.0236 - binary_crossentropy: 0.0236 - acc: 0.987 - ETA: 3s - loss: 0.0207 - binary_crossentropy: 0.0207 - acc: 0.988 - ETA: 3s - loss: 0.0184 - binary_crossentropy: 0.0184 - acc: 0.989 - ETA: 3s - loss: 0.0164 - binary_crossentropy: 0.0164 - acc: 0.991 - ETA: 2s - loss: 0.0148 - binary_crossentropy: 0.0148 - acc: 0.991 - ETA: 2s - loss: 0.0135 - binary_crossentropy: 0.0135 - acc: 0.992 - ETA: 2s - loss: 0.0124 - binary_crossentropy: 0.0124 - acc: 0.993 - ETA: 2s - loss: 0.0116 - binary_crossentropy: 0.0116 - acc: 0.993 - ETA: 2s - loss: 0.0108 - binary_crossentropy: 0.0108 - acc: 0.994 - ETA: 2s - loss: 0.0102 - binary_crossentropy: 0.0102 - acc: 0.994 - ETA: 2s - loss: 0.0096 - binary_crossentropy: 0.0096 - acc: 0.994 - ETA: 1s - loss: 0.0090 - binary_crossentropy: 0.0090 - acc: 0.995 - ETA: 1s - loss: 0.0086 - binary_crossentropy: 0.0086 - acc: 0.995 - ETA: 1s - loss: 0.0081 - binary_crossentropy: 0.0081 - acc: 0.995 - ETA: 1s - loss: 0.0078 - binary_crossentropy: 0.0078 - acc: 0.995 - ETA: 1s - loss: 0.0074 - binary_crossentropy: 0.0074 - acc: 0.995 - ETA: 1s - loss: 0.0071 - binary_crossentropy: 0.0071 - acc: 0.996 - ETA: 1s - loss: 0.0068 - binary_crossentropy: 0.0068 - acc: 0.996 - ETA: 1s - loss: 0.0065 - binary_crossentropy: 0.0065 - acc: 0.996 - ETA: 1s - loss: 0.0063 - binary_crossentropy: 0.0063 - acc: 0.996 - ETA: 1s - loss: 0.0061 - binary_crossentropy: 0.0061 - acc: 0.996 - ETA: 1s - loss: 0.0058 - binary_crossentropy: 0.0058 - acc: 0.996 - ETA: 1s - loss: 0.0056 - binary_crossentropy: 0.0056 - acc: 0.996 - ETA: 0s - loss: 0.0055 - binary_crossentropy: 0.0055 - acc: 0.997 - ETA: 0s - loss: 0.0053 - binary_crossentropy: 0.0053 - acc: 0.997 - ETA: 0s - loss: 0.0051 - binary_crossentropy: 0.0051 - acc: 0.997 - ETA: 0s - loss: 0.0050 - binary_crossentropy: 0.0050 - acc: 0.997 - ETA: 0s - loss: 0.0048 - binary_crossentropy: 0.0048 - acc: 0.997 - ETA: 0s - loss: 0.0047 - binary_crossentropy: 0.0047 - acc: 0.997 - ETA: 0s - loss: 0.0046 - binary_crossentropy: 0.0046 - acc: 0.997 - ETA: 0s - loss: 0.0045 - binary_crossentropy: 0.0045 - acc: 0.997 - ETA: 0s - loss: 0.0043 - binary_crossentropy: 0.0043 - acc: 0.997 - ETA: 0s - loss: 0.0042 - binary_crossentropy: 0.0042 - acc: 0.997 - ETA: 0s - loss: 0.0041 - binary_crossentropy: 0.0041 - acc: 0.997 - ETA: 0s - loss: 0.0040 - binary_crossentropy: 0.0040 - acc: 0.997 - ETA: 0s - loss: 0.0039 - binary_crossentropy: 0.0039 - acc: 0.997 - ETA: 0s - loss: 0.0038 - binary_crossentropy: 0.0038 - acc: 0.997 - ETA: 0s - loss: 0.0037 - binary_crossentropy: 0.0037 - acc: 0.997 - ETA: 0s - loss: 0.0037 - binary_crossentropy: 0.0037 - acc: 0.998 - 3s 196us/sample - loss: 0.0036 - binary_crossentropy: 0.0036 - acc: 0.9980 - val_loss: 4.8712e-08 - val_binary_crossentropy: 4.8712e-08 - val_acc: 1.0000\n",
      "Epoch 2/5\n",
      "16113/16113 [==============================] - ETA: 3s - loss: 4.8319e-08 - binary_crossentropy: 4.8319e-08 - acc: 1.000 - ETA: 2s - loss: 4.7277e-08 - binary_crossentropy: 4.7277e-08 - acc: 1.000 - ETA: 2s - loss: 4.6237e-08 - binary_crossentropy: 4.6237e-08 - acc: 1.000 - ETA: 2s - loss: 4.5347e-08 - binary_crossentropy: 4.5347e-08 - acc: 1.000 - ETA: 2s - loss: 4.4433e-08 - binary_crossentropy: 4.4433e-08 - acc: 1.000 - ETA: 2s - loss: 4.3465e-08 - binary_crossentropy: 4.3465e-08 - acc: 1.000 - ETA: 2s - loss: 4.2588e-08 - binary_crossentropy: 4.2588e-08 - acc: 1.000 - ETA: 2s - loss: 4.1711e-08 - binary_crossentropy: 4.1711e-08 - acc: 1.000 - ETA: 2s - loss: 4.0873e-08 - binary_crossentropy: 4.0873e-08 - acc: 1.000 - ETA: 1s - loss: 3.9991e-08 - binary_crossentropy: 3.9991e-08 - acc: 1.000 - ETA: 1s - loss: 3.9200e-08 - binary_crossentropy: 3.9200e-08 - acc: 1.000 - ETA: 1s - loss: 3.8449e-08 - binary_crossentropy: 3.8449e-08 - acc: 1.000 - ETA: 1s - loss: 3.7729e-08 - binary_crossentropy: 3.7729e-08 - acc: 1.000 - ETA: 1s - loss: 3.7051e-08 - binary_crossentropy: 3.7051e-08 - acc: 1.000 - ETA: 1s - loss: 3.6421e-08 - binary_crossentropy: 3.6421e-08 - acc: 1.000 - ETA: 1s - loss: 3.5793e-08 - binary_crossentropy: 3.5793e-08 - acc: 1.000 - ETA: 1s - loss: 3.5197e-08 - binary_crossentropy: 3.5197e-08 - acc: 1.000 - ETA: 1s - loss: 3.4586e-08 - binary_crossentropy: 3.4586e-08 - acc: 1.000 - ETA: 1s - loss: 3.3881e-08 - binary_crossentropy: 3.3881e-08 - acc: 1.000 - ETA: 1s - loss: 3.3229e-08 - binary_crossentropy: 3.3229e-08 - acc: 1.000 - ETA: 1s - loss: 3.2743e-08 - binary_crossentropy: 3.2743e-08 - acc: 1.000 - ETA: 1s - loss: 3.2225e-08 - binary_crossentropy: 3.2225e-08 - acc: 1.000 - ETA: 1s - loss: 3.1767e-08 - binary_crossentropy: 3.1767e-08 - acc: 1.000 - ETA: 1s - loss: 3.1277e-08 - binary_crossentropy: 3.1277e-08 - acc: 1.000 - ETA: 1s - loss: 3.0799e-08 - binary_crossentropy: 3.0799e-08 - acc: 1.000 - ETA: 1s - loss: 3.0336e-08 - binary_crossentropy: 3.0336e-08 - acc: 1.000 - ETA: 1s - loss: 2.9887e-08 - binary_crossentropy: 2.9887e-08 - acc: 1.000 - ETA: 0s - loss: 2.9380e-08 - binary_crossentropy: 2.9380e-08 - acc: 1.000 - ETA: 0s - loss: 2.8958e-08 - binary_crossentropy: 2.8958e-08 - acc: 1.000 - ETA: 0s - loss: 2.8555e-08 - binary_crossentropy: 2.8555e-08 - acc: 1.000 - ETA: 0s - loss: 2.8160e-08 - binary_crossentropy: 2.8160e-08 - acc: 1.000 - ETA: 0s - loss: 2.7779e-08 - binary_crossentropy: 2.7779e-08 - acc: 1.000 - ETA: 0s - loss: 2.7403e-08 - binary_crossentropy: 2.7403e-08 - acc: 1.000 - ETA: 0s - loss: 2.7082e-08 - binary_crossentropy: 2.7082e-08 - acc: 1.000 - ETA: 0s - loss: 2.6728e-08 - binary_crossentropy: 2.6728e-08 - acc: 1.000 - ETA: 0s - loss: 2.6385e-08 - binary_crossentropy: 2.6385e-08 - acc: 1.000 - ETA: 0s - loss: 2.6053e-08 - binary_crossentropy: 2.6053e-08 - acc: 1.000 - ETA: 0s - loss: 2.5729e-08 - binary_crossentropy: 2.5729e-08 - acc: 1.000 - ETA: 0s - loss: 2.5406e-08 - binary_crossentropy: 2.5406e-08 - acc: 1.000 - ETA: 0s - loss: 2.5097e-08 - binary_crossentropy: 2.5097e-08 - acc: 1.000 - ETA: 0s - loss: 2.4795e-08 - binary_crossentropy: 2.4795e-08 - acc: 1.000 - ETA: 0s - loss: 2.4501e-08 - binary_crossentropy: 2.4501e-08 - acc: 1.000 - ETA: 0s - loss: 2.4216e-08 - binary_crossentropy: 2.4216e-08 - acc: 1.000 - ETA: 0s - loss: 2.3960e-08 - binary_crossentropy: 2.3960e-08 - acc: 1.000 - ETA: 0s - loss: 2.3679e-08 - binary_crossentropy: 2.3679e-08 - acc: 1.000 - ETA: 0s - loss: 2.3433e-08 - binary_crossentropy: 2.3433e-08 - acc: 1.000 - 3s 167us/sample - loss: 2.3276e-08 - binary_crossentropy: 2.3276e-08 - acc: 1.0000 - val_loss: 1.1162e-08 - val_binary_crossentropy: 1.1162e-08 - val_acc: 1.0000\n",
      "Epoch 3/5\n",
      "16113/16113 [==============================] - ETA: 2s - loss: 1.0989e-08 - binary_crossentropy: 1.0989e-08 - acc: 1.000 - ETA: 2s - loss: 1.0974e-08 - binary_crossentropy: 1.0974e-08 - acc: 1.000 - ETA: 2s - loss: 1.0919e-08 - binary_crossentropy: 1.0919e-08 - acc: 1.000 - ETA: 2s - loss: 1.0816e-08 - binary_crossentropy: 1.0816e-08 - acc: 1.000 - ETA: 2s - loss: 1.0677e-08 - binary_crossentropy: 1.0677e-08 - acc: 1.000 - ETA: 2s - loss: 1.0589e-08 - binary_crossentropy: 1.0589e-08 - acc: 1.000 - ETA: 1s - loss: 1.0471e-08 - binary_crossentropy: 1.0471e-08 - acc: 1.000 - ETA: 1s - loss: 1.0368e-08 - binary_crossentropy: 1.0368e-08 - acc: 1.000 - ETA: 1s - loss: 1.0262e-08 - binary_crossentropy: 1.0262e-08 - acc: 1.000 - ETA: 1s - loss: 1.0170e-08 - binary_crossentropy: 1.0170e-08 - acc: 1.000 - ETA: 1s - loss: 1.0082e-08 - binary_crossentropy: 1.0082e-08 - acc: 1.000 - ETA: 1s - loss: 9.9758e-09 - binary_crossentropy: 9.9758e-09 - acc: 1.000 - ETA: 1s - loss: 9.8807e-09 - binary_crossentropy: 9.8807e-09 - acc: 1.000 - ETA: 1s - loss: 9.7891e-09 - binary_crossentropy: 9.7891e-09 - acc: 1.000 - ETA: 1s - loss: 9.6929e-09 - binary_crossentropy: 9.6929e-09 - acc: 1.000 - ETA: 1s - loss: 9.6011e-09 - binary_crossentropy: 9.6011e-09 - acc: 1.000 - ETA: 1s - loss: 9.5127e-09 - binary_crossentropy: 9.5127e-09 - acc: 1.000 - ETA: 1s - loss: 9.4220e-09 - binary_crossentropy: 9.4220e-09 - acc: 1.000 - ETA: 1s - loss: 9.3371e-09 - binary_crossentropy: 9.3371e-09 - acc: 1.000 - ETA: 1s - loss: 9.2509e-09 - binary_crossentropy: 9.2509e-09 - acc: 1.000 - ETA: 1s - loss: 9.1664e-09 - binary_crossentropy: 9.1663e-09 - acc: 1.000 - ETA: 1s - loss: 9.0911e-09 - binary_crossentropy: 9.0911e-09 - acc: 1.000 - ETA: 1s - loss: 9.0127e-09 - binary_crossentropy: 9.0127e-09 - acc: 1.000 - ETA: 1s - loss: 8.9309e-09 - binary_crossentropy: 8.9309e-09 - acc: 1.000 - ETA: 1s - loss: 8.8529e-09 - binary_crossentropy: 8.8529e-09 - acc: 1.000 - ETA: 1s - loss: 8.7770e-09 - binary_crossentropy: 8.7770e-09 - acc: 1.000 - ETA: 1s - loss: 8.7023e-09 - binary_crossentropy: 8.7023e-09 - acc: 1.000 - ETA: 0s - loss: 8.6278e-09 - binary_crossentropy: 8.6278e-09 - acc: 1.000 - ETA: 0s - loss: 8.5588e-09 - binary_crossentropy: 8.5588e-09 - acc: 1.000 - ETA: 0s - loss: 8.4872e-09 - binary_crossentropy: 8.4872e-09 - acc: 1.000 - ETA: 0s - loss: 8.4189e-09 - binary_crossentropy: 8.4189e-09 - acc: 1.000 - ETA: 0s - loss: 8.3500e-09 - binary_crossentropy: 8.3500e-09 - acc: 1.000 - ETA: 0s - loss: 8.2834e-09 - binary_crossentropy: 8.2834e-09 - acc: 1.000 - ETA: 0s - loss: 8.2181e-09 - binary_crossentropy: 8.2181e-09 - acc: 1.000 - ETA: 0s - loss: 8.1530e-09 - binary_crossentropy: 8.1530e-09 - acc: 1.000 - ETA: 0s - loss: 8.0883e-09 - binary_crossentropy: 8.0883e-09 - acc: 1.000 - ETA: 0s - loss: 8.0257e-09 - binary_crossentropy: 8.0256e-09 - acc: 1.000 - ETA: 0s - loss: 7.9626e-09 - binary_crossentropy: 7.9626e-09 - acc: 1.000 - ETA: 0s - loss: 7.8961e-09 - binary_crossentropy: 7.8961e-09 - acc: 1.000 - ETA: 0s - loss: 7.8351e-09 - binary_crossentropy: 7.8351e-09 - acc: 1.000 - ETA: 0s - loss: 7.7777e-09 - binary_crossentropy: 7.7777e-09 - acc: 1.000 - ETA: 0s - loss: 7.7204e-09 - binary_crossentropy: 7.7204e-09 - acc: 1.000 - ETA: 0s - loss: 7.6629e-09 - binary_crossentropy: 7.6629e-09 - acc: 1.000 - ETA: 0s - loss: 7.6075e-09 - binary_crossentropy: 7.6075e-09 - acc: 1.000 - ETA: 0s - loss: 7.5514e-09 - binary_crossentropy: 7.5514e-09 - acc: 1.000 - ETA: 0s - loss: 7.4858e-09 - binary_crossentropy: 7.4858e-09 - acc: 1.000 - 3s 163us/sample - loss: 7.4631e-09 - binary_crossentropy: 7.4631e-09 - acc: 1.0000 - val_loss: 4.9657e-09 - val_binary_crossentropy: 4.9657e-09 - val_acc: 1.0000\n",
      "Epoch 4/5\n",
      "16113/16113 [==============================] - ETA: 2s - loss: 5.1142e-09 - binary_crossentropy: 5.1142e-09 - acc: 1.000 - ETA: 2s - loss: 4.9972e-09 - binary_crossentropy: 4.9972e-09 - acc: 1.000 - ETA: 2s - loss: 4.9038e-09 - binary_crossentropy: 4.9038e-09 - acc: 1.000 - ETA: 2s - loss: 4.8664e-09 - binary_crossentropy: 4.8664e-09 - acc: 1.000 - ETA: 2s - loss: 4.8375e-09 - binary_crossentropy: 4.8375e-09 - acc: 1.000 - ETA: 1s - loss: 4.7963e-09 - binary_crossentropy: 4.7963e-09 - acc: 1.000 - ETA: 1s - loss: 4.7620e-09 - binary_crossentropy: 4.7620e-09 - acc: 1.000 - ETA: 1s - loss: 4.7213e-09 - binary_crossentropy: 4.7213e-09 - acc: 1.000 - ETA: 1s - loss: 4.6936e-09 - binary_crossentropy: 4.6936e-09 - acc: 1.000 - ETA: 1s - loss: 4.6566e-09 - binary_crossentropy: 4.6566e-09 - acc: 1.000 - ETA: 1s - loss: 4.6304e-09 - binary_crossentropy: 4.6304e-09 - acc: 1.000 - ETA: 1s - loss: 4.5975e-09 - binary_crossentropy: 4.5975e-09 - acc: 1.000 - ETA: 1s - loss: 4.5712e-09 - binary_crossentropy: 4.5712e-09 - acc: 1.000 - ETA: 1s - loss: 4.5386e-09 - binary_crossentropy: 4.5386e-09 - acc: 1.000 - ETA: 1s - loss: 4.5110e-09 - binary_crossentropy: 4.5110e-09 - acc: 1.000 - ETA: 1s - loss: 4.4811e-09 - binary_crossentropy: 4.4811e-09 - acc: 1.000 - ETA: 1s - loss: 4.4435e-09 - binary_crossentropy: 4.4435e-09 - acc: 1.000 - ETA: 1s - loss: 4.4116e-09 - binary_crossentropy: 4.4116e-09 - acc: 1.000 - ETA: 1s - loss: 4.3830e-09 - binary_crossentropy: 4.3830e-09 - acc: 1.000 - ETA: 1s - loss: 4.3571e-09 - binary_crossentropy: 4.3571e-09 - acc: 1.000 - ETA: 1s - loss: 4.3329e-09 - binary_crossentropy: 4.3329e-09 - acc: 1.000 - ETA: 1s - loss: 4.3083e-09 - binary_crossentropy: 4.3083e-09 - acc: 1.000 - ETA: 1s - loss: 4.2829e-09 - binary_crossentropy: 4.2829e-09 - acc: 1.000 - ETA: 1s - loss: 4.2585e-09 - binary_crossentropy: 4.2585e-09 - acc: 1.000 - ETA: 1s - loss: 4.2323e-09 - binary_crossentropy: 4.2323e-09 - acc: 1.000 - ETA: 0s - loss: 4.2075e-09 - binary_crossentropy: 4.2075e-09 - acc: 1.000 - ETA: 0s - loss: 4.1836e-09 - binary_crossentropy: 4.1836e-09 - acc: 1.000 - ETA: 0s - loss: 4.1588e-09 - binary_crossentropy: 4.1588e-09 - acc: 1.000 - ETA: 0s - loss: 4.1343e-09 - binary_crossentropy: 4.1343e-09 - acc: 1.000 - ETA: 0s - loss: 4.1104e-09 - binary_crossentropy: 4.1104e-09 - acc: 1.000 - ETA: 0s - loss: 4.0878e-09 - binary_crossentropy: 4.0878e-09 - acc: 1.000 - ETA: 0s - loss: 4.0613e-09 - binary_crossentropy: 4.0613e-09 - acc: 1.000 - ETA: 0s - loss: 4.0377e-09 - binary_crossentropy: 4.0377e-09 - acc: 1.000 - ETA: 0s - loss: 4.0151e-09 - binary_crossentropy: 4.0151e-09 - acc: 1.000 - ETA: 0s - loss: 3.9919e-09 - binary_crossentropy: 3.9919e-09 - acc: 1.000 - ETA: 0s - loss: 3.9701e-09 - binary_crossentropy: 3.9701e-09 - acc: 1.000 - ETA: 0s - loss: 3.9471e-09 - binary_crossentropy: 3.9471e-09 - acc: 1.000 - ETA: 0s - loss: 3.9227e-09 - binary_crossentropy: 3.9227e-09 - acc: 1.000 - ETA: 0s - loss: 3.9014e-09 - binary_crossentropy: 3.9014e-09 - acc: 1.000 - ETA: 0s - loss: 3.8792e-09 - binary_crossentropy: 3.8792e-09 - acc: 1.000 - ETA: 0s - loss: 3.8524e-09 - binary_crossentropy: 3.8524e-09 - acc: 1.000 - ETA: 0s - loss: 3.8274e-09 - binary_crossentropy: 3.8274e-09 - acc: 1.000 - ETA: 0s - loss: 3.8025e-09 - binary_crossentropy: 3.8025e-09 - acc: 1.000 - ETA: 0s - loss: 3.7805e-09 - binary_crossentropy: 3.7805e-09 - acc: 1.000 - ETA: 0s - loss: 3.7605e-09 - binary_crossentropy: 3.7605e-09 - acc: 1.000 - 3s 159us/sample - loss: 3.7597e-09 - binary_crossentropy: 3.7597e-09 - acc: 1.0000 - val_loss: 2.8263e-09 - val_binary_crossentropy: 2.8263e-09 - val_acc: 1.0000\n",
      "Epoch 5/5\n",
      "16113/16113 [==============================] - ETA: 3s - loss: 2.8402e-09 - binary_crossentropy: 2.8402e-09 - acc: 1.000 - ETA: 2s - loss: 2.8335e-09 - binary_crossentropy: 2.8335e-09 - acc: 1.000 - ETA: 2s - loss: 2.8198e-09 - binary_crossentropy: 2.8198e-09 - acc: 1.000 - ETA: 2s - loss: 2.8067e-09 - binary_crossentropy: 2.8067e-09 - acc: 1.000 - ETA: 2s - loss: 2.7880e-09 - binary_crossentropy: 2.7880e-09 - acc: 1.000 - ETA: 2s - loss: 2.7665e-09 - binary_crossentropy: 2.7665e-09 - acc: 1.000 - ETA: 2s - loss: 2.7525e-09 - binary_crossentropy: 2.7525e-09 - acc: 1.000 - ETA: 2s - loss: 2.7394e-09 - binary_crossentropy: 2.7394e-09 - acc: 1.000 - ETA: 1s - loss: 2.7241e-09 - binary_crossentropy: 2.7241e-09 - acc: 1.000 - ETA: 1s - loss: 2.7120e-09 - binary_crossentropy: 2.7120e-09 - acc: 1.000 - ETA: 1s - loss: 2.6930e-09 - binary_crossentropy: 2.6930e-09 - acc: 1.000 - ETA: 1s - loss: 2.6781e-09 - binary_crossentropy: 2.6781e-09 - acc: 1.000 - ETA: 1s - loss: 2.6633e-09 - binary_crossentropy: 2.6633e-09 - acc: 1.000 - ETA: 1s - loss: 2.6493e-09 - binary_crossentropy: 2.6493e-09 - acc: 1.000 - ETA: 1s - loss: 2.6362e-09 - binary_crossentropy: 2.6362e-09 - acc: 1.000 - ETA: 1s - loss: 2.6234e-09 - binary_crossentropy: 2.6234e-09 - acc: 1.000 - ETA: 1s - loss: 2.6107e-09 - binary_crossentropy: 2.6107e-09 - acc: 1.000 - ETA: 1s - loss: 2.5969e-09 - binary_crossentropy: 2.5969e-09 - acc: 1.000 - ETA: 1s - loss: 2.5834e-09 - binary_crossentropy: 2.5834e-09 - acc: 1.000 - ETA: 1s - loss: 2.5707e-09 - binary_crossentropy: 2.5707e-09 - acc: 1.000 - ETA: 1s - loss: 2.5568e-09 - binary_crossentropy: 2.5568e-09 - acc: 1.000 - ETA: 1s - loss: 2.5448e-09 - binary_crossentropy: 2.5448e-09 - acc: 1.000 - ETA: 1s - loss: 2.5317e-09 - binary_crossentropy: 2.5317e-09 - acc: 1.000 - ETA: 1s - loss: 2.5194e-09 - binary_crossentropy: 2.5194e-09 - acc: 1.000 - ETA: 1s - loss: 2.5058e-09 - binary_crossentropy: 2.5058e-09 - acc: 1.000 - ETA: 1s - loss: 2.4919e-09 - binary_crossentropy: 2.4919e-09 - acc: 1.000 - ETA: 0s - loss: 2.4770e-09 - binary_crossentropy: 2.4770e-09 - acc: 1.000 - ETA: 0s - loss: 2.4657e-09 - binary_crossentropy: 2.4657e-09 - acc: 1.000 - ETA: 0s - loss: 2.4525e-09 - binary_crossentropy: 2.4525e-09 - acc: 1.000 - ETA: 0s - loss: 2.4418e-09 - binary_crossentropy: 2.4418e-09 - acc: 1.000 - ETA: 0s - loss: 2.4315e-09 - binary_crossentropy: 2.4315e-09 - acc: 1.000 - ETA: 0s - loss: 2.4190e-09 - binary_crossentropy: 2.4190e-09 - acc: 1.000 - ETA: 0s - loss: 2.4085e-09 - binary_crossentropy: 2.4085e-09 - acc: 1.000 - ETA: 0s - loss: 2.3982e-09 - binary_crossentropy: 2.3982e-09 - acc: 1.000 - ETA: 0s - loss: 2.3877e-09 - binary_crossentropy: 2.3877e-09 - acc: 1.000 - ETA: 0s - loss: 2.3771e-09 - binary_crossentropy: 2.3771e-09 - acc: 1.000 - ETA: 0s - loss: 2.3655e-09 - binary_crossentropy: 2.3655e-09 - acc: 1.000 - ETA: 0s - loss: 2.3554e-09 - binary_crossentropy: 2.3554e-09 - acc: 1.000 - ETA: 0s - loss: 2.3437e-09 - binary_crossentropy: 2.3437e-09 - acc: 1.000 - ETA: 0s - loss: 2.3332e-09 - binary_crossentropy: 2.3332e-09 - acc: 1.000 - ETA: 0s - loss: 2.3220e-09 - binary_crossentropy: 2.3220e-09 - acc: 1.000 - ETA: 0s - loss: 2.3121e-09 - binary_crossentropy: 2.3121e-09 - acc: 1.000 - ETA: 0s - loss: 2.3031e-09 - binary_crossentropy: 2.3031e-09 - acc: 1.000 - ETA: 0s - loss: 2.2933e-09 - binary_crossentropy: 2.2933e-09 - acc: 1.000 - ETA: 0s - loss: 2.2844e-09 - binary_crossentropy: 2.2844e-09 - acc: 1.000 - 3s 160us/sample - loss: 2.2824e-09 - binary_crossentropy: 2.2824e-09 - acc: 1.0000 - val_loss: 1.8287e-09 - val_binary_crossentropy: 1.8287e-09 - val_acc: 1.0000\n"
     ]
    },
    {
     "data": {
      "text/html": [
       "<span style=\"color:#4527A0\"><h1 style=\"font-size:18px\">Trial complete</h1></span>"
      ],
      "text/plain": [
       "<IPython.core.display.HTML object>"
      ]
     },
     "metadata": {},
     "output_type": "display_data"
    },
    {
     "data": {
      "text/html": [
       "<span style=\"color:#4527A0\"><h1 style=\"font-size:18px\">Trial summary</h1></span>"
      ],
      "text/plain": [
       "<IPython.core.display.HTML object>"
      ]
     },
     "metadata": {},
     "output_type": "display_data"
    },
    {
     "data": {
      "text/html": [
       "<span style=\"color:cyan\"> |-Trial ID: c5002288ad34092961a927d4984a15b6</span>"
      ],
      "text/plain": [
       "<IPython.core.display.HTML object>"
      ]
     },
     "metadata": {},
     "output_type": "display_data"
    },
    {
     "data": {
      "text/html": [
       "<span style=\"color:cyan\"> |-Score: 1.0</span>"
      ],
      "text/plain": [
       "<IPython.core.display.HTML object>"
      ]
     },
     "metadata": {},
     "output_type": "display_data"
    },
    {
     "data": {
      "text/html": [
       "<span style=\"color:cyan\"> |-Best step: 0</span>"
      ],
      "text/plain": [
       "<IPython.core.display.HTML object>"
      ]
     },
     "metadata": {},
     "output_type": "display_data"
    },
    {
     "data": {
      "text/html": [
       "<span style=\"color:#7E57C2\"><h2 style=\"font-size:16px\">Hyperparameters:</h2></span>"
      ],
      "text/plain": [
       "<IPython.core.display.HTML object>"
      ]
     },
     "metadata": {},
     "output_type": "display_data"
    },
    {
     "data": {
      "text/html": [
       "<span style=\"color:cyan\"> |-dense_activation: sigmoid</span>"
      ],
      "text/plain": [
       "<IPython.core.display.HTML object>"
      ]
     },
     "metadata": {},
     "output_type": "display_data"
    },
    {
     "data": {
      "text/html": [
       "<span style=\"color:blue\"> |-learning_rate: 0.001</span>"
      ],
      "text/plain": [
       "<IPython.core.display.HTML object>"
      ]
     },
     "metadata": {},
     "output_type": "display_data"
    },
    {
     "data": {
      "text/html": [
       "<span style=\"color:cyan\"> |-units: 482</span>"
      ],
      "text/plain": [
       "<IPython.core.display.HTML object>"
      ]
     },
     "metadata": {},
     "output_type": "display_data"
    },
    {
     "name": "stdout",
     "output_type": "stream",
     "text": [
      "INFO:tensorflow:Oracle triggered exit\n",
      "01.06.2020 12:44:02  HP Search beendet\n"
     ]
    }
   ],
   "source": [
    "import time\n",
    "\n",
    "# Startzeit\n",
    "t = time.localtime()\n",
    "current_time = time.strftime(\"%d.%m.%Y %H:%M:%S\", t)\n",
    "print(current_time, ' HP Search gestartet ...')\n",
    "\n",
    "tuner.search (np_train_x,df_train_y,epochs = 5, validation_data = (np_test_x,df_test_y))\n",
    "\n",
    "current_time = time.strftime(\"%d.%m.%Y %H:%M:%S\", t)\n",
    "print(current_time, ' HP Search beendet')"
   ]
  },
  {
   "cell_type": "code",
   "execution_count": 102,
   "metadata": {},
   "outputs": [
    {
     "data": {
      "text/html": [
       "<span style=\"color:#4527A0\"><h1 style=\"font-size:18px\">Results summary</h1></span>"
      ],
      "text/plain": [
       "<IPython.core.display.HTML object>"
      ]
     },
     "metadata": {},
     "output_type": "display_data"
    },
    {
     "data": {
      "text/html": [
       "<span style=\"color:cyan\"> |-Results in Randomsearch/units_activation</span>"
      ],
      "text/plain": [
       "<IPython.core.display.HTML object>"
      ]
     },
     "metadata": {},
     "output_type": "display_data"
    },
    {
     "data": {
      "text/html": [
       "<span style=\"color:cyan\"> |-Showing 10 best trials</span>"
      ],
      "text/plain": [
       "<IPython.core.display.HTML object>"
      ]
     },
     "metadata": {},
     "output_type": "display_data"
    },
    {
     "data": {
      "text/html": [
       "<span style=\"color:cyan\"> |-Objective(name='val_acc', direction='max')</span>"
      ],
      "text/plain": [
       "<IPython.core.display.HTML object>"
      ]
     },
     "metadata": {},
     "output_type": "display_data"
    },
    {
     "data": {
      "text/html": [
       "<span style=\"color:#4527A0\"><h1 style=\"font-size:18px\">Trial summary</h1></span>"
      ],
      "text/plain": [
       "<IPython.core.display.HTML object>"
      ]
     },
     "metadata": {},
     "output_type": "display_data"
    },
    {
     "data": {
      "text/html": [
       "<span style=\"color:cyan\"> |-Trial ID: d4fb30b390a41a138f276efab31643bf</span>"
      ],
      "text/plain": [
       "<IPython.core.display.HTML object>"
      ]
     },
     "metadata": {},
     "output_type": "display_data"
    },
    {
     "data": {
      "text/html": [
       "<span style=\"color:cyan\"> |-Score: 1.0</span>"
      ],
      "text/plain": [
       "<IPython.core.display.HTML object>"
      ]
     },
     "metadata": {},
     "output_type": "display_data"
    },
    {
     "data": {
      "text/html": [
       "<span style=\"color:cyan\"> |-Best step: 0</span>"
      ],
      "text/plain": [
       "<IPython.core.display.HTML object>"
      ]
     },
     "metadata": {},
     "output_type": "display_data"
    },
    {
     "data": {
      "text/html": [
       "<span style=\"color:#7E57C2\"><h2 style=\"font-size:16px\">Hyperparameters:</h2></span>"
      ],
      "text/plain": [
       "<IPython.core.display.HTML object>"
      ]
     },
     "metadata": {},
     "output_type": "display_data"
    },
    {
     "data": {
      "text/html": [
       "<span style=\"color:cyan\"> |-dense_activation: relu</span>"
      ],
      "text/plain": [
       "<IPython.core.display.HTML object>"
      ]
     },
     "metadata": {},
     "output_type": "display_data"
    },
    {
     "data": {
      "text/html": [
       "<span style=\"color:blue\"> |-learning_rate: 0.001</span>"
      ],
      "text/plain": [
       "<IPython.core.display.HTML object>"
      ]
     },
     "metadata": {},
     "output_type": "display_data"
    },
    {
     "data": {
      "text/html": [
       "<span style=\"color:cyan\"> |-units: 450</span>"
      ],
      "text/plain": [
       "<IPython.core.display.HTML object>"
      ]
     },
     "metadata": {},
     "output_type": "display_data"
    },
    {
     "data": {
      "text/html": [
       "<span style=\"color:#4527A0\"><h1 style=\"font-size:18px\">Trial summary</h1></span>"
      ],
      "text/plain": [
       "<IPython.core.display.HTML object>"
      ]
     },
     "metadata": {},
     "output_type": "display_data"
    },
    {
     "data": {
      "text/html": [
       "<span style=\"color:cyan\"> |-Trial ID: e0aa240d3f2cee89b1265b1071f4c2fe</span>"
      ],
      "text/plain": [
       "<IPython.core.display.HTML object>"
      ]
     },
     "metadata": {},
     "output_type": "display_data"
    },
    {
     "data": {
      "text/html": [
       "<span style=\"color:cyan\"> |-Score: 1.0</span>"
      ],
      "text/plain": [
       "<IPython.core.display.HTML object>"
      ]
     },
     "metadata": {},
     "output_type": "display_data"
    },
    {
     "data": {
      "text/html": [
       "<span style=\"color:cyan\"> |-Best step: 0</span>"
      ],
      "text/plain": [
       "<IPython.core.display.HTML object>"
      ]
     },
     "metadata": {},
     "output_type": "display_data"
    },
    {
     "data": {
      "text/html": [
       "<span style=\"color:#7E57C2\"><h2 style=\"font-size:16px\">Hyperparameters:</h2></span>"
      ],
      "text/plain": [
       "<IPython.core.display.HTML object>"
      ]
     },
     "metadata": {},
     "output_type": "display_data"
    },
    {
     "data": {
      "text/html": [
       "<span style=\"color:cyan\"> |-dense_activation: relu</span>"
      ],
      "text/plain": [
       "<IPython.core.display.HTML object>"
      ]
     },
     "metadata": {},
     "output_type": "display_data"
    },
    {
     "data": {
      "text/html": [
       "<span style=\"color:blue\"> |-learning_rate: 0.01</span>"
      ],
      "text/plain": [
       "<IPython.core.display.HTML object>"
      ]
     },
     "metadata": {},
     "output_type": "display_data"
    },
    {
     "data": {
      "text/html": [
       "<span style=\"color:cyan\"> |-units: 162</span>"
      ],
      "text/plain": [
       "<IPython.core.display.HTML object>"
      ]
     },
     "metadata": {},
     "output_type": "display_data"
    },
    {
     "data": {
      "text/html": [
       "<span style=\"color:#4527A0\"><h1 style=\"font-size:18px\">Trial summary</h1></span>"
      ],
      "text/plain": [
       "<IPython.core.display.HTML object>"
      ]
     },
     "metadata": {},
     "output_type": "display_data"
    },
    {
     "data": {
      "text/html": [
       "<span style=\"color:cyan\"> |-Trial ID: b239d80ee46198bbf02a0ccfda76cdfa</span>"
      ],
      "text/plain": [
       "<IPython.core.display.HTML object>"
      ]
     },
     "metadata": {},
     "output_type": "display_data"
    },
    {
     "data": {
      "text/html": [
       "<span style=\"color:cyan\"> |-Score: 1.0</span>"
      ],
      "text/plain": [
       "<IPython.core.display.HTML object>"
      ]
     },
     "metadata": {},
     "output_type": "display_data"
    },
    {
     "data": {
      "text/html": [
       "<span style=\"color:cyan\"> |-Best step: 0</span>"
      ],
      "text/plain": [
       "<IPython.core.display.HTML object>"
      ]
     },
     "metadata": {},
     "output_type": "display_data"
    },
    {
     "data": {
      "text/html": [
       "<span style=\"color:#7E57C2\"><h2 style=\"font-size:16px\">Hyperparameters:</h2></span>"
      ],
      "text/plain": [
       "<IPython.core.display.HTML object>"
      ]
     },
     "metadata": {},
     "output_type": "display_data"
    },
    {
     "data": {
      "text/html": [
       "<span style=\"color:cyan\"> |-dense_activation: sigmoid</span>"
      ],
      "text/plain": [
       "<IPython.core.display.HTML object>"
      ]
     },
     "metadata": {},
     "output_type": "display_data"
    },
    {
     "data": {
      "text/html": [
       "<span style=\"color:blue\"> |-learning_rate: 0.001</span>"
      ],
      "text/plain": [
       "<IPython.core.display.HTML object>"
      ]
     },
     "metadata": {},
     "output_type": "display_data"
    },
    {
     "data": {
      "text/html": [
       "<span style=\"color:cyan\"> |-units: 450</span>"
      ],
      "text/plain": [
       "<IPython.core.display.HTML object>"
      ]
     },
     "metadata": {},
     "output_type": "display_data"
    },
    {
     "data": {
      "text/html": [
       "<span style=\"color:#4527A0\"><h1 style=\"font-size:18px\">Trial summary</h1></span>"
      ],
      "text/plain": [
       "<IPython.core.display.HTML object>"
      ]
     },
     "metadata": {},
     "output_type": "display_data"
    },
    {
     "data": {
      "text/html": [
       "<span style=\"color:cyan\"> |-Trial ID: c5002288ad34092961a927d4984a15b6</span>"
      ],
      "text/plain": [
       "<IPython.core.display.HTML object>"
      ]
     },
     "metadata": {},
     "output_type": "display_data"
    },
    {
     "data": {
      "text/html": [
       "<span style=\"color:cyan\"> |-Score: 1.0</span>"
      ],
      "text/plain": [
       "<IPython.core.display.HTML object>"
      ]
     },
     "metadata": {},
     "output_type": "display_data"
    },
    {
     "data": {
      "text/html": [
       "<span style=\"color:cyan\"> |-Best step: 0</span>"
      ],
      "text/plain": [
       "<IPython.core.display.HTML object>"
      ]
     },
     "metadata": {},
     "output_type": "display_data"
    },
    {
     "data": {
      "text/html": [
       "<span style=\"color:#7E57C2\"><h2 style=\"font-size:16px\">Hyperparameters:</h2></span>"
      ],
      "text/plain": [
       "<IPython.core.display.HTML object>"
      ]
     },
     "metadata": {},
     "output_type": "display_data"
    },
    {
     "data": {
      "text/html": [
       "<span style=\"color:cyan\"> |-dense_activation: sigmoid</span>"
      ],
      "text/plain": [
       "<IPython.core.display.HTML object>"
      ]
     },
     "metadata": {},
     "output_type": "display_data"
    },
    {
     "data": {
      "text/html": [
       "<span style=\"color:blue\"> |-learning_rate: 0.001</span>"
      ],
      "text/plain": [
       "<IPython.core.display.HTML object>"
      ]
     },
     "metadata": {},
     "output_type": "display_data"
    },
    {
     "data": {
      "text/html": [
       "<span style=\"color:cyan\"> |-units: 482</span>"
      ],
      "text/plain": [
       "<IPython.core.display.HTML object>"
      ]
     },
     "metadata": {},
     "output_type": "display_data"
    },
    {
     "data": {
      "text/html": [
       "<span style=\"color:#4527A0\"><h1 style=\"font-size:18px\">Trial summary</h1></span>"
      ],
      "text/plain": [
       "<IPython.core.display.HTML object>"
      ]
     },
     "metadata": {},
     "output_type": "display_data"
    },
    {
     "data": {
      "text/html": [
       "<span style=\"color:cyan\"> |-Trial ID: 0017092e64c365d038f6f7763d5b2ad8</span>"
      ],
      "text/plain": [
       "<IPython.core.display.HTML object>"
      ]
     },
     "metadata": {},
     "output_type": "display_data"
    },
    {
     "data": {
      "text/html": [
       "<span style=\"color:cyan\"> |-Score: 0.6666666865348816</span>"
      ],
      "text/plain": [
       "<IPython.core.display.HTML object>"
      ]
     },
     "metadata": {},
     "output_type": "display_data"
    },
    {
     "data": {
      "text/html": [
       "<span style=\"color:cyan\"> |-Best step: 0</span>"
      ],
      "text/plain": [
       "<IPython.core.display.HTML object>"
      ]
     },
     "metadata": {},
     "output_type": "display_data"
    },
    {
     "data": {
      "text/html": [
       "<span style=\"color:#7E57C2\"><h2 style=\"font-size:16px\">Hyperparameters:</h2></span>"
      ],
      "text/plain": [
       "<IPython.core.display.HTML object>"
      ]
     },
     "metadata": {},
     "output_type": "display_data"
    },
    {
     "data": {
      "text/html": [
       "<span style=\"color:cyan\"> |-dense_activation: relu</span>"
      ],
      "text/plain": [
       "<IPython.core.display.HTML object>"
      ]
     },
     "metadata": {},
     "output_type": "display_data"
    },
    {
     "data": {
      "text/html": [
       "<span style=\"color:blue\"> |-learning_rate: 0.001</span>"
      ],
      "text/plain": [
       "<IPython.core.display.HTML object>"
      ]
     },
     "metadata": {},
     "output_type": "display_data"
    },
    {
     "data": {
      "text/html": [
       "<span style=\"color:cyan\"> |-units: 482</span>"
      ],
      "text/plain": [
       "<IPython.core.display.HTML object>"
      ]
     },
     "metadata": {},
     "output_type": "display_data"
    }
   ],
   "source": [
    "tuner.results_summary()"
   ]
  },
  {
   "cell_type": "code",
   "execution_count": null,
   "metadata": {},
   "outputs": [],
   "source": []
  }
 ],
 "metadata": {
  "kernelspec": {
   "display_name": "conda_tensorflow_p36",
   "language": "python",
   "name": "conda_tensorflow_p36"
  },
  "language_info": {
   "codemirror_mode": {
    "name": "ipython",
    "version": 3
   },
   "file_extension": ".py",
   "mimetype": "text/x-python",
   "name": "python",
   "nbconvert_exporter": "python",
   "pygments_lexer": "ipython3",
   "version": "3.6.6"
  }
 },
 "nbformat": 4,
 "nbformat_minor": 4
}
